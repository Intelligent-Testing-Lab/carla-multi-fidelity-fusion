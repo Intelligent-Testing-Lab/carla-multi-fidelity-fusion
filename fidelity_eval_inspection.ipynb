{
 "cells": [
  {
   "cell_type": "markdown",
   "metadata": {},
   "source": [
    "## DATA PREPARATION"
   ]
  },
  {
   "cell_type": "code",
   "execution_count": 223,
   "metadata": {},
   "outputs": [],
   "source": [
    "import json\n",
    "import glob\n",
    "import pandas as pd\n",
    "import matplotlib.pyplot as plt\n",
    "import scipy\n",
    "\n",
    "pd.set_option('display.max_rows', 30)"
   ]
  },
  {
   "cell_type": "code",
   "execution_count": 224,
   "metadata": {},
   "outputs": [],
   "source": [
    "# e.g. results/fidelity_eval_20_fps_substepping_1.json\n",
    "path = \"results/fidelity*.json\"\n",
    "\n",
    "data = []\n",
    "\n",
    "for file_path in glob.glob(path):\n",
    "    with open(file_path, \"r\") as f:\n",
    "        file_path = file_path.replace(\".json\", \"\")\n",
    "\n",
    "        # first int is fps second is substepping bool\n",
    "        fps, substepping = [int(value)\n",
    "                            for value in file_path.split(\"_\") if value.isdigit()]\n",
    "\n",
    "        # print(f\"{fps = }, {bool(substepping) = }\")\n",
    "\n",
    "        content = json.load(f)\n",
    "        labels = content['labels']\n",
    "        values = map(float, content['values'])\n",
    "        data.append({\n",
    "\n",
    "            'fps': fps,\n",
    "            'substepping': bool(substepping),\n",
    "            # **dict(zip(labels, values)),\n",
    "            'records': content['_checkpoint']['records']\n",
    "        })\n",
    "\n",
    "\n",
    "df = pd.DataFrame(data)"
   ]
  },
  {
   "cell_type": "code",
   "execution_count": 225,
   "metadata": {},
   "outputs": [],
   "source": [
    "# df"
   ]
  },
  {
   "cell_type": "code",
   "execution_count": 226,
   "metadata": {},
   "outputs": [
    {
     "name": "stdout",
     "output_type": "stream",
     "text": [
      "<class 'pandas.core.frame.DataFrame'>\n",
      "RangeIndex: 8 entries, 0 to 7\n",
      "Data columns (total 3 columns):\n",
      " #   Column       Non-Null Count  Dtype \n",
      "---  ------       --------------  ----- \n",
      " 0   fps          8 non-null      int64 \n",
      " 1   substepping  8 non-null      bool  \n",
      " 2   records      8 non-null      object\n",
      "dtypes: bool(1), int64(1), object(1)\n",
      "memory usage: 268.0+ bytes\n"
     ]
    }
   ],
   "source": [
    "df.info()"
   ]
  },
  {
   "cell_type": "code",
   "execution_count": 227,
   "metadata": {},
   "outputs": [],
   "source": [
    "df = df.explode('records', ignore_index=True)\n",
    "# pd.json_normalize(df['records'])\n",
    "# df"
   ]
  },
  {
   "cell_type": "code",
   "execution_count": 228,
   "metadata": {},
   "outputs": [],
   "source": [
    "record_df = pd.json_normalize(df['records'])\n",
    "# record_df"
   ]
  },
  {
   "cell_type": "code",
   "execution_count": 229,
   "metadata": {},
   "outputs": [],
   "source": [
    "# concatonate records data\n",
    "df = pd.concat([df, record_df],  axis=1)\n",
    "\n",
    "# drop original column\n",
    "df = df.drop('records', axis=1)\n",
    "\n",
    "# drop infractions columns\n",
    "\n",
    "# remove prefices from column name\n",
    "df.columns = df.columns.str.removeprefix('meta.')\n",
    "df.columns = df.columns.str.removeprefix('scores.')\n",
    "df = df.rename(columns={\"index\": \"route_index\"})"
   ]
  },
  {
   "cell_type": "code",
   "execution_count": 230,
   "metadata": {},
   "outputs": [
    {
     "name": "stdout",
     "output_type": "stream",
     "text": [
      "<class 'pandas.core.frame.DataFrame'>\n",
      "RangeIndex: 80 entries, 0 to 79\n",
      "Data columns (total 20 columns):\n",
      " #   Column                             Non-Null Count  Dtype  \n",
      "---  ------                             --------------  -----  \n",
      " 0   fps                                80 non-null     int64  \n",
      " 1   substepping                        80 non-null     bool   \n",
      " 2   route_index                        80 non-null     int64  \n",
      " 3   route_id                           80 non-null     object \n",
      " 4   status                             80 non-null     object \n",
      " 5   infractions.collisions_layout      80 non-null     object \n",
      " 6   infractions.collisions_pedestrian  80 non-null     object \n",
      " 7   infractions.collisions_vehicle     80 non-null     object \n",
      " 8   infractions.outside_route_lanes    80 non-null     object \n",
      " 9   infractions.red_light              80 non-null     object \n",
      " 10  infractions.route_dev              80 non-null     object \n",
      " 11  infractions.route_timeout          80 non-null     object \n",
      " 12  infractions.stop_infraction        80 non-null     object \n",
      " 13  infractions.vehicle_blocked        80 non-null     object \n",
      " 14  duration_game                      80 non-null     float64\n",
      " 15  duration_system                    80 non-null     float64\n",
      " 16  route_length                       80 non-null     float64\n",
      " 17  score_composed                     80 non-null     float64\n",
      " 18  score_penalty                      80 non-null     float64\n",
      " 19  score_route                        80 non-null     float64\n",
      "dtypes: bool(1), float64(6), int64(2), object(11)\n",
      "memory usage: 12.1+ KB\n"
     ]
    }
   ],
   "source": [
    "df.info()"
   ]
  },
  {
   "cell_type": "code",
   "execution_count": null,
   "metadata": {},
   "outputs": [],
   "source": []
  },
  {
   "cell_type": "code",
   "execution_count": 231,
   "metadata": {},
   "outputs": [],
   "source": [
    "interesting_columns = ['fps', 'substepping',\n",
    "                       'route_index', 'route_id', 'status', 'duration_game', 'duration_system', 'route_length', 'score_composed', 'score_penalty', 'score_route']\n",
    "df = df[interesting_columns]\n",
    "\n",
    "# df"
   ]
  },
  {
   "cell_type": "code",
   "execution_count": 232,
   "metadata": {},
   "outputs": [
    {
     "data": {
      "text/html": [
       "<div>\n",
       "<style scoped>\n",
       "    .dataframe tbody tr th:only-of-type {\n",
       "        vertical-align: middle;\n",
       "    }\n",
       "\n",
       "    .dataframe tbody tr th {\n",
       "        vertical-align: top;\n",
       "    }\n",
       "\n",
       "    .dataframe thead th {\n",
       "        text-align: right;\n",
       "    }\n",
       "</style>\n",
       "<table border=\"1\" class=\"dataframe\">\n",
       "  <thead>\n",
       "    <tr style=\"text-align: right;\">\n",
       "      <th></th>\n",
       "      <th></th>\n",
       "      <th></th>\n",
       "      <th>route_id</th>\n",
       "      <th>status</th>\n",
       "      <th>duration_game</th>\n",
       "      <th>duration_system</th>\n",
       "      <th>route_length</th>\n",
       "      <th>score_composed</th>\n",
       "      <th>score_penalty</th>\n",
       "      <th>score_route</th>\n",
       "    </tr>\n",
       "    <tr>\n",
       "      <th>fps</th>\n",
       "      <th>substepping</th>\n",
       "      <th>route_index</th>\n",
       "      <th></th>\n",
       "      <th></th>\n",
       "      <th></th>\n",
       "      <th></th>\n",
       "      <th></th>\n",
       "      <th></th>\n",
       "      <th></th>\n",
       "      <th></th>\n",
       "    </tr>\n",
       "  </thead>\n",
       "  <tbody>\n",
       "    <tr>\n",
       "      <th rowspan=\"5\" valign=\"top\">5</th>\n",
       "      <th rowspan=\"5\" valign=\"top\">False</th>\n",
       "      <th>0</th>\n",
       "      <td>RouteScenario_16</td>\n",
       "      <td>Failed - Agent got blocked</td>\n",
       "      <td>282.000004</td>\n",
       "      <td>367.187565</td>\n",
       "      <td>1071.028134</td>\n",
       "      <td>2.339751</td>\n",
       "      <td>1.0000</td>\n",
       "      <td>2.339751</td>\n",
       "    </tr>\n",
       "    <tr>\n",
       "      <th>1</th>\n",
       "      <td>RouteScenario_17</td>\n",
       "      <td>Completed</td>\n",
       "      <td>598.600009</td>\n",
       "      <td>782.648368</td>\n",
       "      <td>862.430089</td>\n",
       "      <td>100.000000</td>\n",
       "      <td>1.0000</td>\n",
       "      <td>100.000000</td>\n",
       "    </tr>\n",
       "    <tr>\n",
       "      <th>2</th>\n",
       "      <td>RouteScenario_18</td>\n",
       "      <td>Failed - Agent got blocked</td>\n",
       "      <td>295.800004</td>\n",
       "      <td>402.822112</td>\n",
       "      <td>1018.154809</td>\n",
       "      <td>13.619493</td>\n",
       "      <td>1.0000</td>\n",
       "      <td>13.619493</td>\n",
       "    </tr>\n",
       "    <tr>\n",
       "      <th>3</th>\n",
       "      <td>RouteScenario_19</td>\n",
       "      <td>Failed - Agent timed out</td>\n",
       "      <td>1348.200020</td>\n",
       "      <td>1677.685935</td>\n",
       "      <td>1651.124043</td>\n",
       "      <td>88.420179</td>\n",
       "      <td>1.0000</td>\n",
       "      <td>88.420179</td>\n",
       "    </tr>\n",
       "    <tr>\n",
       "      <th>4</th>\n",
       "      <td>RouteScenario_20</td>\n",
       "      <td>Failed - Agent got blocked</td>\n",
       "      <td>407.400006</td>\n",
       "      <td>508.381444</td>\n",
       "      <td>1247.524779</td>\n",
       "      <td>38.593606</td>\n",
       "      <td>1.0000</td>\n",
       "      <td>38.593606</td>\n",
       "    </tr>\n",
       "    <tr>\n",
       "      <th>...</th>\n",
       "      <th>...</th>\n",
       "      <th>...</th>\n",
       "      <td>...</td>\n",
       "      <td>...</td>\n",
       "      <td>...</td>\n",
       "      <td>...</td>\n",
       "      <td>...</td>\n",
       "      <td>...</td>\n",
       "      <td>...</td>\n",
       "      <td>...</td>\n",
       "    </tr>\n",
       "    <tr>\n",
       "      <th rowspan=\"5\" valign=\"top\">20</th>\n",
       "      <th rowspan=\"5\" valign=\"top\">True</th>\n",
       "      <th>5</th>\n",
       "      <td>RouteScenario_21</td>\n",
       "      <td>Completed</td>\n",
       "      <td>344.750005</td>\n",
       "      <td>900.105147</td>\n",
       "      <td>531.077514</td>\n",
       "      <td>70.000000</td>\n",
       "      <td>0.7000</td>\n",
       "      <td>100.000000</td>\n",
       "    </tr>\n",
       "    <tr>\n",
       "      <th>6</th>\n",
       "      <td>RouteScenario_22</td>\n",
       "      <td>Failed - Agent timed out</td>\n",
       "      <td>851.050013</td>\n",
       "      <td>2146.905721</td>\n",
       "      <td>991.758808</td>\n",
       "      <td>8.667360</td>\n",
       "      <td>0.6000</td>\n",
       "      <td>14.445601</td>\n",
       "    </tr>\n",
       "    <tr>\n",
       "      <th>7</th>\n",
       "      <td>RouteScenario_23</td>\n",
       "      <td>Failed - Agent timed out</td>\n",
       "      <td>1067.050016</td>\n",
       "      <td>2865.341363</td>\n",
       "      <td>1271.907966</td>\n",
       "      <td>7.994137</td>\n",
       "      <td>0.1512</td>\n",
       "      <td>52.871277</td>\n",
       "    </tr>\n",
       "    <tr>\n",
       "      <th>8</th>\n",
       "      <td>RouteScenario_24</td>\n",
       "      <td>Failed - Agent timed out</td>\n",
       "      <td>1792.050027</td>\n",
       "      <td>4914.700573</td>\n",
       "      <td>2101.202735</td>\n",
       "      <td>27.136517</td>\n",
       "      <td>0.4200</td>\n",
       "      <td>64.610755</td>\n",
       "    </tr>\n",
       "    <tr>\n",
       "      <th>9</th>\n",
       "      <td>RouteScenario_25</td>\n",
       "      <td>Failed - Agent timed out</td>\n",
       "      <td>1321.050020</td>\n",
       "      <td>3418.701327</td>\n",
       "      <td>1554.578340</td>\n",
       "      <td>16.250418</td>\n",
       "      <td>0.1800</td>\n",
       "      <td>90.280102</td>\n",
       "    </tr>\n",
       "  </tbody>\n",
       "</table>\n",
       "<p>80 rows × 8 columns</p>\n",
       "</div>"
      ],
      "text/plain": [
       "                                     route_id                      status  \\\n",
       "fps substepping route_index                                                 \n",
       "5   False       0            RouteScenario_16  Failed - Agent got blocked   \n",
       "                1            RouteScenario_17                   Completed   \n",
       "                2            RouteScenario_18  Failed - Agent got blocked   \n",
       "                3            RouteScenario_19    Failed - Agent timed out   \n",
       "                4            RouteScenario_20  Failed - Agent got blocked   \n",
       "...                                       ...                         ...   \n",
       "20  True        5            RouteScenario_21                   Completed   \n",
       "                6            RouteScenario_22    Failed - Agent timed out   \n",
       "                7            RouteScenario_23    Failed - Agent timed out   \n",
       "                8            RouteScenario_24    Failed - Agent timed out   \n",
       "                9            RouteScenario_25    Failed - Agent timed out   \n",
       "\n",
       "                             duration_game  duration_system  route_length  \\\n",
       "fps substepping route_index                                                 \n",
       "5   False       0               282.000004       367.187565   1071.028134   \n",
       "                1               598.600009       782.648368    862.430089   \n",
       "                2               295.800004       402.822112   1018.154809   \n",
       "                3              1348.200020      1677.685935   1651.124043   \n",
       "                4               407.400006       508.381444   1247.524779   \n",
       "...                                    ...              ...           ...   \n",
       "20  True        5               344.750005       900.105147    531.077514   \n",
       "                6               851.050013      2146.905721    991.758808   \n",
       "                7              1067.050016      2865.341363   1271.907966   \n",
       "                8              1792.050027      4914.700573   2101.202735   \n",
       "                9              1321.050020      3418.701327   1554.578340   \n",
       "\n",
       "                             score_composed  score_penalty  score_route  \n",
       "fps substepping route_index                                              \n",
       "5   False       0                  2.339751         1.0000     2.339751  \n",
       "                1                100.000000         1.0000   100.000000  \n",
       "                2                 13.619493         1.0000    13.619493  \n",
       "                3                 88.420179         1.0000    88.420179  \n",
       "                4                 38.593606         1.0000    38.593606  \n",
       "...                                     ...            ...          ...  \n",
       "20  True        5                 70.000000         0.7000   100.000000  \n",
       "                6                  8.667360         0.6000    14.445601  \n",
       "                7                  7.994137         0.1512    52.871277  \n",
       "                8                 27.136517         0.4200    64.610755  \n",
       "                9                 16.250418         0.1800    90.280102  \n",
       "\n",
       "[80 rows x 8 columns]"
      ]
     },
     "execution_count": 232,
     "metadata": {},
     "output_type": "execute_result"
    }
   ],
   "source": [
    "df = df.set_index(['fps', 'substepping', 'route_index']).sort_index()\n",
    "df"
   ]
  },
  {
   "cell_type": "markdown",
   "metadata": {},
   "source": [
    "## Q1: How does fidelity settings affect execution time"
   ]
  },
  {
   "cell_type": "code",
   "execution_count": 233,
   "metadata": {},
   "outputs": [
    {
     "name": "stderr",
     "output_type": "stream",
     "text": [
      "/tmp/ipykernel_8217/581488258.py:3: UserWarning: To output multiple subplots, the figure containing the passed axes is being cleared.\n",
      "  axes = df.boxplot(column=['duration_system', 'duration_game'],\n"
     ]
    },
    {
     "data": {
      "text/plain": [
       "Text(0.5, 1.0, 'Game time [s]')"
      ]
     },
     "execution_count": 233,
     "metadata": {},
     "output_type": "execute_result"
    },
    {
     "data": {
      "image/png": "[encoded data removed]",
      "text/plain": [
       "<Figure size 1600x800 with 2 Axes>"
      ]
     },
     "metadata": {},
     "output_type": "display_data"
    }
   ],
   "source": [
    "fig, ax = plt.subplots(figsize=(16, 8))\n",
    "\n",
    "axes = df.boxplot(column=['duration_system', 'duration_game'],\n",
    "                  by=['fps', 'substepping'], ax=ax)\n",
    "\n",
    "axes[0].set_title(\"System time [s]\")\n",
    "axes[1].set_title(\"Game time [s]\")\n",
    "\n",
    "# plt.tight_layout()"
   ]
  },
  {
   "cell_type": "markdown",
   "metadata": {},
   "source": [
    "### Conclusions: ?\n",
    "\n",
    "Experiments need to be repeated?\n",
    "\n",
    "Importance of isolated hardware?, HPC?, ronin?\n",
    "\n",
    "Hardware is unrealiable\n",
    "\n",
    "Other work might affect, working"
   ]
  },
  {
   "cell_type": "markdown",
   "metadata": {},
   "source": [
    "### Q1.2 Does substepping affect execution time?"
   ]
  },
  {
   "cell_type": "code",
   "execution_count": 240,
   "metadata": {},
   "outputs": [
    {
     "name": "stderr",
     "output_type": "stream",
     "text": [
      "/tmp/ipykernel_8217/2355413093.py:4: UserWarning: To output multiple subplots, the figure containing the passed axes is being cleared.\n",
      "  axes = df.boxplot(column=['duration_system', 'duration_game'],\n"
     ]
    },
    {
     "data": {
      "text/plain": [
       "Text(0.5, 1.0, 'Game time [s]')"
      ]
     },
     "execution_count": 240,
     "metadata": {},
     "output_type": "execute_result"
    },
    {
     "data": {
      "image/png": "[encoded data removed]",
      "text/plain": [
       "<Figure size 1200x600 with 2 Axes>"
      ]
     },
     "metadata": {},
     "output_type": "display_data"
    }
   ],
   "source": [
    "size = 6\n",
    "fig, ax = plt.subplots(figsize=(size*2, size))\n",
    "\n",
    "axes = df.boxplot(column=['duration_system', 'duration_game'],\n",
    "                  by=['substepping'], ax=ax)\n",
    "\n",
    "axes[0].set_title(\"System time [s]\")\n",
    "axes[1].set_title(\"Game time [s]\")"
   ]
  },
  {
   "cell_type": "code",
   "execution_count": 235,
   "metadata": {},
   "outputs": [
    {
     "data": {
      "text/html": [
       "<div>\n",
       "<style scoped>\n",
       "    .dataframe tbody tr th:only-of-type {\n",
       "        vertical-align: middle;\n",
       "    }\n",
       "\n",
       "    .dataframe tbody tr th {\n",
       "        vertical-align: top;\n",
       "    }\n",
       "\n",
       "    .dataframe thead th {\n",
       "        text-align: right;\n",
       "    }\n",
       "</style>\n",
       "<table border=\"1\" class=\"dataframe\">\n",
       "  <thead>\n",
       "    <tr style=\"text-align: right;\">\n",
       "      <th></th>\n",
       "      <th>duration_system</th>\n",
       "    </tr>\n",
       "    <tr>\n",
       "      <th>substepping</th>\n",
       "      <th></th>\n",
       "    </tr>\n",
       "  </thead>\n",
       "  <tbody>\n",
       "    <tr>\n",
       "      <th>False</th>\n",
       "      <td>1787.726676</td>\n",
       "    </tr>\n",
       "    <tr>\n",
       "      <th>True</th>\n",
       "      <td>1839.460780</td>\n",
       "    </tr>\n",
       "  </tbody>\n",
       "</table>\n",
       "</div>"
      ],
      "text/plain": [
       "             duration_system\n",
       "substepping                 \n",
       "False            1787.726676\n",
       "True             1839.460780"
      ]
     },
     "execution_count": 235,
     "metadata": {},
     "output_type": "execute_result"
    }
   ],
   "source": [
    "df[['duration_system']].groupby('substepping').mean()"
   ]
  },
  {
   "cell_type": "markdown",
   "metadata": {},
   "source": [
    "$H_0$ the population of all executions with `substepping` is no different to that without `substepping`"
   ]
  },
  {
   "cell_type": "code",
   "execution_count": 236,
   "metadata": {},
   "outputs": [],
   "source": [
    "def substepping_ttest(column_name):\n",
    "\n",
    "    substepping_true = df[df.index.get_level_values(\n",
    "        'substepping') == True][column_name]\n",
    "\n",
    "    substepping_false = df[df.index.get_level_values(\n",
    "        'substepping') == False][column_name]\n",
    "\n",
    "    confidence_level = 0.95\n",
    "    max_error = 1 - confidence_level\n",
    "\n",
    "    t_statistic, p_value = scipy.stats.ttest_ind(\n",
    "        substepping_true, substepping_false)\n",
    "\n",
    "    print(f\"\\nFor {column_name = }\")\n",
    "    # print(f\"\\tT-statistic: {t_statistic}\")\n",
    "    print(f\"\\tP-value: {p_value}\")\n",
    "\n",
    "    if p_value < max_error:\n",
    "        print(\"\\tThe difference is statistically significant.\")\n",
    "    else:\n",
    "        print(\"\\tThe difference is not statistically significant.\")"
   ]
  },
  {
   "cell_type": "code",
   "execution_count": 237,
   "metadata": {},
   "outputs": [
    {
     "name": "stdout",
     "output_type": "stream",
     "text": [
      "\n",
      "For column_name = 'duration_system'\n",
      "\tP-value: 0.8266478798730381\n",
      "\tThe difference is not statistically significant.\n",
      "\n",
      "For column_name = 'duration_game'\n",
      "\tP-value: 0.9985278346651925\n",
      "\tThe difference is not statistically significant.\n"
     ]
    }
   ],
   "source": [
    "\n",
    "\n",
    "substepping_ttest('duration_system')\n",
    "substepping_ttest('duration_game')"
   ]
  },
  {
   "cell_type": "markdown",
   "metadata": {},
   "source": [
    "### Conclusions: \n",
    "\n",
    "substepping doesnt reduce execution time significantly"
   ]
  },
  {
   "cell_type": "markdown",
   "metadata": {},
   "source": [
    "## Q2: How does fidelity settings affect ADS performance (score_composed, score_penalty, score_route)"
   ]
  },
  {
   "cell_type": "code",
   "execution_count": 238,
   "metadata": {},
   "outputs": [
    {
     "name": "stderr",
     "output_type": "stream",
     "text": [
      "/tmp/ipykernel_8217/3498353464.py:4: UserWarning: To output multiple subplots, the figure containing the passed axes is being cleared.\n",
      "  axes = df.boxplot(column=['score_route', 'score_composed'],\n"
     ]
    },
    {
     "data": {
      "text/plain": [
       "<Axes: title={'center': 'score_penalty'}, xlabel='fps'>"
      ]
     },
     "execution_count": 238,
     "metadata": {},
     "output_type": "execute_result"
    },
    {
     "data": {
      "image/png": "[encoded data removed]",
      "text/plain": [
       "<Figure size 1200x600 with 2 Axes>"
      ]
     },
     "metadata": {},
     "output_type": "display_data"
    },
    {
     "data": {
      "image/png": "[encoded data removed]",
      "text/plain": [
       "<Figure size 640x480 with 1 Axes>"
      ]
     },
     "metadata": {},
     "output_type": "display_data"
    }
   ],
   "source": [
    "size = 6\n",
    "fig, ax = plt.subplots(figsize=(size*2, size))\n",
    "\n",
    "axes = df.boxplot(column=['score_route', 'score_composed'],\n",
    "                  by='fps', ax=ax)\n",
    "\n",
    "axes[0].set_title(\"Route completion %\")\n",
    "axes[1].set_title(\"Score composed %\")\n",
    "\n",
    "\n",
    "df.boxplot(column=['score_penalty'],\n",
    "           by='fps')"
   ]
  },
  {
   "cell_type": "markdown",
   "metadata": {},
   "source": [
    "### Conclusions\n",
    "\n",
    "Lowering FPS lowers ADS performance"
   ]
  },
  {
   "cell_type": "markdown",
   "metadata": {},
   "source": [
    "### Q2.2 Does substepping affect ADS performance?"
   ]
  },
  {
   "cell_type": "code",
   "execution_count": 239,
   "metadata": {},
   "outputs": [
    {
     "name": "stdout",
     "output_type": "stream",
     "text": [
      "\n",
      "For column_name = 'score_composed'\n",
      "\tP-value: 0.973368887425696\n",
      "\tThe difference is not statistically significant.\n",
      "\n",
      "For column_name = 'score_penalty'\n",
      "\tP-value: 0.9042610357716061\n",
      "\tThe difference is not statistically significant.\n",
      "\n",
      "For column_name = 'score_route'\n",
      "\tP-value: 0.9115053687876347\n",
      "\tThe difference is not statistically significant.\n"
     ]
    }
   ],
   "source": [
    "substepping_ttest('score_composed')\n",
    "substepping_ttest('score_penalty')\n",
    "substepping_ttest('score_route')"
   ]
  },
  {
   "cell_type": "markdown",
   "metadata": {},
   "source": [
    "### Conclusions\n",
    "\n",
    "Substepping is completely irrelevant"
   ]
  },
  {
   "cell_type": "markdown",
   "metadata": {},
   "source": [
    "### post analysis research"
   ]
  },
  {
   "cell_type": "markdown",
   "metadata": {},
   "source": [
    "![min10FPS.png](imgs/min10FPS.png)"
   ]
  },
  {
   "cell_type": "markdown",
   "metadata": {},
   "source": []
  }
 ],
 "metadata": {
  "kernelspec": {
   "display_name": "interfuser",
   "language": "python",
   "name": "python3"
  },
  "language_info": {
   "codemirror_mode": {
    "name": "ipython",
    "version": 3
   },
   "file_extension": ".py",
   "mimetype": "text/x-python",
   "name": "python",
   "nbconvert_exporter": "python",
   "pygments_lexer": "ipython3",
   "version": "3.12.1"
  }
 },
 "nbformat": 4,
 "nbformat_minor": 2
}
