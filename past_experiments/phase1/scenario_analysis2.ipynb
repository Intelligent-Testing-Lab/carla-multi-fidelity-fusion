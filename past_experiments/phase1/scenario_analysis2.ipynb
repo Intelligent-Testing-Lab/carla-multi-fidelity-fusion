{
 "cells": [
  {
   "cell_type": "markdown",
   "metadata": {},
   "source": [
    "## LOAD DATA\n"
   ]
  },
  {
   "cell_type": "code",
   "execution_count": 29,
   "metadata": {},
   "outputs": [],
   "source": [
    "import json\n",
    "import glob\n",
    "import pandas as pd\n",
    "import matplotlib.pyplot as plt\n",
    "import scipy\n",
    "from pathlib import Path\n",
    "import numpy as np\n",
    "import seaborn as sns\n",
    "\n",
    "idx = pd.IndexSlice\n",
    "\n",
    "# pd.set_option('display.max_rows', 500)\n",
    "# pd.set_option('display.max_columns', 500)\n",
    "# pd.set_option('display.width', 1000)"
   ]
  },
  {
   "cell_type": "code",
   "execution_count": 30,
   "metadata": {},
   "outputs": [],
   "source": [
    "def process_df(df):\n",
    "    record_df = pd.json_normalize(df['records'])\n",
    "    # concatenate records data\n",
    "    df = pd.concat([df, record_df],  axis=1)\n",
    "\n",
    "    # drop original column\n",
    "    df = df.drop('records', axis=1)\n",
    "\n",
    "    # drop infractions columns\n",
    "\n",
    "    # remove prefixes from column name\n",
    "    df.columns = df.columns.str.removeprefix('meta.')\n",
    "    df.columns = df.columns.str.removeprefix('scores.')\n",
    "    df['driving_score'] = df['score_composed'] / 100\n",
    "    df = df.rename(columns={\"index\": \"route_index\"})\n",
    "    # change fps to str varaiable\n",
    "    df['fps'] = df['fps'].astype(str)\n",
    "    df = df.set_index(['rep', 'fps', 'highquality', 'route_index'])\n",
    "    return df\n",
    "\n",
    "\n",
    "def make_df(path: str):\n",
    "    with open(path, \"r\") as f:\n",
    "\n",
    "        p = Path(path)\n",
    "\n",
    "        x = p.stem.split(\"_\")\n",
    "        data = {}\n",
    "        data['fps'] = int(x[1])\n",
    "        data['highquality'] = x[3]\n",
    "\n",
    "        rep_no = [x[-1] for x in path.split('/') if 'rep' in x][0]\n",
    "        data['rep'] = int(rep_no)\n",
    "        content = json.load(f)\n",
    "        data['records'] = content['_checkpoint']['records']\n",
    "\n",
    "        df = pd.DataFrame(data)\n",
    "        return process_df(df)"
   ]
  },
  {
   "cell_type": "code",
   "execution_count": 31,
   "metadata": {},
   "outputs": [],
   "source": [
    "dfs = []\n",
    "path = \"data/ronin/rep*/*/*.json\"\n",
    "for file_path in glob.glob(path):\n",
    "    # print(file_path)\n",
    "    dfs.append(make_df(file_path))\n",
    "\n",
    "df = pd.concat(dfs).sort_index()"
   ]
  },
  {
   "cell_type": "markdown",
   "metadata": {},
   "source": [
    "## FILTER DATA\n"
   ]
  },
  {
   "cell_type": "markdown",
   "metadata": {},
   "source": [
    "### Filter duplicated scenarios\n",
    "\n",
    "Filter scenarios that are exactly the same\n"
   ]
  },
  {
   "cell_type": "code",
   "execution_count": 32,
   "metadata": {},
   "outputs": [],
   "source": [
    "# Routes of theese scenarios are duplicated\n",
    "excluded_routes = [20, 21, 22, 23]\n",
    "df = df.drop(excluded_routes, level='route_index', axis=0)"
   ]
  },
  {
   "cell_type": "markdown",
   "metadata": {},
   "source": [
    "### Filter 16 FPS\n",
    "\n",
    "Carla crashes at 16 so we need to filter this results out\n"
   ]
  },
  {
   "cell_type": "code",
   "execution_count": 33,
   "metadata": {},
   "outputs": [],
   "source": [
    "# filter out 16 fps\n",
    "df = df.drop(\"16\", level='fps', axis=0)"
   ]
  },
  {
   "cell_type": "code",
   "execution_count": 34,
   "metadata": {},
   "outputs": [
    {
     "data": {
      "text/html": [
       "<div>\n",
       "<style scoped>\n",
       "    .dataframe tbody tr th:only-of-type {\n",
       "        vertical-align: middle;\n",
       "    }\n",
       "\n",
       "    .dataframe tbody tr th {\n",
       "        vertical-align: top;\n",
       "    }\n",
       "\n",
       "    .dataframe thead th {\n",
       "        text-align: right;\n",
       "    }\n",
       "</style>\n",
       "<table border=\"1\" class=\"dataframe\">\n",
       "  <thead>\n",
       "    <tr style=\"text-align: right;\">\n",
       "      <th></th>\n",
       "      <th></th>\n",
       "      <th></th>\n",
       "      <th></th>\n",
       "      <th>route_id</th>\n",
       "      <th>status</th>\n",
       "      <th>infractions.collisions_layout</th>\n",
       "      <th>infractions.collisions_pedestrian</th>\n",
       "      <th>infractions.collisions_vehicle</th>\n",
       "      <th>infractions.outside_route_lanes</th>\n",
       "      <th>infractions.red_light</th>\n",
       "      <th>infractions.route_dev</th>\n",
       "      <th>infractions.route_timeout</th>\n",
       "      <th>infractions.stop_infraction</th>\n",
       "      <th>infractions.vehicle_blocked</th>\n",
       "      <th>duration_game</th>\n",
       "      <th>duration_system</th>\n",
       "      <th>route_length</th>\n",
       "      <th>score_composed</th>\n",
       "      <th>score_penalty</th>\n",
       "      <th>score_route</th>\n",
       "      <th>driving_score</th>\n",
       "    </tr>\n",
       "    <tr>\n",
       "      <th>rep</th>\n",
       "      <th>fps</th>\n",
       "      <th>highquality</th>\n",
       "      <th>route_index</th>\n",
       "      <th></th>\n",
       "      <th></th>\n",
       "      <th></th>\n",
       "      <th></th>\n",
       "      <th></th>\n",
       "      <th></th>\n",
       "      <th></th>\n",
       "      <th></th>\n",
       "      <th></th>\n",
       "      <th></th>\n",
       "      <th></th>\n",
       "      <th></th>\n",
       "      <th></th>\n",
       "      <th></th>\n",
       "      <th></th>\n",
       "      <th></th>\n",
       "      <th></th>\n",
       "      <th></th>\n",
       "    </tr>\n",
       "  </thead>\n",
       "  <tbody>\n",
       "    <tr>\n",
       "      <th rowspan=\"5\" valign=\"top\">0</th>\n",
       "      <th rowspan=\"5\" valign=\"top\">10</th>\n",
       "      <th rowspan=\"5\" valign=\"top\">False</th>\n",
       "      <th>0</th>\n",
       "      <td>RouteScenario_0</td>\n",
       "      <td>Failed - Agent timed out</td>\n",
       "      <td>[]</td>\n",
       "      <td>[]</td>\n",
       "      <td>[Agent collided against object with type=vehic...</td>\n",
       "      <td>[Agent went outside its route lanes for about ...</td>\n",
       "      <td>[]</td>\n",
       "      <td>[]</td>\n",
       "      <td>[Route timeout.]</td>\n",
       "      <td>[]</td>\n",
       "      <td>[]</td>\n",
       "      <td>301.100004</td>\n",
       "      <td>642.428658</td>\n",
       "      <td>350.831252</td>\n",
       "      <td>2.630572</td>\n",
       "      <td>0.256099</td>\n",
       "      <td>10.271719</td>\n",
       "      <td>0.026306</td>\n",
       "    </tr>\n",
       "    <tr>\n",
       "      <th>1</th>\n",
       "      <td>RouteScenario_1</td>\n",
       "      <td>Failed - Agent timed out</td>\n",
       "      <td>[]</td>\n",
       "      <td>[]</td>\n",
       "      <td>[Agent collided against object with type=vehic...</td>\n",
       "      <td>[Agent went outside its route lanes for about ...</td>\n",
       "      <td>[]</td>\n",
       "      <td>[]</td>\n",
       "      <td>[Route timeout.]</td>\n",
       "      <td>[]</td>\n",
       "      <td>[]</td>\n",
       "      <td>251.100004</td>\n",
       "      <td>536.358014</td>\n",
       "      <td>289.985251</td>\n",
       "      <td>23.249043</td>\n",
       "      <td>0.560619</td>\n",
       "      <td>41.470324</td>\n",
       "      <td>0.232490</td>\n",
       "    </tr>\n",
       "    <tr>\n",
       "      <th>2</th>\n",
       "      <td>RouteScenario_2</td>\n",
       "      <td>Failed - Agent timed out</td>\n",
       "      <td>[Agent collided against object with type=stati...</td>\n",
       "      <td>[]</td>\n",
       "      <td>[]</td>\n",
       "      <td>[]</td>\n",
       "      <td>[Agent ran a red light 37728 at (x=179.22, y=2...</td>\n",
       "      <td>[]</td>\n",
       "      <td>[Route timeout.]</td>\n",
       "      <td>[]</td>\n",
       "      <td>[]</td>\n",
       "      <td>228.100003</td>\n",
       "      <td>489.848481</td>\n",
       "      <td>272.631122</td>\n",
       "      <td>11.336059</td>\n",
       "      <td>0.455000</td>\n",
       "      <td>24.914415</td>\n",
       "      <td>0.113361</td>\n",
       "    </tr>\n",
       "    <tr>\n",
       "      <th>3</th>\n",
       "      <td>RouteScenario_3</td>\n",
       "      <td>Failed - Agent timed out</td>\n",
       "      <td>[]</td>\n",
       "      <td>[]</td>\n",
       "      <td>[]</td>\n",
       "      <td>[Agent went outside its route lanes for about ...</td>\n",
       "      <td>[]</td>\n",
       "      <td>[]</td>\n",
       "      <td>[Route timeout.]</td>\n",
       "      <td>[]</td>\n",
       "      <td>[]</td>\n",
       "      <td>128.100002</td>\n",
       "      <td>277.129590</td>\n",
       "      <td>153.049630</td>\n",
       "      <td>43.246647</td>\n",
       "      <td>0.976153</td>\n",
       "      <td>44.303132</td>\n",
       "      <td>0.432466</td>\n",
       "    </tr>\n",
       "    <tr>\n",
       "      <th>4</th>\n",
       "      <td>RouteScenario_4</td>\n",
       "      <td>Failed - Agent timed out</td>\n",
       "      <td>[]</td>\n",
       "      <td>[]</td>\n",
       "      <td>[]</td>\n",
       "      <td>[Agent went outside its route lanes for about ...</td>\n",
       "      <td>[]</td>\n",
       "      <td>[]</td>\n",
       "      <td>[Route timeout.]</td>\n",
       "      <td>[]</td>\n",
       "      <td>[]</td>\n",
       "      <td>190.100003</td>\n",
       "      <td>404.950006</td>\n",
       "      <td>218.597426</td>\n",
       "      <td>16.852092</td>\n",
       "      <td>0.926513</td>\n",
       "      <td>18.188726</td>\n",
       "      <td>0.168521</td>\n",
       "    </tr>\n",
       "    <tr>\n",
       "      <th>...</th>\n",
       "      <th>...</th>\n",
       "      <th>...</th>\n",
       "      <th>...</th>\n",
       "      <td>...</td>\n",
       "      <td>...</td>\n",
       "      <td>...</td>\n",
       "      <td>...</td>\n",
       "      <td>...</td>\n",
       "      <td>...</td>\n",
       "      <td>...</td>\n",
       "      <td>...</td>\n",
       "      <td>...</td>\n",
       "      <td>...</td>\n",
       "      <td>...</td>\n",
       "      <td>...</td>\n",
       "      <td>...</td>\n",
       "      <td>...</td>\n",
       "      <td>...</td>\n",
       "      <td>...</td>\n",
       "      <td>...</td>\n",
       "      <td>...</td>\n",
       "    </tr>\n",
       "    <tr>\n",
       "      <th rowspan=\"5\" valign=\"top\">9</th>\n",
       "      <th rowspan=\"5\" valign=\"top\">20</th>\n",
       "      <th rowspan=\"5\" valign=\"top\">True</th>\n",
       "      <th>127</th>\n",
       "      <td>RouteScenario_127</td>\n",
       "      <td>Completed</td>\n",
       "      <td>[]</td>\n",
       "      <td>[]</td>\n",
       "      <td>[]</td>\n",
       "      <td>[]</td>\n",
       "      <td>[]</td>\n",
       "      <td>[]</td>\n",
       "      <td>[]</td>\n",
       "      <td>[]</td>\n",
       "      <td>[]</td>\n",
       "      <td>78.250001</td>\n",
       "      <td>287.689000</td>\n",
       "      <td>263.376124</td>\n",
       "      <td>100.000000</td>\n",
       "      <td>1.000000</td>\n",
       "      <td>100.000000</td>\n",
       "      <td>1.000000</td>\n",
       "    </tr>\n",
       "    <tr>\n",
       "      <th>128</th>\n",
       "      <td>RouteScenario_128</td>\n",
       "      <td>Completed</td>\n",
       "      <td>[]</td>\n",
       "      <td>[]</td>\n",
       "      <td>[]</td>\n",
       "      <td>[]</td>\n",
       "      <td>[]</td>\n",
       "      <td>[]</td>\n",
       "      <td>[]</td>\n",
       "      <td>[]</td>\n",
       "      <td>[]</td>\n",
       "      <td>98.300001</td>\n",
       "      <td>397.439014</td>\n",
       "      <td>288.603162</td>\n",
       "      <td>100.000000</td>\n",
       "      <td>1.000000</td>\n",
       "      <td>100.000000</td>\n",
       "      <td>1.000000</td>\n",
       "    </tr>\n",
       "    <tr>\n",
       "      <th>129</th>\n",
       "      <td>RouteScenario_129</td>\n",
       "      <td>Completed</td>\n",
       "      <td>[]</td>\n",
       "      <td>[]</td>\n",
       "      <td>[]</td>\n",
       "      <td>[]</td>\n",
       "      <td>[]</td>\n",
       "      <td>[]</td>\n",
       "      <td>[]</td>\n",
       "      <td>[]</td>\n",
       "      <td>[]</td>\n",
       "      <td>61.150001</td>\n",
       "      <td>234.884112</td>\n",
       "      <td>229.202381</td>\n",
       "      <td>100.000000</td>\n",
       "      <td>1.000000</td>\n",
       "      <td>100.000000</td>\n",
       "      <td>1.000000</td>\n",
       "    </tr>\n",
       "    <tr>\n",
       "      <th>130</th>\n",
       "      <td>RouteScenario_130</td>\n",
       "      <td>Completed</td>\n",
       "      <td>[]</td>\n",
       "      <td>[]</td>\n",
       "      <td>[Agent collided against object with type=vehic...</td>\n",
       "      <td>[]</td>\n",
       "      <td>[]</td>\n",
       "      <td>[]</td>\n",
       "      <td>[]</td>\n",
       "      <td>[]</td>\n",
       "      <td>[]</td>\n",
       "      <td>95.400001</td>\n",
       "      <td>373.658720</td>\n",
       "      <td>290.027185</td>\n",
       "      <td>60.000000</td>\n",
       "      <td>0.600000</td>\n",
       "      <td>100.000000</td>\n",
       "      <td>0.600000</td>\n",
       "    </tr>\n",
       "    <tr>\n",
       "      <th>131</th>\n",
       "      <td>RouteScenario_131</td>\n",
       "      <td>Failed - Agent timed out</td>\n",
       "      <td>[]</td>\n",
       "      <td>[]</td>\n",
       "      <td>[]</td>\n",
       "      <td>[]</td>\n",
       "      <td>[]</td>\n",
       "      <td>[]</td>\n",
       "      <td>[Route timeout.]</td>\n",
       "      <td>[]</td>\n",
       "      <td>[]</td>\n",
       "      <td>120.050002</td>\n",
       "      <td>459.435260</td>\n",
       "      <td>138.133586</td>\n",
       "      <td>96.554237</td>\n",
       "      <td>1.000000</td>\n",
       "      <td>96.554237</td>\n",
       "      <td>0.965542</td>\n",
       "    </tr>\n",
       "  </tbody>\n",
       "</table>\n",
       "<p>17920 rows × 18 columns</p>\n",
       "</div>"
      ],
      "text/plain": [
       "                                          route_id                    status  \\\n",
       "rep fps highquality route_index                                                \n",
       "0   10  False       0              RouteScenario_0  Failed - Agent timed out   \n",
       "                    1              RouteScenario_1  Failed - Agent timed out   \n",
       "                    2              RouteScenario_2  Failed - Agent timed out   \n",
       "                    3              RouteScenario_3  Failed - Agent timed out   \n",
       "                    4              RouteScenario_4  Failed - Agent timed out   \n",
       "...                                            ...                       ...   \n",
       "9   20  True        127          RouteScenario_127                 Completed   \n",
       "                    128          RouteScenario_128                 Completed   \n",
       "                    129          RouteScenario_129                 Completed   \n",
       "                    130          RouteScenario_130                 Completed   \n",
       "                    131          RouteScenario_131  Failed - Agent timed out   \n",
       "\n",
       "                                                     infractions.collisions_layout  \\\n",
       "rep fps highquality route_index                                                      \n",
       "0   10  False       0                                                           []   \n",
       "                    1                                                           []   \n",
       "                    2            [Agent collided against object with type=stati...   \n",
       "                    3                                                           []   \n",
       "                    4                                                           []   \n",
       "...                                                                            ...   \n",
       "9   20  True        127                                                         []   \n",
       "                    128                                                         []   \n",
       "                    129                                                         []   \n",
       "                    130                                                         []   \n",
       "                    131                                                         []   \n",
       "\n",
       "                                infractions.collisions_pedestrian  \\\n",
       "rep fps highquality route_index                                     \n",
       "0   10  False       0                                          []   \n",
       "                    1                                          []   \n",
       "                    2                                          []   \n",
       "                    3                                          []   \n",
       "                    4                                          []   \n",
       "...                                                           ...   \n",
       "9   20  True        127                                        []   \n",
       "                    128                                        []   \n",
       "                    129                                        []   \n",
       "                    130                                        []   \n",
       "                    131                                        []   \n",
       "\n",
       "                                                    infractions.collisions_vehicle  \\\n",
       "rep fps highquality route_index                                                      \n",
       "0   10  False       0            [Agent collided against object with type=vehic...   \n",
       "                    1            [Agent collided against object with type=vehic...   \n",
       "                    2                                                           []   \n",
       "                    3                                                           []   \n",
       "                    4                                                           []   \n",
       "...                                                                            ...   \n",
       "9   20  True        127                                                         []   \n",
       "                    128                                                         []   \n",
       "                    129                                                         []   \n",
       "                    130          [Agent collided against object with type=vehic...   \n",
       "                    131                                                         []   \n",
       "\n",
       "                                                   infractions.outside_route_lanes  \\\n",
       "rep fps highquality route_index                                                      \n",
       "0   10  False       0            [Agent went outside its route lanes for about ...   \n",
       "                    1            [Agent went outside its route lanes for about ...   \n",
       "                    2                                                           []   \n",
       "                    3            [Agent went outside its route lanes for about ...   \n",
       "                    4            [Agent went outside its route lanes for about ...   \n",
       "...                                                                            ...   \n",
       "9   20  True        127                                                         []   \n",
       "                    128                                                         []   \n",
       "                    129                                                         []   \n",
       "                    130                                                         []   \n",
       "                    131                                                         []   \n",
       "\n",
       "                                                             infractions.red_light  \\\n",
       "rep fps highquality route_index                                                      \n",
       "0   10  False       0                                                           []   \n",
       "                    1                                                           []   \n",
       "                    2            [Agent ran a red light 37728 at (x=179.22, y=2...   \n",
       "                    3                                                           []   \n",
       "                    4                                                           []   \n",
       "...                                                                            ...   \n",
       "9   20  True        127                                                         []   \n",
       "                    128                                                         []   \n",
       "                    129                                                         []   \n",
       "                    130                                                         []   \n",
       "                    131                                                         []   \n",
       "\n",
       "                                infractions.route_dev  \\\n",
       "rep fps highquality route_index                         \n",
       "0   10  False       0                              []   \n",
       "                    1                              []   \n",
       "                    2                              []   \n",
       "                    3                              []   \n",
       "                    4                              []   \n",
       "...                                               ...   \n",
       "9   20  True        127                            []   \n",
       "                    128                            []   \n",
       "                    129                            []   \n",
       "                    130                            []   \n",
       "                    131                            []   \n",
       "\n",
       "                                infractions.route_timeout  \\\n",
       "rep fps highquality route_index                             \n",
       "0   10  False       0                    [Route timeout.]   \n",
       "                    1                    [Route timeout.]   \n",
       "                    2                    [Route timeout.]   \n",
       "                    3                    [Route timeout.]   \n",
       "                    4                    [Route timeout.]   \n",
       "...                                                   ...   \n",
       "9   20  True        127                                []   \n",
       "                    128                                []   \n",
       "                    129                                []   \n",
       "                    130                                []   \n",
       "                    131                  [Route timeout.]   \n",
       "\n",
       "                                infractions.stop_infraction  \\\n",
       "rep fps highquality route_index                               \n",
       "0   10  False       0                                    []   \n",
       "                    1                                    []   \n",
       "                    2                                    []   \n",
       "                    3                                    []   \n",
       "                    4                                    []   \n",
       "...                                                     ...   \n",
       "9   20  True        127                                  []   \n",
       "                    128                                  []   \n",
       "                    129                                  []   \n",
       "                    130                                  []   \n",
       "                    131                                  []   \n",
       "\n",
       "                                infractions.vehicle_blocked  duration_game  \\\n",
       "rep fps highquality route_index                                              \n",
       "0   10  False       0                                    []     301.100004   \n",
       "                    1                                    []     251.100004   \n",
       "                    2                                    []     228.100003   \n",
       "                    3                                    []     128.100002   \n",
       "                    4                                    []     190.100003   \n",
       "...                                                     ...            ...   \n",
       "9   20  True        127                                  []      78.250001   \n",
       "                    128                                  []      98.300001   \n",
       "                    129                                  []      61.150001   \n",
       "                    130                                  []      95.400001   \n",
       "                    131                                  []     120.050002   \n",
       "\n",
       "                                 duration_system  route_length  \\\n",
       "rep fps highquality route_index                                  \n",
       "0   10  False       0                 642.428658    350.831252   \n",
       "                    1                 536.358014    289.985251   \n",
       "                    2                 489.848481    272.631122   \n",
       "                    3                 277.129590    153.049630   \n",
       "                    4                 404.950006    218.597426   \n",
       "...                                          ...           ...   \n",
       "9   20  True        127               287.689000    263.376124   \n",
       "                    128               397.439014    288.603162   \n",
       "                    129               234.884112    229.202381   \n",
       "                    130               373.658720    290.027185   \n",
       "                    131               459.435260    138.133586   \n",
       "\n",
       "                                 score_composed  score_penalty  score_route  \\\n",
       "rep fps highquality route_index                                               \n",
       "0   10  False       0                  2.630572       0.256099    10.271719   \n",
       "                    1                 23.249043       0.560619    41.470324   \n",
       "                    2                 11.336059       0.455000    24.914415   \n",
       "                    3                 43.246647       0.976153    44.303132   \n",
       "                    4                 16.852092       0.926513    18.188726   \n",
       "...                                         ...            ...          ...   \n",
       "9   20  True        127              100.000000       1.000000   100.000000   \n",
       "                    128              100.000000       1.000000   100.000000   \n",
       "                    129              100.000000       1.000000   100.000000   \n",
       "                    130               60.000000       0.600000   100.000000   \n",
       "                    131               96.554237       1.000000    96.554237   \n",
       "\n",
       "                                 driving_score  \n",
       "rep fps highquality route_index                 \n",
       "0   10  False       0                 0.026306  \n",
       "                    1                 0.232490  \n",
       "                    2                 0.113361  \n",
       "                    3                 0.432466  \n",
       "                    4                 0.168521  \n",
       "...                                        ...  \n",
       "9   20  True        127               1.000000  \n",
       "                    128               1.000000  \n",
       "                    129               1.000000  \n",
       "                    130               0.600000  \n",
       "                    131               0.965542  \n",
       "\n",
       "[17920 rows x 18 columns]"
      ]
     },
     "execution_count": 34,
     "metadata": {},
     "output_type": "execute_result"
    }
   ],
   "source": [
    "df"
   ]
  },
  {
   "cell_type": "markdown",
   "metadata": {},
   "source": [
    "## PROCESS DATA\n"
   ]
  },
  {
   "cell_type": "markdown",
   "metadata": {},
   "source": [
    "### Driving score error\n"
   ]
  },
  {
   "cell_type": "code",
   "execution_count": 35,
   "metadata": {},
   "outputs": [
    {
     "name": "stdout",
     "output_type": "stream",
     "text": [
      "<class 'pandas.core.frame.DataFrame'>\n",
      "MultiIndex: 1280 entries, (0, '20', 'True', 0) to (9, '20', 'True', 131)\n",
      "Data columns (total 18 columns):\n",
      " #   Column                             Non-Null Count  Dtype  \n",
      "---  ------                             --------------  -----  \n",
      " 0   route_id                           1280 non-null   object \n",
      " 1   status                             1280 non-null   object \n",
      " 2   infractions.collisions_layout      1280 non-null   object \n",
      " 3   infractions.collisions_pedestrian  1280 non-null   object \n",
      " 4   infractions.collisions_vehicle     1280 non-null   object \n",
      " 5   infractions.outside_route_lanes    1280 non-null   object \n",
      " 6   infractions.red_light              1280 non-null   object \n",
      " 7   infractions.route_dev              1280 non-null   object \n",
      " 8   infractions.route_timeout          1280 non-null   object \n",
      " 9   infractions.stop_infraction        1280 non-null   object \n",
      " 10  infractions.vehicle_blocked        1280 non-null   object \n",
      " 11  duration_game                      1280 non-null   float64\n",
      " 12  duration_system                    1280 non-null   float64\n",
      " 13  route_length                       1280 non-null   float64\n",
      " 14  score_composed                     1280 non-null   float64\n",
      " 15  score_penalty                      1280 non-null   float64\n",
      " 16  score_route                        1280 non-null   float64\n",
      " 17  driving_score                      1280 non-null   float64\n",
      "dtypes: float64(7), object(11)\n",
      "memory usage: 192.4+ KB\n"
     ]
    }
   ],
   "source": [
    "oracle_df = df.xs((\"20\", \"True\"), level=[\n",
    "    'fps', 'highquality'], drop_level=False).sort_index()\n",
    "oracle_df.info()"
   ]
  },
  {
   "cell_type": "code",
   "execution_count": 36,
   "metadata": {},
   "outputs": [],
   "source": [
    "\n",
    "# oracle driving score per scenario\n",
    "oracle_vec = oracle_df.groupby('route_index')['driving_score'].mean()\n",
    "df['driving_score_error'] = (df['driving_score'] - oracle_vec).abs()\n",
    "\n",
    "# df"
   ]
  },
  {
   "cell_type": "markdown",
   "metadata": {},
   "source": [
    "## INVESTIGATE\n"
   ]
  },
  {
   "cell_type": "markdown",
   "metadata": {},
   "source": [
    "### Labeling\n",
    "\n",
    "Labeling scenario safety\n"
   ]
  },
  {
   "cell_type": "code",
   "execution_count": 37,
   "metadata": {},
   "outputs": [],
   "source": [
    "# consider only highquality rendering for now\n",
    "data = df.xs(\"True\", level='highquality')\n",
    "\n",
    "# average the data across repetitions\n",
    "data = data.groupby(['fps', 'route_index'])[\n",
    "    'driving_score_error'].mean().to_frame()"
   ]
  },
  {
   "cell_type": "code",
   "execution_count": 38,
   "metadata": {},
   "outputs": [],
   "source": [
    "\n",
    "safe_threshold = 0.01\n",
    "risky_threshold = 0.25\n",
    "\n",
    "data.loc[:, 'label'] = np.select(\n",
    "    [data['driving_score_error'] < safe_threshold,\n",
    "     data['driving_score_error'].between(safe_threshold, risky_threshold),\n",
    "     data['driving_score_error'] > risky_threshold,\n",
    "     ],\n",
    "    ['safe', 'moderate', 'risky',],\n",
    ")"
   ]
  },
  {
   "cell_type": "code",
   "execution_count": 95,
   "metadata": {},
   "outputs": [],
   "source": [
    "def draw_dist(data):\n",
    "\n",
    "    fig, (ax1,  ax2) = plt.subplots(1, 2, sharex=True)\n",
    "\n",
    "    # fig.set_figheight(15)\n",
    "    fig.set_figwidth(15)\n",
    "\n",
    "    sns.histplot(\n",
    "        data, x=\"fps\", hue='label', hue_order=['risky', 'moderate', 'safe'], multiple=\"stack\",  shrink=.8, ax=ax1\n",
    "    )\n",
    "\n",
    "    sns.stripplot(data, x='fps', y='driving_score_error', hue='label', hue_order=['risky', 'moderate', 'safe'],\n",
    "                  ax=ax2)\n",
    "    ax2.set_ylabel(\"DScore error\")"
   ]
  },
  {
   "cell_type": "code",
   "execution_count": 96,
   "metadata": {},
   "outputs": [
    {
     "data": {
      "image/png": "[encoded data removed]",
      "text/plain": [
       "<Figure size 1500x480 with 2 Axes>"
      ]
     },
     "metadata": {},
     "output_type": "display_data"
    }
   ],
   "source": [
    "draw_dist(data)"
   ]
  },
  {
   "cell_type": "markdown",
   "metadata": {},
   "source": [
    "### Non flakey\n",
    "\n",
    "Keep only safe scenarios from highfidelity\n"
   ]
  },
  {
   "cell_type": "code",
   "execution_count": 97,
   "metadata": {},
   "outputs": [],
   "source": [
    "highfid = data.xs(\"20\")\n",
    "safe_mask = highfid['label'] == 'safe'\n",
    "# safe_mask\n",
    "nonflakey = data.where(safe_mask).dropna()"
   ]
  },
  {
   "cell_type": "code",
   "execution_count": 98,
   "metadata": {},
   "outputs": [
    {
     "data": {
      "text/html": [
       "<div>\n",
       "<style scoped>\n",
       "    .dataframe tbody tr th:only-of-type {\n",
       "        vertical-align: middle;\n",
       "    }\n",
       "\n",
       "    .dataframe tbody tr th {\n",
       "        vertical-align: top;\n",
       "    }\n",
       "\n",
       "    .dataframe thead th {\n",
       "        text-align: right;\n",
       "    }\n",
       "</style>\n",
       "<table border=\"1\" class=\"dataframe\">\n",
       "  <thead>\n",
       "    <tr style=\"text-align: right;\">\n",
       "      <th></th>\n",
       "      <th>driving_score_error</th>\n",
       "      <th>label</th>\n",
       "    </tr>\n",
       "    <tr>\n",
       "      <th>fps</th>\n",
       "      <th></th>\n",
       "      <th></th>\n",
       "    </tr>\n",
       "  </thead>\n",
       "  <tbody>\n",
       "    <tr>\n",
       "      <th>10</th>\n",
       "      <td>92</td>\n",
       "      <td>92</td>\n",
       "    </tr>\n",
       "    <tr>\n",
       "      <th>12</th>\n",
       "      <td>92</td>\n",
       "      <td>92</td>\n",
       "    </tr>\n",
       "    <tr>\n",
       "      <th>14</th>\n",
       "      <td>92</td>\n",
       "      <td>92</td>\n",
       "    </tr>\n",
       "    <tr>\n",
       "      <th>15</th>\n",
       "      <td>92</td>\n",
       "      <td>92</td>\n",
       "    </tr>\n",
       "    <tr>\n",
       "      <th>17</th>\n",
       "      <td>92</td>\n",
       "      <td>92</td>\n",
       "    </tr>\n",
       "    <tr>\n",
       "      <th>18</th>\n",
       "      <td>92</td>\n",
       "      <td>92</td>\n",
       "    </tr>\n",
       "    <tr>\n",
       "      <th>20</th>\n",
       "      <td>92</td>\n",
       "      <td>92</td>\n",
       "    </tr>\n",
       "  </tbody>\n",
       "</table>\n",
       "</div>"
      ],
      "text/plain": [
       "     driving_score_error  label\n",
       "fps                            \n",
       "10                    92     92\n",
       "12                    92     92\n",
       "14                    92     92\n",
       "15                    92     92\n",
       "17                    92     92\n",
       "18                    92     92\n",
       "20                    92     92"
      ]
     },
     "execution_count": 98,
     "metadata": {},
     "output_type": "execute_result"
    }
   ],
   "source": [
    "nonflakey.groupby('fps').count()"
   ]
  },
  {
   "cell_type": "code",
   "execution_count": 99,
   "metadata": {},
   "outputs": [
    {
     "data": {
      "image/png": "[encoded data removed]",
      "text/plain": [
       "<Figure size 1500x480 with 2 Axes>"
      ]
     },
     "metadata": {},
     "output_type": "display_data"
    }
   ],
   "source": [
    "\n",
    "draw_dist(nonflakey)"
   ]
  },
  {
   "cell_type": "code",
   "execution_count": 100,
   "metadata": {},
   "outputs": [
    {
     "data": {
      "image/png": "[encoded data removed]",
      "text/plain": [
       "<Figure size 1500x480 with 2 Axes>"
      ]
     },
     "metadata": {},
     "output_type": "display_data"
    }
   ],
   "source": [
    "onlyflakey = data.where(~safe_mask).dropna()\n",
    "draw_dist(onlyflakey)"
   ]
  },
  {
   "cell_type": "markdown",
   "metadata": {},
   "source": [
    "### Sankey diagram\n"
   ]
  },
  {
   "cell_type": "code",
   "execution_count": 101,
   "metadata": {},
   "outputs": [],
   "source": [
    "from itertools import product\n",
    "from dataclasses import dataclass\n",
    "\n",
    "\n",
    "@dataclass\n",
    "class Transition:\n",
    "    \"\"\"Class for keeping track of an item in inventory.\"\"\"\n",
    "    source_fps: str\n",
    "    source_label: str\n",
    "    target_fps: str\n",
    "    target_label: str\n",
    "    value: int\n",
    "\n",
    "    @property\n",
    "    def source(self) -> str:\n",
    "        return f\"{self.source_fps} {self.source_label}\"\n",
    "\n",
    "    @property\n",
    "    def target(self) -> str:\n",
    "        return f\"{self.target_fps} {self.target_label}\"\n",
    "\n",
    "    def __str__(self) -> str:\n",
    "        return f'For {self.source_fps} {self.source_label} -> {self.target_fps} {self.target_label}: {self.value}'\n",
    "\n",
    "\n",
    "transitions: list[Transition] = []"
   ]
  },
  {
   "cell_type": "code",
   "execution_count": 102,
   "metadata": {},
   "outputs": [],
   "source": [
    "fps_values = [\"10\", \"15\", \"20\"]\n",
    "sankey_data = data.loc[fps_values, :]"
   ]
  },
  {
   "cell_type": "code",
   "execution_count": 103,
   "metadata": {},
   "outputs": [],
   "source": [
    "\n",
    "# reversing at the end\n",
    "batches = list(sankey_data.groupby('fps'))[::-1]\n",
    "\n",
    "# outer loop iterates over pairs of fps values (20, 18), (18, 17), (17, 15)...\n",
    "for (source_fps, source_batch), (target_fps, target_batch) in zip(batches, batches[1:]):\n",
    "\n",
    "    source_batches = list(source_batch.groupby('label'))\n",
    "    target_batches = list(target_batch.groupby('label'))\n",
    "\n",
    "    # inner loop iterates over pairs (safe, safe), (safe, moderate) ... to capture transitions\n",
    "    for (source_label, source_label_batch),  (target_label, target_label_batch) in product(source_batches, target_batches):\n",
    "\n",
    "        # merge batches with inner to calculate intersection between them\n",
    "        merged = pd.merge(source_label_batch, target_label_batch,\n",
    "                          how='inner', on=['route_index'])\n",
    "\n",
    "        # size of merged is transition value\n",
    "        value = merged.shape[0]\n",
    "        t = Transition(source_fps, source_label,\n",
    "                       target_fps, target_label, value)\n",
    "        # print(t)\n",
    "        transitions.append(t)"
   ]
  },
  {
   "cell_type": "code",
   "execution_count": 104,
   "metadata": {},
   "outputs": [
    {
     "data": {
      "text/plain": [
       "dict_values(['rgb(0, 200, 0)', 'rgb(200, 0, 0)', 'rgb(0, 0, 200)', 'rgb(0, 200, 0)', 'rgb(200, 0, 0)', 'rgb(0, 0, 200)', 'rgb(0, 200, 0)', 'rgb(200, 0, 0)', 'rgb(0, 0, 200)'])"
      ]
     },
     "execution_count": 104,
     "metadata": {},
     "output_type": "execute_result"
    }
   ],
   "source": [
    "from itertools import cycle\n",
    "\n",
    "figure_labels = [(t.source, t.target) for t in transitions]\n",
    "figure_labels = {x for xs in figure_labels for x in xs}\n",
    "figure_labels = list(figure_labels)\n",
    "figure_labels = sorted(figure_labels, reverse=True)\n",
    "fl_index_mapping = {fg: i for i, fg in enumerate(figure_labels)}\n",
    "fl_index_mapping\n",
    "\n",
    "colors = cycle(['rgb(0, 200, 0)', 'rgb(200, 0, 0)',  'rgb(0, 0, 200)'])\n",
    "fl_color_mapping = dict(zip(figure_labels, colors))\n",
    "fl_color_mapping.values()"
   ]
  },
  {
   "cell_type": "code",
   "execution_count": 105,
   "metadata": {},
   "outputs": [],
   "source": [
    "links = np.array([(fl_index_mapping[t.source], fl_index_mapping[t.target], t.value)\n",
    "                  for t in transitions])\n",
    "links = links.T\n",
    "# links"
   ]
  },
  {
   "cell_type": "code",
   "execution_count": 106,
   "metadata": {},
   "outputs": [
    {
     "data": {
      "application/vnd.plotly.v1+json": {
       "config": {
        "plotlyServerURL": "https://plot.ly"
       },
       "data": [
        {
         "arrangement": "snap",
         "link": {
          "arrowlen": 0,
          "hovertemplate": " ",
          "source": [
           2,
           2,
           2,
           1,
           1,
           1,
           0,
           0,
           0,
           5,
           5,
           5,
           4,
           4,
           4,
           3,
           3,
           3
          ],
          "target": [
           5,
           4,
           3,
           5,
           4,
           3,
           5,
           4,
           3,
           8,
           7,
           6,
           8,
           7,
           6,
           8,
           7,
           6
          ],
          "value": [
           23,
           11,
           0,
           1,
           1,
           0,
           18,
           8,
           66,
           11,
           30,
           1,
           3,
           16,
           1,
           7,
           32,
           27
          ]
         },
         "node": {
          "color": [
           "rgb(0, 200, 0)",
           "rgb(200, 0, 0)",
           "rgb(0, 0, 200)",
           "rgb(0, 200, 0)",
           "rgb(200, 0, 0)",
           "rgb(0, 0, 200)",
           "rgb(0, 200, 0)",
           "rgb(200, 0, 0)",
           "rgb(0, 0, 200)"
          ],
          "customdata": [
           "20 safe",
           "20 risky",
           "20 moderate",
           "15 safe",
           "15 risky",
           "15 moderate",
           "10 safe",
           "10 risky",
           "10 moderate"
          ],
          "hovertemplate": "%{customdata} has total value %{value}<extra></extra>",
          "label": [
           "20 safe",
           "20 risky",
           "20 moderate",
           "15 safe",
           "15 risky",
           "15 moderate",
           "10 safe",
           "10 risky",
           "10 moderate"
          ],
          "line": {
           "color": "green",
           "width": 0.5
          },
          "pad": 15,
          "thickness": 10
         },
         "type": "sankey"
        }
       ],
       "layout": {
        "font": {
         "size": 20
        },
        "template": {
         "data": {
          "bar": [
           {
            "error_x": {
             "color": "#2a3f5f"
            },
            "error_y": {
             "color": "#2a3f5f"
            },
            "marker": {
             "line": {
              "color": "#E5ECF6",
              "width": 0.5
             },
             "pattern": {
              "fillmode": "overlay",
              "size": 10,
              "solidity": 0.2
             }
            },
            "type": "bar"
           }
          ],
          "barpolar": [
           {
            "marker": {
             "line": {
              "color": "#E5ECF6",
              "width": 0.5
             },
             "pattern": {
              "fillmode": "overlay",
              "size": 10,
              "solidity": 0.2
             }
            },
            "type": "barpolar"
           }
          ],
          "carpet": [
           {
            "aaxis": {
             "endlinecolor": "#2a3f5f",
             "gridcolor": "white",
             "linecolor": "white",
             "minorgridcolor": "white",
             "startlinecolor": "#2a3f5f"
            },
            "baxis": {
             "endlinecolor": "#2a3f5f",
             "gridcolor": "white",
             "linecolor": "white",
             "minorgridcolor": "white",
             "startlinecolor": "#2a3f5f"
            },
            "type": "carpet"
           }
          ],
          "choropleth": [
           {
            "colorbar": {
             "outlinewidth": 0,
             "ticks": ""
            },
            "type": "choropleth"
           }
          ],
          "contour": [
           {
            "colorbar": {
             "outlinewidth": 0,
             "ticks": ""
            },
            "colorscale": [
             [
              0,
              "#0d0887"
             ],
             [
              0.1111111111111111,
              "#46039f"
             ],
             [
              0.2222222222222222,
              "#7201a8"
             ],
             [
              0.3333333333333333,
              "#9c179e"
             ],
             [
              0.4444444444444444,
              "#bd3786"
             ],
             [
              0.5555555555555556,
              "#d8576b"
             ],
             [
              0.6666666666666666,
              "#ed7953"
             ],
             [
              0.7777777777777778,
              "#fb9f3a"
             ],
             [
              0.8888888888888888,
              "#fdca26"
             ],
             [
              1,
              "#f0f921"
             ]
            ],
            "type": "contour"
           }
          ],
          "contourcarpet": [
           {
            "colorbar": {
             "outlinewidth": 0,
             "ticks": ""
            },
            "type": "contourcarpet"
           }
          ],
          "heatmap": [
           {
            "colorbar": {
             "outlinewidth": 0,
             "ticks": ""
            },
            "colorscale": [
             [
              0,
              "#0d0887"
             ],
             [
              0.1111111111111111,
              "#46039f"
             ],
             [
              0.2222222222222222,
              "#7201a8"
             ],
             [
              0.3333333333333333,
              "#9c179e"
             ],
             [
              0.4444444444444444,
              "#bd3786"
             ],
             [
              0.5555555555555556,
              "#d8576b"
             ],
             [
              0.6666666666666666,
              "#ed7953"
             ],
             [
              0.7777777777777778,
              "#fb9f3a"
             ],
             [
              0.8888888888888888,
              "#fdca26"
             ],
             [
              1,
              "#f0f921"
             ]
            ],
            "type": "heatmap"
           }
          ],
          "heatmapgl": [
           {
            "colorbar": {
             "outlinewidth": 0,
             "ticks": ""
            },
            "colorscale": [
             [
              0,
              "#0d0887"
             ],
             [
              0.1111111111111111,
              "#46039f"
             ],
             [
              0.2222222222222222,
              "#7201a8"
             ],
             [
              0.3333333333333333,
              "#9c179e"
             ],
             [
              0.4444444444444444,
              "#bd3786"
             ],
             [
              0.5555555555555556,
              "#d8576b"
             ],
             [
              0.6666666666666666,
              "#ed7953"
             ],
             [
              0.7777777777777778,
              "#fb9f3a"
             ],
             [
              0.8888888888888888,
              "#fdca26"
             ],
             [
              1,
              "#f0f921"
             ]
            ],
            "type": "heatmapgl"
           }
          ],
          "histogram": [
           {
            "marker": {
             "pattern": {
              "fillmode": "overlay",
              "size": 10,
              "solidity": 0.2
             }
            },
            "type": "histogram"
           }
          ],
          "histogram2d": [
           {
            "colorbar": {
             "outlinewidth": 0,
             "ticks": ""
            },
            "colorscale": [
             [
              0,
              "#0d0887"
             ],
             [
              0.1111111111111111,
              "#46039f"
             ],
             [
              0.2222222222222222,
              "#7201a8"
             ],
             [
              0.3333333333333333,
              "#9c179e"
             ],
             [
              0.4444444444444444,
              "#bd3786"
             ],
             [
              0.5555555555555556,
              "#d8576b"
             ],
             [
              0.6666666666666666,
              "#ed7953"
             ],
             [
              0.7777777777777778,
              "#fb9f3a"
             ],
             [
              0.8888888888888888,
              "#fdca26"
             ],
             [
              1,
              "#f0f921"
             ]
            ],
            "type": "histogram2d"
           }
          ],
          "histogram2dcontour": [
           {
            "colorbar": {
             "outlinewidth": 0,
             "ticks": ""
            },
            "colorscale": [
             [
              0,
              "#0d0887"
             ],
             [
              0.1111111111111111,
              "#46039f"
             ],
             [
              0.2222222222222222,
              "#7201a8"
             ],
             [
              0.3333333333333333,
              "#9c179e"
             ],
             [
              0.4444444444444444,
              "#bd3786"
             ],
             [
              0.5555555555555556,
              "#d8576b"
             ],
             [
              0.6666666666666666,
              "#ed7953"
             ],
             [
              0.7777777777777778,
              "#fb9f3a"
             ],
             [
              0.8888888888888888,
              "#fdca26"
             ],
             [
              1,
              "#f0f921"
             ]
            ],
            "type": "histogram2dcontour"
           }
          ],
          "mesh3d": [
           {
            "colorbar": {
             "outlinewidth": 0,
             "ticks": ""
            },
            "type": "mesh3d"
           }
          ],
          "parcoords": [
           {
            "line": {
             "colorbar": {
              "outlinewidth": 0,
              "ticks": ""
             }
            },
            "type": "parcoords"
           }
          ],
          "pie": [
           {
            "automargin": true,
            "type": "pie"
           }
          ],
          "scatter": [
           {
            "fillpattern": {
             "fillmode": "overlay",
             "size": 10,
             "solidity": 0.2
            },
            "type": "scatter"
           }
          ],
          "scatter3d": [
           {
            "line": {
             "colorbar": {
              "outlinewidth": 0,
              "ticks": ""
             }
            },
            "marker": {
             "colorbar": {
              "outlinewidth": 0,
              "ticks": ""
             }
            },
            "type": "scatter3d"
           }
          ],
          "scattercarpet": [
           {
            "marker": {
             "colorbar": {
              "outlinewidth": 0,
              "ticks": ""
             }
            },
            "type": "scattercarpet"
           }
          ],
          "scattergeo": [
           {
            "marker": {
             "colorbar": {
              "outlinewidth": 0,
              "ticks": ""
             }
            },
            "type": "scattergeo"
           }
          ],
          "scattergl": [
           {
            "marker": {
             "colorbar": {
              "outlinewidth": 0,
              "ticks": ""
             }
            },
            "type": "scattergl"
           }
          ],
          "scattermapbox": [
           {
            "marker": {
             "colorbar": {
              "outlinewidth": 0,
              "ticks": ""
             }
            },
            "type": "scattermapbox"
           }
          ],
          "scatterpolar": [
           {
            "marker": {
             "colorbar": {
              "outlinewidth": 0,
              "ticks": ""
             }
            },
            "type": "scatterpolar"
           }
          ],
          "scatterpolargl": [
           {
            "marker": {
             "colorbar": {
              "outlinewidth": 0,
              "ticks": ""
             }
            },
            "type": "scatterpolargl"
           }
          ],
          "scatterternary": [
           {
            "marker": {
             "colorbar": {
              "outlinewidth": 0,
              "ticks": ""
             }
            },
            "type": "scatterternary"
           }
          ],
          "surface": [
           {
            "colorbar": {
             "outlinewidth": 0,
             "ticks": ""
            },
            "colorscale": [
             [
              0,
              "#0d0887"
             ],
             [
              0.1111111111111111,
              "#46039f"
             ],
             [
              0.2222222222222222,
              "#7201a8"
             ],
             [
              0.3333333333333333,
              "#9c179e"
             ],
             [
              0.4444444444444444,
              "#bd3786"
             ],
             [
              0.5555555555555556,
              "#d8576b"
             ],
             [
              0.6666666666666666,
              "#ed7953"
             ],
             [
              0.7777777777777778,
              "#fb9f3a"
             ],
             [
              0.8888888888888888,
              "#fdca26"
             ],
             [
              1,
              "#f0f921"
             ]
            ],
            "type": "surface"
           }
          ],
          "table": [
           {
            "cells": {
             "fill": {
              "color": "#EBF0F8"
             },
             "line": {
              "color": "white"
             }
            },
            "header": {
             "fill": {
              "color": "#C8D4E3"
             },
             "line": {
              "color": "white"
             }
            },
            "type": "table"
           }
          ]
         },
         "layout": {
          "annotationdefaults": {
           "arrowcolor": "#2a3f5f",
           "arrowhead": 0,
           "arrowwidth": 1
          },
          "autotypenumbers": "strict",
          "coloraxis": {
           "colorbar": {
            "outlinewidth": 0,
            "ticks": ""
           }
          },
          "colorscale": {
           "diverging": [
            [
             0,
             "#8e0152"
            ],
            [
             0.1,
             "#c51b7d"
            ],
            [
             0.2,
             "#de77ae"
            ],
            [
             0.3,
             "#f1b6da"
            ],
            [
             0.4,
             "#fde0ef"
            ],
            [
             0.5,
             "#f7f7f7"
            ],
            [
             0.6,
             "#e6f5d0"
            ],
            [
             0.7,
             "#b8e186"
            ],
            [
             0.8,
             "#7fbc41"
            ],
            [
             0.9,
             "#4d9221"
            ],
            [
             1,
             "#276419"
            ]
           ],
           "sequential": [
            [
             0,
             "#0d0887"
            ],
            [
             0.1111111111111111,
             "#46039f"
            ],
            [
             0.2222222222222222,
             "#7201a8"
            ],
            [
             0.3333333333333333,
             "#9c179e"
            ],
            [
             0.4444444444444444,
             "#bd3786"
            ],
            [
             0.5555555555555556,
             "#d8576b"
            ],
            [
             0.6666666666666666,
             "#ed7953"
            ],
            [
             0.7777777777777778,
             "#fb9f3a"
            ],
            [
             0.8888888888888888,
             "#fdca26"
            ],
            [
             1,
             "#f0f921"
            ]
           ],
           "sequentialminus": [
            [
             0,
             "#0d0887"
            ],
            [
             0.1111111111111111,
             "#46039f"
            ],
            [
             0.2222222222222222,
             "#7201a8"
            ],
            [
             0.3333333333333333,
             "#9c179e"
            ],
            [
             0.4444444444444444,
             "#bd3786"
            ],
            [
             0.5555555555555556,
             "#d8576b"
            ],
            [
             0.6666666666666666,
             "#ed7953"
            ],
            [
             0.7777777777777778,
             "#fb9f3a"
            ],
            [
             0.8888888888888888,
             "#fdca26"
            ],
            [
             1,
             "#f0f921"
            ]
           ]
          },
          "colorway": [
           "#636efa",
           "#EF553B",
           "#00cc96",
           "#ab63fa",
           "#FFA15A",
           "#19d3f3",
           "#FF6692",
           "#B6E880",
           "#FF97FF",
           "#FECB52"
          ],
          "font": {
           "color": "#2a3f5f"
          },
          "geo": {
           "bgcolor": "white",
           "lakecolor": "white",
           "landcolor": "#E5ECF6",
           "showlakes": true,
           "showland": true,
           "subunitcolor": "white"
          },
          "hoverlabel": {
           "align": "left"
          },
          "hovermode": "closest",
          "mapbox": {
           "style": "light"
          },
          "paper_bgcolor": "white",
          "plot_bgcolor": "#E5ECF6",
          "polar": {
           "angularaxis": {
            "gridcolor": "white",
            "linecolor": "white",
            "ticks": ""
           },
           "bgcolor": "#E5ECF6",
           "radialaxis": {
            "gridcolor": "white",
            "linecolor": "white",
            "ticks": ""
           }
          },
          "scene": {
           "xaxis": {
            "backgroundcolor": "#E5ECF6",
            "gridcolor": "white",
            "gridwidth": 2,
            "linecolor": "white",
            "showbackground": true,
            "ticks": "",
            "zerolinecolor": "white"
           },
           "yaxis": {
            "backgroundcolor": "#E5ECF6",
            "gridcolor": "white",
            "gridwidth": 2,
            "linecolor": "white",
            "showbackground": true,
            "ticks": "",
            "zerolinecolor": "white"
           },
           "zaxis": {
            "backgroundcolor": "#E5ECF6",
            "gridcolor": "white",
            "gridwidth": 2,
            "linecolor": "white",
            "showbackground": true,
            "ticks": "",
            "zerolinecolor": "white"
           }
          },
          "shapedefaults": {
           "line": {
            "color": "#2a3f5f"
           }
          },
          "ternary": {
           "aaxis": {
            "gridcolor": "white",
            "linecolor": "white",
            "ticks": ""
           },
           "baxis": {
            "gridcolor": "white",
            "linecolor": "white",
            "ticks": ""
           },
           "bgcolor": "#E5ECF6",
           "caxis": {
            "gridcolor": "white",
            "linecolor": "white",
            "ticks": ""
           }
          },
          "title": {
           "x": 0.05
          },
          "xaxis": {
           "automargin": true,
           "gridcolor": "white",
           "linecolor": "white",
           "ticks": "",
           "title": {
            "standoff": 15
           },
           "zerolinecolor": "white",
           "zerolinewidth": 2
          },
          "yaxis": {
           "automargin": true,
           "gridcolor": "white",
           "linecolor": "white",
           "ticks": "",
           "title": {
            "standoff": 15
           },
           "zerolinecolor": "white",
           "zerolinewidth": 2
          }
         }
        }
       }
      }
     },
     "metadata": {},
     "output_type": "display_data"
    }
   ],
   "source": [
    "import plotly.graph_objects as go\n",
    "\n",
    "fig = go.Figure(data=[go.Sankey(\n",
    "    arrangement='snap',\n",
    "    node=dict(\n",
    "        pad=15,\n",
    "        thickness=10,\n",
    "        line=dict(color=\"green\", width=0.5),\n",
    "        label=list(fl_index_mapping.keys()),\n",
    "        customdata=list(fl_index_mapping.keys()),\n",
    "        hovertemplate='%{customdata} has total value %{value}<extra></extra>',\n",
    "        color=list(fl_color_mapping.values())\n",
    "    ),\n",
    "    link=dict(\n",
    "\n",
    "        arrowlen=0,\n",
    "        source=links[0],\n",
    "        target=links[1],\n",
    "        value=links[2],\n",
    "        hovertemplate=' ',\n",
    "    ))])\n",
    "\n",
    "fig.update_layout(font_size=20)"
   ]
  },
  {
   "cell_type": "markdown",
   "metadata": {},
   "source": [
    "### Marking at 10FPS\n"
   ]
  },
  {
   "cell_type": "code",
   "execution_count": 107,
   "metadata": {},
   "outputs": [
    {
     "data": {
      "text/plain": [
       "<Axes: xlabel='fps', ylabel='driving_score_error'>"
      ]
     },
     "execution_count": 107,
     "metadata": {},
     "output_type": "execute_result"
    },
    {
     "data": {
      "image/png": "[encoded data removed]",
      "text/plain": [
       "<Figure size 640x480 with 1 Axes>"
      ]
     },
     "metadata": {},
     "output_type": "display_data"
    }
   ],
   "source": [
    "fps10_labels = data.xs(\"10\")['label'].rename(\"10FPS_label\")\n",
    "\n",
    "\n",
    "sns.stripplot(nonflakey.join(fps10_labels), x='fps', y='driving_score_error', hue_order=['risky', 'moderate', 'safe'],\n",
    "              hue='10FPS_label',)"
   ]
  },
  {
   "cell_type": "markdown",
   "metadata": {},
   "source": [
    "### Identifying Safe scenarios\n"
   ]
  },
  {
   "cell_type": "markdown",
   "metadata": {},
   "source": [
    "#### Indexes of safe scenarios\n"
   ]
  },
  {
   "cell_type": "code",
   "execution_count": 108,
   "metadata": {},
   "outputs": [
    {
     "data": {
      "text/plain": [
       "[24,\n",
       " 25,\n",
       " 30,\n",
       " 31,\n",
       " 35,\n",
       " 42,\n",
       " 43,\n",
       " 47,\n",
       " 66,\n",
       " 67,\n",
       " 69,\n",
       " 71,\n",
       " 85,\n",
       " 86,\n",
       " 91,\n",
       " 93,\n",
       " 102,\n",
       " 103,\n",
       " 104,\n",
       " 107,\n",
       " 112]"
      ]
     },
     "execution_count": 108,
     "metadata": {},
     "output_type": "execute_result"
    }
   ],
   "source": [
    "from functools import reduce\n",
    "\n",
    "safe_routes = []\n",
    "for fps, batch in data.groupby('fps', as_index=False):\n",
    "\n",
    "    mask = batch['label'] == 'safe'\n",
    "    safe_routes_for_fps = batch[mask].reset_index()['route_index'].to_list()\n",
    "    safe_routes.append(safe_routes_for_fps)\n",
    "\n",
    "\n",
    "def common_elements(x: list, y: list):\n",
    "    return list(set(x).intersection(y))\n",
    "\n",
    "\n",
    "safe_routes = reduce(common_elements, safe_routes)\n",
    "safe_routes"
   ]
  },
  {
   "cell_type": "code",
   "execution_count": 109,
   "metadata": {},
   "outputs": [
    {
     "name": "stdout",
     "output_type": "stream",
     "text": [
      "<class 'pandas.core.frame.DataFrame'>\n",
      "Index: 21 entries, 24 to 112\n",
      "Data columns (total 19 columns):\n",
      " #   Column                             Non-Null Count  Dtype  \n",
      "---  ------                             --------------  -----  \n",
      " 0   route_id                           21 non-null     object \n",
      " 1   status                             21 non-null     object \n",
      " 2   infractions.collisions_layout      21 non-null     object \n",
      " 3   infractions.collisions_pedestrian  21 non-null     object \n",
      " 4   infractions.collisions_vehicle     21 non-null     object \n",
      " 5   infractions.outside_route_lanes    21 non-null     object \n",
      " 6   infractions.red_light              21 non-null     object \n",
      " 7   infractions.route_dev              21 non-null     object \n",
      " 8   infractions.route_timeout          21 non-null     object \n",
      " 9   infractions.stop_infraction        21 non-null     object \n",
      " 10  infractions.vehicle_blocked        21 non-null     object \n",
      " 11  duration_game                      21 non-null     float64\n",
      " 12  duration_system                    21 non-null     float64\n",
      " 13  route_length                       21 non-null     float64\n",
      " 14  score_composed                     21 non-null     float64\n",
      " 15  score_penalty                      21 non-null     float64\n",
      " 16  score_route                        21 non-null     float64\n",
      " 17  driving_score                      21 non-null     float64\n",
      " 18  driving_score_error                21 non-null     float64\n",
      "dtypes: float64(8), object(11)\n",
      "memory usage: 3.3+ KB\n"
     ]
    }
   ],
   "source": [
    "safe_data = df.xs(\"10\", level='fps')\n",
    "safe_data = safe_data[safe_data.index.get_level_values(\n",
    "    'route_index').isin(safe_routes)]\n",
    "\n",
    "to_watch = safe_data.xs(0, level='rep').xs(\"True\", level='highquality')\n",
    "to_watch.info()"
   ]
  },
  {
   "cell_type": "code",
   "execution_count": 110,
   "metadata": {},
   "outputs": [
    {
     "data": {
      "text/html": [
       "<div>\n",
       "<style scoped>\n",
       "    .dataframe tbody tr th:only-of-type {\n",
       "        vertical-align: middle;\n",
       "    }\n",
       "\n",
       "    .dataframe tbody tr th {\n",
       "        vertical-align: top;\n",
       "    }\n",
       "\n",
       "    .dataframe thead th {\n",
       "        text-align: right;\n",
       "    }\n",
       "</style>\n",
       "<table border=\"1\" class=\"dataframe\">\n",
       "  <thead>\n",
       "    <tr style=\"text-align: right;\">\n",
       "      <th></th>\n",
       "      <th>status</th>\n",
       "      <th>driving_score</th>\n",
       "      <th>driving_score_error</th>\n",
       "    </tr>\n",
       "    <tr>\n",
       "      <th>route_index</th>\n",
       "      <th></th>\n",
       "      <th></th>\n",
       "      <th></th>\n",
       "    </tr>\n",
       "  </thead>\n",
       "  <tbody>\n",
       "    <tr>\n",
       "      <th>24</th>\n",
       "      <td>Completed</td>\n",
       "      <td>1.000000</td>\n",
       "      <td>0.000000</td>\n",
       "    </tr>\n",
       "    <tr>\n",
       "      <th>25</th>\n",
       "      <td>Completed</td>\n",
       "      <td>1.000000</td>\n",
       "      <td>0.000703</td>\n",
       "    </tr>\n",
       "    <tr>\n",
       "      <th>30</th>\n",
       "      <td>Completed</td>\n",
       "      <td>1.000000</td>\n",
       "      <td>0.000000</td>\n",
       "    </tr>\n",
       "    <tr>\n",
       "      <th>31</th>\n",
       "      <td>Failed - Agent got blocked</td>\n",
       "      <td>0.647951</td>\n",
       "      <td>0.000000</td>\n",
       "    </tr>\n",
       "    <tr>\n",
       "      <th>35</th>\n",
       "      <td>Completed</td>\n",
       "      <td>1.000000</td>\n",
       "      <td>0.000000</td>\n",
       "    </tr>\n",
       "    <tr>\n",
       "      <th>42</th>\n",
       "      <td>Completed</td>\n",
       "      <td>1.000000</td>\n",
       "      <td>0.000000</td>\n",
       "    </tr>\n",
       "    <tr>\n",
       "      <th>43</th>\n",
       "      <td>Failed - Agent got blocked</td>\n",
       "      <td>0.520909</td>\n",
       "      <td>0.000000</td>\n",
       "    </tr>\n",
       "    <tr>\n",
       "      <th>47</th>\n",
       "      <td>Completed</td>\n",
       "      <td>1.000000</td>\n",
       "      <td>0.000000</td>\n",
       "    </tr>\n",
       "    <tr>\n",
       "      <th>66</th>\n",
       "      <td>Completed</td>\n",
       "      <td>1.000000</td>\n",
       "      <td>0.000000</td>\n",
       "    </tr>\n",
       "    <tr>\n",
       "      <th>67</th>\n",
       "      <td>Completed</td>\n",
       "      <td>1.000000</td>\n",
       "      <td>0.000000</td>\n",
       "    </tr>\n",
       "    <tr>\n",
       "      <th>69</th>\n",
       "      <td>Failed - Agent got blocked</td>\n",
       "      <td>0.004505</td>\n",
       "      <td>0.000000</td>\n",
       "    </tr>\n",
       "    <tr>\n",
       "      <th>71</th>\n",
       "      <td>Failed - Agent got blocked</td>\n",
       "      <td>0.158114</td>\n",
       "      <td>0.000000</td>\n",
       "    </tr>\n",
       "    <tr>\n",
       "      <th>85</th>\n",
       "      <td>Completed</td>\n",
       "      <td>1.000000</td>\n",
       "      <td>0.000000</td>\n",
       "    </tr>\n",
       "    <tr>\n",
       "      <th>86</th>\n",
       "      <td>Failed - Agent got blocked</td>\n",
       "      <td>0.572856</td>\n",
       "      <td>0.000519</td>\n",
       "    </tr>\n",
       "    <tr>\n",
       "      <th>91</th>\n",
       "      <td>Failed - Agent timed out</td>\n",
       "      <td>0.204391</td>\n",
       "      <td>0.005595</td>\n",
       "    </tr>\n",
       "    <tr>\n",
       "      <th>93</th>\n",
       "      <td>Failed - Agent got blocked</td>\n",
       "      <td>0.485177</td>\n",
       "      <td>0.000492</td>\n",
       "    </tr>\n",
       "    <tr>\n",
       "      <th>102</th>\n",
       "      <td>Completed</td>\n",
       "      <td>1.000000</td>\n",
       "      <td>0.000000</td>\n",
       "    </tr>\n",
       "    <tr>\n",
       "      <th>103</th>\n",
       "      <td>Completed</td>\n",
       "      <td>1.000000</td>\n",
       "      <td>0.000000</td>\n",
       "    </tr>\n",
       "    <tr>\n",
       "      <th>104</th>\n",
       "      <td>Failed - Agent got blocked</td>\n",
       "      <td>0.140986</td>\n",
       "      <td>0.000000</td>\n",
       "    </tr>\n",
       "    <tr>\n",
       "      <th>107</th>\n",
       "      <td>Completed</td>\n",
       "      <td>1.000000</td>\n",
       "      <td>0.000000</td>\n",
       "    </tr>\n",
       "    <tr>\n",
       "      <th>112</th>\n",
       "      <td>Completed</td>\n",
       "      <td>1.000000</td>\n",
       "      <td>0.000000</td>\n",
       "    </tr>\n",
       "  </tbody>\n",
       "</table>\n",
       "</div>"
      ],
      "text/plain": [
       "                                 status  driving_score  driving_score_error\n",
       "route_index                                                                \n",
       "24                            Completed       1.000000             0.000000\n",
       "25                            Completed       1.000000             0.000703\n",
       "30                            Completed       1.000000             0.000000\n",
       "31           Failed - Agent got blocked       0.647951             0.000000\n",
       "35                            Completed       1.000000             0.000000\n",
       "42                            Completed       1.000000             0.000000\n",
       "43           Failed - Agent got blocked       0.520909             0.000000\n",
       "47                            Completed       1.000000             0.000000\n",
       "66                            Completed       1.000000             0.000000\n",
       "67                            Completed       1.000000             0.000000\n",
       "69           Failed - Agent got blocked       0.004505             0.000000\n",
       "71           Failed - Agent got blocked       0.158114             0.000000\n",
       "85                            Completed       1.000000             0.000000\n",
       "86           Failed - Agent got blocked       0.572856             0.000519\n",
       "91             Failed - Agent timed out       0.204391             0.005595\n",
       "93           Failed - Agent got blocked       0.485177             0.000492\n",
       "102                           Completed       1.000000             0.000000\n",
       "103                           Completed       1.000000             0.000000\n",
       "104          Failed - Agent got blocked       0.140986             0.000000\n",
       "107                           Completed       1.000000             0.000000\n",
       "112                           Completed       1.000000             0.000000"
      ]
     },
     "execution_count": 110,
     "metadata": {},
     "output_type": "execute_result"
    }
   ],
   "source": [
    "to_watch[['status', 'driving_score',  'driving_score_error']]"
   ]
  },
  {
   "cell_type": "code",
   "execution_count": 111,
   "metadata": {},
   "outputs": [
    {
     "data": {
      "text/html": [
       "<div>\n",
       "<style scoped>\n",
       "    .dataframe tbody tr th:only-of-type {\n",
       "        vertical-align: middle;\n",
       "    }\n",
       "\n",
       "    .dataframe tbody tr th {\n",
       "        vertical-align: top;\n",
       "    }\n",
       "\n",
       "    .dataframe thead th {\n",
       "        text-align: right;\n",
       "    }\n",
       "</style>\n",
       "<table border=\"1\" class=\"dataframe\">\n",
       "  <thead>\n",
       "    <tr style=\"text-align: right;\">\n",
       "      <th></th>\n",
       "      <th>route_id</th>\n",
       "      <th>status</th>\n",
       "      <th>infractions.collisions_layout</th>\n",
       "      <th>infractions.collisions_pedestrian</th>\n",
       "      <th>infractions.collisions_vehicle</th>\n",
       "      <th>infractions.outside_route_lanes</th>\n",
       "      <th>infractions.red_light</th>\n",
       "      <th>infractions.route_dev</th>\n",
       "      <th>infractions.route_timeout</th>\n",
       "      <th>infractions.stop_infraction</th>\n",
       "      <th>infractions.vehicle_blocked</th>\n",
       "      <th>duration_game</th>\n",
       "      <th>duration_system</th>\n",
       "      <th>route_length</th>\n",
       "      <th>score_composed</th>\n",
       "      <th>score_penalty</th>\n",
       "      <th>score_route</th>\n",
       "      <th>driving_score</th>\n",
       "      <th>driving_score_error</th>\n",
       "    </tr>\n",
       "    <tr>\n",
       "      <th>route_index</th>\n",
       "      <th></th>\n",
       "      <th></th>\n",
       "      <th></th>\n",
       "      <th></th>\n",
       "      <th></th>\n",
       "      <th></th>\n",
       "      <th></th>\n",
       "      <th></th>\n",
       "      <th></th>\n",
       "      <th></th>\n",
       "      <th></th>\n",
       "      <th></th>\n",
       "      <th></th>\n",
       "      <th></th>\n",
       "      <th></th>\n",
       "      <th></th>\n",
       "      <th></th>\n",
       "      <th></th>\n",
       "      <th></th>\n",
       "    </tr>\n",
       "  </thead>\n",
       "  <tbody>\n",
       "    <tr>\n",
       "      <th>24</th>\n",
       "      <td>RouteScenario_24</td>\n",
       "      <td>Completed</td>\n",
       "      <td>[]</td>\n",
       "      <td>[]</td>\n",
       "      <td>[]</td>\n",
       "      <td>[]</td>\n",
       "      <td>[]</td>\n",
       "      <td>[]</td>\n",
       "      <td>[]</td>\n",
       "      <td>[]</td>\n",
       "      <td>[]</td>\n",
       "      <td>62.100001</td>\n",
       "      <td>151.234752</td>\n",
       "      <td>345.257465</td>\n",
       "      <td>100.000000</td>\n",
       "      <td>1.0</td>\n",
       "      <td>100.000000</td>\n",
       "      <td>1.000000</td>\n",
       "      <td>0.000000</td>\n",
       "    </tr>\n",
       "    <tr>\n",
       "      <th>25</th>\n",
       "      <td>RouteScenario_25</td>\n",
       "      <td>Completed</td>\n",
       "      <td>[]</td>\n",
       "      <td>[]</td>\n",
       "      <td>[]</td>\n",
       "      <td>[]</td>\n",
       "      <td>[]</td>\n",
       "      <td>[]</td>\n",
       "      <td>[]</td>\n",
       "      <td>[]</td>\n",
       "      <td>[]</td>\n",
       "      <td>92.900001</td>\n",
       "      <td>232.032916</td>\n",
       "      <td>434.280454</td>\n",
       "      <td>100.000000</td>\n",
       "      <td>1.0</td>\n",
       "      <td>100.000000</td>\n",
       "      <td>1.000000</td>\n",
       "      <td>0.000703</td>\n",
       "    </tr>\n",
       "    <tr>\n",
       "      <th>30</th>\n",
       "      <td>RouteScenario_30</td>\n",
       "      <td>Completed</td>\n",
       "      <td>[]</td>\n",
       "      <td>[]</td>\n",
       "      <td>[]</td>\n",
       "      <td>[]</td>\n",
       "      <td>[]</td>\n",
       "      <td>[]</td>\n",
       "      <td>[]</td>\n",
       "      <td>[]</td>\n",
       "      <td>[]</td>\n",
       "      <td>127.600002</td>\n",
       "      <td>309.190512</td>\n",
       "      <td>650.671267</td>\n",
       "      <td>100.000000</td>\n",
       "      <td>1.0</td>\n",
       "      <td>100.000000</td>\n",
       "      <td>1.000000</td>\n",
       "      <td>0.000000</td>\n",
       "    </tr>\n",
       "    <tr>\n",
       "      <th>31</th>\n",
       "      <td>RouteScenario_31</td>\n",
       "      <td>Failed - Agent got blocked</td>\n",
       "      <td>[]</td>\n",
       "      <td>[]</td>\n",
       "      <td>[]</td>\n",
       "      <td>[]</td>\n",
       "      <td>[]</td>\n",
       "      <td>[]</td>\n",
       "      <td>[]</td>\n",
       "      <td>[]</td>\n",
       "      <td>[Agent got blocked at (x=16.012, y=111.547, z=...</td>\n",
       "      <td>299.300004</td>\n",
       "      <td>820.951343</td>\n",
       "      <td>820.128992</td>\n",
       "      <td>64.795140</td>\n",
       "      <td>1.0</td>\n",
       "      <td>64.795140</td>\n",
       "      <td>0.647951</td>\n",
       "      <td>0.000000</td>\n",
       "    </tr>\n",
       "    <tr>\n",
       "      <th>35</th>\n",
       "      <td>RouteScenario_35</td>\n",
       "      <td>Completed</td>\n",
       "      <td>[]</td>\n",
       "      <td>[]</td>\n",
       "      <td>[]</td>\n",
       "      <td>[]</td>\n",
       "      <td>[]</td>\n",
       "      <td>[]</td>\n",
       "      <td>[]</td>\n",
       "      <td>[]</td>\n",
       "      <td>[]</td>\n",
       "      <td>50.500001</td>\n",
       "      <td>133.660819</td>\n",
       "      <td>95.103699</td>\n",
       "      <td>100.000000</td>\n",
       "      <td>1.0</td>\n",
       "      <td>100.000000</td>\n",
       "      <td>1.000000</td>\n",
       "      <td>0.000000</td>\n",
       "    </tr>\n",
       "    <tr>\n",
       "      <th>42</th>\n",
       "      <td>RouteScenario_42</td>\n",
       "      <td>Completed</td>\n",
       "      <td>[]</td>\n",
       "      <td>[]</td>\n",
       "      <td>[]</td>\n",
       "      <td>[]</td>\n",
       "      <td>[]</td>\n",
       "      <td>[]</td>\n",
       "      <td>[]</td>\n",
       "      <td>[]</td>\n",
       "      <td>[]</td>\n",
       "      <td>86.600001</td>\n",
       "      <td>207.776853</td>\n",
       "      <td>373.908287</td>\n",
       "      <td>100.000000</td>\n",
       "      <td>1.0</td>\n",
       "      <td>100.000000</td>\n",
       "      <td>1.000000</td>\n",
       "      <td>0.000000</td>\n",
       "    </tr>\n",
       "    <tr>\n",
       "      <th>43</th>\n",
       "      <td>RouteScenario_43</td>\n",
       "      <td>Failed - Agent got blocked</td>\n",
       "      <td>[]</td>\n",
       "      <td>[]</td>\n",
       "      <td>[]</td>\n",
       "      <td>[]</td>\n",
       "      <td>[]</td>\n",
       "      <td>[]</td>\n",
       "      <td>[]</td>\n",
       "      <td>[]</td>\n",
       "      <td>[Agent got blocked at (x=15.937, y=100.106, z=...</td>\n",
       "      <td>261.800004</td>\n",
       "      <td>710.098841</td>\n",
       "      <td>590.323961</td>\n",
       "      <td>52.090869</td>\n",
       "      <td>1.0</td>\n",
       "      <td>52.090869</td>\n",
       "      <td>0.520909</td>\n",
       "      <td>0.000000</td>\n",
       "    </tr>\n",
       "    <tr>\n",
       "      <th>47</th>\n",
       "      <td>RouteScenario_47</td>\n",
       "      <td>Completed</td>\n",
       "      <td>[]</td>\n",
       "      <td>[]</td>\n",
       "      <td>[]</td>\n",
       "      <td>[]</td>\n",
       "      <td>[]</td>\n",
       "      <td>[]</td>\n",
       "      <td>[]</td>\n",
       "      <td>[]</td>\n",
       "      <td>[]</td>\n",
       "      <td>110.800002</td>\n",
       "      <td>250.157395</td>\n",
       "      <td>525.504214</td>\n",
       "      <td>100.000000</td>\n",
       "      <td>1.0</td>\n",
       "      <td>100.000000</td>\n",
       "      <td>1.000000</td>\n",
       "      <td>0.000000</td>\n",
       "    </tr>\n",
       "    <tr>\n",
       "      <th>66</th>\n",
       "      <td>RouteScenario_66</td>\n",
       "      <td>Completed</td>\n",
       "      <td>[]</td>\n",
       "      <td>[]</td>\n",
       "      <td>[]</td>\n",
       "      <td>[]</td>\n",
       "      <td>[]</td>\n",
       "      <td>[]</td>\n",
       "      <td>[]</td>\n",
       "      <td>[]</td>\n",
       "      <td>[]</td>\n",
       "      <td>60.600001</td>\n",
       "      <td>142.878523</td>\n",
       "      <td>277.033432</td>\n",
       "      <td>100.000000</td>\n",
       "      <td>1.0</td>\n",
       "      <td>100.000000</td>\n",
       "      <td>1.000000</td>\n",
       "      <td>0.000000</td>\n",
       "    </tr>\n",
       "    <tr>\n",
       "      <th>67</th>\n",
       "      <td>RouteScenario_67</td>\n",
       "      <td>Completed</td>\n",
       "      <td>[]</td>\n",
       "      <td>[]</td>\n",
       "      <td>[]</td>\n",
       "      <td>[]</td>\n",
       "      <td>[]</td>\n",
       "      <td>[]</td>\n",
       "      <td>[]</td>\n",
       "      <td>[]</td>\n",
       "      <td>[]</td>\n",
       "      <td>23.600000</td>\n",
       "      <td>53.860284</td>\n",
       "      <td>78.292680</td>\n",
       "      <td>100.000000</td>\n",
       "      <td>1.0</td>\n",
       "      <td>100.000000</td>\n",
       "      <td>1.000000</td>\n",
       "      <td>0.000000</td>\n",
       "    </tr>\n",
       "    <tr>\n",
       "      <th>69</th>\n",
       "      <td>RouteScenario_69</td>\n",
       "      <td>Failed - Agent got blocked</td>\n",
       "      <td>[]</td>\n",
       "      <td>[]</td>\n",
       "      <td>[]</td>\n",
       "      <td>[]</td>\n",
       "      <td>[]</td>\n",
       "      <td>[]</td>\n",
       "      <td>[]</td>\n",
       "      <td>[]</td>\n",
       "      <td>[Agent got blocked at (x=-16.196, y=-236.123, ...</td>\n",
       "      <td>183.100003</td>\n",
       "      <td>427.204217</td>\n",
       "      <td>509.873441</td>\n",
       "      <td>0.450533</td>\n",
       "      <td>1.0</td>\n",
       "      <td>0.450533</td>\n",
       "      <td>0.004505</td>\n",
       "      <td>0.000000</td>\n",
       "    </tr>\n",
       "    <tr>\n",
       "      <th>71</th>\n",
       "      <td>RouteScenario_71</td>\n",
       "      <td>Failed - Agent got blocked</td>\n",
       "      <td>[]</td>\n",
       "      <td>[]</td>\n",
       "      <td>[]</td>\n",
       "      <td>[]</td>\n",
       "      <td>[]</td>\n",
       "      <td>[]</td>\n",
       "      <td>[]</td>\n",
       "      <td>[]</td>\n",
       "      <td>[Agent got blocked at (x=15.687, y=89.042, z=0...</td>\n",
       "      <td>319.900005</td>\n",
       "      <td>864.237203</td>\n",
       "      <td>588.879919</td>\n",
       "      <td>15.811425</td>\n",
       "      <td>1.0</td>\n",
       "      <td>15.811425</td>\n",
       "      <td>0.158114</td>\n",
       "      <td>0.000000</td>\n",
       "    </tr>\n",
       "    <tr>\n",
       "      <th>85</th>\n",
       "      <td>RouteScenario_85</td>\n",
       "      <td>Completed</td>\n",
       "      <td>[]</td>\n",
       "      <td>[]</td>\n",
       "      <td>[]</td>\n",
       "      <td>[]</td>\n",
       "      <td>[]</td>\n",
       "      <td>[]</td>\n",
       "      <td>[]</td>\n",
       "      <td>[]</td>\n",
       "      <td>[]</td>\n",
       "      <td>131.700002</td>\n",
       "      <td>323.276798</td>\n",
       "      <td>632.716050</td>\n",
       "      <td>100.000000</td>\n",
       "      <td>1.0</td>\n",
       "      <td>100.000000</td>\n",
       "      <td>1.000000</td>\n",
       "      <td>0.000000</td>\n",
       "    </tr>\n",
       "    <tr>\n",
       "      <th>86</th>\n",
       "      <td>RouteScenario_86</td>\n",
       "      <td>Failed - Agent got blocked</td>\n",
       "      <td>[]</td>\n",
       "      <td>[]</td>\n",
       "      <td>[]</td>\n",
       "      <td>[]</td>\n",
       "      <td>[]</td>\n",
       "      <td>[]</td>\n",
       "      <td>[]</td>\n",
       "      <td>[]</td>\n",
       "      <td>[Agent got blocked at (x=15.985, y=99.889, z=0...</td>\n",
       "      <td>284.800004</td>\n",
       "      <td>782.392085</td>\n",
       "      <td>754.023891</td>\n",
       "      <td>57.285558</td>\n",
       "      <td>1.0</td>\n",
       "      <td>57.285558</td>\n",
       "      <td>0.572856</td>\n",
       "      <td>0.000519</td>\n",
       "    </tr>\n",
       "    <tr>\n",
       "      <th>91</th>\n",
       "      <td>RouteScenario_91</td>\n",
       "      <td>Failed - Agent timed out</td>\n",
       "      <td>[]</td>\n",
       "      <td>[]</td>\n",
       "      <td>[]</td>\n",
       "      <td>[]</td>\n",
       "      <td>[]</td>\n",
       "      <td>[]</td>\n",
       "      <td>[Route timeout.]</td>\n",
       "      <td>[]</td>\n",
       "      <td>[]</td>\n",
       "      <td>147.100002</td>\n",
       "      <td>410.357386</td>\n",
       "      <td>174.225677</td>\n",
       "      <td>20.439076</td>\n",
       "      <td>1.0</td>\n",
       "      <td>20.439076</td>\n",
       "      <td>0.204391</td>\n",
       "      <td>0.005595</td>\n",
       "    </tr>\n",
       "    <tr>\n",
       "      <th>93</th>\n",
       "      <td>RouteScenario_93</td>\n",
       "      <td>Failed - Agent got blocked</td>\n",
       "      <td>[]</td>\n",
       "      <td>[]</td>\n",
       "      <td>[]</td>\n",
       "      <td>[]</td>\n",
       "      <td>[]</td>\n",
       "      <td>[]</td>\n",
       "      <td>[]</td>\n",
       "      <td>[]</td>\n",
       "      <td>[Agent got blocked at (x=196.636, y=-24.655, z...</td>\n",
       "      <td>217.400003</td>\n",
       "      <td>510.787334</td>\n",
       "      <td>407.436309</td>\n",
       "      <td>48.517705</td>\n",
       "      <td>1.0</td>\n",
       "      <td>48.517705</td>\n",
       "      <td>0.485177</td>\n",
       "      <td>0.000492</td>\n",
       "    </tr>\n",
       "    <tr>\n",
       "      <th>102</th>\n",
       "      <td>RouteScenario_102</td>\n",
       "      <td>Completed</td>\n",
       "      <td>[]</td>\n",
       "      <td>[]</td>\n",
       "      <td>[]</td>\n",
       "      <td>[]</td>\n",
       "      <td>[]</td>\n",
       "      <td>[]</td>\n",
       "      <td>[]</td>\n",
       "      <td>[]</td>\n",
       "      <td>[]</td>\n",
       "      <td>91.400001</td>\n",
       "      <td>214.582834</td>\n",
       "      <td>504.359110</td>\n",
       "      <td>100.000000</td>\n",
       "      <td>1.0</td>\n",
       "      <td>100.000000</td>\n",
       "      <td>1.000000</td>\n",
       "      <td>0.000000</td>\n",
       "    </tr>\n",
       "    <tr>\n",
       "      <th>103</th>\n",
       "      <td>RouteScenario_103</td>\n",
       "      <td>Completed</td>\n",
       "      <td>[]</td>\n",
       "      <td>[]</td>\n",
       "      <td>[]</td>\n",
       "      <td>[]</td>\n",
       "      <td>[]</td>\n",
       "      <td>[]</td>\n",
       "      <td>[]</td>\n",
       "      <td>[]</td>\n",
       "      <td>[]</td>\n",
       "      <td>27.000000</td>\n",
       "      <td>65.231005</td>\n",
       "      <td>140.487823</td>\n",
       "      <td>100.000000</td>\n",
       "      <td>1.0</td>\n",
       "      <td>100.000000</td>\n",
       "      <td>1.000000</td>\n",
       "      <td>0.000000</td>\n",
       "    </tr>\n",
       "    <tr>\n",
       "      <th>104</th>\n",
       "      <td>RouteScenario_104</td>\n",
       "      <td>Failed - Agent got blocked</td>\n",
       "      <td>[]</td>\n",
       "      <td>[]</td>\n",
       "      <td>[]</td>\n",
       "      <td>[]</td>\n",
       "      <td>[]</td>\n",
       "      <td>[]</td>\n",
       "      <td>[]</td>\n",
       "      <td>[]</td>\n",
       "      <td>[Agent got blocked at (x=-240.095, y=-47.164, ...</td>\n",
       "      <td>197.400003</td>\n",
       "      <td>393.964898</td>\n",
       "      <td>574.836414</td>\n",
       "      <td>14.098599</td>\n",
       "      <td>1.0</td>\n",
       "      <td>14.098599</td>\n",
       "      <td>0.140986</td>\n",
       "      <td>0.000000</td>\n",
       "    </tr>\n",
       "    <tr>\n",
       "      <th>107</th>\n",
       "      <td>RouteScenario_107</td>\n",
       "      <td>Completed</td>\n",
       "      <td>[]</td>\n",
       "      <td>[]</td>\n",
       "      <td>[]</td>\n",
       "      <td>[]</td>\n",
       "      <td>[]</td>\n",
       "      <td>[]</td>\n",
       "      <td>[]</td>\n",
       "      <td>[]</td>\n",
       "      <td>[]</td>\n",
       "      <td>43.800001</td>\n",
       "      <td>109.813382</td>\n",
       "      <td>120.259836</td>\n",
       "      <td>100.000000</td>\n",
       "      <td>1.0</td>\n",
       "      <td>100.000000</td>\n",
       "      <td>1.000000</td>\n",
       "      <td>0.000000</td>\n",
       "    </tr>\n",
       "    <tr>\n",
       "      <th>112</th>\n",
       "      <td>RouteScenario_112</td>\n",
       "      <td>Completed</td>\n",
       "      <td>[]</td>\n",
       "      <td>[]</td>\n",
       "      <td>[]</td>\n",
       "      <td>[]</td>\n",
       "      <td>[]</td>\n",
       "      <td>[]</td>\n",
       "      <td>[]</td>\n",
       "      <td>[]</td>\n",
       "      <td>[]</td>\n",
       "      <td>128.200002</td>\n",
       "      <td>300.411104</td>\n",
       "      <td>494.046002</td>\n",
       "      <td>100.000000</td>\n",
       "      <td>1.0</td>\n",
       "      <td>100.000000</td>\n",
       "      <td>1.000000</td>\n",
       "      <td>0.000000</td>\n",
       "    </tr>\n",
       "  </tbody>\n",
       "</table>\n",
       "</div>"
      ],
      "text/plain": [
       "                      route_id                      status  \\\n",
       "route_index                                                  \n",
       "24            RouteScenario_24                   Completed   \n",
       "25            RouteScenario_25                   Completed   \n",
       "30            RouteScenario_30                   Completed   \n",
       "31            RouteScenario_31  Failed - Agent got blocked   \n",
       "35            RouteScenario_35                   Completed   \n",
       "42            RouteScenario_42                   Completed   \n",
       "43            RouteScenario_43  Failed - Agent got blocked   \n",
       "47            RouteScenario_47                   Completed   \n",
       "66            RouteScenario_66                   Completed   \n",
       "67            RouteScenario_67                   Completed   \n",
       "69            RouteScenario_69  Failed - Agent got blocked   \n",
       "71            RouteScenario_71  Failed - Agent got blocked   \n",
       "85            RouteScenario_85                   Completed   \n",
       "86            RouteScenario_86  Failed - Agent got blocked   \n",
       "91            RouteScenario_91    Failed - Agent timed out   \n",
       "93            RouteScenario_93  Failed - Agent got blocked   \n",
       "102          RouteScenario_102                   Completed   \n",
       "103          RouteScenario_103                   Completed   \n",
       "104          RouteScenario_104  Failed - Agent got blocked   \n",
       "107          RouteScenario_107                   Completed   \n",
       "112          RouteScenario_112                   Completed   \n",
       "\n",
       "            infractions.collisions_layout infractions.collisions_pedestrian  \\\n",
       "route_index                                                                   \n",
       "24                                     []                                []   \n",
       "25                                     []                                []   \n",
       "30                                     []                                []   \n",
       "31                                     []                                []   \n",
       "35                                     []                                []   \n",
       "42                                     []                                []   \n",
       "43                                     []                                []   \n",
       "47                                     []                                []   \n",
       "66                                     []                                []   \n",
       "67                                     []                                []   \n",
       "69                                     []                                []   \n",
       "71                                     []                                []   \n",
       "85                                     []                                []   \n",
       "86                                     []                                []   \n",
       "91                                     []                                []   \n",
       "93                                     []                                []   \n",
       "102                                    []                                []   \n",
       "103                                    []                                []   \n",
       "104                                    []                                []   \n",
       "107                                    []                                []   \n",
       "112                                    []                                []   \n",
       "\n",
       "            infractions.collisions_vehicle infractions.outside_route_lanes  \\\n",
       "route_index                                                                  \n",
       "24                                      []                              []   \n",
       "25                                      []                              []   \n",
       "30                                      []                              []   \n",
       "31                                      []                              []   \n",
       "35                                      []                              []   \n",
       "42                                      []                              []   \n",
       "43                                      []                              []   \n",
       "47                                      []                              []   \n",
       "66                                      []                              []   \n",
       "67                                      []                              []   \n",
       "69                                      []                              []   \n",
       "71                                      []                              []   \n",
       "85                                      []                              []   \n",
       "86                                      []                              []   \n",
       "91                                      []                              []   \n",
       "93                                      []                              []   \n",
       "102                                     []                              []   \n",
       "103                                     []                              []   \n",
       "104                                     []                              []   \n",
       "107                                     []                              []   \n",
       "112                                     []                              []   \n",
       "\n",
       "            infractions.red_light infractions.route_dev  \\\n",
       "route_index                                               \n",
       "24                             []                    []   \n",
       "25                             []                    []   \n",
       "30                             []                    []   \n",
       "31                             []                    []   \n",
       "35                             []                    []   \n",
       "42                             []                    []   \n",
       "43                             []                    []   \n",
       "47                             []                    []   \n",
       "66                             []                    []   \n",
       "67                             []                    []   \n",
       "69                             []                    []   \n",
       "71                             []                    []   \n",
       "85                             []                    []   \n",
       "86                             []                    []   \n",
       "91                             []                    []   \n",
       "93                             []                    []   \n",
       "102                            []                    []   \n",
       "103                            []                    []   \n",
       "104                            []                    []   \n",
       "107                            []                    []   \n",
       "112                            []                    []   \n",
       "\n",
       "            infractions.route_timeout infractions.stop_infraction  \\\n",
       "route_index                                                         \n",
       "24                                 []                          []   \n",
       "25                                 []                          []   \n",
       "30                                 []                          []   \n",
       "31                                 []                          []   \n",
       "35                                 []                          []   \n",
       "42                                 []                          []   \n",
       "43                                 []                          []   \n",
       "47                                 []                          []   \n",
       "66                                 []                          []   \n",
       "67                                 []                          []   \n",
       "69                                 []                          []   \n",
       "71                                 []                          []   \n",
       "85                                 []                          []   \n",
       "86                                 []                          []   \n",
       "91                   [Route timeout.]                          []   \n",
       "93                                 []                          []   \n",
       "102                                []                          []   \n",
       "103                                []                          []   \n",
       "104                                []                          []   \n",
       "107                                []                          []   \n",
       "112                                []                          []   \n",
       "\n",
       "                                   infractions.vehicle_blocked  duration_game  \\\n",
       "route_index                                                                     \n",
       "24                                                          []      62.100001   \n",
       "25                                                          []      92.900001   \n",
       "30                                                          []     127.600002   \n",
       "31           [Agent got blocked at (x=16.012, y=111.547, z=...     299.300004   \n",
       "35                                                          []      50.500001   \n",
       "42                                                          []      86.600001   \n",
       "43           [Agent got blocked at (x=15.937, y=100.106, z=...     261.800004   \n",
       "47                                                          []     110.800002   \n",
       "66                                                          []      60.600001   \n",
       "67                                                          []      23.600000   \n",
       "69           [Agent got blocked at (x=-16.196, y=-236.123, ...     183.100003   \n",
       "71           [Agent got blocked at (x=15.687, y=89.042, z=0...     319.900005   \n",
       "85                                                          []     131.700002   \n",
       "86           [Agent got blocked at (x=15.985, y=99.889, z=0...     284.800004   \n",
       "91                                                          []     147.100002   \n",
       "93           [Agent got blocked at (x=196.636, y=-24.655, z...     217.400003   \n",
       "102                                                         []      91.400001   \n",
       "103                                                         []      27.000000   \n",
       "104          [Agent got blocked at (x=-240.095, y=-47.164, ...     197.400003   \n",
       "107                                                         []      43.800001   \n",
       "112                                                         []     128.200002   \n",
       "\n",
       "             duration_system  route_length  score_composed  score_penalty  \\\n",
       "route_index                                                                 \n",
       "24                151.234752    345.257465      100.000000            1.0   \n",
       "25                232.032916    434.280454      100.000000            1.0   \n",
       "30                309.190512    650.671267      100.000000            1.0   \n",
       "31                820.951343    820.128992       64.795140            1.0   \n",
       "35                133.660819     95.103699      100.000000            1.0   \n",
       "42                207.776853    373.908287      100.000000            1.0   \n",
       "43                710.098841    590.323961       52.090869            1.0   \n",
       "47                250.157395    525.504214      100.000000            1.0   \n",
       "66                142.878523    277.033432      100.000000            1.0   \n",
       "67                 53.860284     78.292680      100.000000            1.0   \n",
       "69                427.204217    509.873441        0.450533            1.0   \n",
       "71                864.237203    588.879919       15.811425            1.0   \n",
       "85                323.276798    632.716050      100.000000            1.0   \n",
       "86                782.392085    754.023891       57.285558            1.0   \n",
       "91                410.357386    174.225677       20.439076            1.0   \n",
       "93                510.787334    407.436309       48.517705            1.0   \n",
       "102               214.582834    504.359110      100.000000            1.0   \n",
       "103                65.231005    140.487823      100.000000            1.0   \n",
       "104               393.964898    574.836414       14.098599            1.0   \n",
       "107               109.813382    120.259836      100.000000            1.0   \n",
       "112               300.411104    494.046002      100.000000            1.0   \n",
       "\n",
       "             score_route  driving_score  driving_score_error  \n",
       "route_index                                                   \n",
       "24            100.000000       1.000000             0.000000  \n",
       "25            100.000000       1.000000             0.000703  \n",
       "30            100.000000       1.000000             0.000000  \n",
       "31             64.795140       0.647951             0.000000  \n",
       "35            100.000000       1.000000             0.000000  \n",
       "42            100.000000       1.000000             0.000000  \n",
       "43             52.090869       0.520909             0.000000  \n",
       "47            100.000000       1.000000             0.000000  \n",
       "66            100.000000       1.000000             0.000000  \n",
       "67            100.000000       1.000000             0.000000  \n",
       "69              0.450533       0.004505             0.000000  \n",
       "71             15.811425       0.158114             0.000000  \n",
       "85            100.000000       1.000000             0.000000  \n",
       "86             57.285558       0.572856             0.000519  \n",
       "91             20.439076       0.204391             0.005595  \n",
       "93             48.517705       0.485177             0.000492  \n",
       "102           100.000000       1.000000             0.000000  \n",
       "103           100.000000       1.000000             0.000000  \n",
       "104            14.098599       0.140986             0.000000  \n",
       "107           100.000000       1.000000             0.000000  \n",
       "112           100.000000       1.000000             0.000000  "
      ]
     },
     "execution_count": 111,
     "metadata": {},
     "output_type": "execute_result"
    }
   ],
   "source": [
    "to_watch"
   ]
  },
  {
   "cell_type": "markdown",
   "metadata": {},
   "source": [
    "## SAVE DATA\n"
   ]
  },
  {
   "cell_type": "code",
   "execution_count": 112,
   "metadata": {},
   "outputs": [],
   "source": [
    "# data.to_pickle(\"evaluation_data.pkl\")"
   ]
  },
  {
   "cell_type": "markdown",
   "metadata": {},
   "source": []
  }
 ],
 "metadata": {
  "kernelspec": {
   "display_name": "data-science",
   "language": "python",
   "name": "python3"
  },
  "language_info": {
   "codemirror_mode": {
    "name": "ipython",
    "version": 3
   },
   "file_extension": ".py",
   "mimetype": "text/x-python",
   "name": "python",
   "nbconvert_exporter": "python",
   "pygments_lexer": "ipython3",
   "version": "3.12.1"
  }
 },
 "nbformat": 4,
 "nbformat_minor": 2
}
