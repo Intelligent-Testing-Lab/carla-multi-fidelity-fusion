{
 "cells": [
  {
   "cell_type": "markdown",
   "metadata": {},
   "source": [
    "## Load data\n"
   ]
  },
  {
   "cell_type": "code",
   "execution_count": 1,
   "metadata": {},
   "outputs": [],
   "source": [
    "import json\n",
    "import glob\n",
    "import pandas as pd\n",
    "import matplotlib.pyplot as plt\n",
    "import scipy\n",
    "from pathlib import Path\n",
    "import numpy as np\n",
    "import seaborn as sns\n",
    "\n",
    "idx = pd.IndexSlice\n",
    "\n",
    "pd.set_option('display.max_rows', 500)\n",
    "pd.set_option('display.max_columns', 500)\n",
    "pd.set_option('display.width', 1000)"
   ]
  },
  {
   "cell_type": "code",
   "execution_count": 2,
   "metadata": {},
   "outputs": [],
   "source": [
    "def process_df(df):\n",
    "    record_df = pd.json_normalize(df['records'])\n",
    "    # concatenate records data\n",
    "    df = pd.concat([df, record_df],  axis=1)\n",
    "\n",
    "    # drop original column\n",
    "    df = df.drop('records', axis=1)\n",
    "\n",
    "    # drop infractions columns\n",
    "\n",
    "    # remove prefixes from column name\n",
    "    df.columns = df.columns.str.removeprefix('meta.')\n",
    "    df.columns = df.columns.str.removeprefix('scores.')\n",
    "    df['driving_score'] = df['score_composed'] / 100\n",
    "    df = df.rename(columns={\"index\": \"route_index\"})\n",
    "    df = df.set_index(['rep', 'fps', 'highquality', 'route_index'])\n",
    "    return df\n",
    "\n",
    "\n",
    "def make_df(path: str):\n",
    "    with open(path, \"r\") as f:\n",
    "\n",
    "        p = Path(path)\n",
    "\n",
    "        x = p.stem.split(\"_\")\n",
    "        data = {}\n",
    "        data['fps'] = int(x[1])\n",
    "\n",
    "        # need to do this way beacouse bool(False) == True\n",
    "        parse = {\"True\": True, \"False\": False}\n",
    "        data['highquality'] = parse[x[3]]\n",
    "\n",
    "        rep_no = [x[-1] for x in path.split('/') if 'rep' in x][0]\n",
    "        data['rep'] = int(rep_no)\n",
    "        content = json.load(f)\n",
    "        data['records'] = content['_checkpoint']['records']\n",
    "\n",
    "        df = pd.DataFrame(data)\n",
    "        return process_df(df)"
   ]
  },
  {
   "cell_type": "code",
   "execution_count": 3,
   "metadata": {},
   "outputs": [],
   "source": [
    "dfs = []\n",
    "path = \"../phase1/data/ronin/rep*/*/*.json\"\n",
    "for file_path in glob.glob(path):\n",
    "    # print(file_path)\n",
    "    dfs.append(make_df(file_path))\n",
    "\n",
    "df = pd.concat(dfs).sort_index()[['driving_score', 'duration_system']]"
   ]
  },
  {
   "cell_type": "markdown",
   "metadata": {},
   "source": [
    "### Add upsteer variable\n"
   ]
  },
  {
   "cell_type": "code",
   "execution_count": 4,
   "metadata": {},
   "outputs": [
    {
     "data": {
      "text/html": [
       "<div>\n",
       "<style scoped>\n",
       "    .dataframe tbody tr th:only-of-type {\n",
       "        vertical-align: middle;\n",
       "    }\n",
       "\n",
       "    .dataframe tbody tr th {\n",
       "        vertical-align: top;\n",
       "    }\n",
       "\n",
       "    .dataframe thead th {\n",
       "        text-align: right;\n",
       "    }\n",
       "</style>\n",
       "<table border=\"1\" class=\"dataframe\">\n",
       "  <thead>\n",
       "    <tr style=\"text-align: right;\">\n",
       "      <th></th>\n",
       "      <th></th>\n",
       "      <th></th>\n",
       "      <th></th>\n",
       "      <th></th>\n",
       "      <th>driving_score</th>\n",
       "      <th>duration_system</th>\n",
       "    </tr>\n",
       "    <tr>\n",
       "      <th>rep</th>\n",
       "      <th>fps</th>\n",
       "      <th>highquality</th>\n",
       "      <th>route_index</th>\n",
       "      <th>upsteering</th>\n",
       "      <th></th>\n",
       "      <th></th>\n",
       "    </tr>\n",
       "  </thead>\n",
       "  <tbody>\n",
       "    <tr>\n",
       "      <th rowspan=\"5\" valign=\"top\">0</th>\n",
       "      <th rowspan=\"5\" valign=\"top\">10</th>\n",
       "      <th rowspan=\"5\" valign=\"top\">False</th>\n",
       "      <th>0</th>\n",
       "      <th>False</th>\n",
       "      <td>0.026306</td>\n",
       "      <td>642.428658</td>\n",
       "    </tr>\n",
       "    <tr>\n",
       "      <th>1</th>\n",
       "      <th>False</th>\n",
       "      <td>0.232490</td>\n",
       "      <td>536.358014</td>\n",
       "    </tr>\n",
       "    <tr>\n",
       "      <th>2</th>\n",
       "      <th>False</th>\n",
       "      <td>0.113361</td>\n",
       "      <td>489.848481</td>\n",
       "    </tr>\n",
       "    <tr>\n",
       "      <th>3</th>\n",
       "      <th>False</th>\n",
       "      <td>0.432466</td>\n",
       "      <td>277.129590</td>\n",
       "    </tr>\n",
       "    <tr>\n",
       "      <th>4</th>\n",
       "      <th>False</th>\n",
       "      <td>0.168521</td>\n",
       "      <td>404.950006</td>\n",
       "    </tr>\n",
       "    <tr>\n",
       "      <th>...</th>\n",
       "      <th>...</th>\n",
       "      <th>...</th>\n",
       "      <th>...</th>\n",
       "      <th>...</th>\n",
       "      <td>...</td>\n",
       "      <td>...</td>\n",
       "    </tr>\n",
       "    <tr>\n",
       "      <th rowspan=\"5\" valign=\"top\">9</th>\n",
       "      <th rowspan=\"5\" valign=\"top\">20</th>\n",
       "      <th rowspan=\"5\" valign=\"top\">True</th>\n",
       "      <th>127</th>\n",
       "      <th>False</th>\n",
       "      <td>1.000000</td>\n",
       "      <td>287.689000</td>\n",
       "    </tr>\n",
       "    <tr>\n",
       "      <th>128</th>\n",
       "      <th>False</th>\n",
       "      <td>1.000000</td>\n",
       "      <td>397.439014</td>\n",
       "    </tr>\n",
       "    <tr>\n",
       "      <th>129</th>\n",
       "      <th>False</th>\n",
       "      <td>1.000000</td>\n",
       "      <td>234.884112</td>\n",
       "    </tr>\n",
       "    <tr>\n",
       "      <th>130</th>\n",
       "      <th>False</th>\n",
       "      <td>0.600000</td>\n",
       "      <td>373.658720</td>\n",
       "    </tr>\n",
       "    <tr>\n",
       "      <th>131</th>\n",
       "      <th>False</th>\n",
       "      <td>0.965542</td>\n",
       "      <td>459.435260</td>\n",
       "    </tr>\n",
       "  </tbody>\n",
       "</table>\n",
       "<p>18484 rows × 2 columns</p>\n",
       "</div>"
      ],
      "text/plain": [
       "                                            driving_score  duration_system\n",
       "rep fps highquality route_index upsteering                                \n",
       "0   10  False       0           False            0.026306       642.428658\n",
       "                    1           False            0.232490       536.358014\n",
       "                    2           False            0.113361       489.848481\n",
       "                    3           False            0.432466       277.129590\n",
       "                    4           False            0.168521       404.950006\n",
       "...                                                   ...              ...\n",
       "9   20  True        127         False            1.000000       287.689000\n",
       "                    128         False            1.000000       397.439014\n",
       "                    129         False            1.000000       234.884112\n",
       "                    130         False            0.600000       373.658720\n",
       "                    131         False            0.965542       459.435260\n",
       "\n",
       "[18484 rows x 2 columns]"
      ]
     },
     "execution_count": 4,
     "metadata": {},
     "output_type": "execute_result"
    }
   ],
   "source": [
    "df['upsteering'] = False\n",
    "df = df.set_index(['upsteering'], append=True).sort_index()\n",
    "df"
   ]
  },
  {
   "cell_type": "markdown",
   "metadata": {},
   "source": [
    "## Load upsteering data\n"
   ]
  },
  {
   "cell_type": "code",
   "execution_count": 5,
   "metadata": {},
   "outputs": [
    {
     "name": "stdout",
     "output_type": "stream",
     "text": [
      "<class 'pandas.core.frame.DataFrame'>\n",
      "MultiIndex: 1320 entries, (0, 10, True, 0, True) to (9, 10, True, 131, True)\n",
      "Data columns (total 2 columns):\n",
      " #   Column           Non-Null Count  Dtype  \n",
      "---  ------           --------------  -----  \n",
      " 0   driving_score    1320 non-null   float64\n",
      " 1   duration_system  1320 non-null   float64\n",
      "dtypes: float64(2)\n",
      "memory usage: 34.3 KB\n"
     ]
    }
   ],
   "source": [
    "dfs = []\n",
    "path = \"data/upsteer/rep*/*/*.json\"\n",
    "for file_path in glob.glob(path):\n",
    "    # print(file_path)\n",
    "    dfs.append(make_df(file_path))\n",
    "\n",
    "upsteer = pd.concat(dfs).sort_index()[['driving_score', 'duration_system']]\n",
    "upsteer['upsteering'] = True\n",
    "upsteer = upsteer.set_index(['upsteering'], append=True).sort_index()\n",
    "upsteer.info()"
   ]
  },
  {
   "cell_type": "code",
   "execution_count": 6,
   "metadata": {},
   "outputs": [],
   "source": [
    "df = pd.concat([df, upsteer], axis=0)"
   ]
  },
  {
   "cell_type": "markdown",
   "metadata": {},
   "source": [
    "## FILTER DATA\n"
   ]
  },
  {
   "cell_type": "markdown",
   "metadata": {},
   "source": [
    "### Filter duplicated scenarios\n",
    "\n",
    "Filter scenarios that are exactly the same\n"
   ]
  },
  {
   "cell_type": "code",
   "execution_count": 7,
   "metadata": {},
   "outputs": [],
   "source": [
    "# Routes of theese scenarios are duplicated\n",
    "excluded_routes = [20, 21, 22, 23]\n",
    "df = df.drop(excluded_routes, level='route_index', axis=0)"
   ]
  },
  {
   "cell_type": "markdown",
   "metadata": {},
   "source": [
    "### Filter 16 FPS\n",
    "\n",
    "Carla crashes at 16 so we need to filter this results out\n"
   ]
  },
  {
   "cell_type": "code",
   "execution_count": 8,
   "metadata": {},
   "outputs": [],
   "source": [
    "# filter out 16 fps\n",
    "df = df.drop(16, level='fps', axis=0)"
   ]
  },
  {
   "cell_type": "code",
   "execution_count": 9,
   "metadata": {},
   "outputs": [
    {
     "name": "stdout",
     "output_type": "stream",
     "text": [
      "<class 'pandas.core.frame.DataFrame'>\n",
      "MultiIndex: 19200 entries, (0, 10, False, 0, False) to (9, 10, True, 131, True)\n",
      "Data columns (total 2 columns):\n",
      " #   Column           Non-Null Count  Dtype  \n",
      "---  ------           --------------  -----  \n",
      " 0   driving_score    19200 non-null  float64\n",
      " 1   duration_system  19200 non-null  float64\n",
      "dtypes: float64(2)\n",
      "memory usage: 418.7 KB\n"
     ]
    }
   ],
   "source": [
    "df.info()"
   ]
  },
  {
   "cell_type": "markdown",
   "metadata": {},
   "source": [
    "### Leave only completed routes\n"
   ]
  },
  {
   "cell_type": "code",
   "execution_count": 10,
   "metadata": {},
   "outputs": [],
   "source": [
    "# max_index = 9\n",
    "\n",
    "# df = df.sort_index()\n",
    "# df = df.loc[idx[:, :, :, :max_index],]\n",
    "# df.info()"
   ]
  },
  {
   "cell_type": "markdown",
   "metadata": {},
   "source": [
    "## PROCESS DATA\n"
   ]
  },
  {
   "cell_type": "markdown",
   "metadata": {},
   "source": [
    "### DScore error\n"
   ]
  },
  {
   "cell_type": "code",
   "execution_count": 11,
   "metadata": {},
   "outputs": [],
   "source": [
    "oracle_df = df.xs((20, True), level=[\n",
    "                  'fps', 'highquality'], drop_level=False).sort_index()\n",
    "\n",
    "# oracle driving score for each scenario\n",
    "oracle_vec = oracle_df.groupby('route_index')['driving_score'].mean()\n",
    "# oracle_vec"
   ]
  },
  {
   "cell_type": "code",
   "execution_count": 12,
   "metadata": {},
   "outputs": [
    {
     "data": {
      "text/html": [
       "<div>\n",
       "<style scoped>\n",
       "    .dataframe tbody tr th:only-of-type {\n",
       "        vertical-align: middle;\n",
       "    }\n",
       "\n",
       "    .dataframe tbody tr th {\n",
       "        vertical-align: top;\n",
       "    }\n",
       "\n",
       "    .dataframe thead th {\n",
       "        text-align: right;\n",
       "    }\n",
       "</style>\n",
       "<table border=\"1\" class=\"dataframe\">\n",
       "  <thead>\n",
       "    <tr style=\"text-align: right;\">\n",
       "      <th></th>\n",
       "      <th></th>\n",
       "      <th></th>\n",
       "      <th></th>\n",
       "      <th></th>\n",
       "      <th>driving_score</th>\n",
       "      <th>duration_system</th>\n",
       "      <th>dscore_error</th>\n",
       "    </tr>\n",
       "    <tr>\n",
       "      <th>rep</th>\n",
       "      <th>fps</th>\n",
       "      <th>highquality</th>\n",
       "      <th>route_index</th>\n",
       "      <th>upsteering</th>\n",
       "      <th></th>\n",
       "      <th></th>\n",
       "      <th></th>\n",
       "    </tr>\n",
       "  </thead>\n",
       "  <tbody>\n",
       "    <tr>\n",
       "      <th rowspan=\"5\" valign=\"top\">0</th>\n",
       "      <th rowspan=\"5\" valign=\"top\">10</th>\n",
       "      <th rowspan=\"5\" valign=\"top\">False</th>\n",
       "      <th>0</th>\n",
       "      <th>False</th>\n",
       "      <td>0.026306</td>\n",
       "      <td>642.428658</td>\n",
       "      <td>0.658694</td>\n",
       "    </tr>\n",
       "    <tr>\n",
       "      <th>1</th>\n",
       "      <th>False</th>\n",
       "      <td>0.232490</td>\n",
       "      <td>536.358014</td>\n",
       "      <td>0.683099</td>\n",
       "    </tr>\n",
       "    <tr>\n",
       "      <th>2</th>\n",
       "      <th>False</th>\n",
       "      <td>0.113361</td>\n",
       "      <td>489.848481</td>\n",
       "      <td>0.882350</td>\n",
       "    </tr>\n",
       "    <tr>\n",
       "      <th>3</th>\n",
       "      <th>False</th>\n",
       "      <td>0.432466</td>\n",
       "      <td>277.129590</td>\n",
       "      <td>0.567534</td>\n",
       "    </tr>\n",
       "    <tr>\n",
       "      <th>4</th>\n",
       "      <th>False</th>\n",
       "      <td>0.168521</td>\n",
       "      <td>404.950006</td>\n",
       "      <td>0.826725</td>\n",
       "    </tr>\n",
       "    <tr>\n",
       "      <th>...</th>\n",
       "      <th>...</th>\n",
       "      <th>...</th>\n",
       "      <th>...</th>\n",
       "      <th>...</th>\n",
       "      <td>...</td>\n",
       "      <td>...</td>\n",
       "      <td>...</td>\n",
       "    </tr>\n",
       "    <tr>\n",
       "      <th rowspan=\"5\" valign=\"top\">9</th>\n",
       "      <th rowspan=\"5\" valign=\"top\">10</th>\n",
       "      <th rowspan=\"5\" valign=\"top\">True</th>\n",
       "      <th>127</th>\n",
       "      <th>True</th>\n",
       "      <td>0.263861</td>\n",
       "      <td>499.750554</td>\n",
       "      <td>0.736139</td>\n",
       "    </tr>\n",
       "    <tr>\n",
       "      <th>128</th>\n",
       "      <th>True</th>\n",
       "      <td>0.596094</td>\n",
       "      <td>231.903275</td>\n",
       "      <td>0.403906</td>\n",
       "    </tr>\n",
       "    <tr>\n",
       "      <th>129</th>\n",
       "      <th>True</th>\n",
       "      <td>0.313902</td>\n",
       "      <td>469.295109</td>\n",
       "      <td>0.686098</td>\n",
       "    </tr>\n",
       "    <tr>\n",
       "      <th>130</th>\n",
       "      <th>True</th>\n",
       "      <td>0.427306</td>\n",
       "      <td>581.584467</td>\n",
       "      <td>0.188694</td>\n",
       "    </tr>\n",
       "    <tr>\n",
       "      <th>131</th>\n",
       "      <th>True</th>\n",
       "      <td>1.000000</td>\n",
       "      <td>220.870986</td>\n",
       "      <td>0.034458</td>\n",
       "    </tr>\n",
       "  </tbody>\n",
       "</table>\n",
       "<p>19200 rows × 3 columns</p>\n",
       "</div>"
      ],
      "text/plain": [
       "                                            driving_score  duration_system  dscore_error\n",
       "rep fps highquality route_index upsteering                                              \n",
       "0   10  False       0           False            0.026306       642.428658      0.658694\n",
       "                    1           False            0.232490       536.358014      0.683099\n",
       "                    2           False            0.113361       489.848481      0.882350\n",
       "                    3           False            0.432466       277.129590      0.567534\n",
       "                    4           False            0.168521       404.950006      0.826725\n",
       "...                                                   ...              ...           ...\n",
       "9   10  True        127         True             0.263861       499.750554      0.736139\n",
       "                    128         True             0.596094       231.903275      0.403906\n",
       "                    129         True             0.313902       469.295109      0.686098\n",
       "                    130         True             0.427306       581.584467      0.188694\n",
       "                    131         True             1.000000       220.870986      0.034458\n",
       "\n",
       "[19200 rows x 3 columns]"
      ]
     },
     "execution_count": 12,
     "metadata": {},
     "output_type": "execute_result"
    }
   ],
   "source": [
    "#\n",
    "df['dscore_error'] = (df['driving_score'] - oracle_vec).abs()\n",
    "\n",
    "df"
   ]
  },
  {
   "cell_type": "code",
   "execution_count": 13,
   "metadata": {},
   "outputs": [],
   "source": [
    "# for each fps, for each highquality and for each repetition calculate mean across iterations\n",
    "agg = df.loc[:, ['dscore_error', 'duration_system']\n",
    "             ].groupby(['fps', 'highquality', 'upsteering', \"rep\"]).mean()\n",
    "\n",
    "\n",
    "# agg"
   ]
  },
  {
   "cell_type": "markdown",
   "metadata": {},
   "source": [
    "## PLOTTING\n"
   ]
  },
  {
   "cell_type": "markdown",
   "metadata": {},
   "source": [
    "### Plot fidelities\n"
   ]
  },
  {
   "cell_type": "code",
   "execution_count": 14,
   "metadata": {},
   "outputs": [
    {
     "data": {
      "text/plain": [
       "{10, 12, 14, 15, 17, 18, 20}"
      ]
     },
     "execution_count": 14,
     "metadata": {},
     "output_type": "execute_result"
    }
   ],
   "source": [
    "vals = set(agg.reset_index()['fps'].values)\n",
    "vals"
   ]
  },
  {
   "cell_type": "code",
   "execution_count": 15,
   "metadata": {},
   "outputs": [
    {
     "name": "stdout",
     "output_type": "stream",
     "text": [
      "First color: (0.2980392156862745, 0.4470588235294118, 0.6901960784313725)\n",
      "Second color: (0.8666666666666667, 0.5176470588235295, 0.3215686274509804)\n"
     ]
    }
   ],
   "source": [
    "palette = sns.color_palette(\"deep\")\n",
    "\n",
    "# Access the first two colors by indexing\n",
    "first_color = palette[0]\n",
    "second_color = palette[1]\n",
    "\n",
    "# Print the color values (assuming they are RGB tuples)\n",
    "print(f\"First color: {first_color}\")\n",
    "print(f\"Second color: {second_color}\")"
   ]
  },
  {
   "cell_type": "code",
   "execution_count": 16,
   "metadata": {},
   "outputs": [
    {
     "data": {
      "image/png": "[encoded data removed]",
      "text/plain": [
       "<Figure size 640x480 with 2 Axes>"
      ]
     },
     "metadata": {},
     "output_type": "display_data"
    }
   ],
   "source": [
    "def new_boxplot(agg, ax, col='dscore_error'):\n",
    "\n",
    "    data = agg.xs(False, level='upsteering')\n",
    "\n",
    "    epicq = data.xs(True, level='highquality',\n",
    "                    drop_level=False).reset_index()\n",
    "    lowq = data.xs(False, level='highquality',\n",
    "                   drop_level=False).reset_index()\n",
    "\n",
    "    ax = sns.boxplot(lowq, x='fps', y=col, hue='highquality', ax=ax, native_scale=True, hue_order=[True, False]\n",
    "                     )\n",
    "\n",
    "    ax = sns.boxplot(epicq, x='fps', y=col,\n",
    "                     hue='highquality', ax=ax,  native_scale=True, hue_order=[True, False])\n",
    "\n",
    "    ax = sns.regplot(epicq, x='fps', y=col, ax=ax,\n",
    "                     order=2, scatter=False, line_kws=dict(linestyle='dashed'),)\n",
    "    ax = sns.regplot(lowq, x='fps', y=col, ax=ax,  order=2,\n",
    "                     scatter=False, line_kws=dict(linestyle='dashed'),)\n",
    "\n",
    "\n",
    "sns.set_theme(style=\"ticks\", palette=\"deep\")\n",
    "f, axes = plt.subplots(nrows=2, sharex=True,)\n",
    "axes[0].invert_xaxis()\n",
    "\n",
    "axes[0].set_ylabel(f\"System time [s]\")\n",
    "new_boxplot(agg, ax=axes[0], col='duration_system')\n",
    "axes[0].grid()\n",
    "axes[0].set_xticks(list(vals))\n",
    "axes[0].set_ylabel(f\"System time [s]\")\n",
    "\n",
    "new_boxplot(agg, ax=axes[1], col='dscore_error')\n",
    "axes[1].get_legend().remove()\n",
    "axes[1].grid()\n",
    "axes[1].set_ylabel(f\"DScore error\")\n",
    "\n",
    "handles, _ = axes[0].get_legend_handles_labels()\n",
    "\n",
    "axes[0].legend(handles=handles, labels=[\"Epic\", \"Low\"],\n",
    "               title=\"Rendering quality\")\n",
    "\n",
    "f.savefig('boxplot_rq12.pdf', bbox_inches='tight')"
   ]
  },
  {
   "cell_type": "markdown",
   "metadata": {},
   "source": [
    "### Plot upsteering\n"
   ]
  },
  {
   "cell_type": "code",
   "execution_count": 17,
   "metadata": {},
   "outputs": [
    {
     "data": {
      "text/html": [
       "<div>\n",
       "<style scoped>\n",
       "    .dataframe tbody tr th:only-of-type {\n",
       "        vertical-align: middle;\n",
       "    }\n",
       "\n",
       "    .dataframe tbody tr th {\n",
       "        vertical-align: top;\n",
       "    }\n",
       "\n",
       "    .dataframe thead th {\n",
       "        text-align: right;\n",
       "    }\n",
       "</style>\n",
       "<table border=\"1\" class=\"dataframe\">\n",
       "  <thead>\n",
       "    <tr style=\"text-align: right;\">\n",
       "      <th></th>\n",
       "      <th></th>\n",
       "      <th>dscore_error</th>\n",
       "      <th>duration_system</th>\n",
       "    </tr>\n",
       "    <tr>\n",
       "      <th>upsteering</th>\n",
       "      <th>rep</th>\n",
       "      <th></th>\n",
       "      <th></th>\n",
       "    </tr>\n",
       "  </thead>\n",
       "  <tbody>\n",
       "    <tr>\n",
       "      <th rowspan=\"10\" valign=\"top\">False</th>\n",
       "      <th>0</th>\n",
       "      <td>0.404292</td>\n",
       "      <td>473.943607</td>\n",
       "    </tr>\n",
       "    <tr>\n",
       "      <th>1</th>\n",
       "      <td>0.410053</td>\n",
       "      <td>462.006636</td>\n",
       "    </tr>\n",
       "    <tr>\n",
       "      <th>2</th>\n",
       "      <td>0.390289</td>\n",
       "      <td>468.949601</td>\n",
       "    </tr>\n",
       "    <tr>\n",
       "      <th>3</th>\n",
       "      <td>0.413259</td>\n",
       "      <td>471.472676</td>\n",
       "    </tr>\n",
       "    <tr>\n",
       "      <th>4</th>\n",
       "      <td>0.399919</td>\n",
       "      <td>477.383813</td>\n",
       "    </tr>\n",
       "    <tr>\n",
       "      <th>5</th>\n",
       "      <td>0.410591</td>\n",
       "      <td>468.876125</td>\n",
       "    </tr>\n",
       "    <tr>\n",
       "      <th>6</th>\n",
       "      <td>0.402236</td>\n",
       "      <td>467.465099</td>\n",
       "    </tr>\n",
       "    <tr>\n",
       "      <th>7</th>\n",
       "      <td>0.399717</td>\n",
       "      <td>495.182528</td>\n",
       "    </tr>\n",
       "    <tr>\n",
       "      <th>8</th>\n",
       "      <td>0.409910</td>\n",
       "      <td>468.876868</td>\n",
       "    </tr>\n",
       "    <tr>\n",
       "      <th>9</th>\n",
       "      <td>0.403140</td>\n",
       "      <td>460.705584</td>\n",
       "    </tr>\n",
       "    <tr>\n",
       "      <th rowspan=\"10\" valign=\"top\">True</th>\n",
       "      <th>0</th>\n",
       "      <td>0.303083</td>\n",
       "      <td>422.152919</td>\n",
       "    </tr>\n",
       "    <tr>\n",
       "      <th>1</th>\n",
       "      <td>0.301649</td>\n",
       "      <td>442.595601</td>\n",
       "    </tr>\n",
       "    <tr>\n",
       "      <th>2</th>\n",
       "      <td>0.298064</td>\n",
       "      <td>442.196523</td>\n",
       "    </tr>\n",
       "    <tr>\n",
       "      <th>3</th>\n",
       "      <td>0.303128</td>\n",
       "      <td>436.690009</td>\n",
       "    </tr>\n",
       "    <tr>\n",
       "      <th>4</th>\n",
       "      <td>0.295969</td>\n",
       "      <td>447.811937</td>\n",
       "    </tr>\n",
       "    <tr>\n",
       "      <th>5</th>\n",
       "      <td>0.280281</td>\n",
       "      <td>437.173263</td>\n",
       "    </tr>\n",
       "    <tr>\n",
       "      <th>6</th>\n",
       "      <td>0.287154</td>\n",
       "      <td>442.664336</td>\n",
       "    </tr>\n",
       "    <tr>\n",
       "      <th>7</th>\n",
       "      <td>0.296797</td>\n",
       "      <td>421.442814</td>\n",
       "    </tr>\n",
       "    <tr>\n",
       "      <th>8</th>\n",
       "      <td>0.289329</td>\n",
       "      <td>440.169822</td>\n",
       "    </tr>\n",
       "    <tr>\n",
       "      <th>9</th>\n",
       "      <td>0.289313</td>\n",
       "      <td>446.290934</td>\n",
       "    </tr>\n",
       "  </tbody>\n",
       "</table>\n",
       "</div>"
      ],
      "text/plain": [
       "                dscore_error  duration_system\n",
       "upsteering rep                               \n",
       "False      0        0.404292       473.943607\n",
       "           1        0.410053       462.006636\n",
       "           2        0.390289       468.949601\n",
       "           3        0.413259       471.472676\n",
       "           4        0.399919       477.383813\n",
       "           5        0.410591       468.876125\n",
       "           6        0.402236       467.465099\n",
       "           7        0.399717       495.182528\n",
       "           8        0.409910       468.876868\n",
       "           9        0.403140       460.705584\n",
       "True       0        0.303083       422.152919\n",
       "           1        0.301649       442.595601\n",
       "           2        0.298064       442.196523\n",
       "           3        0.303128       436.690009\n",
       "           4        0.295969       447.811937\n",
       "           5        0.280281       437.173263\n",
       "           6        0.287154       442.664336\n",
       "           7        0.296797       421.442814\n",
       "           8        0.289329       440.169822\n",
       "           9        0.289313       446.290934"
      ]
     },
     "execution_count": 17,
     "metadata": {},
     "output_type": "execute_result"
    }
   ],
   "source": [
    "fidelity = (10, True)\n",
    "data = agg.xs(fidelity)\n",
    "data"
   ]
  },
  {
   "cell_type": "code",
   "execution_count": 21,
   "metadata": {},
   "outputs": [
    {
     "data": {
      "text/plain": [
       "<Axes: xlabel='upsteering', ylabel='dscore_error'>"
      ]
     },
     "execution_count": 21,
     "metadata": {},
     "output_type": "execute_result"
    },
    {
     "data": {
      "image/png": "[encoded data removed]",
      "text/plain": [
       "<Figure size 640x480 with 1 Axes>"
      ]
     },
     "metadata": {},
     "output_type": "display_data"
    }
   ],
   "source": [
    "sns.boxplot(data=data, x='upsteering', y='dscore_error', hue='upsteering')"
   ]
  },
  {
   "cell_type": "code",
   "execution_count": null,
   "metadata": {},
   "outputs": [
    {
     "data": {
      "text/plain": [
       "<Axes: xlabel='upsteering', ylabel='duration_system'>"
      ]
     },
     "execution_count": 19,
     "metadata": {},
     "output_type": "execute_result"
    },
    {
     "data": {
      "image/png": "[encoded data removed]",
      "text/plain": [
       "<Figure size 640x480 with 1 Axes>"
      ]
     },
     "metadata": {},
     "output_type": "display_data"
    }
   ],
   "source": [
    "sns.boxplot(data=data, x='upsteering', y='duration_system', hue='upsteering')"
   ]
  },
  {
   "cell_type": "code",
   "execution_count": null,
   "metadata": {},
   "outputs": [],
   "source": []
  },
  {
   "cell_type": "code",
   "execution_count": 20,
   "metadata": {},
   "outputs": [
    {
     "data": {
      "image/png": "[encoded data removed]",
      "text/plain": [
       "<Figure size 640x480 with 2 Axes>"
      ]
     },
     "metadata": {},
     "output_type": "display_data"
    }
   ],
   "source": [
    "def new_boxplot(agg, ax, col='dscore_error'):\n",
    "\n",
    "    data = agg.xs(True, level='highquality')\n",
    "\n",
    "    # epicq = data.xs(True, level='highquality',\n",
    "    #                 drop_level=False).reset_index()\n",
    "\n",
    "    # lowq = data.xs(False, level='highquality',\n",
    "    #                drop_level=False).reset_index()\n",
    "\n",
    "    ax = sns.boxplot(data=data.xs(False, level='upsteering', drop_level=False), x='fps', y=col,\n",
    "                     hue='upsteering', ax=ax,  native_scale=True, hue_order=[False, True])\n",
    "\n",
    "    ax = sns.boxplot(data=data.xs(True, level='upsteering', drop_level=False), x='fps', y=col,\n",
    "                     hue='upsteering', ax=ax,  native_scale=True, hue_order=[False, True])\n",
    "\n",
    "\n",
    "sns.set_theme(style=\"ticks\", palette=\"deep\")\n",
    "f, axes = plt.subplots(nrows=2, sharex=True,)\n",
    "axes[0].invert_xaxis()\n",
    "\n",
    "axes[0].set_ylabel(f\"System time [s]\")\n",
    "new_boxplot(agg, ax=axes[0], col='duration_system')\n",
    "axes[0].grid()\n",
    "axes[0].set_xticks(list(vals))\n",
    "axes[0].set_ylabel(f\"System time [s]\")\n",
    "\n",
    "new_boxplot(agg, ax=axes[1], col='dscore_error')\n",
    "axes[1].get_legend().remove()\n",
    "axes[1].grid()\n",
    "axes[1].set_ylabel(f\"DScore error\")\n",
    "\n",
    "handles, _ = axes[0].get_legend_handles_labels()\n",
    "\n",
    "axes[0].legend(handles=handles, labels=[\"Off\", \"On\"],\n",
    "               title=\"Upsteering\")\n",
    "\n",
    "f.savefig('boxplot_rq12.pdf', bbox_inches='tight')"
   ]
  },
  {
   "cell_type": "code",
   "execution_count": null,
   "metadata": {},
   "outputs": [],
   "source": []
  }
 ],
 "metadata": {
  "kernelspec": {
   "display_name": "data-science",
   "language": "python",
   "name": "python3"
  },
  "language_info": {
   "codemirror_mode": {
    "name": "ipython",
    "version": 3
   },
   "file_extension": ".py",
   "mimetype": "text/x-python",
   "name": "python",
   "nbconvert_exporter": "python",
   "pygments_lexer": "ipython3",
   "version": "3.12.1"
  }
 },
 "nbformat": 4,
 "nbformat_minor": 2
}
