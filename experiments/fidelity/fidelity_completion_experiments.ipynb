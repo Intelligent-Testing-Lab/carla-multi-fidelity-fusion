{
 "cells": [
  {
   "cell_type": "code",
   "execution_count": 2,
   "id": "initial_id",
   "metadata": {
    "collapsed": true,
    "ExecuteTime": {
     "end_time": "2024-03-16T22:30:11.611203Z",
     "start_time": "2024-03-16T22:30:10.773144Z"
    }
   },
   "outputs": [],
   "source": [
    "import json\n",
    "import glob\n",
    "import pandas as pd\n",
    "import matplotlib.pyplot as plt\n",
    "import scipy"
   ]
  },
  {
   "cell_type": "code",
   "outputs": [],
   "source": [
    "pd.set_option('display.max_rows', 30)\n",
    "\n",
    "path = \"data/*.json\"\n",
    "\n",
    "data = []\n",
    "\n",
    "for file_path in glob.glob(path):\n",
    "    with open(file_path, \"r\") as f:\n",
    "        file_path = file_path.replace(\".json\", \"\")\n",
    "\n",
    "        # first int is fps second is substepping bool\n",
    "        quality = \"epic\" if \"epic\" in file_path else \"low\"\n",
    "        fps, _ = [int(value)\n",
    "                  for value in file_path.split(\"_\") if value.isdigit()]\n",
    "\n",
    "        # print(f\"{fps = }, {bool(substepping) = }\")\n",
    "\n",
    "        content = json.load(f)\n",
    "        labels = content['labels']\n",
    "        values = map(float, content['values'])\n",
    "        data.append({\n",
    "\n",
    "            'fps': fps,\n",
    "            'quality': quality,\n",
    "            # **dict(zip(labels, values)),\n",
    "            'records': content['_checkpoint']['records']\n",
    "        })\n"
   ],
   "metadata": {
    "collapsed": false,
    "ExecuteTime": {
     "end_time": "2024-03-16T22:30:11.623577Z",
     "start_time": "2024-03-16T22:30:11.613040Z"
    }
   },
   "id": "ba6af4418f677f25",
   "execution_count": 3
  },
  {
   "cell_type": "code",
   "outputs": [
    {
     "data": {
      "text/plain": "     fps quality  index          route_id                      status  \\\n0     10    epic      0  RouteScenario_16    Failed - Agent timed out   \n1     10    epic      1  RouteScenario_16    Failed - Agent timed out   \n2     10    epic      2  RouteScenario_16    Failed - Agent timed out   \n3     10    epic      3  RouteScenario_17                   Completed   \n4     10    epic      4  RouteScenario_17  Failed - Agent got blocked   \n..   ...     ...    ...               ...                         ...   \n163   10     low     25  RouteScenario_24  Failed - Agent got blocked   \n164   10     low     26  RouteScenario_24  Failed - Agent got blocked   \n165   10     low     27  RouteScenario_25  Failed - Agent got blocked   \n166   10     low     28  RouteScenario_25    Failed - Agent timed out   \n167   10     low     29  RouteScenario_25                   Completed   \n\n    infractions.collisions_layout  \\\n0                              []   \n1                              []   \n2                              []   \n3                              []   \n4                              []   \n..                            ...   \n163                            []   \n164                            []   \n165                            []   \n166                            []   \n167                            []   \n\n                     infractions.collisions_pedestrian  \\\n0                                                   []   \n1    [Agent collided against object with type=walke...   \n2                                                   []   \n3                                                   []   \n4                                                   []   \n..                                                 ...   \n163  [Agent collided against object with type=walke...   \n164                                                 []   \n165                                                 []   \n166                                                 []   \n167  [Agent collided against object with type=walke...   \n\n                        infractions.collisions_vehicle  \\\n0                                                   []   \n1                                                   []   \n2    [Agent collided against object with type=vehic...   \n3                                                   []   \n4    [Agent collided against object with type=vehic...   \n..                                                 ...   \n163  [Agent collided against object with type=vehic...   \n164  [Agent collided against object with type=vehic...   \n165  [Agent collided against object with type=vehic...   \n166  [Agent collided against object with type=vehic...   \n167  [Agent collided against object with type=vehic...   \n\n    infractions.outside_route_lanes  \\\n0                                []   \n1                                []   \n2                                []   \n3                                []   \n4                                []   \n..                              ...   \n163                              []   \n164                              []   \n165                              []   \n166                              []   \n167                              []   \n\n                                 infractions.red_light infractions.route_dev  \\\n0                                                   []                    []   \n1                                                   []                    []   \n2                                                   []                    []   \n3                                                   []                    []   \n4                                                   []                    []   \n..                                                 ...                   ...   \n163                                                 []                    []   \n164                                                 []                    []   \n165                                                 []                    []   \n166  [Agent ran a red light 9290 at (x=40.25, y=78....                    []   \n167  [Agent ran a red light 9629 at (x=40.25, y=78....                    []   \n\n    infractions.route_timeout infractions.stop_infraction  \\\n0            [Route timeout.]                          []   \n1            [Route timeout.]                          []   \n2            [Route timeout.]                          []   \n3                          []                          []   \n4                          []                          []   \n..                        ...                         ...   \n163                        []                          []   \n164                        []                          []   \n165                        []                          []   \n166          [Route timeout.]                          []   \n167                        []                          []   \n\n                           infractions.vehicle_blocked  duration_game  \\\n0                                                   []     917.100014   \n1                                                   []     917.100014   \n2                                                   []     917.100014   \n3                                                   []     415.400006   \n4    [Agent got blocked at (x=62.376, y=188.075, z=...     667.700010   \n..                                                 ...            ...   \n163  [Agent got blocked at (x=71.845, y=-88.115, z=...    1284.800019   \n164  [Agent got blocked at (x=77.617, y=-85.957, z=...    1056.400016   \n165  [Agent got blocked at (x=-127.208, y=124.152, ...    1286.600019   \n166                                                 []    1321.100020   \n167                                                 []    1303.500019   \n\n     duration_system  route_length  score_composed  score_penalty  score_route  \n0        2350.653948   1071.028134       80.003722           1.00    80.003722  \n1        2354.508524   1071.028134       23.458103           0.50    46.916205  \n2        2413.147233   1071.028134       24.242325           0.60    40.403875  \n3         802.025016    862.430089      100.000000           1.00   100.000000  \n4        1617.573606    862.430089       34.367447           0.36    95.465132  \n..               ...           ...             ...            ...          ...  \n163      1808.531137   2101.202735        7.507748           0.18    41.709712  \n164      1503.301611   2101.202735       14.915011           0.36    41.430586  \n165      1834.791415   1554.578340       22.117736           0.36    61.438155  \n166      2631.076403   1554.578340       30.376486           0.42    72.324966  \n167      2615.116749   1554.578340       21.000000           0.21   100.000000  \n\n[168 rows x 20 columns]",
      "text/html": "<div>\n<style scoped>\n    .dataframe tbody tr th:only-of-type {\n        vertical-align: middle;\n    }\n\n    .dataframe tbody tr th {\n        vertical-align: top;\n    }\n\n    .dataframe thead th {\n        text-align: right;\n    }\n</style>\n<table border=\"1\" class=\"dataframe\">\n  <thead>\n    <tr style=\"text-align: right;\">\n      <th></th>\n      <th>fps</th>\n      <th>quality</th>\n      <th>index</th>\n      <th>route_id</th>\n      <th>status</th>\n      <th>infractions.collisions_layout</th>\n      <th>infractions.collisions_pedestrian</th>\n      <th>infractions.collisions_vehicle</th>\n      <th>infractions.outside_route_lanes</th>\n      <th>infractions.red_light</th>\n      <th>infractions.route_dev</th>\n      <th>infractions.route_timeout</th>\n      <th>infractions.stop_infraction</th>\n      <th>infractions.vehicle_blocked</th>\n      <th>duration_game</th>\n      <th>duration_system</th>\n      <th>route_length</th>\n      <th>score_composed</th>\n      <th>score_penalty</th>\n      <th>score_route</th>\n    </tr>\n  </thead>\n  <tbody>\n    <tr>\n      <th>0</th>\n      <td>10</td>\n      <td>epic</td>\n      <td>0</td>\n      <td>RouteScenario_16</td>\n      <td>Failed - Agent timed out</td>\n      <td>[]</td>\n      <td>[]</td>\n      <td>[]</td>\n      <td>[]</td>\n      <td>[]</td>\n      <td>[]</td>\n      <td>[Route timeout.]</td>\n      <td>[]</td>\n      <td>[]</td>\n      <td>917.100014</td>\n      <td>2350.653948</td>\n      <td>1071.028134</td>\n      <td>80.003722</td>\n      <td>1.00</td>\n      <td>80.003722</td>\n    </tr>\n    <tr>\n      <th>1</th>\n      <td>10</td>\n      <td>epic</td>\n      <td>1</td>\n      <td>RouteScenario_16</td>\n      <td>Failed - Agent timed out</td>\n      <td>[]</td>\n      <td>[Agent collided against object with type=walke...</td>\n      <td>[]</td>\n      <td>[]</td>\n      <td>[]</td>\n      <td>[]</td>\n      <td>[Route timeout.]</td>\n      <td>[]</td>\n      <td>[]</td>\n      <td>917.100014</td>\n      <td>2354.508524</td>\n      <td>1071.028134</td>\n      <td>23.458103</td>\n      <td>0.50</td>\n      <td>46.916205</td>\n    </tr>\n    <tr>\n      <th>2</th>\n      <td>10</td>\n      <td>epic</td>\n      <td>2</td>\n      <td>RouteScenario_16</td>\n      <td>Failed - Agent timed out</td>\n      <td>[]</td>\n      <td>[]</td>\n      <td>[Agent collided against object with type=vehic...</td>\n      <td>[]</td>\n      <td>[]</td>\n      <td>[]</td>\n      <td>[Route timeout.]</td>\n      <td>[]</td>\n      <td>[]</td>\n      <td>917.100014</td>\n      <td>2413.147233</td>\n      <td>1071.028134</td>\n      <td>24.242325</td>\n      <td>0.60</td>\n      <td>40.403875</td>\n    </tr>\n    <tr>\n      <th>3</th>\n      <td>10</td>\n      <td>epic</td>\n      <td>3</td>\n      <td>RouteScenario_17</td>\n      <td>Completed</td>\n      <td>[]</td>\n      <td>[]</td>\n      <td>[]</td>\n      <td>[]</td>\n      <td>[]</td>\n      <td>[]</td>\n      <td>[]</td>\n      <td>[]</td>\n      <td>[]</td>\n      <td>415.400006</td>\n      <td>802.025016</td>\n      <td>862.430089</td>\n      <td>100.000000</td>\n      <td>1.00</td>\n      <td>100.000000</td>\n    </tr>\n    <tr>\n      <th>4</th>\n      <td>10</td>\n      <td>epic</td>\n      <td>4</td>\n      <td>RouteScenario_17</td>\n      <td>Failed - Agent got blocked</td>\n      <td>[]</td>\n      <td>[]</td>\n      <td>[Agent collided against object with type=vehic...</td>\n      <td>[]</td>\n      <td>[]</td>\n      <td>[]</td>\n      <td>[]</td>\n      <td>[]</td>\n      <td>[Agent got blocked at (x=62.376, y=188.075, z=...</td>\n      <td>667.700010</td>\n      <td>1617.573606</td>\n      <td>862.430089</td>\n      <td>34.367447</td>\n      <td>0.36</td>\n      <td>95.465132</td>\n    </tr>\n    <tr>\n      <th>...</th>\n      <td>...</td>\n      <td>...</td>\n      <td>...</td>\n      <td>...</td>\n      <td>...</td>\n      <td>...</td>\n      <td>...</td>\n      <td>...</td>\n      <td>...</td>\n      <td>...</td>\n      <td>...</td>\n      <td>...</td>\n      <td>...</td>\n      <td>...</td>\n      <td>...</td>\n      <td>...</td>\n      <td>...</td>\n      <td>...</td>\n      <td>...</td>\n      <td>...</td>\n    </tr>\n    <tr>\n      <th>163</th>\n      <td>10</td>\n      <td>low</td>\n      <td>25</td>\n      <td>RouteScenario_24</td>\n      <td>Failed - Agent got blocked</td>\n      <td>[]</td>\n      <td>[Agent collided against object with type=walke...</td>\n      <td>[Agent collided against object with type=vehic...</td>\n      <td>[]</td>\n      <td>[]</td>\n      <td>[]</td>\n      <td>[]</td>\n      <td>[]</td>\n      <td>[Agent got blocked at (x=71.845, y=-88.115, z=...</td>\n      <td>1284.800019</td>\n      <td>1808.531137</td>\n      <td>2101.202735</td>\n      <td>7.507748</td>\n      <td>0.18</td>\n      <td>41.709712</td>\n    </tr>\n    <tr>\n      <th>164</th>\n      <td>10</td>\n      <td>low</td>\n      <td>26</td>\n      <td>RouteScenario_24</td>\n      <td>Failed - Agent got blocked</td>\n      <td>[]</td>\n      <td>[]</td>\n      <td>[Agent collided against object with type=vehic...</td>\n      <td>[]</td>\n      <td>[]</td>\n      <td>[]</td>\n      <td>[]</td>\n      <td>[]</td>\n      <td>[Agent got blocked at (x=77.617, y=-85.957, z=...</td>\n      <td>1056.400016</td>\n      <td>1503.301611</td>\n      <td>2101.202735</td>\n      <td>14.915011</td>\n      <td>0.36</td>\n      <td>41.430586</td>\n    </tr>\n    <tr>\n      <th>165</th>\n      <td>10</td>\n      <td>low</td>\n      <td>27</td>\n      <td>RouteScenario_25</td>\n      <td>Failed - Agent got blocked</td>\n      <td>[]</td>\n      <td>[]</td>\n      <td>[Agent collided against object with type=vehic...</td>\n      <td>[]</td>\n      <td>[]</td>\n      <td>[]</td>\n      <td>[]</td>\n      <td>[]</td>\n      <td>[Agent got blocked at (x=-127.208, y=124.152, ...</td>\n      <td>1286.600019</td>\n      <td>1834.791415</td>\n      <td>1554.578340</td>\n      <td>22.117736</td>\n      <td>0.36</td>\n      <td>61.438155</td>\n    </tr>\n    <tr>\n      <th>166</th>\n      <td>10</td>\n      <td>low</td>\n      <td>28</td>\n      <td>RouteScenario_25</td>\n      <td>Failed - Agent timed out</td>\n      <td>[]</td>\n      <td>[]</td>\n      <td>[Agent collided against object with type=vehic...</td>\n      <td>[]</td>\n      <td>[Agent ran a red light 9290 at (x=40.25, y=78....</td>\n      <td>[]</td>\n      <td>[Route timeout.]</td>\n      <td>[]</td>\n      <td>[]</td>\n      <td>1321.100020</td>\n      <td>2631.076403</td>\n      <td>1554.578340</td>\n      <td>30.376486</td>\n      <td>0.42</td>\n      <td>72.324966</td>\n    </tr>\n    <tr>\n      <th>167</th>\n      <td>10</td>\n      <td>low</td>\n      <td>29</td>\n      <td>RouteScenario_25</td>\n      <td>Completed</td>\n      <td>[]</td>\n      <td>[Agent collided against object with type=walke...</td>\n      <td>[Agent collided against object with type=vehic...</td>\n      <td>[]</td>\n      <td>[Agent ran a red light 9629 at (x=40.25, y=78....</td>\n      <td>[]</td>\n      <td>[]</td>\n      <td>[]</td>\n      <td>[]</td>\n      <td>1303.500019</td>\n      <td>2615.116749</td>\n      <td>1554.578340</td>\n      <td>21.000000</td>\n      <td>0.21</td>\n      <td>100.000000</td>\n    </tr>\n  </tbody>\n</table>\n<p>168 rows × 20 columns</p>\n</div>"
     },
     "execution_count": 4,
     "metadata": {},
     "output_type": "execute_result"
    }
   ],
   "source": [
    "df = pd.DataFrame(data)\n",
    "df = df.explode('records', ignore_index=True)\n",
    "record_df = pd.json_normalize(df['records'])\n",
    "\n",
    "# concatonate records data\n",
    "df = pd.concat([df, record_df],  axis=1)\n",
    "\n",
    "# drop original column\n",
    "df = df.drop('records', axis=1)\n",
    "\n",
    "# drop infractions columns\n",
    "\n",
    "# remove prefices from column name\n",
    "df.columns = df.columns.str.removeprefix('meta.')\n",
    "df.columns = df.columns.str.removeprefix('scores.')\n",
    "# df = df.rename(columns={\"index\": \"route_index\"})\n",
    "df"
   ],
   "metadata": {
    "collapsed": false,
    "ExecuteTime": {
     "end_time": "2024-03-16T22:30:11.672339Z",
     "start_time": "2024-03-16T22:30:11.624675Z"
    }
   },
   "id": "f7176a79f32cf374",
   "execution_count": 4
  },
  {
   "cell_type": "markdown",
   "source": [
    "Question: For the same scenario, does the route more likely to complete in a lower quality/fps?"
   ],
   "metadata": {
    "collapsed": false
   },
   "id": "b140a9c3cdf3631d"
  },
  {
   "cell_type": "code",
   "outputs": [
    {
     "data": {
      "text/plain": "                             score_route            \n                                     max         min\nroute_id         quality fps                        \nRouteScenario_16 epic    10    80.003722   40.403875\n                         20    84.636040   55.264535\n                         30     5.545614    5.469284\n                 low     10   100.000000  100.000000\n                         20   100.000000   93.608639\n...                                  ...         ...\nRouteScenario_24 low     20    41.663192   40.639728\nRouteScenario_25 epic    10    99.331706   88.457481\n                         20   100.000000   72.750244\n                 low     10   100.000000   61.438155\n                         20   100.000000   87.967854\n\n[57 rows x 2 columns]",
      "text/html": "<div>\n<style scoped>\n    .dataframe tbody tr th:only-of-type {\n        vertical-align: middle;\n    }\n\n    .dataframe tbody tr th {\n        vertical-align: top;\n    }\n\n    .dataframe thead tr th {\n        text-align: left;\n    }\n\n    .dataframe thead tr:last-of-type th {\n        text-align: right;\n    }\n</style>\n<table border=\"1\" class=\"dataframe\">\n  <thead>\n    <tr>\n      <th></th>\n      <th></th>\n      <th></th>\n      <th colspan=\"2\" halign=\"left\">score_route</th>\n    </tr>\n    <tr>\n      <th></th>\n      <th></th>\n      <th></th>\n      <th>max</th>\n      <th>min</th>\n    </tr>\n    <tr>\n      <th>route_id</th>\n      <th>quality</th>\n      <th>fps</th>\n      <th></th>\n      <th></th>\n    </tr>\n  </thead>\n  <tbody>\n    <tr>\n      <th rowspan=\"5\" valign=\"top\">RouteScenario_16</th>\n      <th rowspan=\"3\" valign=\"top\">epic</th>\n      <th>10</th>\n      <td>80.003722</td>\n      <td>40.403875</td>\n    </tr>\n    <tr>\n      <th>20</th>\n      <td>84.636040</td>\n      <td>55.264535</td>\n    </tr>\n    <tr>\n      <th>30</th>\n      <td>5.545614</td>\n      <td>5.469284</td>\n    </tr>\n    <tr>\n      <th rowspan=\"2\" valign=\"top\">low</th>\n      <th>10</th>\n      <td>100.000000</td>\n      <td>100.000000</td>\n    </tr>\n    <tr>\n      <th>20</th>\n      <td>100.000000</td>\n      <td>93.608639</td>\n    </tr>\n    <tr>\n      <th>...</th>\n      <th>...</th>\n      <th>...</th>\n      <td>...</td>\n      <td>...</td>\n    </tr>\n    <tr>\n      <th>RouteScenario_24</th>\n      <th>low</th>\n      <th>20</th>\n      <td>41.663192</td>\n      <td>40.639728</td>\n    </tr>\n    <tr>\n      <th rowspan=\"4\" valign=\"top\">RouteScenario_25</th>\n      <th rowspan=\"2\" valign=\"top\">epic</th>\n      <th>10</th>\n      <td>99.331706</td>\n      <td>88.457481</td>\n    </tr>\n    <tr>\n      <th>20</th>\n      <td>100.000000</td>\n      <td>72.750244</td>\n    </tr>\n    <tr>\n      <th rowspan=\"2\" valign=\"top\">low</th>\n      <th>10</th>\n      <td>100.000000</td>\n      <td>61.438155</td>\n    </tr>\n    <tr>\n      <th>20</th>\n      <td>100.000000</td>\n      <td>87.967854</td>\n    </tr>\n  </tbody>\n</table>\n<p>57 rows × 2 columns</p>\n</div>"
     },
     "execution_count": 13,
     "metadata": {},
     "output_type": "execute_result"
    }
   ],
   "source": [
    "df1 = df.groupby(['route_id', 'quality', 'fps']).agg({'score_route':['max', 'min']})\n",
    "df1"
   ],
   "metadata": {
    "collapsed": false,
    "ExecuteTime": {
     "end_time": "2024-03-16T22:50:16.987Z",
     "start_time": "2024-03-16T22:50:16.965043Z"
    }
   },
   "id": "10adbc01a8fe27b5",
   "execution_count": 13
  },
  {
   "cell_type": "markdown",
   "source": [
    "The above table shows that higher fidelity data generally has lower score. Does it mean infractions are more likely to happen in higher fidelity scenarios? Moreover, does it means using low fidelity data will miss many infractions that suppose to happen?"
   ],
   "metadata": {
    "collapsed": false
   },
   "id": "1f670e21ba4e84bc"
  },
  {
   "cell_type": "code",
   "outputs": [],
   "source": [],
   "metadata": {
    "collapsed": false
   },
   "id": "febc2cc86c6ef514"
  }
 ],
 "metadata": {
  "kernelspec": {
   "display_name": "Python 3",
   "language": "python",
   "name": "python3"
  },
  "language_info": {
   "codemirror_mode": {
    "name": "ipython",
    "version": 2
   },
   "file_extension": ".py",
   "mimetype": "text/x-python",
   "name": "python",
   "nbconvert_exporter": "python",
   "pygments_lexer": "ipython2",
   "version": "2.7.6"
  }
 },
 "nbformat": 4,
 "nbformat_minor": 5
}
