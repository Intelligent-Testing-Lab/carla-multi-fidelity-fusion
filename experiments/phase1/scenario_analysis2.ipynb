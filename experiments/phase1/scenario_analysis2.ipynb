{
 "cells": [
  {
   "cell_type": "markdown",
   "metadata": {},
   "source": [
    "## LOAD DATA\n"
   ]
  },
  {
   "cell_type": "code",
   "execution_count": 187,
   "metadata": {},
   "outputs": [],
   "source": [
    "import json\n",
    "import glob\n",
    "import pandas as pd\n",
    "import matplotlib.pyplot as plt\n",
    "import scipy\n",
    "from pathlib import Path\n",
    "import numpy as np\n",
    "import seaborn as sns\n",
    "\n",
    "idx = pd.IndexSlice\n",
    "\n",
    "# pd.set_option('display.max_rows', 500)\n",
    "# pd.set_option('display.max_columns', 500)\n",
    "# pd.set_option('display.width', 1000)"
   ]
  },
  {
   "cell_type": "code",
   "execution_count": 188,
   "metadata": {},
   "outputs": [],
   "source": [
    "def process_df(df):\n",
    "    record_df = pd.json_normalize(df['records'])\n",
    "    # concatenate records data\n",
    "    df = pd.concat([df, record_df],  axis=1)\n",
    "\n",
    "    # drop original column\n",
    "    df = df.drop('records', axis=1)\n",
    "\n",
    "    # drop infractions columns\n",
    "\n",
    "    # remove prefixes from column name\n",
    "    df.columns = df.columns.str.removeprefix('meta.')\n",
    "    df.columns = df.columns.str.removeprefix('scores.')\n",
    "    df['driving_score'] = df['score_composed'] / 100\n",
    "    df = df.rename(columns={\"index\": \"route_index\"})\n",
    "    # change fps to str varaiable\n",
    "    df['fps'] = df['fps'].astype(str)\n",
    "    df = df.set_index(['rep', 'fps', 'highquality', 'route_index'])\n",
    "    return df\n",
    "\n",
    "\n",
    "def make_df(path: str):\n",
    "    with open(path, \"r\") as f:\n",
    "\n",
    "        p = Path(path)\n",
    "\n",
    "        x = p.stem.split(\"_\")\n",
    "        data = {}\n",
    "        data['fps'] = int(x[1])\n",
    "        data['highquality'] = x[3]\n",
    "\n",
    "        rep_no = [x[-1] for x in path.split('/') if 'rep' in x][0]\n",
    "        data['rep'] = int(rep_no)\n",
    "        content = json.load(f)\n",
    "        data['records'] = content['_checkpoint']['records']\n",
    "\n",
    "        df = pd.DataFrame(data)\n",
    "        return process_df(df)"
   ]
  },
  {
   "cell_type": "code",
   "execution_count": 189,
   "metadata": {},
   "outputs": [],
   "source": [
    "dfs = []\n",
    "path = \"data/ronin/rep*/*/*.json\"\n",
    "for file_path in glob.glob(path):\n",
    "    # print(file_path)\n",
    "    dfs.append(make_df(file_path))\n",
    "\n",
    "df = pd.concat(dfs).sort_index()\n",
    "df = df[['driving_score', 'duration_system']]"
   ]
  },
  {
   "cell_type": "markdown",
   "metadata": {},
   "source": [
    "## FILTER DATA\n"
   ]
  },
  {
   "cell_type": "markdown",
   "metadata": {},
   "source": [
    "### Filter duplicated scenarios\n",
    "\n",
    "Filter scenarios that are exactly the same\n"
   ]
  },
  {
   "cell_type": "code",
   "execution_count": 190,
   "metadata": {},
   "outputs": [],
   "source": [
    "# Routes of theese scenarios are duplicated\n",
    "excluded_routes = [20, 21, 22, 23]\n",
    "df = df.drop(excluded_routes, level='route_index', axis=0)"
   ]
  },
  {
   "cell_type": "markdown",
   "metadata": {},
   "source": [
    "### Filter 16 FPS\n",
    "\n",
    "Carla crashes at 16 so we need to filter this results out\n"
   ]
  },
  {
   "cell_type": "code",
   "execution_count": 191,
   "metadata": {},
   "outputs": [],
   "source": [
    "# filter out 16 fps\n",
    "df = df.drop(\"16\", level='fps', axis=0)"
   ]
  },
  {
   "cell_type": "code",
   "execution_count": 192,
   "metadata": {},
   "outputs": [
    {
     "data": {
      "text/html": [
       "<div>\n",
       "<style scoped>\n",
       "    .dataframe tbody tr th:only-of-type {\n",
       "        vertical-align: middle;\n",
       "    }\n",
       "\n",
       "    .dataframe tbody tr th {\n",
       "        vertical-align: top;\n",
       "    }\n",
       "\n",
       "    .dataframe thead th {\n",
       "        text-align: right;\n",
       "    }\n",
       "</style>\n",
       "<table border=\"1\" class=\"dataframe\">\n",
       "  <thead>\n",
       "    <tr style=\"text-align: right;\">\n",
       "      <th></th>\n",
       "      <th></th>\n",
       "      <th></th>\n",
       "      <th></th>\n",
       "      <th>driving_score</th>\n",
       "      <th>duration_system</th>\n",
       "    </tr>\n",
       "    <tr>\n",
       "      <th>rep</th>\n",
       "      <th>fps</th>\n",
       "      <th>highquality</th>\n",
       "      <th>route_index</th>\n",
       "      <th></th>\n",
       "      <th></th>\n",
       "    </tr>\n",
       "  </thead>\n",
       "  <tbody>\n",
       "    <tr>\n",
       "      <th rowspan=\"5\" valign=\"top\">0</th>\n",
       "      <th rowspan=\"5\" valign=\"top\">10</th>\n",
       "      <th rowspan=\"5\" valign=\"top\">False</th>\n",
       "      <th>0</th>\n",
       "      <td>0.026306</td>\n",
       "      <td>642.428658</td>\n",
       "    </tr>\n",
       "    <tr>\n",
       "      <th>1</th>\n",
       "      <td>0.232490</td>\n",
       "      <td>536.358014</td>\n",
       "    </tr>\n",
       "    <tr>\n",
       "      <th>2</th>\n",
       "      <td>0.113361</td>\n",
       "      <td>489.848481</td>\n",
       "    </tr>\n",
       "    <tr>\n",
       "      <th>3</th>\n",
       "      <td>0.432466</td>\n",
       "      <td>277.129590</td>\n",
       "    </tr>\n",
       "    <tr>\n",
       "      <th>4</th>\n",
       "      <td>0.168521</td>\n",
       "      <td>404.950006</td>\n",
       "    </tr>\n",
       "    <tr>\n",
       "      <th>...</th>\n",
       "      <th>...</th>\n",
       "      <th>...</th>\n",
       "      <th>...</th>\n",
       "      <td>...</td>\n",
       "      <td>...</td>\n",
       "    </tr>\n",
       "    <tr>\n",
       "      <th rowspan=\"5\" valign=\"top\">9</th>\n",
       "      <th rowspan=\"5\" valign=\"top\">20</th>\n",
       "      <th rowspan=\"5\" valign=\"top\">True</th>\n",
       "      <th>127</th>\n",
       "      <td>1.000000</td>\n",
       "      <td>287.689000</td>\n",
       "    </tr>\n",
       "    <tr>\n",
       "      <th>128</th>\n",
       "      <td>1.000000</td>\n",
       "      <td>397.439014</td>\n",
       "    </tr>\n",
       "    <tr>\n",
       "      <th>129</th>\n",
       "      <td>1.000000</td>\n",
       "      <td>234.884112</td>\n",
       "    </tr>\n",
       "    <tr>\n",
       "      <th>130</th>\n",
       "      <td>0.600000</td>\n",
       "      <td>373.658720</td>\n",
       "    </tr>\n",
       "    <tr>\n",
       "      <th>131</th>\n",
       "      <td>0.965542</td>\n",
       "      <td>459.435260</td>\n",
       "    </tr>\n",
       "  </tbody>\n",
       "</table>\n",
       "<p>17920 rows × 2 columns</p>\n",
       "</div>"
      ],
      "text/plain": [
       "                                 driving_score  duration_system\n",
       "rep fps highquality route_index                                \n",
       "0   10  False       0                 0.026306       642.428658\n",
       "                    1                 0.232490       536.358014\n",
       "                    2                 0.113361       489.848481\n",
       "                    3                 0.432466       277.129590\n",
       "                    4                 0.168521       404.950006\n",
       "...                                        ...              ...\n",
       "9   20  True        127               1.000000       287.689000\n",
       "                    128               1.000000       397.439014\n",
       "                    129               1.000000       234.884112\n",
       "                    130               0.600000       373.658720\n",
       "                    131               0.965542       459.435260\n",
       "\n",
       "[17920 rows x 2 columns]"
      ]
     },
     "execution_count": 192,
     "metadata": {},
     "output_type": "execute_result"
    }
   ],
   "source": [
    "df"
   ]
  },
  {
   "cell_type": "markdown",
   "metadata": {},
   "source": [
    "## PROCESS DATA\n"
   ]
  },
  {
   "cell_type": "markdown",
   "metadata": {},
   "source": [
    "### Driving score error\n"
   ]
  },
  {
   "cell_type": "code",
   "execution_count": 193,
   "metadata": {},
   "outputs": [
    {
     "name": "stdout",
     "output_type": "stream",
     "text": [
      "<class 'pandas.core.frame.DataFrame'>\n",
      "MultiIndex: 1280 entries, (0, '20', 'True', 0) to (9, '20', 'True', 131)\n",
      "Data columns (total 2 columns):\n",
      " #   Column           Non-Null Count  Dtype  \n",
      "---  ------           --------------  -----  \n",
      " 0   driving_score    1280 non-null   float64\n",
      " 1   duration_system  1280 non-null   float64\n",
      "dtypes: float64(2)\n",
      "memory usage: 32.4+ KB\n"
     ]
    }
   ],
   "source": [
    "oracle_df = df.xs((\"20\", \"True\"), level=[\n",
    "    'fps', 'highquality'], drop_level=False).sort_index()\n",
    "oracle_df.info()"
   ]
  },
  {
   "cell_type": "code",
   "execution_count": 194,
   "metadata": {},
   "outputs": [],
   "source": [
    "\n",
    "# oracle driving score per scenario\n",
    "oracle_vec = oracle_df.groupby('route_index')['driving_score'].mean()\n",
    "df['driving_score_error'] = (df['driving_score'] - oracle_vec).abs()\n",
    "\n",
    "# df"
   ]
  },
  {
   "cell_type": "markdown",
   "metadata": {},
   "source": [
    "## INVESTIGATE\n"
   ]
  },
  {
   "cell_type": "markdown",
   "metadata": {},
   "source": [
    "### Labeling\n",
    "\n",
    "Labeling scenario safety\n"
   ]
  },
  {
   "cell_type": "code",
   "execution_count": 195,
   "metadata": {},
   "outputs": [],
   "source": [
    "# consider only highquality rendering for now\n",
    "data = df.xs(\"True\", level='highquality')\n",
    "\n",
    "# average the data across repetitions\n",
    "data = data.groupby(['fps', 'route_index'])[\n",
    "    'driving_score_error'].mean().to_frame()"
   ]
  },
  {
   "cell_type": "code",
   "execution_count": 196,
   "metadata": {},
   "outputs": [],
   "source": [
    "\n",
    "safe_threshold = 0.01\n",
    "risky_threshold = 0.25\n",
    "\n",
    "data.loc[:, 'label'] = np.select(\n",
    "    [data['driving_score_error'] < safe_threshold,\n",
    "     data['driving_score_error'].between(safe_threshold, risky_threshold),\n",
    "     data['driving_score_error'] > risky_threshold,\n",
    "     ],\n",
    "    ['safe', 'moderate', 'risky',],\n",
    ")"
   ]
  },
  {
   "cell_type": "code",
   "execution_count": 197,
   "metadata": {},
   "outputs": [],
   "source": [
    "def draw_dist(data):\n",
    "\n",
    "    fig, (ax1,  ax2) = plt.subplots(1, 2, sharex=True)\n",
    "\n",
    "    # fig.set_figheight(15)\n",
    "    fig.set_figwidth(10)\n",
    "\n",
    "    sns.histplot(\n",
    "        data, x=\"fps\", hue='label', hue_order=['risky', 'moderate', 'safe'], multiple=\"stack\",  shrink=.8, ax=ax1\n",
    "    )\n",
    "\n",
    "    sns.stripplot(data, x='fps', y='driving_score_error', hue_order=['risky', 'moderate', 'safe'],\n",
    "                  hue='label', ax=ax2)"
   ]
  },
  {
   "cell_type": "code",
   "execution_count": 198,
   "metadata": {},
   "outputs": [
    {
     "data": {
      "image/png": "[encoded data removed]",
      "text/plain": [
       "<Figure size 1000x480 with 2 Axes>"
      ]
     },
     "metadata": {},
     "output_type": "display_data"
    }
   ],
   "source": [
    "draw_dist(data)"
   ]
  },
  {
   "cell_type": "markdown",
   "metadata": {},
   "source": [
    "### Non flakey\n",
    "\n",
    "Keep only safe scenarios from highfidelity\n"
   ]
  },
  {
   "cell_type": "code",
   "execution_count": 199,
   "metadata": {},
   "outputs": [],
   "source": [
    "highfid = data.xs(\"20\")\n",
    "safe_mask = highfid['label'] == 'safe'\n",
    "# safe_mask\n",
    "nonflakey = data.where(safe_mask).dropna()"
   ]
  },
  {
   "cell_type": "code",
   "execution_count": 200,
   "metadata": {},
   "outputs": [
    {
     "data": {
      "text/html": [
       "<div>\n",
       "<style scoped>\n",
       "    .dataframe tbody tr th:only-of-type {\n",
       "        vertical-align: middle;\n",
       "    }\n",
       "\n",
       "    .dataframe tbody tr th {\n",
       "        vertical-align: top;\n",
       "    }\n",
       "\n",
       "    .dataframe thead th {\n",
       "        text-align: right;\n",
       "    }\n",
       "</style>\n",
       "<table border=\"1\" class=\"dataframe\">\n",
       "  <thead>\n",
       "    <tr style=\"text-align: right;\">\n",
       "      <th></th>\n",
       "      <th>driving_score_error</th>\n",
       "      <th>label</th>\n",
       "    </tr>\n",
       "    <tr>\n",
       "      <th>fps</th>\n",
       "      <th></th>\n",
       "      <th></th>\n",
       "    </tr>\n",
       "  </thead>\n",
       "  <tbody>\n",
       "    <tr>\n",
       "      <th>10</th>\n",
       "      <td>92</td>\n",
       "      <td>92</td>\n",
       "    </tr>\n",
       "    <tr>\n",
       "      <th>12</th>\n",
       "      <td>92</td>\n",
       "      <td>92</td>\n",
       "    </tr>\n",
       "    <tr>\n",
       "      <th>14</th>\n",
       "      <td>92</td>\n",
       "      <td>92</td>\n",
       "    </tr>\n",
       "    <tr>\n",
       "      <th>15</th>\n",
       "      <td>92</td>\n",
       "      <td>92</td>\n",
       "    </tr>\n",
       "    <tr>\n",
       "      <th>17</th>\n",
       "      <td>92</td>\n",
       "      <td>92</td>\n",
       "    </tr>\n",
       "    <tr>\n",
       "      <th>18</th>\n",
       "      <td>92</td>\n",
       "      <td>92</td>\n",
       "    </tr>\n",
       "    <tr>\n",
       "      <th>20</th>\n",
       "      <td>92</td>\n",
       "      <td>92</td>\n",
       "    </tr>\n",
       "  </tbody>\n",
       "</table>\n",
       "</div>"
      ],
      "text/plain": [
       "     driving_score_error  label\n",
       "fps                            \n",
       "10                    92     92\n",
       "12                    92     92\n",
       "14                    92     92\n",
       "15                    92     92\n",
       "17                    92     92\n",
       "18                    92     92\n",
       "20                    92     92"
      ]
     },
     "execution_count": 200,
     "metadata": {},
     "output_type": "execute_result"
    }
   ],
   "source": [
    "nonflakey.groupby('fps').count()"
   ]
  },
  {
   "cell_type": "code",
   "execution_count": 201,
   "metadata": {},
   "outputs": [
    {
     "data": {
      "image/png": "[encoded data removed]",
      "text/plain": [
       "<Figure size 1000x480 with 2 Axes>"
      ]
     },
     "metadata": {},
     "output_type": "display_data"
    }
   ],
   "source": [
    "\n",
    "draw_dist(nonflakey)"
   ]
  },
  {
   "cell_type": "code",
   "execution_count": 202,
   "metadata": {},
   "outputs": [
    {
     "data": {
      "image/png": "[encoded data removed]",
      "text/plain": [
       "<Figure size 1000x480 with 2 Axes>"
      ]
     },
     "metadata": {},
     "output_type": "display_data"
    }
   ],
   "source": [
    "onlyflakey = data.where(~safe_mask).dropna()\n",
    "draw_dist(onlyflakey)"
   ]
  },
  {
   "cell_type": "markdown",
   "metadata": {},
   "source": [
    "### Sankey diagram\n"
   ]
  },
  {
   "cell_type": "code",
   "execution_count": 203,
   "metadata": {},
   "outputs": [],
   "source": [
    "from itertools import product\n",
    "from dataclasses import dataclass\n",
    "\n",
    "\n",
    "@dataclass\n",
    "class Transition:\n",
    "    \"\"\"Class for keeping track of an item in inventory.\"\"\"\n",
    "    source_fps: str\n",
    "    source_label: str\n",
    "    target_fps: str\n",
    "    target_label: str\n",
    "    value: int\n",
    "\n",
    "    @property\n",
    "    def source(self) -> str:\n",
    "        return f\"{self.source_fps} {self.source_label}\"\n",
    "\n",
    "    @property\n",
    "    def target(self) -> str:\n",
    "        return f\"{self.target_fps} {self.target_label}\"\n",
    "\n",
    "    def __str__(self) -> str:\n",
    "        return f'For {self.source_fps} {self.source_label} -> {self.target_fps} {self.target_label}: {self.value}'\n",
    "\n",
    "\n",
    "transitions: list[Transition] = []"
   ]
  },
  {
   "cell_type": "code",
   "execution_count": 204,
   "metadata": {},
   "outputs": [],
   "source": [
    "fps_values = [\"10\", \"12\", \"15\", \"17\", \"20\"]\n",
    "sankey_data = data.loc[fps_values, :]"
   ]
  },
  {
   "cell_type": "code",
   "execution_count": 205,
   "metadata": {},
   "outputs": [],
   "source": [
    "\n",
    "# reversing at the end\n",
    "batches = list(sankey_data.groupby('fps'))[::-1]\n",
    "\n",
    "# outer loop iterates over pairs of fps values (20, 18), (18, 17), (17, 15)...\n",
    "for (source_fps, source_batch), (target_fps, target_batch) in zip(batches, batches[1:]):\n",
    "\n",
    "    source_batches = list(source_batch.groupby('label'))\n",
    "    target_batches = list(target_batch.groupby('label'))\n",
    "\n",
    "    # inner loop iterates over pairs (safe, safe), (safe, moderate) ... to capture transitions\n",
    "    for (source_label, source_label_batch),  (target_label, target_label_batch) in product(source_batches, target_batches):\n",
    "\n",
    "        # merge batches with inner to calculate intersection between them\n",
    "        merged = pd.merge(source_label_batch, target_label_batch,\n",
    "                          how='inner', on=['route_index'])\n",
    "\n",
    "        # size of merged is transition value\n",
    "        value = merged.shape[0]\n",
    "        t = Transition(source_fps, source_label,\n",
    "                       target_fps, target_label, value)\n",
    "        # print(t)\n",
    "        transitions.append(t)"
   ]
  },
  {
   "cell_type": "code",
   "execution_count": 206,
   "metadata": {},
   "outputs": [
    {
     "data": {
      "text/plain": [
       "dict_values(['rgb(0, 200, 0)', 'rgb(200, 0, 0)', 'rgb(0, 0, 200)', 'rgb(0, 200, 0)', 'rgb(200, 0, 0)', 'rgb(0, 0, 200)', 'rgb(0, 200, 0)', 'rgb(200, 0, 0)', 'rgb(0, 0, 200)', 'rgb(0, 200, 0)', 'rgb(200, 0, 0)', 'rgb(0, 0, 200)', 'rgb(0, 200, 0)', 'rgb(200, 0, 0)', 'rgb(0, 0, 200)'])"
      ]
     },
     "execution_count": 206,
     "metadata": {},
     "output_type": "execute_result"
    }
   ],
   "source": [
    "from itertools import cycle\n",
    "\n",
    "figure_labels = [(t.source, t.target) for t in transitions]\n",
    "figure_labels = {x for xs in figure_labels for x in xs}\n",
    "figure_labels = list(figure_labels)\n",
    "figure_labels = sorted(figure_labels, reverse=True)\n",
    "fl_index_mapping = {fg: i for i, fg in enumerate(figure_labels)}\n",
    "fl_index_mapping\n",
    "\n",
    "colors = cycle(['rgb(0, 200, 0)', 'rgb(200, 0, 0)',  'rgb(0, 0, 200)'])\n",
    "fl_color_mapping = dict(zip(figure_labels, colors))\n",
    "fl_color_mapping.values()"
   ]
  },
  {
   "cell_type": "code",
   "execution_count": 207,
   "metadata": {},
   "outputs": [],
   "source": [
    "links = np.array([(fl_index_mapping[t.source], fl_index_mapping[t.target], t.value)\n",
    "                  for t in transitions])\n",
    "links = links.T\n",
    "# links"
   ]
  },
  {
   "cell_type": "code",
   "execution_count": 208,
   "metadata": {},
   "outputs": [
    {
     "data": {
      "application/vnd.plotly.v1+json": {
       "config": {
        "plotlyServerURL": "https://plot.ly"
       },
       "data": [
        {
         "arrangement": "snap",
         "link": {
          "arrowlen": 0,
          "hovertemplate": " ",
          "source": [
           2,
           2,
           2,
           1,
           1,
           1,
           0,
           0,
           0,
           5,
           5,
           5,
           4,
           4,
           4,
           3,
           3,
           3,
           8,
           8,
           8,
           7,
           7,
           7,
           6,
           6,
           6,
           11,
           11,
           11,
           10,
           10,
           10,
           9,
           9,
           9
          ],
          "target": [
           5,
           4,
           3,
           5,
           4,
           3,
           5,
           4,
           3,
           8,
           7,
           6,
           8,
           7,
           6,
           8,
           7,
           6,
           11,
           10,
           9,
           11,
           10,
           9,
           11,
           10,
           9,
           14,
           13,
           12,
           14,
           13,
           12,
           14,
           13,
           12
          ],
          "value": [
           30,
           4,
           0,
           0,
           2,
           0,
           17,
           5,
           70,
           29,
           11,
           7,
           4,
           6,
           1,
           9,
           3,
           58,
           19,
           20,
           3,
           4,
           16,
           0,
           10,
           23,
           33,
           12,
           16,
           5,
           2,
           57,
           0,
           7,
           5,
           24
          ]
         },
         "node": {
          "color": [
           "rgb(0, 200, 0)",
           "rgb(200, 0, 0)",
           "rgb(0, 0, 200)",
           "rgb(0, 200, 0)",
           "rgb(200, 0, 0)",
           "rgb(0, 0, 200)",
           "rgb(0, 200, 0)",
           "rgb(200, 0, 0)",
           "rgb(0, 0, 200)",
           "rgb(0, 200, 0)",
           "rgb(200, 0, 0)",
           "rgb(0, 0, 200)",
           "rgb(0, 200, 0)",
           "rgb(200, 0, 0)",
           "rgb(0, 0, 200)"
          ],
          "customdata": [
           "20 safe",
           "20 risky",
           "20 moderate",
           "17 safe",
           "17 risky",
           "17 moderate",
           "15 safe",
           "15 risky",
           "15 moderate",
           "12 safe",
           "12 risky",
           "12 moderate",
           "10 safe",
           "10 risky",
           "10 moderate"
          ],
          "hovertemplate": "%{customdata} has total value %{value}<extra></extra>",
          "label": [
           "20 safe",
           "20 risky",
           "20 moderate",
           "17 safe",
           "17 risky",
           "17 moderate",
           "15 safe",
           "15 risky",
           "15 moderate",
           "12 safe",
           "12 risky",
           "12 moderate",
           "10 safe",
           "10 risky",
           "10 moderate"
          ],
          "line": {
           "color": "green",
           "width": 0.5
          },
          "pad": 15,
          "thickness": 10
         },
         "type": "sankey"
        }
       ],
       "layout": {
        "font": {
         "size": 20
        },
        "template": {
         "data": {
          "bar": [
           {
            "error_x": {
             "color": "#2a3f5f"
            },
            "error_y": {
             "color": "#2a3f5f"
            },
            "marker": {
             "line": {
              "color": "#E5ECF6",
              "width": 0.5
             },
             "pattern": {
              "fillmode": "overlay",
              "size": 10,
              "solidity": 0.2
             }
            },
            "type": "bar"
           }
          ],
          "barpolar": [
           {
            "marker": {
             "line": {
              "color": "#E5ECF6",
              "width": 0.5
             },
             "pattern": {
              "fillmode": "overlay",
              "size": 10,
              "solidity": 0.2
             }
            },
            "type": "barpolar"
           }
          ],
          "carpet": [
           {
            "aaxis": {
             "endlinecolor": "#2a3f5f",
             "gridcolor": "white",
             "linecolor": "white",
             "minorgridcolor": "white",
             "startlinecolor": "#2a3f5f"
            },
            "baxis": {
             "endlinecolor": "#2a3f5f",
             "gridcolor": "white",
             "linecolor": "white",
             "minorgridcolor": "white",
             "startlinecolor": "#2a3f5f"
            },
            "type": "carpet"
           }
          ],
          "choropleth": [
           {
            "colorbar": {
             "outlinewidth": 0,
             "ticks": ""
            },
            "type": "choropleth"
           }
          ],
          "contour": [
           {
            "colorbar": {
             "outlinewidth": 0,
             "ticks": ""
            },
            "colorscale": [
             [
              0,
              "#0d0887"
             ],
             [
              0.1111111111111111,
              "#46039f"
             ],
             [
              0.2222222222222222,
              "#7201a8"
             ],
             [
              0.3333333333333333,
              "#9c179e"
             ],
             [
              0.4444444444444444,
              "#bd3786"
             ],
             [
              0.5555555555555556,
              "#d8576b"
             ],
             [
              0.6666666666666666,
              "#ed7953"
             ],
             [
              0.7777777777777778,
              "#fb9f3a"
             ],
             [
              0.8888888888888888,
              "#fdca26"
             ],
             [
              1,
              "#f0f921"
             ]
            ],
            "type": "contour"
           }
          ],
          "contourcarpet": [
           {
            "colorbar": {
             "outlinewidth": 0,
             "ticks": ""
            },
            "type": "contourcarpet"
           }
          ],
          "heatmap": [
           {
            "colorbar": {
             "outlinewidth": 0,
             "ticks": ""
            },
            "colorscale": [
             [
              0,
              "#0d0887"
             ],
             [
              0.1111111111111111,
              "#46039f"
             ],
             [
              0.2222222222222222,
              "#7201a8"
             ],
             [
              0.3333333333333333,
              "#9c179e"
             ],
             [
              0.4444444444444444,
              "#bd3786"
             ],
             [
              0.5555555555555556,
              "#d8576b"
             ],
             [
              0.6666666666666666,
              "#ed7953"
             ],
             [
              0.7777777777777778,
              "#fb9f3a"
             ],
             [
              0.8888888888888888,
              "#fdca26"
             ],
             [
              1,
              "#f0f921"
             ]
            ],
            "type": "heatmap"
           }
          ],
          "heatmapgl": [
           {
            "colorbar": {
             "outlinewidth": 0,
             "ticks": ""
            },
            "colorscale": [
             [
              0,
              "#0d0887"
             ],
             [
              0.1111111111111111,
              "#46039f"
             ],
             [
              0.2222222222222222,
              "#7201a8"
             ],
             [
              0.3333333333333333,
              "#9c179e"
             ],
             [
              0.4444444444444444,
              "#bd3786"
             ],
             [
              0.5555555555555556,
              "#d8576b"
             ],
             [
              0.6666666666666666,
              "#ed7953"
             ],
             [
              0.7777777777777778,
              "#fb9f3a"
             ],
             [
              0.8888888888888888,
              "#fdca26"
             ],
             [
              1,
              "#f0f921"
             ]
            ],
            "type": "heatmapgl"
           }
          ],
          "histogram": [
           {
            "marker": {
             "pattern": {
              "fillmode": "overlay",
              "size": 10,
              "solidity": 0.2
             }
            },
            "type": "histogram"
           }
          ],
          "histogram2d": [
           {
            "colorbar": {
             "outlinewidth": 0,
             "ticks": ""
            },
            "colorscale": [
             [
              0,
              "#0d0887"
             ],
             [
              0.1111111111111111,
              "#46039f"
             ],
             [
              0.2222222222222222,
              "#7201a8"
             ],
             [
              0.3333333333333333,
              "#9c179e"
             ],
             [
              0.4444444444444444,
              "#bd3786"
             ],
             [
              0.5555555555555556,
              "#d8576b"
             ],
             [
              0.6666666666666666,
              "#ed7953"
             ],
             [
              0.7777777777777778,
              "#fb9f3a"
             ],
             [
              0.8888888888888888,
              "#fdca26"
             ],
             [
              1,
              "#f0f921"
             ]
            ],
            "type": "histogram2d"
           }
          ],
          "histogram2dcontour": [
           {
            "colorbar": {
             "outlinewidth": 0,
             "ticks": ""
            },
            "colorscale": [
             [
              0,
              "#0d0887"
             ],
             [
              0.1111111111111111,
              "#46039f"
             ],
             [
              0.2222222222222222,
              "#7201a8"
             ],
             [
              0.3333333333333333,
              "#9c179e"
             ],
             [
              0.4444444444444444,
              "#bd3786"
             ],
             [
              0.5555555555555556,
              "#d8576b"
             ],
             [
              0.6666666666666666,
              "#ed7953"
             ],
             [
              0.7777777777777778,
              "#fb9f3a"
             ],
             [
              0.8888888888888888,
              "#fdca26"
             ],
             [
              1,
              "#f0f921"
             ]
            ],
            "type": "histogram2dcontour"
           }
          ],
          "mesh3d": [
           {
            "colorbar": {
             "outlinewidth": 0,
             "ticks": ""
            },
            "type": "mesh3d"
           }
          ],
          "parcoords": [
           {
            "line": {
             "colorbar": {
              "outlinewidth": 0,
              "ticks": ""
             }
            },
            "type": "parcoords"
           }
          ],
          "pie": [
           {
            "automargin": true,
            "type": "pie"
           }
          ],
          "scatter": [
           {
            "fillpattern": {
             "fillmode": "overlay",
             "size": 10,
             "solidity": 0.2
            },
            "type": "scatter"
           }
          ],
          "scatter3d": [
           {
            "line": {
             "colorbar": {
              "outlinewidth": 0,
              "ticks": ""
             }
            },
            "marker": {
             "colorbar": {
              "outlinewidth": 0,
              "ticks": ""
             }
            },
            "type": "scatter3d"
           }
          ],
          "scattercarpet": [
           {
            "marker": {
             "colorbar": {
              "outlinewidth": 0,
              "ticks": ""
             }
            },
            "type": "scattercarpet"
           }
          ],
          "scattergeo": [
           {
            "marker": {
             "colorbar": {
              "outlinewidth": 0,
              "ticks": ""
             }
            },
            "type": "scattergeo"
           }
          ],
          "scattergl": [
           {
            "marker": {
             "colorbar": {
              "outlinewidth": 0,
              "ticks": ""
             }
            },
            "type": "scattergl"
           }
          ],
          "scattermapbox": [
           {
            "marker": {
             "colorbar": {
              "outlinewidth": 0,
              "ticks": ""
             }
            },
            "type": "scattermapbox"
           }
          ],
          "scatterpolar": [
           {
            "marker": {
             "colorbar": {
              "outlinewidth": 0,
              "ticks": ""
             }
            },
            "type": "scatterpolar"
           }
          ],
          "scatterpolargl": [
           {
            "marker": {
             "colorbar": {
              "outlinewidth": 0,
              "ticks": ""
             }
            },
            "type": "scatterpolargl"
           }
          ],
          "scatterternary": [
           {
            "marker": {
             "colorbar": {
              "outlinewidth": 0,
              "ticks": ""
             }
            },
            "type": "scatterternary"
           }
          ],
          "surface": [
           {
            "colorbar": {
             "outlinewidth": 0,
             "ticks": ""
            },
            "colorscale": [
             [
              0,
              "#0d0887"
             ],
             [
              0.1111111111111111,
              "#46039f"
             ],
             [
              0.2222222222222222,
              "#7201a8"
             ],
             [
              0.3333333333333333,
              "#9c179e"
             ],
             [
              0.4444444444444444,
              "#bd3786"
             ],
             [
              0.5555555555555556,
              "#d8576b"
             ],
             [
              0.6666666666666666,
              "#ed7953"
             ],
             [
              0.7777777777777778,
              "#fb9f3a"
             ],
             [
              0.8888888888888888,
              "#fdca26"
             ],
             [
              1,
              "#f0f921"
             ]
            ],
            "type": "surface"
           }
          ],
          "table": [
           {
            "cells": {
             "fill": {
              "color": "#EBF0F8"
             },
             "line": {
              "color": "white"
             }
            },
            "header": {
             "fill": {
              "color": "#C8D4E3"
             },
             "line": {
              "color": "white"
             }
            },
            "type": "table"
           }
          ]
         },
         "layout": {
          "annotationdefaults": {
           "arrowcolor": "#2a3f5f",
           "arrowhead": 0,
           "arrowwidth": 1
          },
          "autotypenumbers": "strict",
          "coloraxis": {
           "colorbar": {
            "outlinewidth": 0,
            "ticks": ""
           }
          },
          "colorscale": {
           "diverging": [
            [
             0,
             "#8e0152"
            ],
            [
             0.1,
             "#c51b7d"
            ],
            [
             0.2,
             "#de77ae"
            ],
            [
             0.3,
             "#f1b6da"
            ],
            [
             0.4,
             "#fde0ef"
            ],
            [
             0.5,
             "#f7f7f7"
            ],
            [
             0.6,
             "#e6f5d0"
            ],
            [
             0.7,
             "#b8e186"
            ],
            [
             0.8,
             "#7fbc41"
            ],
            [
             0.9,
             "#4d9221"
            ],
            [
             1,
             "#276419"
            ]
           ],
           "sequential": [
            [
             0,
             "#0d0887"
            ],
            [
             0.1111111111111111,
             "#46039f"
            ],
            [
             0.2222222222222222,
             "#7201a8"
            ],
            [
             0.3333333333333333,
             "#9c179e"
            ],
            [
             0.4444444444444444,
             "#bd3786"
            ],
            [
             0.5555555555555556,
             "#d8576b"
            ],
            [
             0.6666666666666666,
             "#ed7953"
            ],
            [
             0.7777777777777778,
             "#fb9f3a"
            ],
            [
             0.8888888888888888,
             "#fdca26"
            ],
            [
             1,
             "#f0f921"
            ]
           ],
           "sequentialminus": [
            [
             0,
             "#0d0887"
            ],
            [
             0.1111111111111111,
             "#46039f"
            ],
            [
             0.2222222222222222,
             "#7201a8"
            ],
            [
             0.3333333333333333,
             "#9c179e"
            ],
            [
             0.4444444444444444,
             "#bd3786"
            ],
            [
             0.5555555555555556,
             "#d8576b"
            ],
            [
             0.6666666666666666,
             "#ed7953"
            ],
            [
             0.7777777777777778,
             "#fb9f3a"
            ],
            [
             0.8888888888888888,
             "#fdca26"
            ],
            [
             1,
             "#f0f921"
            ]
           ]
          },
          "colorway": [
           "#636efa",
           "#EF553B",
           "#00cc96",
           "#ab63fa",
           "#FFA15A",
           "#19d3f3",
           "#FF6692",
           "#B6E880",
           "#FF97FF",
           "#FECB52"
          ],
          "font": {
           "color": "#2a3f5f"
          },
          "geo": {
           "bgcolor": "white",
           "lakecolor": "white",
           "landcolor": "#E5ECF6",
           "showlakes": true,
           "showland": true,
           "subunitcolor": "white"
          },
          "hoverlabel": {
           "align": "left"
          },
          "hovermode": "closest",
          "mapbox": {
           "style": "light"
          },
          "paper_bgcolor": "white",
          "plot_bgcolor": "#E5ECF6",
          "polar": {
           "angularaxis": {
            "gridcolor": "white",
            "linecolor": "white",
            "ticks": ""
           },
           "bgcolor": "#E5ECF6",
           "radialaxis": {
            "gridcolor": "white",
            "linecolor": "white",
            "ticks": ""
           }
          },
          "scene": {
           "xaxis": {
            "backgroundcolor": "#E5ECF6",
            "gridcolor": "white",
            "gridwidth": 2,
            "linecolor": "white",
            "showbackground": true,
            "ticks": "",
            "zerolinecolor": "white"
           },
           "yaxis": {
            "backgroundcolor": "#E5ECF6",
            "gridcolor": "white",
            "gridwidth": 2,
            "linecolor": "white",
            "showbackground": true,
            "ticks": "",
            "zerolinecolor": "white"
           },
           "zaxis": {
            "backgroundcolor": "#E5ECF6",
            "gridcolor": "white",
            "gridwidth": 2,
            "linecolor": "white",
            "showbackground": true,
            "ticks": "",
            "zerolinecolor": "white"
           }
          },
          "shapedefaults": {
           "line": {
            "color": "#2a3f5f"
           }
          },
          "ternary": {
           "aaxis": {
            "gridcolor": "white",
            "linecolor": "white",
            "ticks": ""
           },
           "baxis": {
            "gridcolor": "white",
            "linecolor": "white",
            "ticks": ""
           },
           "bgcolor": "#E5ECF6",
           "caxis": {
            "gridcolor": "white",
            "linecolor": "white",
            "ticks": ""
           }
          },
          "title": {
           "x": 0.05
          },
          "xaxis": {
           "automargin": true,
           "gridcolor": "white",
           "linecolor": "white",
           "ticks": "",
           "title": {
            "standoff": 15
           },
           "zerolinecolor": "white",
           "zerolinewidth": 2
          },
          "yaxis": {
           "automargin": true,
           "gridcolor": "white",
           "linecolor": "white",
           "ticks": "",
           "title": {
            "standoff": 15
           },
           "zerolinecolor": "white",
           "zerolinewidth": 2
          }
         }
        }
       }
      }
     },
     "metadata": {},
     "output_type": "display_data"
    }
   ],
   "source": [
    "import plotly.graph_objects as go\n",
    "\n",
    "fig = go.Figure(data=[go.Sankey(\n",
    "    arrangement='snap',\n",
    "    node=dict(\n",
    "        pad=15,\n",
    "        thickness=10,\n",
    "        line=dict(color=\"green\", width=0.5),\n",
    "        label=list(fl_index_mapping.keys()),\n",
    "        customdata=list(fl_index_mapping.keys()),\n",
    "        hovertemplate='%{customdata} has total value %{value}<extra></extra>',\n",
    "        color=list(fl_color_mapping.values())\n",
    "    ),\n",
    "    link=dict(\n",
    "\n",
    "        arrowlen=0,\n",
    "        source=links[0],\n",
    "        target=links[1],\n",
    "        value=links[2],\n",
    "        hovertemplate=' ',\n",
    "    ))])\n",
    "\n",
    "fig.update_layout(font_size=20)"
   ]
  },
  {
   "cell_type": "markdown",
   "metadata": {},
   "source": [
    "### Marking at 10FPS\n"
   ]
  },
  {
   "cell_type": "code",
   "execution_count": 209,
   "metadata": {},
   "outputs": [
    {
     "data": {
      "text/plain": [
       "<Axes: xlabel='fps', ylabel='driving_score_error'>"
      ]
     },
     "execution_count": 209,
     "metadata": {},
     "output_type": "execute_result"
    },
    {
     "data": {
      "image/png": "[encoded data removed]",
      "text/plain": [
       "<Figure size 640x480 with 1 Axes>"
      ]
     },
     "metadata": {},
     "output_type": "display_data"
    }
   ],
   "source": [
    "fps10_labels = data.xs(\"10\")['label'].rename(\"10FPS_label\")\n",
    "\n",
    "\n",
    "sns.stripplot(nonflakey.join(fps10_labels), x='fps', y='driving_score_error', hue_order=['risky', 'moderate', 'safe'],\n",
    "              hue='10FPS_label',)"
   ]
  },
  {
   "cell_type": "markdown",
   "metadata": {},
   "source": [
    "### Identifying Safe scenarios\n"
   ]
  },
  {
   "cell_type": "markdown",
   "metadata": {},
   "source": [
    "#### Indexes of safe scenarios\n"
   ]
  },
  {
   "cell_type": "code",
   "execution_count": 231,
   "metadata": {},
   "outputs": [
    {
     "data": {
      "text/plain": [
       "[24,\n",
       " 25,\n",
       " 30,\n",
       " 31,\n",
       " 35,\n",
       " 42,\n",
       " 43,\n",
       " 47,\n",
       " 66,\n",
       " 67,\n",
       " 69,\n",
       " 71,\n",
       " 85,\n",
       " 86,\n",
       " 91,\n",
       " 93,\n",
       " 102,\n",
       " 103,\n",
       " 104,\n",
       " 107,\n",
       " 112]"
      ]
     },
     "execution_count": 231,
     "metadata": {},
     "output_type": "execute_result"
    }
   ],
   "source": [
    "from functools import reduce\n",
    "\n",
    "safe_routes = []\n",
    "for fps, batch in data.groupby('fps', as_index=False):\n",
    "\n",
    "    mask = batch['label'] == 'safe'\n",
    "    safe_routes_for_fps = batch[mask].reset_index()['route_index'].to_list()\n",
    "    safe_routes.append(safe_routes_for_fps)\n",
    "\n",
    "\n",
    "def common_elements(x: list, y: list):\n",
    "    return list(set(x).intersection(y))\n",
    "\n",
    "\n",
    "safe_routes = reduce(common_elements, safe_routes)\n",
    "safe_routes"
   ]
  },
  {
   "cell_type": "code",
   "execution_count": 256,
   "metadata": {},
   "outputs": [
    {
     "data": {
      "text/html": [
       "<div>\n",
       "<style scoped>\n",
       "    .dataframe tbody tr th:only-of-type {\n",
       "        vertical-align: middle;\n",
       "    }\n",
       "\n",
       "    .dataframe tbody tr th {\n",
       "        vertical-align: top;\n",
       "    }\n",
       "\n",
       "    .dataframe thead th {\n",
       "        text-align: right;\n",
       "    }\n",
       "</style>\n",
       "<table border=\"1\" class=\"dataframe\">\n",
       "  <thead>\n",
       "    <tr style=\"text-align: right;\">\n",
       "      <th></th>\n",
       "      <th>driving_score</th>\n",
       "      <th>duration_system</th>\n",
       "      <th>driving_score_error</th>\n",
       "    </tr>\n",
       "    <tr>\n",
       "      <th>route_index</th>\n",
       "      <th></th>\n",
       "      <th></th>\n",
       "      <th></th>\n",
       "    </tr>\n",
       "  </thead>\n",
       "  <tbody>\n",
       "    <tr>\n",
       "      <th>24</th>\n",
       "      <td>1.000000</td>\n",
       "      <td>228.680996</td>\n",
       "      <td>0.000000</td>\n",
       "    </tr>\n",
       "    <tr>\n",
       "      <th>25</th>\n",
       "      <td>1.000000</td>\n",
       "      <td>372.696886</td>\n",
       "      <td>0.000703</td>\n",
       "    </tr>\n",
       "    <tr>\n",
       "      <th>30</th>\n",
       "      <td>1.000000</td>\n",
       "      <td>459.805793</td>\n",
       "      <td>0.000000</td>\n",
       "    </tr>\n",
       "    <tr>\n",
       "      <th>31</th>\n",
       "      <td>0.647951</td>\n",
       "      <td>1336.109468</td>\n",
       "      <td>0.000000</td>\n",
       "    </tr>\n",
       "    <tr>\n",
       "      <th>35</th>\n",
       "      <td>1.000000</td>\n",
       "      <td>196.154920</td>\n",
       "      <td>0.000000</td>\n",
       "    </tr>\n",
       "    <tr>\n",
       "      <th>42</th>\n",
       "      <td>1.000000</td>\n",
       "      <td>300.245931</td>\n",
       "      <td>0.000000</td>\n",
       "    </tr>\n",
       "    <tr>\n",
       "      <th>43</th>\n",
       "      <td>0.520909</td>\n",
       "      <td>1194.078574</td>\n",
       "      <td>0.000000</td>\n",
       "    </tr>\n",
       "    <tr>\n",
       "      <th>47</th>\n",
       "      <td>1.000000</td>\n",
       "      <td>388.662170</td>\n",
       "      <td>0.000000</td>\n",
       "    </tr>\n",
       "    <tr>\n",
       "      <th>66</th>\n",
       "      <td>1.000000</td>\n",
       "      <td>198.765698</td>\n",
       "      <td>0.000000</td>\n",
       "    </tr>\n",
       "    <tr>\n",
       "      <th>67</th>\n",
       "      <td>1.000000</td>\n",
       "      <td>88.300309</td>\n",
       "      <td>0.000000</td>\n",
       "    </tr>\n",
       "    <tr>\n",
       "      <th>69</th>\n",
       "      <td>0.004505</td>\n",
       "      <td>725.808478</td>\n",
       "      <td>0.000000</td>\n",
       "    </tr>\n",
       "    <tr>\n",
       "      <th>71</th>\n",
       "      <td>0.158114</td>\n",
       "      <td>1132.406619</td>\n",
       "      <td>0.000000</td>\n",
       "    </tr>\n",
       "    <tr>\n",
       "      <th>85</th>\n",
       "      <td>1.000000</td>\n",
       "      <td>467.112749</td>\n",
       "      <td>0.000000</td>\n",
       "    </tr>\n",
       "    <tr>\n",
       "      <th>86</th>\n",
       "      <td>0.572856</td>\n",
       "      <td>1257.266573</td>\n",
       "      <td>0.000519</td>\n",
       "    </tr>\n",
       "    <tr>\n",
       "      <th>91</th>\n",
       "      <td>0.209986</td>\n",
       "      <td>670.228835</td>\n",
       "      <td>0.000000</td>\n",
       "    </tr>\n",
       "    <tr>\n",
       "      <th>93</th>\n",
       "      <td>0.482719</td>\n",
       "      <td>727.953406</td>\n",
       "      <td>0.001967</td>\n",
       "    </tr>\n",
       "    <tr>\n",
       "      <th>102</th>\n",
       "      <td>1.000000</td>\n",
       "      <td>301.963490</td>\n",
       "      <td>0.000000</td>\n",
       "    </tr>\n",
       "    <tr>\n",
       "      <th>103</th>\n",
       "      <td>1.000000</td>\n",
       "      <td>102.271807</td>\n",
       "      <td>0.000000</td>\n",
       "    </tr>\n",
       "    <tr>\n",
       "      <th>104</th>\n",
       "      <td>0.140986</td>\n",
       "      <td>729.312644</td>\n",
       "      <td>0.000000</td>\n",
       "    </tr>\n",
       "    <tr>\n",
       "      <th>107</th>\n",
       "      <td>1.000000</td>\n",
       "      <td>155.469682</td>\n",
       "      <td>0.000000</td>\n",
       "    </tr>\n",
       "    <tr>\n",
       "      <th>112</th>\n",
       "      <td>1.000000</td>\n",
       "      <td>419.511168</td>\n",
       "      <td>0.000000</td>\n",
       "    </tr>\n",
       "  </tbody>\n",
       "</table>\n",
       "</div>"
      ],
      "text/plain": [
       "             driving_score  duration_system  driving_score_error\n",
       "route_index                                                     \n",
       "24                1.000000       228.680996             0.000000\n",
       "25                1.000000       372.696886             0.000703\n",
       "30                1.000000       459.805793             0.000000\n",
       "31                0.647951      1336.109468             0.000000\n",
       "35                1.000000       196.154920             0.000000\n",
       "42                1.000000       300.245931             0.000000\n",
       "43                0.520909      1194.078574             0.000000\n",
       "47                1.000000       388.662170             0.000000\n",
       "66                1.000000       198.765698             0.000000\n",
       "67                1.000000        88.300309             0.000000\n",
       "69                0.004505       725.808478             0.000000\n",
       "71                0.158114      1132.406619             0.000000\n",
       "85                1.000000       467.112749             0.000000\n",
       "86                0.572856      1257.266573             0.000519\n",
       "91                0.209986       670.228835             0.000000\n",
       "93                0.482719       727.953406             0.001967\n",
       "102               1.000000       301.963490             0.000000\n",
       "103               1.000000       102.271807             0.000000\n",
       "104               0.140986       729.312644             0.000000\n",
       "107               1.000000       155.469682             0.000000\n",
       "112               1.000000       419.511168             0.000000"
      ]
     },
     "execution_count": 256,
     "metadata": {},
     "output_type": "execute_result"
    }
   ],
   "source": [
    "fps = \"20\"\n",
    "safe_data = df.xs(\"20\", level='fps')\n",
    "safe_data = safe_data[safe_data.index.get_level_values(\n",
    "    'route_index').isin(safe_routes)]\n",
    "\n",
    "safe_data.xs(0, level='rep').xs(\"True\", level='highquality')"
   ]
  },
  {
   "cell_type": "markdown",
   "metadata": {},
   "source": [
    "#### Inspect above scenarios manually\n"
   ]
  },
  {
   "cell_type": "code",
   "execution_count": null,
   "metadata": {},
   "outputs": [],
   "source": []
  }
 ],
 "metadata": {
  "kernelspec": {
   "display_name": "data-science",
   "language": "python",
   "name": "python3"
  },
  "language_info": {
   "codemirror_mode": {
    "name": "ipython",
    "version": 3
   },
   "file_extension": ".py",
   "mimetype": "text/x-python",
   "name": "python",
   "nbconvert_exporter": "python",
   "pygments_lexer": "ipython3",
   "version": "3.12.1"
  }
 },
 "nbformat": 4,
 "nbformat_minor": 2
}
