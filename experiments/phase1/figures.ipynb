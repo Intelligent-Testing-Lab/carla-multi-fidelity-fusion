{
 "cells": [
  {
   "cell_type": "markdown",
   "metadata": {},
   "source": [
    "# Setup\n",
    "\n",
    "- ADS: Carla garage (TP++)\n",
    "- Repetitions: 1\n",
    "- 132 sliced scenarios"
   ]
  },
  {
   "cell_type": "markdown",
   "metadata": {},
   "source": [
    "# Loading data in one DF"
   ]
  },
  {
   "cell_type": "code",
   "execution_count": 61,
   "metadata": {},
   "outputs": [],
   "source": [
    "import json\n",
    "import glob\n",
    "import pandas as pd\n",
    "import matplotlib.pyplot as plt\n",
    "import scipy\n",
    "from pathlib import Path\n",
    "\n",
    "pd.set_option('display.max_rows', 30)"
   ]
  },
  {
   "cell_type": "code",
   "execution_count": 62,
   "metadata": {},
   "outputs": [],
   "source": [
    "def process_df(df):\n",
    "    record_df = pd.json_normalize(df['records'])\n",
    "    # concatenate records data\n",
    "    df = pd.concat([df, record_df],  axis=1)\n",
    "\n",
    "    # drop original column\n",
    "    df = df.drop('records', axis=1)\n",
    "\n",
    "    # drop infractions columns\n",
    "\n",
    "    # remove prefixes from column name\n",
    "    df.columns = df.columns.str.removeprefix('meta.')\n",
    "    df.columns = df.columns.str.removeprefix('scores.')\n",
    "    df['driving_score'] = df['score_composed'] / 100\n",
    "    # df = df.rename(columns={\"index\": \"route_index\"})\n",
    "    df = df.set_index(['fps', 'highquality', 'index'])\n",
    "    return df"
   ]
  },
  {
   "cell_type": "code",
   "execution_count": 63,
   "metadata": {},
   "outputs": [],
   "source": [
    "def make_df(path: str):\n",
    "    with open(path, \"r\") as f:\n",
    "        path = path.strip(\"data/.json\")\n",
    "        print(path)\n",
    "        it = iter(path.split(\"_\"))\n",
    "        data = dict(zip(it, it))\n",
    "\n",
    "        content = json.load(f)\n",
    "        data['records'] = content['_checkpoint']['records']\n",
    "\n",
    "        df = pd.DataFrame(data)\n",
    "        return process_df(df)"
   ]
  },
  {
   "cell_type": "code",
   "execution_count": 64,
   "metadata": {},
   "outputs": [
    {
     "name": "stdout",
     "output_type": "stream",
     "text": [
      "fps_20_highquality_True\n",
      "fps_20_highquality_False\n",
      "fps_10_highquality_False\n",
      "fps_30_highquality_True\n",
      "fps_18_highquality_True\n",
      "fps_12_highquality_True\n",
      "fps_14_highquality_True\n",
      "fps_10_highquality_True\n",
      "<class 'pandas.core.frame.DataFrame'>\n",
      "MultiIndex: 924 entries, ('20', 'True', 0) to ('10', 'True', 131)\n",
      "Data columns (total 18 columns):\n",
      " #   Column                             Non-Null Count  Dtype  \n",
      "---  ------                             --------------  -----  \n",
      " 0   route_id                           924 non-null    object \n",
      " 1   status                             924 non-null    object \n",
      " 2   infractions.collisions_layout      924 non-null    object \n",
      " 3   infractions.collisions_pedestrian  924 non-null    object \n",
      " 4   infractions.collisions_vehicle     924 non-null    object \n",
      " 5   infractions.outside_route_lanes    924 non-null    object \n",
      " 6   infractions.red_light              924 non-null    object \n",
      " 7   infractions.route_dev              924 non-null    object \n",
      " 8   infractions.route_timeout          924 non-null    object \n",
      " 9   infractions.stop_infraction        924 non-null    object \n",
      " 10  infractions.vehicle_blocked        924 non-null    object \n",
      " 11  duration_game                      924 non-null    float64\n",
      " 12  duration_system                    924 non-null    float64\n",
      " 13  route_length                       924 non-null    float64\n",
      " 14  score_composed                     924 non-null    float64\n",
      " 15  score_penalty                      924 non-null    float64\n",
      " 16  score_route                        924 non-null    float64\n",
      " 17  driving_score                      924 non-null    float64\n",
      "dtypes: float64(7), object(11)\n",
      "memory usage: 139.1+ KB\n"
     ]
    },
    {
     "name": "stderr",
     "output_type": "stream",
     "text": [
      "/tmp/ipykernel_9441/2381262022.py:8: PerformanceWarning: dropping on a non-lexsorted multi-index without a level parameter may impact performance.\n",
      "  df_combined = df_combined.drop(labels=['30'], axis=0)\n"
     ]
    }
   ],
   "source": [
    "\n",
    "\n",
    "dfs = []\n",
    "path = \"data/*.json\"\n",
    "for file_path in glob.glob(path):\n",
    "    dfs.append(make_df(file_path))\n",
    "\n",
    "df_combined = pd.concat(dfs)\n",
    "# drop 30 fps\n",
    "df_combined = df_combined.drop(labels=['30'], axis=0)\n",
    "df_combined.info()"
   ]
  },
  {
   "cell_type": "markdown",
   "metadata": {},
   "source": [
    "# Research questions\n",
    "\n",
    "\n",
    "- RQ1: How does lowering the simulation's fidelity affect its execution time?\n",
    "  - RQ1a: FPS impact on execution time\n",
    "  - RQ1b: Rendering quality impact on execution time\n",
    "- RQ2: How does lowering the simulation's fidelity affect evaluation results?\n",
    "  - RQ2a: FPS impact on evaluation results\n",
    "  - RQ2b: Rendering quality impact on evaluation results\n",
    "- RQ3: How does lowering the simulation's fidelity affect using existing ADS testing techniques?\n"
   ]
  },
  {
   "cell_type": "markdown",
   "metadata": {},
   "source": [
    "# Answering RQ1a & RQ2a"
   ]
  },
  {
   "cell_type": "code",
   "execution_count": 65,
   "metadata": {},
   "outputs": [],
   "source": [
    "# take all rows where we were using high quality\n",
    "df = df_combined.xs(\"True\", level='highquality')\n",
    "df = df.reset_index()"
   ]
  },
  {
   "cell_type": "code",
   "execution_count": 66,
   "metadata": {},
   "outputs": [
    {
     "data": {
      "text/plain": [
       "fps\n",
       "20    85.520782\n",
       "18    86.529388\n",
       "14    76.152762\n",
       "12    60.303150\n",
       "10    49.153971\n",
       "Name: score_composed, dtype: float64"
      ]
     },
     "execution_count": 66,
     "metadata": {},
     "output_type": "execute_result"
    }
   ],
   "source": [
    "df.groupby('fps')[\"score_composed\"].mean().sort_index(ascending=False)"
   ]
  },
  {
   "cell_type": "code",
   "execution_count": 67,
   "metadata": {},
   "outputs": [],
   "source": [
    "def plot(column: str, ax=None, col=\"b\"):\n",
    "    axes = df.groupby('fps')[column].mean().sort_index(\n",
    "        ascending=False).plot(linestyle='dashed', marker='s', color=col,)\n",
    "\n",
    "    return axes"
   ]
  },
  {
   "cell_type": "code",
   "execution_count": 68,
   "metadata": {},
   "outputs": [
    {
     "data": {
      "image/png": "[encoded data removed]",
      "text/plain": [
       "<Figure size 400x200 with 1 Axes>"
      ]
     },
     "metadata": {},
     "output_type": "display_data"
    }
   ],
   "source": [
    "fig, axes = plt.subplots(squeeze=True)\n",
    "fig.set_size_inches(4, 2)\n",
    "axes = plot(\"driving_score\", axes)\n",
    "axes.set_ylabel(f\"Driving score\", color='b')\n",
    "\n",
    "\n",
    "# axes = plot(\"duration_system\", axes.twinx(), 'g')\n",
    "# axes.set_ylabel(f\"System time [s]\", color='g')\n",
    "# axes.set_ylim(100)\n",
    "\n",
    "fig.savefig('plot.pdf', bbox_inches='tight')\n",
    "# fig"
   ]
  },
  {
   "cell_type": "code",
   "execution_count": null,
   "metadata": {},
   "outputs": [],
   "source": []
  },
  {
   "cell_type": "markdown",
   "metadata": {},
   "source": [
    "# Prediction error\n",
    "\n",
    "$\\operatorname {MSE} ={\\frac {1}{n}}\\sum _{i=1}^{n}\\left(Y_{i}-{\\hat {Y_{i}}}\\right)^{2}$"
   ]
  },
  {
   "cell_type": "code",
   "execution_count": 69,
   "metadata": {},
   "outputs": [
    {
     "name": "stderr",
     "output_type": "stream",
     "text": [
      "/tmp/ipykernel_9441/2506008785.py:4: SettingWithCopyWarning: \n",
      "A value is trying to be set on a copy of a slice from a DataFrame.\n",
      "Try using .loc[row_indexer,col_indexer] = value instead\n",
      "\n",
      "See the caveats in the documentation: https://pandas.pydata.org/pandas-docs/stable/user_guide/indexing.html#returning-a-view-versus-a-copy\n",
      "  df['square_error'] = (df['driving_score'] -\n"
     ]
    },
    {
     "data": {
      "image/png": "[encoded data removed]",
      "text/plain": [
       "<Figure size 400x200 with 1 Axes>"
      ]
     },
     "metadata": {},
     "output_type": "display_data"
    }
   ],
   "source": [
    "df = df_combined.xs(\"True\", level='highquality')\n",
    "oracle_df = df.xs((\"20\"),)\n",
    "\n",
    "df['square_error'] = (df['driving_score'] -\n",
    "                      oracle_df['driving_score']).pow(2).pow(1./2)\n",
    "\n",
    "fig, axes = plt.subplots(squeeze=True)\n",
    "fig.set_size_inches(4, 2)\n",
    "\n",
    "axes = plot(\"square_error\", ax=axes)\n",
    "axes.set_ylabel(f\"Driving score RMSE\", color='b')\n",
    "\n",
    "\n",
    "# axes = plot(\"duration_system\", axes.twinx(), 'g')\n",
    "# axes.set_ylabel(f\"Execution time [s]\", color='g')\n",
    "# axes.set_ylim(100)\n",
    "\n",
    "fig.savefig('plot.pdf', bbox_inches='tight')\n",
    "# fig"
   ]
  },
  {
   "cell_type": "markdown",
   "metadata": {},
   "source": [
    "# Answering RQ1b & RQ2b\n",
    "\n",
    "Currently\n",
    "\n",
    "- 20 EPIC, 20 LOW\n",
    "- 10 EPIC, 10 LOW"
   ]
  },
  {
   "cell_type": "code",
   "execution_count": 70,
   "metadata": {},
   "outputs": [
    {
     "name": "stderr",
     "output_type": "stream",
     "text": [
      "/tmp/ipykernel_9441/2828509555.py:7: PerformanceWarning: indexing past lexsort depth may impact performance.\n",
      "  df_combined.xs((str(fps), str(hq)), drop_level=False)\n"
     ]
    }
   ],
   "source": [
    "from itertools import product\n",
    "\n",
    "hq_vals = [True, False]\n",
    "fps_vals = [20, 10]\n",
    "df = pd.concat(\n",
    "    [\n",
    "        df_combined.xs((str(fps), str(hq)), drop_level=False)\n",
    "        for (fps, hq) in product(fps_vals, hq_vals)\n",
    "    ])\n",
    "\n",
    "# df"
   ]
  },
  {
   "cell_type": "code",
   "execution_count": 71,
   "metadata": {},
   "outputs": [
    {
     "name": "stderr",
     "output_type": "stream",
     "text": [
      "/tmp/ipykernel_9441/742066664.py:1: PerformanceWarning: indexing past lexsort depth may impact performance.\n",
      "  oracle_df = df.xs((\"20\", \"True\"),)\n"
     ]
    }
   ],
   "source": [
    "oracle_df = df.xs((\"20\", \"True\"),)\n",
    "\n",
    "df['square_error'] = (df['driving_score'] -\n",
    "                      oracle_df['driving_score']).pow(2).pow(1./2)\n",
    "\n",
    "\n",
    "# df = df.reset_index()"
   ]
  },
  {
   "cell_type": "code",
   "execution_count": 72,
   "metadata": {},
   "outputs": [
    {
     "data": {
      "text/plain": [
       "highquality\n",
       "True     0.000000\n",
       "False    0.153687\n",
       "Name: square_error, dtype: float64"
      ]
     },
     "execution_count": 72,
     "metadata": {},
     "output_type": "execute_result"
    }
   ],
   "source": [
    "df.xs((\"20\")).groupby('highquality')[\"square_error\"].mean().sort_index(\n",
    "    ascending=False)"
   ]
  },
  {
   "cell_type": "code",
   "execution_count": 73,
   "metadata": {},
   "outputs": [
    {
     "data": {
      "text/plain": [
       "[Text(False, 0, 'Epic'), Text(True, 0, 'Low')]"
      ]
     },
     "execution_count": 73,
     "metadata": {},
     "output_type": "execute_result"
    },
    {
     "data": {
      "image/png": "[encoded data removed]",
      "text/plain": [
       "<Figure size 640x480 with 2 Axes>"
      ]
     },
     "metadata": {},
     "output_type": "display_data"
    }
   ],
   "source": [
    "fig, axes = plt.subplots()\n",
    "\n",
    "# # DRIVING SCORE 20FPS and 10FPS\n",
    "# axes = df.xs((\"20\")).groupby('highquality')[\"square_error\"].mean().sort_index(\n",
    "#     ascending=False).plot(linestyle='dashed', marker='s', ax=axes, color=\"navy\")\n",
    "\n",
    "axes = df.xs((\"10\")).groupby('highquality')[\"square_error\"].mean().sort_index(\n",
    "    ascending=False).plot(linestyle='dashed', marker='s', ax=axes, color=\"blue\")\n",
    "\n",
    "# axes.set_ylim(0, 1)\n",
    "\n",
    "axes = axes.twinx()\n",
    "# DRIVING SCORE 20FPS and 10FPS\n",
    "# axes = df.xs((\"20\")).groupby('highquality')[\"duration_system\"].mean().sort_index(\n",
    "#     ascending=False).plot(linestyle='dashed', marker='s', ax=axes, color=\"green\")\n",
    "\n",
    "axes = df.xs((\"10\")).groupby('highquality')[\"duration_system\"].mean().sort_index(\n",
    "    ascending=False).plot(linestyle='dashed', marker='s', ax=axes, color=\"lime\")\n",
    "\n",
    "\n",
    "axes.set_xticks([False, True])\n",
    "axes.set_xticklabels([\"Epic\", \"Low\"])"
   ]
  },
  {
   "cell_type": "markdown",
   "metadata": {},
   "source": [
    "## Rendering quality t-tests"
   ]
  },
  {
   "cell_type": "code",
   "execution_count": 74,
   "metadata": {},
   "outputs": [],
   "source": [
    "def ttest(fps, column_name):\n",
    "\n",
    "    epic = df.xs((fps, \"True\"), drop_level=False)[column_name]\n",
    "\n",
    "    low = df.xs((fps, \"False\"), drop_level=False)[column_name]\n",
    "\n",
    "    confidence_level = 0.95\n",
    "    max_error = 1 - confidence_level\n",
    "\n",
    "    t_statistic, p_value = scipy.stats.ttest_ind(\n",
    "        epic, low)\n",
    "\n",
    "    print(f\"\\nFor {column_name = }\")\n",
    "    print(f\"\\tP-value: {p_value:.5f}\")\n",
    "\n",
    "    if p_value < max_error:\n",
    "        print(f\"\\tThe difference for {fps = } is statistically significant.\")\n",
    "    else:\n",
    "        print(\n",
    "            f\"\\tThe difference for {fps = } is not statistically significant.\")"
   ]
  },
  {
   "cell_type": "code",
   "execution_count": 75,
   "metadata": {},
   "outputs": [
    {
     "name": "stdout",
     "output_type": "stream",
     "text": [
      "\n",
      "For column_name = 'driving_score'\n",
      "\tP-value: 0.02456\n",
      "\tThe difference for fps = '20' is statistically significant.\n",
      "\n",
      "For column_name = 'driving_score'\n",
      "\tP-value: 0.06476\n",
      "\tThe difference for fps = '10' is not statistically significant.\n"
     ]
    },
    {
     "name": "stderr",
     "output_type": "stream",
     "text": [
      "/tmp/ipykernel_9441/2184194544.py:3: PerformanceWarning: indexing past lexsort depth may impact performance.\n",
      "  epic = df.xs((fps, \"True\"), drop_level=False)[column_name]\n",
      "/tmp/ipykernel_9441/2184194544.py:5: PerformanceWarning: indexing past lexsort depth may impact performance.\n",
      "  low = df.xs((fps, \"False\"), drop_level=False)[column_name]\n"
     ]
    }
   ],
   "source": [
    "ttest(\"20\", \"driving_score\")\n",
    "\n",
    "ttest(\"10\", \"driving_score\")"
   ]
  },
  {
   "cell_type": "code",
   "execution_count": null,
   "metadata": {},
   "outputs": [],
   "source": []
  }
 ],
 "metadata": {
  "kernelspec": {
   "display_name": "data-science",
   "language": "python",
   "name": "python3"
  },
  "language_info": {
   "codemirror_mode": {
    "name": "ipython",
    "version": 3
   },
   "file_extension": ".py",
   "mimetype": "text/x-python",
   "name": "python",
   "nbconvert_exporter": "python",
   "pygments_lexer": "ipython3",
   "version": "3.10.14"
  }
 },
 "nbformat": 4,
 "nbformat_minor": 2
}
