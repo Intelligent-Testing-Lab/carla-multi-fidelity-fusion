{
 "cells": [
  {
   "cell_type": "code",
   "execution_count": 78,
   "metadata": {},
   "outputs": [],
   "source": [
    "import glob\n",
    "import pandas as pd\n",
    "import numpy as np\n",
    "from pathlib import Path\n",
    "from itertools import product"
   ]
  },
  {
   "cell_type": "code",
   "execution_count": 79,
   "metadata": {},
   "outputs": [],
   "source": [
    "N_REPETITIONS = 10\n",
    "N_ITERATIONS = 25\n",
    "FPS_VALUES = [10, 12, 14, 15, 17, 20]"
   ]
  },
  {
   "cell_type": "code",
   "execution_count": 80,
   "metadata": {},
   "outputs": [
    {
     "name": "stdout",
     "output_type": "stream",
     "text": [
      "For 20 EPIC there are 28/250 ready\n",
      "For 18 EPIC there are 83/250 ready\n",
      "For 17 EPIC there are 32/250 ready\n",
      "For 15 EPIC there are 62/250 ready\n",
      "For 14 EPIC there are 43/250 ready\n",
      "For 12 EPIC there are 121/250 ready\n",
      "For 10 EPIC there are 139/250 ready\n",
      "For 20 LOW there are 134/250 ready\n",
      "For 10 LOW there are 140/250 ready\n"
     ]
    }
   ],
   "source": [
    "base_path = \"data/ronin/rs/*/checkpoints/\"\n",
    "paths = {\"20 EPIC\": f\"{base_path}it*/*20*True.json\",\n",
    "         \"18 EPIC\": f\"{base_path}it*/*18*True.json\",\n",
    "         \"17 EPIC\": f\"{base_path}it*/*17*True.json\",\n",
    "         \"15 EPIC\": f\"{base_path}it*/*15*True.json\",\n",
    "         \"14 EPIC\": f\"{base_path}it*/*14*True.json\",\n",
    "         \"12 EPIC\": f\"{base_path}it*/*12*True.json\",\n",
    "         \"10 EPIC\": f\"{base_path}it*/*10*True.json\",\n",
    "\n",
    "         \"20 LOW\": f\"{base_path}it*/*20*False.json\",\n",
    "         \"10 LOW\": f\"{base_path}it*/*10*False.json\",\n",
    "\n",
    "         }\n",
    "\n",
    "for name, path in paths.items():\n",
    "    n = len(glob.glob(path))\n",
    "    print(f\"For {name} there are {n}/{N_REPETITIONS*N_ITERATIONS} ready\")"
   ]
  }
 ],
 "metadata": {
  "kernelspec": {
   "display_name": "data-science",
   "language": "python",
   "name": "python3"
  },
  "language_info": {
   "codemirror_mode": {
    "name": "ipython",
    "version": 3
   },
   "file_extension": ".py",
   "mimetype": "text/x-python",
   "name": "python",
   "nbconvert_exporter": "python",
   "pygments_lexer": "ipython3",
   "version": "3.12.1"
  }
 },
 "nbformat": 4,
 "nbformat_minor": 2
}
