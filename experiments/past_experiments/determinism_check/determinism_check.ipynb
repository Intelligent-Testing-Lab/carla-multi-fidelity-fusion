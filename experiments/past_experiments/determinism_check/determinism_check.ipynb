{
 "cells": [
  {
   "cell_type": "code",
   "execution_count": 11,
   "metadata": {},
   "outputs": [],
   "source": [
    "import json\n",
    "import glob\n",
    "import pandas as pd\n",
    "import matplotlib.pyplot as plt\n",
    "import scipy\n",
    "\n",
    "pd.set_option('display.max_rows', 30)"
   ]
  },
  {
   "cell_type": "code",
   "execution_count": 12,
   "metadata": {},
   "outputs": [],
   "source": [
    "path = \"determinism_check_5_repetitions.json\"\n",
    "\n",
    "with open(path, \"r\") as f:\n",
    "\n",
    "    content = json.load(f)\n",
    "    data = content['_checkpoint']['records']"
   ]
  },
  {
   "cell_type": "code",
   "execution_count": 13,
   "metadata": {},
   "outputs": [
    {
     "data": {
      "text/html": [
       "<div>\n",
       "<style scoped>\n",
       "    .dataframe tbody tr th:only-of-type {\n",
       "        vertical-align: middle;\n",
       "    }\n",
       "\n",
       "    .dataframe tbody tr th {\n",
       "        vertical-align: top;\n",
       "    }\n",
       "\n",
       "    .dataframe thead th {\n",
       "        text-align: right;\n",
       "    }\n",
       "</style>\n",
       "<table border=\"1\" class=\"dataframe\">\n",
       "  <thead>\n",
       "    <tr style=\"text-align: right;\">\n",
       "      <th></th>\n",
       "      <th>route_id</th>\n",
       "      <th>status</th>\n",
       "      <th>duration_game</th>\n",
       "      <th>duration_system</th>\n",
       "      <th>route_length</th>\n",
       "      <th>score_composed</th>\n",
       "      <th>score_penalty</th>\n",
       "      <th>score_route</th>\n",
       "    </tr>\n",
       "  </thead>\n",
       "  <tbody>\n",
       "    <tr>\n",
       "      <th>0</th>\n",
       "      <td>0</td>\n",
       "      <td>Failed - Agent timed out</td>\n",
       "      <td>917.050014</td>\n",
       "      <td>2379.693600</td>\n",
       "      <td>1071.028134</td>\n",
       "      <td>18.986971</td>\n",
       "      <td>0.6</td>\n",
       "      <td>31.644952</td>\n",
       "    </tr>\n",
       "    <tr>\n",
       "      <th>1</th>\n",
       "      <td>0</td>\n",
       "      <td>Failed - Agent timed out</td>\n",
       "      <td>917.050014</td>\n",
       "      <td>2461.462698</td>\n",
       "      <td>1071.028134</td>\n",
       "      <td>24.663211</td>\n",
       "      <td>0.6</td>\n",
       "      <td>41.105352</td>\n",
       "    </tr>\n",
       "    <tr>\n",
       "      <th>2</th>\n",
       "      <td>0</td>\n",
       "      <td>Completed</td>\n",
       "      <td>804.600012</td>\n",
       "      <td>2055.182759</td>\n",
       "      <td>1071.028134</td>\n",
       "      <td>60.000000</td>\n",
       "      <td>0.6</td>\n",
       "      <td>100.000000</td>\n",
       "    </tr>\n",
       "    <tr>\n",
       "      <th>3</th>\n",
       "      <td>0</td>\n",
       "      <td>Completed</td>\n",
       "      <td>865.100013</td>\n",
       "      <td>2356.126006</td>\n",
       "      <td>1071.028134</td>\n",
       "      <td>100.000000</td>\n",
       "      <td>1.0</td>\n",
       "      <td>100.000000</td>\n",
       "    </tr>\n",
       "    <tr>\n",
       "      <th>4</th>\n",
       "      <td>0</td>\n",
       "      <td>Failed - Agent timed out</td>\n",
       "      <td>917.050014</td>\n",
       "      <td>2406.561749</td>\n",
       "      <td>1071.028134</td>\n",
       "      <td>49.890399</td>\n",
       "      <td>0.6</td>\n",
       "      <td>83.150665</td>\n",
       "    </tr>\n",
       "    <tr>\n",
       "      <th>...</th>\n",
       "      <td>...</td>\n",
       "      <td>...</td>\n",
       "      <td>...</td>\n",
       "      <td>...</td>\n",
       "      <td>...</td>\n",
       "      <td>...</td>\n",
       "      <td>...</td>\n",
       "      <td>...</td>\n",
       "    </tr>\n",
       "    <tr>\n",
       "      <th>45</th>\n",
       "      <td>9</td>\n",
       "      <td>Completed</td>\n",
       "      <td>1129.250017</td>\n",
       "      <td>2973.255361</td>\n",
       "      <td>1554.578340</td>\n",
       "      <td>50.000000</td>\n",
       "      <td>0.5</td>\n",
       "      <td>100.000000</td>\n",
       "    </tr>\n",
       "    <tr>\n",
       "      <th>46</th>\n",
       "      <td>9</td>\n",
       "      <td>Failed - Agent timed out</td>\n",
       "      <td>1321.050020</td>\n",
       "      <td>3369.182570</td>\n",
       "      <td>1554.578340</td>\n",
       "      <td>46.931320</td>\n",
       "      <td>0.6</td>\n",
       "      <td>78.218867</td>\n",
       "    </tr>\n",
       "    <tr>\n",
       "      <th>47</th>\n",
       "      <td>9</td>\n",
       "      <td>Failed - Agent timed out</td>\n",
       "      <td>1321.050020</td>\n",
       "      <td>3153.749843</td>\n",
       "      <td>1554.578340</td>\n",
       "      <td>45.007147</td>\n",
       "      <td>1.0</td>\n",
       "      <td>45.007147</td>\n",
       "    </tr>\n",
       "    <tr>\n",
       "      <th>48</th>\n",
       "      <td>9</td>\n",
       "      <td>Failed - Agent timed out</td>\n",
       "      <td>1321.050020</td>\n",
       "      <td>3464.417751</td>\n",
       "      <td>1554.578340</td>\n",
       "      <td>72.871752</td>\n",
       "      <td>1.0</td>\n",
       "      <td>72.871752</td>\n",
       "    </tr>\n",
       "    <tr>\n",
       "      <th>49</th>\n",
       "      <td>9</td>\n",
       "      <td>Failed - Agent timed out</td>\n",
       "      <td>1321.050020</td>\n",
       "      <td>3540.055842</td>\n",
       "      <td>1554.578340</td>\n",
       "      <td>72.750244</td>\n",
       "      <td>1.0</td>\n",
       "      <td>72.750244</td>\n",
       "    </tr>\n",
       "  </tbody>\n",
       "</table>\n",
       "<p>50 rows × 8 columns</p>\n",
       "</div>"
      ],
      "text/plain": [
       "    route_id                    status  duration_game  duration_system  \\\n",
       "0          0  Failed - Agent timed out     917.050014      2379.693600   \n",
       "1          0  Failed - Agent timed out     917.050014      2461.462698   \n",
       "2          0                 Completed     804.600012      2055.182759   \n",
       "3          0                 Completed     865.100013      2356.126006   \n",
       "4          0  Failed - Agent timed out     917.050014      2406.561749   \n",
       "..       ...                       ...            ...              ...   \n",
       "45         9                 Completed    1129.250017      2973.255361   \n",
       "46         9  Failed - Agent timed out    1321.050020      3369.182570   \n",
       "47         9  Failed - Agent timed out    1321.050020      3153.749843   \n",
       "48         9  Failed - Agent timed out    1321.050020      3464.417751   \n",
       "49         9  Failed - Agent timed out    1321.050020      3540.055842   \n",
       "\n",
       "    route_length  score_composed  score_penalty  score_route  \n",
       "0    1071.028134       18.986971            0.6    31.644952  \n",
       "1    1071.028134       24.663211            0.6    41.105352  \n",
       "2    1071.028134       60.000000            0.6   100.000000  \n",
       "3    1071.028134      100.000000            1.0   100.000000  \n",
       "4    1071.028134       49.890399            0.6    83.150665  \n",
       "..           ...             ...            ...          ...  \n",
       "45   1554.578340       50.000000            0.5   100.000000  \n",
       "46   1554.578340       46.931320            0.6    78.218867  \n",
       "47   1554.578340       45.007147            1.0    45.007147  \n",
       "48   1554.578340       72.871752            1.0    72.871752  \n",
       "49   1554.578340       72.750244            1.0    72.750244  \n",
       "\n",
       "[50 rows x 8 columns]"
      ]
     },
     "execution_count": 13,
     "metadata": {},
     "output_type": "execute_result"
    }
   ],
   "source": [
    "df = pd.json_normalize(data)\n",
    "\n",
    "# remove prefices from column name\n",
    "df.columns = df.columns.str.removeprefix('meta.')\n",
    "df.columns = df.columns.str.removeprefix('scores.')\n",
    "# df = df.rename(columns={\"index\": \"route_index\"})\n",
    "\n",
    "interesting_columns = ['route_id', 'status', 'duration_game', 'duration_system',\n",
    "                       'route_length', 'score_composed', 'score_penalty', 'score_route']\n",
    "df = df[interesting_columns]\n",
    "\n",
    "# Strip prefix\n",
    "df['route_id'] = df['route_id'].str.removeprefix(\"RouteScenario_\")\n",
    "\n",
    "# Make a numerical column\n",
    "df['route_id'] = pd.to_numeric(df['route_id'])\n",
    "\n",
    "# normalize data to be in range [0, max]\n",
    "df['route_id'] -= df['route_id'].min()\n",
    "df"
   ]
  },
  {
   "cell_type": "markdown",
   "metadata": {},
   "source": [
    "## Q1. Does score change for diffrent repetitions of same scenario"
   ]
  },
  {
   "cell_type": "code",
   "execution_count": 14,
   "metadata": {},
   "outputs": [
    {
     "data": {
      "text/plain": [
       "Text(0.5, 1.0, '')"
      ]
     },
     "execution_count": 14,
     "metadata": {},
     "output_type": "execute_result"
    },
    {
     "data": {
      "image/png": "[encoded data removed]",
      "text/plain": [
       "<Figure size 1200x600 with 1 Axes>"
      ]
     },
     "metadata": {},
     "output_type": "display_data"
    }
   ],
   "source": [
    "fig, ax = plt.subplots(figsize=(12, 6))\n",
    "\n",
    "df.boxplot(column=['score_composed'],\n",
    "           by='route_id', ax=ax)\n",
    "fig.suptitle(\"5 Repetitions of each scenario\")\n",
    "\n",
    "ax.set_ylabel(\"Score Composed\")\n",
    "ax.set_xlabel(\"Scenario ID\")\n",
    "ax.set_title(\"\")"
   ]
  },
  {
   "cell_type": "markdown",
   "metadata": {},
   "source": [
    "### Variance for each scenario"
   ]
  },
  {
   "cell_type": "code",
   "execution_count": 15,
   "metadata": {},
   "outputs": [
    {
     "data": {
      "text/plain": [
       "route_id\n",
       "0    1050.316425\n",
       "1     660.782225\n",
       "2     839.085617\n",
       "3    1235.712000\n",
       "4     204.204034\n",
       "5     173.788885\n",
       "6       0.000000\n",
       "7     148.133766\n",
       "8      54.936317\n",
       "9     198.219577\n",
       "Name: score_composed, dtype: float64"
      ]
     },
     "execution_count": 15,
     "metadata": {},
     "output_type": "execute_result"
    }
   ],
   "source": [
    "df.groupby('route_id')['score_composed'].var()"
   ]
  },
  {
   "cell_type": "markdown",
   "metadata": {},
   "source": [
    "## Conclusion:\n",
    "ADS is not deterministic\n"
   ]
  },
  {
   "cell_type": "code",
   "execution_count": null,
   "metadata": {},
   "outputs": [],
   "source": []
  }
 ],
 "metadata": {
  "kernelspec": {
   "display_name": "data-science",
   "language": "python",
   "name": "python3"
  },
  "language_info": {
   "codemirror_mode": {
    "name": "ipython",
    "version": 3
   },
   "file_extension": ".py",
   "mimetype": "text/x-python",
   "name": "python",
   "nbconvert_exporter": "python",
   "pygments_lexer": "ipython3",
   "version": "3.12.1"
  }
 },
 "nbformat": 4,
 "nbformat_minor": 2
}
