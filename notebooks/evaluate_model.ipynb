{
 "cells": [
  {
   "cell_type": "code",
   "execution_count": 1,
   "metadata": {},
   "outputs": [],
   "source": [
    "import pickle\n",
    "import pandas as pd\n",
    "import matplotlib.pyplot as plt\n",
    "import seaborn as sns\n",
    "import matplotlib.lines as mlines\n",
    "from util.load_scenarios import load_scenario_df\n",
    "from util.load_evaluations import load_rs_df, load_ver_df"
   ]
  },
  {
   "cell_type": "markdown",
   "metadata": {},
   "source": [
    "## Load data\n"
   ]
  },
  {
   "cell_type": "code",
   "execution_count": 2,
   "metadata": {},
   "outputs": [],
   "source": [
    "RS_PATH = \"../data/evaluation/random_search\"\n",
    "\n",
    "rs_df = load_rs_df(RS_PATH)\n",
    "rs_df = rs_df.reset_index().set_index(\n",
    "    ['fps', 'highquality', 'rep', 'it', 'route_id'])\n",
    "\n",
    "ver_df = load_ver_df(RS_PATH + \"/rs_v3/verification\")\n",
    "\n",
    "scenario_df = load_scenario_df(\"../data/definition/rs_routes.xml\")\n",
    "\n",
    "rs_df = rs_df.join(scenario_df, on='route_index', how='inner').sort_index()\n",
    "# df"
   ]
  },
  {
   "cell_type": "code",
   "execution_count": 3,
   "metadata": {},
   "outputs": [
    {
     "name": "stderr",
     "output_type": "stream",
     "text": [
      "/home/olek/anaconda3/envs/data-science/lib/python3.12/site-packages/sklearn/base.py:376: InconsistentVersionWarning: Trying to unpickle estimator SVC from version 1.3.0 when using version 1.4.2. This might lead to breaking code or invalid results. Use at your own risk. For more info please refer to:\n",
      "https://scikit-learn.org/stable/model_persistence.html#security-maintainability-limitations\n",
      "  warnings.warn(\n"
     ]
    }
   ],
   "source": [
    "\n",
    "with open(\"model.pkl\", \"rb\") as f:\n",
    "    model = pickle.load(f)"
   ]
  },
  {
   "cell_type": "markdown",
   "metadata": {},
   "source": [
    "## Use model to prepare RS traces with MFF\n"
   ]
  },
  {
   "cell_type": "code",
   "execution_count": 4,
   "metadata": {},
   "outputs": [],
   "source": [
    "def make_mff_fusion(rs_df, ver_df):\n",
    "    pass"
   ]
  },
  {
   "cell_type": "code",
   "execution_count": 5,
   "metadata": {},
   "outputs": [
    {
     "data": {
      "text/plain": [
       "predicted_label\n",
       "risky    686\n",
       "safe      64\n",
       "Name: count, dtype: int64"
      ]
     },
     "execution_count": 5,
     "metadata": {},
     "output_type": "execute_result"
    }
   ],
   "source": [
    "\n",
    "\n",
    "# Do it just for 10FPS epic\n",
    "rs_df = rs_df.xs((\"10\", \"True\"), drop_level=False).sort_index()\n",
    "\n",
    "model_features = ['max_angles', 'dist_len_ratio', 'n_turns']\n",
    "X = rs_df[model_features].to_numpy()\n",
    "X.shape\n",
    "rs_df['predicted_label'] = model.predict(X)\n",
    "rs_df = rs_df[['driving_score', 'duration_system', 'predicted_label']]\n",
    "rs_df.predicted_label.value_counts()"
   ]
  },
  {
   "cell_type": "markdown",
   "metadata": {},
   "source": [
    "**! very important here**\n",
    "Here in 10FPS epic we have deemed 115 safe runs so they will be using low fid.\n",
    "The rest of risky scenarios (635) will use high fidelity\n"
   ]
  },
  {
   "cell_type": "markdown",
   "metadata": {},
   "source": [
    "to substitute running for risky scenario swap with 20Fid executions which is in verification set\n"
   ]
  },
  {
   "cell_type": "code",
   "execution_count": 6,
   "metadata": {},
   "outputs": [
    {
     "data": {
      "text/html": [
       "<div>\n",
       "<style scoped>\n",
       "    .dataframe tbody tr th:only-of-type {\n",
       "        vertical-align: middle;\n",
       "    }\n",
       "\n",
       "    .dataframe tbody tr th {\n",
       "        vertical-align: top;\n",
       "    }\n",
       "\n",
       "    .dataframe thead th {\n",
       "        text-align: right;\n",
       "    }\n",
       "</style>\n",
       "<table border=\"1\" class=\"dataframe\">\n",
       "  <thead>\n",
       "    <tr style=\"text-align: right;\">\n",
       "      <th></th>\n",
       "      <th></th>\n",
       "      <th></th>\n",
       "      <th></th>\n",
       "      <th></th>\n",
       "      <th>predicted_label</th>\n",
       "      <th>driving_score</th>\n",
       "      <th>duration_system</th>\n",
       "      <th>swapped</th>\n",
       "    </tr>\n",
       "    <tr>\n",
       "      <th>fps</th>\n",
       "      <th>highquality</th>\n",
       "      <th>rep</th>\n",
       "      <th>it</th>\n",
       "      <th>route_id</th>\n",
       "      <th></th>\n",
       "      <th></th>\n",
       "      <th></th>\n",
       "      <th></th>\n",
       "    </tr>\n",
       "  </thead>\n",
       "  <tbody>\n",
       "    <tr>\n",
       "      <th rowspan=\"11\" valign=\"top\">10</th>\n",
       "      <th rowspan=\"11\" valign=\"top\">True</th>\n",
       "      <th rowspan=\"5\" valign=\"top\">0</th>\n",
       "      <th>0</th>\n",
       "      <th>RouteScenario_88</th>\n",
       "      <td>risky</td>\n",
       "      <td>0.984344</td>\n",
       "      <td>840.896933</td>\n",
       "      <td>yes</td>\n",
       "    </tr>\n",
       "    <tr>\n",
       "      <th>1</th>\n",
       "      <th>RouteScenario_744</th>\n",
       "      <td>risky</td>\n",
       "      <td>1.000000</td>\n",
       "      <td>351.942358</td>\n",
       "      <td>yes</td>\n",
       "    </tr>\n",
       "    <tr>\n",
       "      <th>2</th>\n",
       "      <th>RouteScenario_718</th>\n",
       "      <td>risky</td>\n",
       "      <td>1.000000</td>\n",
       "      <td>295.314870</td>\n",
       "      <td>yes</td>\n",
       "    </tr>\n",
       "    <tr>\n",
       "      <th>3</th>\n",
       "      <th>RouteScenario_317</th>\n",
       "      <td>risky</td>\n",
       "      <td>0.941897</td>\n",
       "      <td>1938.618472</td>\n",
       "      <td>yes</td>\n",
       "    </tr>\n",
       "    <tr>\n",
       "      <th>4</th>\n",
       "      <th>RouteScenario_611</th>\n",
       "      <td>risky</td>\n",
       "      <td>1.000000</td>\n",
       "      <td>426.810451</td>\n",
       "      <td>yes</td>\n",
       "    </tr>\n",
       "    <tr>\n",
       "      <th>...</th>\n",
       "      <th>...</th>\n",
       "      <th>...</th>\n",
       "      <td>...</td>\n",
       "      <td>...</td>\n",
       "      <td>...</td>\n",
       "      <td>...</td>\n",
       "    </tr>\n",
       "    <tr>\n",
       "      <th rowspan=\"5\" valign=\"top\">29</th>\n",
       "      <th>20</th>\n",
       "      <th>RouteScenario_696</th>\n",
       "      <td>risky</td>\n",
       "      <td>1.000000</td>\n",
       "      <td>404.275449</td>\n",
       "      <td>yes</td>\n",
       "    </tr>\n",
       "    <tr>\n",
       "      <th>21</th>\n",
       "      <th>RouteScenario_544</th>\n",
       "      <td>risky</td>\n",
       "      <td>0.161731</td>\n",
       "      <td>662.798116</td>\n",
       "      <td>yes</td>\n",
       "    </tr>\n",
       "    <tr>\n",
       "      <th>22</th>\n",
       "      <th>RouteScenario_451</th>\n",
       "      <td>risky</td>\n",
       "      <td>1.000000</td>\n",
       "      <td>447.011473</td>\n",
       "      <td>yes</td>\n",
       "    </tr>\n",
       "    <tr>\n",
       "      <th>23</th>\n",
       "      <th>RouteScenario_14</th>\n",
       "      <td>risky</td>\n",
       "      <td>1.000000</td>\n",
       "      <td>468.577047</td>\n",
       "      <td>yes</td>\n",
       "    </tr>\n",
       "    <tr>\n",
       "      <th>24</th>\n",
       "      <th>RouteScenario_658</th>\n",
       "      <td>risky</td>\n",
       "      <td>1.000000</td>\n",
       "      <td>363.801308</td>\n",
       "      <td>yes</td>\n",
       "    </tr>\n",
       "  </tbody>\n",
       "</table>\n",
       "<p>750 rows × 4 columns</p>\n",
       "</div>"
      ],
      "text/plain": [
       "                                         predicted_label  driving_score  \\\n",
       "fps highquality rep it route_id                                           \n",
       "10  True        0   0  RouteScenario_88            risky       0.984344   \n",
       "                    1  RouteScenario_744           risky       1.000000   \n",
       "                    2  RouteScenario_718           risky       1.000000   \n",
       "                    3  RouteScenario_317           risky       0.941897   \n",
       "                    4  RouteScenario_611           risky       1.000000   \n",
       "...                                                  ...            ...   \n",
       "                29  20 RouteScenario_696           risky       1.000000   \n",
       "                    21 RouteScenario_544           risky       0.161731   \n",
       "                    22 RouteScenario_451           risky       1.000000   \n",
       "                    23 RouteScenario_14            risky       1.000000   \n",
       "                    24 RouteScenario_658           risky       1.000000   \n",
       "\n",
       "                                          duration_system swapped  \n",
       "fps highquality rep it route_id                                    \n",
       "10  True        0   0  RouteScenario_88        840.896933     yes  \n",
       "                    1  RouteScenario_744       351.942358     yes  \n",
       "                    2  RouteScenario_718       295.314870     yes  \n",
       "                    3  RouteScenario_317      1938.618472     yes  \n",
       "                    4  RouteScenario_611       426.810451     yes  \n",
       "...                                                   ...     ...  \n",
       "                29  20 RouteScenario_696       404.275449     yes  \n",
       "                    21 RouteScenario_544       662.798116     yes  \n",
       "                    22 RouteScenario_451       447.011473     yes  \n",
       "                    23 RouteScenario_14        468.577047     yes  \n",
       "                    24 RouteScenario_658       363.801308     yes  \n",
       "\n",
       "[750 rows x 4 columns]"
      ]
     },
     "execution_count": 6,
     "metadata": {},
     "output_type": "execute_result"
    }
   ],
   "source": [
    "\n",
    "processed_batches = []\n",
    "for label, batch in rs_df.groupby('predicted_label'):\n",
    "    match label:\n",
    "        case 'safe':\n",
    "            # do nothig if scenario is safe to run\n",
    "            batch['swapped'] = 'no'\n",
    "            pass\n",
    "        case 'risky':\n",
    "\n",
    "            # if scenario is risky swap with HF data from verification set\n",
    "            high_fid = ver_df.set_index(\"route_id\")\n",
    "            high_fid = high_fid[['driving_score', 'duration_system']]\n",
    "            batch = batch.drop(['driving_score', 'duration_system'], axis=1)\n",
    "            batch = batch.join(high_fid, on='route_id')\n",
    "            batch['swapped'] = 'yes'\n",
    "\n",
    "    processed_batches.append(batch)\n",
    "\n",
    "rs_df = pd.concat(processed_batches).sort_index()\n",
    "rs_df"
   ]
  },
  {
   "cell_type": "markdown",
   "metadata": {},
   "source": [
    "## Compute solutions\n"
   ]
  },
  {
   "cell_type": "code",
   "execution_count": 7,
   "metadata": {},
   "outputs": [],
   "source": [
    "\n",
    "def get_solutions_of_iteration(df, curr_it):\n",
    "\n",
    "    idx = pd.IndexSlice\n",
    "    # get slice of data frame from iteration 0 to current iteration\n",
    "    slice = df.loc[idx[:, :, :, :curr_it+1], :]\n",
    "\n",
    "    # get index of minumum driving score -> solution (in iterations so far)\n",
    "    gb = slice.groupby(['fps', 'highquality', 'rep',])[\n",
    "        'driving_score']\n",
    "\n",
    "    solutions_idx = gb.idxmin().rename('solution_idx')\n",
    "\n",
    "    # get value of minimum driving score\n",
    "    solutions_score = gb.min().rename('solution_score')\n",
    "\n",
    "    solutions = pd.concat([solutions_idx, solutions_score], axis=1)\n",
    "    solutions['it'] = curr_it\n",
    "    solutions = solutions.reset_index().set_index(\n",
    "        ['fps', 'highquality', 'rep', 'it'])\n",
    "\n",
    "    return solutions"
   ]
  },
  {
   "cell_type": "code",
   "execution_count": 8,
   "metadata": {},
   "outputs": [
    {
     "data": {
      "text/html": [
       "<div>\n",
       "<style scoped>\n",
       "    .dataframe tbody tr th:only-of-type {\n",
       "        vertical-align: middle;\n",
       "    }\n",
       "\n",
       "    .dataframe tbody tr th {\n",
       "        vertical-align: top;\n",
       "    }\n",
       "\n",
       "    .dataframe thead th {\n",
       "        text-align: right;\n",
       "    }\n",
       "</style>\n",
       "<table border=\"1\" class=\"dataframe\">\n",
       "  <thead>\n",
       "    <tr style=\"text-align: right;\">\n",
       "      <th></th>\n",
       "      <th>oracle_dscore</th>\n",
       "    </tr>\n",
       "    <tr>\n",
       "      <th>route_id</th>\n",
       "      <th></th>\n",
       "    </tr>\n",
       "  </thead>\n",
       "  <tbody>\n",
       "    <tr>\n",
       "      <th>RouteScenario_0</th>\n",
       "      <td>0.65</td>\n",
       "    </tr>\n",
       "    <tr>\n",
       "      <th>RouteScenario_1</th>\n",
       "      <td>0.65</td>\n",
       "    </tr>\n",
       "    <tr>\n",
       "      <th>RouteScenario_2</th>\n",
       "      <td>1.00</td>\n",
       "    </tr>\n",
       "    <tr>\n",
       "      <th>RouteScenario_3</th>\n",
       "      <td>1.00</td>\n",
       "    </tr>\n",
       "    <tr>\n",
       "      <th>RouteScenario_4</th>\n",
       "      <td>1.00</td>\n",
       "    </tr>\n",
       "    <tr>\n",
       "      <th>...</th>\n",
       "      <td>...</td>\n",
       "    </tr>\n",
       "    <tr>\n",
       "      <th>RouteScenario_743</th>\n",
       "      <td>1.00</td>\n",
       "    </tr>\n",
       "    <tr>\n",
       "      <th>RouteScenario_744</th>\n",
       "      <td>1.00</td>\n",
       "    </tr>\n",
       "    <tr>\n",
       "      <th>RouteScenario_745</th>\n",
       "      <td>1.00</td>\n",
       "    </tr>\n",
       "    <tr>\n",
       "      <th>RouteScenario_746</th>\n",
       "      <td>1.00</td>\n",
       "    </tr>\n",
       "    <tr>\n",
       "      <th>RouteScenario_747</th>\n",
       "      <td>1.00</td>\n",
       "    </tr>\n",
       "  </tbody>\n",
       "</table>\n",
       "<p>748 rows × 1 columns</p>\n",
       "</div>"
      ],
      "text/plain": [
       "                   oracle_dscore\n",
       "route_id                        \n",
       "RouteScenario_0             0.65\n",
       "RouteScenario_1             0.65\n",
       "RouteScenario_2             1.00\n",
       "RouteScenario_3             1.00\n",
       "RouteScenario_4             1.00\n",
       "...                          ...\n",
       "RouteScenario_743           1.00\n",
       "RouteScenario_744           1.00\n",
       "RouteScenario_745           1.00\n",
       "RouteScenario_746           1.00\n",
       "RouteScenario_747           1.00\n",
       "\n",
       "[748 rows x 1 columns]"
      ]
     },
     "execution_count": 8,
     "metadata": {},
     "output_type": "execute_result"
    }
   ],
   "source": [
    "oracle_df = ver_df[['route_id', 'driving_score']].rename(\n",
    "    columns={\"driving_score\": \"oracle_dscore\"}).set_index('route_id')\n",
    "oracle_df"
   ]
  },
  {
   "cell_type": "code",
   "execution_count": 9,
   "metadata": {},
   "outputs": [
    {
     "data": {
      "text/html": [
       "<div>\n",
       "<style scoped>\n",
       "    .dataframe tbody tr th:only-of-type {\n",
       "        vertical-align: middle;\n",
       "    }\n",
       "\n",
       "    .dataframe tbody tr th {\n",
       "        vertical-align: top;\n",
       "    }\n",
       "\n",
       "    .dataframe thead th {\n",
       "        text-align: right;\n",
       "    }\n",
       "</style>\n",
       "<table border=\"1\" class=\"dataframe\">\n",
       "  <thead>\n",
       "    <tr style=\"text-align: right;\">\n",
       "      <th></th>\n",
       "      <th></th>\n",
       "      <th></th>\n",
       "      <th></th>\n",
       "      <th>solution_score</th>\n",
       "      <th>solution_it</th>\n",
       "      <th>solution_route_id</th>\n",
       "      <th>oracle_dscore</th>\n",
       "    </tr>\n",
       "    <tr>\n",
       "      <th>fps</th>\n",
       "      <th>highquality</th>\n",
       "      <th>rep</th>\n",
       "      <th>it</th>\n",
       "      <th></th>\n",
       "      <th></th>\n",
       "      <th></th>\n",
       "      <th></th>\n",
       "    </tr>\n",
       "  </thead>\n",
       "  <tbody>\n",
       "    <tr>\n",
       "      <th rowspan=\"11\" valign=\"top\">10</th>\n",
       "      <th rowspan=\"11\" valign=\"top\">True</th>\n",
       "      <th rowspan=\"5\" valign=\"top\">0</th>\n",
       "      <th>0</th>\n",
       "      <td>0.984344</td>\n",
       "      <td>0</td>\n",
       "      <td>RouteScenario_88</td>\n",
       "      <td>0.984344</td>\n",
       "    </tr>\n",
       "    <tr>\n",
       "      <th>1</th>\n",
       "      <td>0.984344</td>\n",
       "      <td>0</td>\n",
       "      <td>RouteScenario_88</td>\n",
       "      <td>0.984344</td>\n",
       "    </tr>\n",
       "    <tr>\n",
       "      <th>2</th>\n",
       "      <td>0.941897</td>\n",
       "      <td>3</td>\n",
       "      <td>RouteScenario_317</td>\n",
       "      <td>0.941897</td>\n",
       "    </tr>\n",
       "    <tr>\n",
       "      <th>3</th>\n",
       "      <td>0.941897</td>\n",
       "      <td>3</td>\n",
       "      <td>RouteScenario_317</td>\n",
       "      <td>0.941897</td>\n",
       "    </tr>\n",
       "    <tr>\n",
       "      <th>4</th>\n",
       "      <td>0.237710</td>\n",
       "      <td>5</td>\n",
       "      <td>RouteScenario_543</td>\n",
       "      <td>0.237710</td>\n",
       "    </tr>\n",
       "    <tr>\n",
       "      <th>...</th>\n",
       "      <th>...</th>\n",
       "      <td>...</td>\n",
       "      <td>...</td>\n",
       "      <td>...</td>\n",
       "      <td>...</td>\n",
       "    </tr>\n",
       "    <tr>\n",
       "      <th rowspan=\"5\" valign=\"top\">29</th>\n",
       "      <th>20</th>\n",
       "      <td>0.161731</td>\n",
       "      <td>21</td>\n",
       "      <td>RouteScenario_544</td>\n",
       "      <td>0.161731</td>\n",
       "    </tr>\n",
       "    <tr>\n",
       "      <th>21</th>\n",
       "      <td>0.161731</td>\n",
       "      <td>21</td>\n",
       "      <td>RouteScenario_544</td>\n",
       "      <td>0.161731</td>\n",
       "    </tr>\n",
       "    <tr>\n",
       "      <th>22</th>\n",
       "      <td>0.161731</td>\n",
       "      <td>21</td>\n",
       "      <td>RouteScenario_544</td>\n",
       "      <td>0.161731</td>\n",
       "    </tr>\n",
       "    <tr>\n",
       "      <th>23</th>\n",
       "      <td>0.161731</td>\n",
       "      <td>21</td>\n",
       "      <td>RouteScenario_544</td>\n",
       "      <td>0.161731</td>\n",
       "    </tr>\n",
       "    <tr>\n",
       "      <th>24</th>\n",
       "      <td>0.161731</td>\n",
       "      <td>21</td>\n",
       "      <td>RouteScenario_544</td>\n",
       "      <td>0.161731</td>\n",
       "    </tr>\n",
       "  </tbody>\n",
       "</table>\n",
       "<p>750 rows × 4 columns</p>\n",
       "</div>"
      ],
      "text/plain": [
       "                        solution_score  solution_it  solution_route_id  \\\n",
       "fps highquality rep it                                                   \n",
       "10  True        0   0         0.984344            0   RouteScenario_88   \n",
       "                    1         0.984344            0   RouteScenario_88   \n",
       "                    2         0.941897            3  RouteScenario_317   \n",
       "                    3         0.941897            3  RouteScenario_317   \n",
       "                    4         0.237710            5  RouteScenario_543   \n",
       "...                                ...          ...                ...   \n",
       "                29  20        0.161731           21  RouteScenario_544   \n",
       "                    21        0.161731           21  RouteScenario_544   \n",
       "                    22        0.161731           21  RouteScenario_544   \n",
       "                    23        0.161731           21  RouteScenario_544   \n",
       "                    24        0.161731           21  RouteScenario_544   \n",
       "\n",
       "                        oracle_dscore  \n",
       "fps highquality rep it                 \n",
       "10  True        0   0        0.984344  \n",
       "                    1        0.984344  \n",
       "                    2        0.941897  \n",
       "                    3        0.941897  \n",
       "                    4        0.237710  \n",
       "...                               ...  \n",
       "                29  20       0.161731  \n",
       "                    21       0.161731  \n",
       "                    22       0.161731  \n",
       "                    23       0.161731  \n",
       "                    24       0.161731  \n",
       "\n",
       "[750 rows x 4 columns]"
      ]
     },
     "execution_count": 9,
     "metadata": {},
     "output_type": "execute_result"
    }
   ],
   "source": [
    "def get_rs_solutions(df) -> pd.DataFrame:\n",
    "\n",
    "    NUM_OF_ITERAITONS = 25\n",
    "\n",
    "    sols_df = pd.concat([get_solutions_of_iteration(df, it)\n",
    "                        for it in range(NUM_OF_ITERAITONS)], axis=0)\n",
    "\n",
    "    # at what iteration did we find the solution\n",
    "    sols_df['solution_it'] = sols_df['solution_idx'].apply(lambda x: x[-2])\n",
    "    # what is the route_id of the solution\n",
    "    sols_df['solution_route_id'] = sols_df['solution_idx'].apply(\n",
    "        lambda x: x[-1])\n",
    "\n",
    "    # we don't need that once unpacked\n",
    "    sols_df = sols_df.drop('solution_idx', axis=1)\n",
    "\n",
    "    # add data from verification\n",
    "    # oracle_df = ver_df[['driving_score']].rename(\n",
    "    #     columns={\"driving_score\": \"oracle_dscore\"})\n",
    "    sols_df = sols_df.join(oracle_df, on='solution_route_id')\n",
    "    sols_df = sols_df.sort_index()\n",
    "    return sols_df\n",
    "\n",
    "\n",
    "sols_df = get_rs_solutions(rs_df)\n",
    "sols_df"
   ]
  },
  {
   "cell_type": "code",
   "execution_count": 10,
   "metadata": {},
   "outputs": [],
   "source": [
    "data = sols_df[['oracle_dscore']].groupby('it').mean()\n",
    "# data"
   ]
  },
  {
   "cell_type": "code",
   "execution_count": 11,
   "metadata": {},
   "outputs": [
    {
     "data": {
      "image/png": "[encoded data removed]",
      "text/plain": [
       "<Figure size 640x480 with 1 Axes>"
      ]
     },
     "metadata": {},
     "output_type": "display_data"
    }
   ],
   "source": [
    "f, ax = plt.subplots(nrows=1, sharex=True, sharey=True)\n",
    "\n",
    "ax = sns.lineplot(data=data, x='it', y='oracle_dscore', ax=ax, errorbar=None)"
   ]
  },
  {
   "cell_type": "markdown",
   "metadata": {},
   "source": [
    "## Add cumulative time\n"
   ]
  },
  {
   "cell_type": "code",
   "execution_count": 12,
   "metadata": {},
   "outputs": [],
   "source": [
    "cumulative_time = rs_df.groupby(['fps', 'highquality', 'rep'])[\n",
    "    'duration_system'].cumsum().rename(\n",
    "    'cumulative_time')\n",
    "mff_sols_df = sols_df.join(cumulative_time)\n",
    "# sols_df.info()"
   ]
  },
  {
   "cell_type": "code",
   "execution_count": 13,
   "metadata": {},
   "outputs": [],
   "source": [
    "def average_sols_df(sols_df):\n",
    "    return sols_df[['oracle_dscore', 'cumulative_time', 'solution_score']].groupby(\n",
    "        ['fps', 'highquality', 'it']).mean()"
   ]
  },
  {
   "cell_type": "code",
   "execution_count": 14,
   "metadata": {},
   "outputs": [
    {
     "data": {
      "text/plain": [
       "<Axes: xlabel='cumulative_time', ylabel='oracle_dscore'>"
      ]
     },
     "execution_count": 14,
     "metadata": {},
     "output_type": "execute_result"
    },
    {
     "data": {
      "image/png": "[encoded data removed]",
      "text/plain": [
       "<Figure size 640x480 with 1 Axes>"
      ]
     },
     "metadata": {},
     "output_type": "display_data"
    }
   ],
   "source": [
    "f, ax = plt.subplots(nrows=1, sharex=True, sharey=True)\n",
    "ax.set_ylim(0, 1)\n",
    "\n",
    "sns.lineplot(data=average_sols_df(mff_sols_df).xs((\"10\", \"True\"), level=['fps', 'highquality'], drop_level=False),  x='cumulative_time',\n",
    "             y='oracle_dscore', hue='highquality', ax=ax,  errorbar=None, lw=5)"
   ]
  },
  {
   "cell_type": "code",
   "execution_count": 15,
   "metadata": {},
   "outputs": [],
   "source": [
    "def process_rs_df(rs_df):\n",
    "    rs_df = rs_df.reset_index().set_index(\n",
    "        ['fps', 'highquality', 'rep', 'it', 'route_id'])\n",
    "\n",
    "    # get solutions at each iterations\n",
    "    sols_df = get_rs_solutions(rs_df)\n",
    "\n",
    "    # calculate cumulative time of iterations\n",
    "    cumulative_time = (rs_df\n",
    "                       .groupby(['fps', 'highquality', 'rep'])['duration_system']\n",
    "                       .cumsum()\n",
    "                       .rename('cumulative_time')\n",
    "                       .to_frame()\n",
    "                       .droplevel('route_id'))\n",
    "\n",
    "    sols_df = sols_df.join(cumulative_time)\n",
    "\n",
    "    return sols_df"
   ]
  },
  {
   "cell_type": "code",
   "execution_count": 16,
   "metadata": {},
   "outputs": [],
   "source": [
    "old_rs = load_rs_df(RS_PATH)\n",
    "old_sols_df = process_rs_df(old_rs)"
   ]
  },
  {
   "cell_type": "code",
   "execution_count": 17,
   "metadata": {},
   "outputs": [
    {
     "data": {
      "image/png": "[encoded data removed]",
      "text/plain": [
       "<Figure size 640x480 with 1 Axes>"
      ]
     },
     "metadata": {},
     "output_type": "display_data"
    }
   ],
   "source": [
    "def plot_solutions(sols_df):\n",
    "    sns.set_theme(style=\"ticks\", palette=\"deep\")\n",
    "\n",
    "    f, ax = plt.subplots(nrows=1, sharex=True, sharey=True)\n",
    "\n",
    "    sns.lineplot(data=average_sols_df(sols_df), x='cumulative_time', y='oracle_dscore',\n",
    "                 style='fps', hue='highquality', ax=ax, errorbar=None)\n",
    "\n",
    "    sns.lineplot(data=average_sols_df(sols_df).xs((\"20\", \"True\"), level=['fps', 'highquality'], drop_level=False),  x='cumulative_time',\n",
    "                 y='oracle_dscore', hue='highquality', ax=ax,  errorbar=None, lw=5)\n",
    "\n",
    "    ax.set_ylabel(\"Recalculated DScore\")\n",
    "    ax.set_xlabel(\"Total time 1000 [s]\")\n",
    "    ax.set_ylim(0, 1)\n",
    "\n",
    "    # BETTER LEGEND\n",
    "    handles, labels = ax.get_legend_handles_labels()\n",
    "\n",
    "    blue = handles[1].get_color()\n",
    "    orange = handles[2].get_color()\n",
    "    lines = [\n",
    "        mlines.Line2D([], [], color=blue, linestyle=None,\n",
    "                      label='20 FPS Epic', lw=5),\n",
    "        mlines.Line2D([], [], color=orange,\n",
    "                      linestyle=None, label='20 FPS Low'),\n",
    "\n",
    "        mlines.Line2D([], [], color=blue, linestyle='--', label='15 FPS Epic'),\n",
    "        mlines.Line2D([], [], color=orange,\n",
    "                      linestyle='--', label='15 FPS Low'),\n",
    "        mlines.Line2D([], [], color=blue, linestyle='dotted',\n",
    "                      label='10 FPS Epic'),\n",
    "        mlines.Line2D([], [], color=orange,\n",
    "                      linestyle='dotted', label='10 FPS Low'),\n",
    "\n",
    "    ]\n",
    "\n",
    "    ax.legend(handles=lines, prop={'size': 9})\n",
    "\n",
    "    # f.savefig('plot_rq3.pdf', bbox_inches='tight')\n",
    "\n",
    "\n",
    "plot_solutions(process_rs_df(old_rs))"
   ]
  },
  {
   "cell_type": "code",
   "execution_count": 28,
   "metadata": {},
   "outputs": [
    {
     "data": {
      "image/png": "[encoded data removed]",
      "text/plain": [
       "<Figure size 640x480 with 1 Axes>"
      ]
     },
     "metadata": {},
     "output_type": "display_data"
    }
   ],
   "source": [
    "\n",
    "sns.set_theme(style=\"ticks\", palette=\"deep\")\n",
    "\n",
    "f, ax = plt.subplots(nrows=1, sharex=True, sharey=True)\n",
    "\n",
    "# sns.lineplot(data=average_sols_df(old_sols_df),  x='cumulative_time',\n",
    "#              y='oracle_dscore', style='fps',  hue='highquality', ax=ax,  errorbar=None)\n",
    "\n",
    "sns.lineplot(data=average_sols_df(old_sols_df).xs((\"20\", \"True\")),  x='cumulative_time',\n",
    "             y='oracle_dscore', ax=ax,  errorbar=None, lw=4)\n",
    "\n",
    "sns.lineplot(data=average_sols_df(mff_sols_df).xs((\"10\", \"True\"), drop_level=False),  x='cumulative_time',\n",
    "             y='oracle_dscore', ax=ax,  errorbar=None, lw=2)\n",
    "\n",
    "\n",
    "ax.set_ylabel(\"Recalculated DScore\")\n",
    "ax.set_xlabel(\"Total time 1000 [s]\")\n",
    "ax.set_ylim(0, 1)\n",
    "\n",
    "lines = [\n",
    "    mlines.Line2D([], [], color=\"darkblue\", lw=4,\n",
    "                  label='20 FPS Epic'),\n",
    "    mlines.Line2D([], [], color=\"orange\", lw=4,\n",
    "\n",
    "                  label='Multifidelity fusion'),\n",
    "]\n",
    "ax.legend(handles=lines, prop={'size': 12})\n",
    "f.savefig('plot.pdf', bbox_inches='tight')"
   ]
  },
  {
   "cell_type": "markdown",
   "metadata": {},
   "source": [
    "## Statistical tests\n"
   ]
  },
  {
   "cell_type": "code",
   "execution_count": 19,
   "metadata": {},
   "outputs": [],
   "source": [
    "from scipy.stats import mannwhitneyu\n",
    "from itertools import permutations"
   ]
  },
  {
   "cell_type": "code",
   "execution_count": 20,
   "metadata": {},
   "outputs": [],
   "source": [
    "mff_list = mff_sols_df['oracle_dscore'].groupby('it').agg(list)\n",
    "high_fid_list = old_sols_df.xs((\"20\", \"True\"))[\n",
    "    'oracle_dscore'].groupby('it').agg(list)"
   ]
  },
  {
   "cell_type": "code",
   "execution_count": 21,
   "metadata": {},
   "outputs": [],
   "source": [
    "def do_test(fid_a, fid_b, set_a, set_b, confidence_level=0.95):\n",
    "    U1, p = mannwhitneyu(set_a, set_b)\n",
    "\n",
    "    max_error = 1 - confidence_level\n",
    "\n",
    "    if p < max_error:\n",
    "        print(\n",
    "            f\"\\tAt the difference beetween {fid_a} and {fid_b} IS statistically significant. {p=:.5f}\")\n",
    "        print(set_a)\n",
    "        print(set_b)\n",
    "    else:\n",
    "        # return\n",
    "        print(\n",
    "            f\"\\tAt the difference beetween {fid_a} and {fid_b} is NOT statistically significant. {p=:.5f}\")"
   ]
  },
  {
   "cell_type": "code",
   "execution_count": 22,
   "metadata": {},
   "outputs": [],
   "source": [
    "# # iterate over all possible fidelities\n",
    "# ITERATION = 0\n",
    "# a = old_sols_df.xs((\"20\", \"True\"))\n",
    "# b = sols_df.xs((\"10\", \"True\"))\n",
    "# for x in b.itertuples():\n",
    "#     print(x)"
   ]
  },
  {
   "cell_type": "code",
   "execution_count": 23,
   "metadata": {},
   "outputs": [
    {
     "name": "stdout",
     "output_type": "stream",
     "text": [
      "\tAt the difference beetween MFF and High fid is NOT statistically significant. p=0.94466\n",
      "\tAt the difference beetween MFF and High fid is NOT statistically significant. p=0.88617\n",
      "\tAt the difference beetween MFF and High fid is NOT statistically significant. p=0.39143\n",
      "\tAt the difference beetween MFF and High fid is NOT statistically significant. p=0.67186\n",
      "\tAt the difference beetween MFF and High fid is NOT statistically significant. p=0.34204\n",
      "\tAt the difference beetween MFF and High fid is NOT statistically significant. p=0.52389\n",
      "\tAt the difference beetween MFF and High fid is NOT statistically significant. p=0.26713\n",
      "\tAt the difference beetween MFF and High fid is NOT statistically significant. p=0.45960\n",
      "\tAt the difference beetween MFF and High fid is NOT statistically significant. p=0.25172\n",
      "\tAt the difference beetween MFF and High fid is NOT statistically significant. p=0.12584\n",
      "\tAt the difference beetween MFF and High fid is NOT statistically significant. p=0.26102\n",
      "\tAt the difference beetween MFF and High fid is NOT statistically significant. p=0.32901\n",
      "\tAt the difference beetween MFF and High fid is NOT statistically significant. p=0.33634\n",
      "\tAt the difference beetween MFF and High fid is NOT statistically significant. p=0.33634\n",
      "\tAt the difference beetween MFF and High fid is NOT statistically significant. p=0.46858\n",
      "\tAt the difference beetween MFF and High fid is NOT statistically significant. p=0.55407\n",
      "\tAt the difference beetween MFF and High fid is NOT statistically significant. p=0.42452\n",
      "\tAt the difference beetween MFF and High fid is NOT statistically significant. p=0.64132\n",
      "\tAt the difference beetween MFF and High fid is NOT statistically significant. p=0.72818\n",
      "\tAt the difference beetween MFF and High fid is NOT statistically significant. p=0.60473\n",
      "\tAt the difference beetween MFF and High fid is NOT statistically significant. p=0.59445\n",
      "\tAt the difference beetween MFF and High fid is NOT statistically significant. p=0.58426\n",
      "\tAt the difference beetween MFF and High fid is NOT statistically significant. p=0.58426\n",
      "\tAt the difference beetween MFF and High fid is NOT statistically significant. p=0.58426\n",
      "\tAt the difference beetween MFF and High fid is NOT statistically significant. p=0.58426\n"
     ]
    }
   ],
   "source": [
    "for mf, hf in zip(mff_list, high_fid_list):\n",
    "    do_test(\"MFF\", \"High fid\", mf, hf)"
   ]
  },
  {
   "cell_type": "code",
   "execution_count": null,
   "metadata": {},
   "outputs": [],
   "source": []
  }
 ],
 "metadata": {
  "kernelspec": {
   "display_name": "data-science",
   "language": "python",
   "name": "python3"
  },
  "language_info": {
   "codemirror_mode": {
    "name": "ipython",
    "version": 3
   },
   "file_extension": ".py",
   "mimetype": "text/x-python",
   "name": "python",
   "nbconvert_exporter": "python",
   "pygments_lexer": "ipython3",
   "version": "3.12.1"
  }
 },
 "nbformat": 4,
 "nbformat_minor": 2
}
