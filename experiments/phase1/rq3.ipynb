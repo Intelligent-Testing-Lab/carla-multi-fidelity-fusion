{
 "cells": [
  {
   "cell_type": "code",
   "execution_count": 984,
   "metadata": {},
   "outputs": [],
   "source": [
    "import glob\n",
    "import pandas as pd\n",
    "import numpy as np\n",
    "from pathlib import Path\n",
    "from itertools import product\n",
    "import json\n",
    "import matplotlib.pyplot as plt\n",
    "import seaborn as sns\n",
    "\n",
    "idx = pd.IndexSlice\n",
    "\n",
    "pd.set_option('display.max_rows', 500)\n",
    "pd.set_option('display.max_columns', 500)\n",
    "pd.set_option('display.width', 1000)"
   ]
  },
  {
   "cell_type": "markdown",
   "metadata": {},
   "source": [
    "## LOAD RANDOM SEARCH DATA"
   ]
  },
  {
   "cell_type": "markdown",
   "metadata": {},
   "source": [
    "### Load v3"
   ]
  },
  {
   "cell_type": "code",
   "execution_count": 985,
   "metadata": {},
   "outputs": [],
   "source": [
    "rs_ver = \"rs_v3\"\n",
    "base_path = f\"data/ronin/{rs_ver}\""
   ]
  },
  {
   "cell_type": "code",
   "execution_count": 986,
   "metadata": {},
   "outputs": [],
   "source": [
    "def process_df(df):\n",
    "    record_df = pd.json_normalize(df['records'])\n",
    "    # concatenate records data\n",
    "    df = pd.concat([df, record_df],  axis=1)\n",
    "\n",
    "    # drop original column\n",
    "    df = df.drop(['records', 'index'], axis=1)\n",
    "\n",
    "    # drop infractions columns\n",
    "\n",
    "    # remove prefixes from column name\n",
    "    df.columns = df.columns.str.removeprefix('meta.')\n",
    "    df.columns = df.columns.str.removeprefix('scores.')\n",
    "    df['driving_score'] = df['score_composed'] / 100\n",
    "    # df = df.rename(columns={\"index\": \"route_index\"})\n",
    "    df = df.set_index(['fps', 'highquality', 'rep', 'it', 'route_id'])\n",
    "    return df"
   ]
  },
  {
   "cell_type": "code",
   "execution_count": 987,
   "metadata": {},
   "outputs": [
    {
     "name": "stdout",
     "output_type": "stream",
     "text": [
      "<class 'pandas.core.frame.DataFrame'>\n",
      "MultiIndex: 1500 entries, (10, 'False', 0, 0, 'RouteScenario_556') to (20, 'True', 9, 24, 'RouteScenario_735')\n",
      "Data columns (total 2 columns):\n",
      " #   Column           Non-Null Count  Dtype  \n",
      "---  ------           --------------  -----  \n",
      " 0   driving_score    1500 non-null   float64\n",
      " 1   duration_system  1500 non-null   float64\n",
      "dtypes: float64(2)\n",
      "memory usage: 55.1+ KB\n"
     ]
    }
   ],
   "source": [
    "\n",
    "def make_df(path: str, shift_rep=0):\n",
    "\n",
    "    # DATA FROM PATH\n",
    "    data = {}\n",
    "    data['path'] = path\n",
    "    stem = Path(path).stem.split(\"_\")\n",
    "    data['fps'] = int(stem[1])\n",
    "    data['highquality'] = stem[3]\n",
    "    match path.split(\"/\"):\n",
    "        case [\"data\", \"ronin\", _, rep, \"checkpoints\", it, *objects]:\n",
    "            data['rep'] = int(rep) + shift_rep\n",
    "            data['it'] = int(it[2:])\n",
    "    # print(data)\n",
    "\n",
    "    # READ CHECKPOINT\n",
    "    with open(path, \"r\") as f:\n",
    "        content = json.load(f)\n",
    "\n",
    "        data['records'] = content['_checkpoint']['records']\n",
    "        if not data['records']:\n",
    "            return\n",
    "\n",
    "        df = pd.DataFrame(data)\n",
    "        return process_df(df)\n",
    "\n",
    "\n",
    "dfs = []\n",
    "pattern = f\"{base_path}/*/checkpoints/it*/*.json\"\n",
    "for file in glob.glob(pattern):\n",
    "    dfs.append(make_df(file))\n",
    "\n",
    "dfv3 = pd.concat(dfs).sort_index()[['driving_score', 'duration_system']]\n",
    "\n",
    "dfv3.info()"
   ]
  },
  {
   "cell_type": "markdown",
   "metadata": {},
   "source": [
    "^ should be 1500 = 25 iter x 10 rep x 2 quality x 3 fps values"
   ]
  },
  {
   "cell_type": "markdown",
   "metadata": {},
   "source": [
    "### Load v4\n",
    "and shift repetition number +10"
   ]
  },
  {
   "cell_type": "code",
   "execution_count": 988,
   "metadata": {},
   "outputs": [
    {
     "name": "stdout",
     "output_type": "stream",
     "text": [
      "<class 'pandas.core.frame.DataFrame'>\n",
      "MultiIndex: 1645 entries, (10, 'False', 10, 0, 'RouteScenario_358') to (20, 'True', 24, 12, 'RouteScenario_74')\n",
      "Data columns (total 2 columns):\n",
      " #   Column           Non-Null Count  Dtype  \n",
      "---  ------           --------------  -----  \n",
      " 0   driving_score    1645 non-null   float64\n",
      " 1   duration_system  1645 non-null   float64\n",
      "dtypes: float64(2)\n",
      "memory usage: 58.6+ KB\n"
     ]
    }
   ],
   "source": [
    "dfs = []\n",
    "base_path = f\"data/ronin/rs_v4\"\n",
    "pattern = f\"{base_path}/*/checkpoints/it*/*.json\"\n",
    "for file in glob.glob(pattern):\n",
    "    dfs.append(make_df(file, shift_rep=10))\n",
    "\n",
    "dfv4 = pd.concat(dfs).sort_index()[['driving_score', 'duration_system']]\n",
    "dfv4.info()"
   ]
  },
  {
   "cell_type": "code",
   "execution_count": 989,
   "metadata": {},
   "outputs": [],
   "source": [
    "dfs = []\n",
    "for rep in [10, 11, 12, 13, 14, 20, 21, 22, 23, 24]:\n",
    "    s = dfv4.xs(rep, level='rep', drop_level=False)\n",
    "    dfs.append(s)\n",
    "\n",
    "\n",
    "dfv4 = pd.concat(dfs, axis=0)\n",
    "# dfv4.info()"
   ]
  },
  {
   "cell_type": "markdown",
   "metadata": {},
   "source": [
    "### Concatonate v3 and v4"
   ]
  },
  {
   "cell_type": "code",
   "execution_count": 990,
   "metadata": {},
   "outputs": [
    {
     "name": "stdout",
     "output_type": "stream",
     "text": [
      "<class 'pandas.core.frame.DataFrame'>\n",
      "MultiIndex: 2977 entries, (10, 'False', 0, 0, 'RouteScenario_556') to (20, 'True', 24, 12, 'RouteScenario_74')\n",
      "Data columns (total 2 columns):\n",
      " #   Column           Non-Null Count  Dtype  \n",
      "---  ------           --------------  -----  \n",
      " 0   driving_score    2977 non-null   float64\n",
      " 1   duration_system  2977 non-null   float64\n",
      "dtypes: float64(2)\n",
      "memory usage: 87.9+ KB\n"
     ]
    }
   ],
   "source": [
    "df = pd.concat([dfv3, dfv4]).sort_index()\n",
    "# df = pd.concat([dfv3]).sort_index()\n",
    "df.info()"
   ]
  },
  {
   "cell_type": "markdown",
   "metadata": {},
   "source": [
    "## LOAD VERIFICATION DATA"
   ]
  },
  {
   "cell_type": "code",
   "execution_count": 991,
   "metadata": {},
   "outputs": [],
   "source": [
    "def process_verification_df(df):\n",
    "    record_df = pd.json_normalize(df['records'])\n",
    "    # concatenate records data\n",
    "    df = pd.concat([df, record_df],  axis=1)\n",
    "\n",
    "    # drop original column\n",
    "    df = df.drop(['records', 'index'], axis=1)\n",
    "\n",
    "    # drop infractions columns\n",
    "\n",
    "    # remove prefixes from column name\n",
    "    df.columns = df.columns.str.removeprefix('meta.')\n",
    "    df.columns = df.columns.str.removeprefix('scores.')\n",
    "    df['driving_score'] = df['score_composed'] / 100\n",
    "    # df = df.rename(columns={\"index\": \"route_index\"})\n",
    "    df = df.set_index(['route_id'])\n",
    "    return df\n",
    "\n",
    "\n",
    "def make_verification_df(path: str):\n",
    "\n",
    "    # DATA FROM PATH\n",
    "    data = {}\n",
    "    data['path'] = path\n",
    "\n",
    "    # READ CHECKPOINT\n",
    "    with open(path, \"r\") as f:\n",
    "        content = json.load(f)\n",
    "\n",
    "        data['records'] = content['_checkpoint']['records']\n",
    "        if not data['records']:\n",
    "            return\n",
    "\n",
    "        df = pd.DataFrame(data)\n",
    "        return process_verification_df(df)"
   ]
  },
  {
   "cell_type": "code",
   "execution_count": 992,
   "metadata": {},
   "outputs": [
    {
     "data": {
      "text/html": [
       "<div>\n",
       "<style scoped>\n",
       "    .dataframe tbody tr th:only-of-type {\n",
       "        vertical-align: middle;\n",
       "    }\n",
       "\n",
       "    .dataframe tbody tr th {\n",
       "        vertical-align: top;\n",
       "    }\n",
       "\n",
       "    .dataframe thead th {\n",
       "        text-align: right;\n",
       "    }\n",
       "</style>\n",
       "<table border=\"1\" class=\"dataframe\">\n",
       "  <thead>\n",
       "    <tr style=\"text-align: right;\">\n",
       "      <th></th>\n",
       "      <th>oracle_dscore</th>\n",
       "    </tr>\n",
       "    <tr>\n",
       "      <th>route_id</th>\n",
       "      <th></th>\n",
       "    </tr>\n",
       "  </thead>\n",
       "  <tbody>\n",
       "    <tr>\n",
       "      <th>RouteScenario_0</th>\n",
       "      <td>0.65</td>\n",
       "    </tr>\n",
       "    <tr>\n",
       "      <th>RouteScenario_1</th>\n",
       "      <td>0.65</td>\n",
       "    </tr>\n",
       "    <tr>\n",
       "      <th>RouteScenario_10</th>\n",
       "      <td>1.00</td>\n",
       "    </tr>\n",
       "    <tr>\n",
       "      <th>RouteScenario_100</th>\n",
       "      <td>1.00</td>\n",
       "    </tr>\n",
       "    <tr>\n",
       "      <th>RouteScenario_101</th>\n",
       "      <td>0.70</td>\n",
       "    </tr>\n",
       "    <tr>\n",
       "      <th>...</th>\n",
       "      <td>...</td>\n",
       "    </tr>\n",
       "    <tr>\n",
       "      <th>RouteScenario_95</th>\n",
       "      <td>1.00</td>\n",
       "    </tr>\n",
       "    <tr>\n",
       "      <th>RouteScenario_96</th>\n",
       "      <td>1.00</td>\n",
       "    </tr>\n",
       "    <tr>\n",
       "      <th>RouteScenario_97</th>\n",
       "      <td>1.00</td>\n",
       "    </tr>\n",
       "    <tr>\n",
       "      <th>RouteScenario_98</th>\n",
       "      <td>1.00</td>\n",
       "    </tr>\n",
       "    <tr>\n",
       "      <th>RouteScenario_99</th>\n",
       "      <td>0.70</td>\n",
       "    </tr>\n",
       "  </tbody>\n",
       "</table>\n",
       "<p>748 rows × 1 columns</p>\n",
       "</div>"
      ],
      "text/plain": [
       "                   oracle_dscore\n",
       "route_id                        \n",
       "RouteScenario_0             0.65\n",
       "RouteScenario_1             0.65\n",
       "RouteScenario_10            1.00\n",
       "RouteScenario_100           1.00\n",
       "RouteScenario_101           0.70\n",
       "...                          ...\n",
       "RouteScenario_95            1.00\n",
       "RouteScenario_96            1.00\n",
       "RouteScenario_97            1.00\n",
       "RouteScenario_98            1.00\n",
       "RouteScenario_99            0.70\n",
       "\n",
       "[748 rows x 1 columns]"
      ]
     },
     "execution_count": 992,
     "metadata": {},
     "output_type": "execute_result"
    }
   ],
   "source": [
    "dfs = []\n",
    "base_path = f\"data/ronin/rs_v3\"\n",
    "pattern = f\"{base_path}/verification/checkpoints/*/*.json\"\n",
    "for file in glob.glob(pattern):\n",
    "    # print(file)\n",
    "    dfs.append(make_verification_df(file))\n",
    "\n",
    "oracle_df = pd.concat(dfs).sort_index()[['driving_score']]\n",
    "oracle_df = oracle_df.rename(columns={\"driving_score\": \"oracle_dscore\"})\n",
    "oracle_df"
   ]
  },
  {
   "cell_type": "markdown",
   "metadata": {},
   "source": [
    "## JOIN VERIFICATION DATA"
   ]
  },
  {
   "cell_type": "code",
   "execution_count": 993,
   "metadata": {},
   "outputs": [
    {
     "data": {
      "text/html": [
       "<div>\n",
       "<style scoped>\n",
       "    .dataframe tbody tr th:only-of-type {\n",
       "        vertical-align: middle;\n",
       "    }\n",
       "\n",
       "    .dataframe tbody tr th {\n",
       "        vertical-align: top;\n",
       "    }\n",
       "\n",
       "    .dataframe thead th {\n",
       "        text-align: right;\n",
       "    }\n",
       "</style>\n",
       "<table border=\"1\" class=\"dataframe\">\n",
       "  <thead>\n",
       "    <tr style=\"text-align: right;\">\n",
       "      <th></th>\n",
       "      <th></th>\n",
       "      <th></th>\n",
       "      <th></th>\n",
       "      <th></th>\n",
       "      <th>driving_score</th>\n",
       "      <th>duration_system</th>\n",
       "    </tr>\n",
       "    <tr>\n",
       "      <th>fps</th>\n",
       "      <th>highquality</th>\n",
       "      <th>rep</th>\n",
       "      <th>it</th>\n",
       "      <th>route_id</th>\n",
       "      <th></th>\n",
       "      <th></th>\n",
       "    </tr>\n",
       "  </thead>\n",
       "  <tbody>\n",
       "    <tr>\n",
       "      <th rowspan=\"5\" valign=\"top\">10</th>\n",
       "      <th rowspan=\"5\" valign=\"top\">False</th>\n",
       "      <th rowspan=\"5\" valign=\"top\">0</th>\n",
       "      <th>0</th>\n",
       "      <th>RouteScenario_556</th>\n",
       "      <td>0.638565</td>\n",
       "      <td>514.576038</td>\n",
       "    </tr>\n",
       "    <tr>\n",
       "      <th>1</th>\n",
       "      <th>RouteScenario_461</th>\n",
       "      <td>0.096086</td>\n",
       "      <td>710.829181</td>\n",
       "    </tr>\n",
       "    <tr>\n",
       "      <th>2</th>\n",
       "      <th>RouteScenario_4</th>\n",
       "      <td>0.055417</td>\n",
       "      <td>512.520613</td>\n",
       "    </tr>\n",
       "    <tr>\n",
       "      <th>3</th>\n",
       "      <th>RouteScenario_578</th>\n",
       "      <td>1.000000</td>\n",
       "      <td>265.034359</td>\n",
       "    </tr>\n",
       "    <tr>\n",
       "      <th>4</th>\n",
       "      <th>RouteScenario_300</th>\n",
       "      <td>0.279849</td>\n",
       "      <td>624.154482</td>\n",
       "    </tr>\n",
       "    <tr>\n",
       "      <th>...</th>\n",
       "      <th>...</th>\n",
       "      <th>...</th>\n",
       "      <th>...</th>\n",
       "      <th>...</th>\n",
       "      <td>...</td>\n",
       "      <td>...</td>\n",
       "    </tr>\n",
       "    <tr>\n",
       "      <th rowspan=\"5\" valign=\"top\">20</th>\n",
       "      <th rowspan=\"5\" valign=\"top\">True</th>\n",
       "      <th rowspan=\"5\" valign=\"top\">24</th>\n",
       "      <th>8</th>\n",
       "      <th>RouteScenario_359</th>\n",
       "      <td>1.000000</td>\n",
       "      <td>363.694386</td>\n",
       "    </tr>\n",
       "    <tr>\n",
       "      <th>9</th>\n",
       "      <th>RouteScenario_65</th>\n",
       "      <td>0.650000</td>\n",
       "      <td>686.564993</td>\n",
       "    </tr>\n",
       "    <tr>\n",
       "      <th>10</th>\n",
       "      <th>RouteScenario_377</th>\n",
       "      <td>1.000000</td>\n",
       "      <td>219.122120</td>\n",
       "    </tr>\n",
       "    <tr>\n",
       "      <th>11</th>\n",
       "      <th>RouteScenario_509</th>\n",
       "      <td>0.116742</td>\n",
       "      <td>1270.492261</td>\n",
       "    </tr>\n",
       "    <tr>\n",
       "      <th>12</th>\n",
       "      <th>RouteScenario_74</th>\n",
       "      <td>1.000000</td>\n",
       "      <td>647.332757</td>\n",
       "    </tr>\n",
       "  </tbody>\n",
       "</table>\n",
       "<p>2977 rows × 2 columns</p>\n",
       "</div>"
      ],
      "text/plain": [
       "                                          driving_score  duration_system\n",
       "fps highquality rep it route_id                                         \n",
       "10  False       0   0  RouteScenario_556       0.638565       514.576038\n",
       "                    1  RouteScenario_461       0.096086       710.829181\n",
       "                    2  RouteScenario_4         0.055417       512.520613\n",
       "                    3  RouteScenario_578       1.000000       265.034359\n",
       "                    4  RouteScenario_300       0.279849       624.154482\n",
       "...                                                 ...              ...\n",
       "20  True        24  8  RouteScenario_359       1.000000       363.694386\n",
       "                    9  RouteScenario_65        0.650000       686.564993\n",
       "                    10 RouteScenario_377       1.000000       219.122120\n",
       "                    11 RouteScenario_509       0.116742      1270.492261\n",
       "                    12 RouteScenario_74        1.000000       647.332757\n",
       "\n",
       "[2977 rows x 2 columns]"
      ]
     },
     "execution_count": 993,
     "metadata": {},
     "output_type": "execute_result"
    }
   ],
   "source": [
    "df"
   ]
  },
  {
   "cell_type": "code",
   "execution_count": 994,
   "metadata": {},
   "outputs": [
    {
     "name": "stdout",
     "output_type": "stream",
     "text": [
      "<class 'pandas.core.frame.DataFrame'>\n",
      "MultiIndex: 2977 entries, (10, 'False', 0, 0, 'RouteScenario_556') to (20, 'True', 24, 12, 'RouteScenario_74')\n",
      "Data columns (total 2 columns):\n",
      " #   Column           Non-Null Count  Dtype  \n",
      "---  ------           --------------  -----  \n",
      " 0   driving_score    2977 non-null   float64\n",
      " 1   duration_system  2977 non-null   float64\n",
      "dtypes: float64(2)\n",
      "memory usage: 87.9+ KB\n"
     ]
    }
   ],
   "source": [
    "# df = df.join(oracle_df).sort_index()\n",
    "df.info()"
   ]
  },
  {
   "cell_type": "markdown",
   "metadata": {},
   "source": [
    "## Cumulative MINIMUM"
   ]
  },
  {
   "cell_type": "code",
   "execution_count": 995,
   "metadata": {},
   "outputs": [],
   "source": [
    "\n",
    "\n",
    "def get_solutions_of_iteration(curr_it):\n",
    "\n",
    "    # get slice of data frame from iteration 0 to current iteration\n",
    "    slice = df.loc[idx[:, :, :, :curr_it], :]\n",
    "\n",
    "    solutions_idx = slice.groupby(['fps', 'highquality', 'rep',])[\n",
    "        'driving_score'].idxmin().rename('solution_idx').to_frame()\n",
    "\n",
    "    solutions_score = slice.groupby(['fps', 'highquality', 'rep',])[\n",
    "        'driving_score'].min().rename('solution_score').to_frame()\n",
    "\n",
    "    solutions = pd.concat([solutions_idx, solutions_score], axis=1)\n",
    "    solutions['it'] = curr_it\n",
    "    solutions = solutions.reset_index().set_index(\n",
    "        ['fps', 'highquality', 'rep', 'it'])\n",
    "\n",
    "    return solutions"
   ]
  },
  {
   "cell_type": "code",
   "execution_count": 996,
   "metadata": {},
   "outputs": [],
   "source": [
    "# get_solutions_of_iteration(5)"
   ]
  },
  {
   "cell_type": "code",
   "execution_count": 997,
   "metadata": {},
   "outputs": [
    {
     "name": "stdout",
     "output_type": "stream",
     "text": [
      "<class 'pandas.core.frame.DataFrame'>\n",
      "MultiIndex: 3000 entries, (10, 'False', 0, 0) to (20, 'True', 24, 24)\n",
      "Data columns (total 4 columns):\n",
      " #   Column             Non-Null Count  Dtype  \n",
      "---  ------             --------------  -----  \n",
      " 0   solution_score     3000 non-null   float64\n",
      " 1   solution_it        3000 non-null   int64  \n",
      " 2   solution_route_id  3000 non-null   object \n",
      " 3   oracle_dscore      3000 non-null   float64\n",
      "dtypes: float64(2), int64(1), object(1)\n",
      "memory usage: 107.4+ KB\n"
     ]
    }
   ],
   "source": [
    "NUM_OF_ITERAITON = 25\n",
    "\n",
    "sols_df = pd.concat([get_solutions_of_iteration(it)\n",
    "                    for it in range(NUM_OF_ITERAITON)], axis=0)\n",
    "\n",
    "# at what iteration did we find the solution\n",
    "sols_df['solution_it'] = sols_df['solution_idx'].apply(lambda x: x[-2])\n",
    "# what is the route_id of the solution\n",
    "sols_df['solution_route_id'] = sols_df['solution_idx'].apply(lambda x: x[-1])\n",
    "\n",
    "# we don't need that once unpacked\n",
    "sols_df = sols_df.drop('solution_idx', axis=1)\n",
    "\n",
    "# add data from verification\n",
    "sols_df = sols_df.join(oracle_df, on='solution_route_id')\n",
    "sols_df = sols_df.sort_index()\n",
    "sols_df.info()"
   ]
  },
  {
   "cell_type": "code",
   "execution_count": 998,
   "metadata": {},
   "outputs": [
    {
     "data": {
      "image/png": "[encoded data removed]",
      "text/plain": [
       "<Figure size 640x480 with 1 Axes>"
      ]
     },
     "metadata": {},
     "output_type": "display_data"
    }
   ],
   "source": [
    "f, ax = plt.subplots(nrows=1, sharex=True, sharey=True)\n",
    "\n",
    "ax = sns.lineplot(data=sols_df, x='it', y='oracle_dscore', style_order=[20, 15, 10],\n",
    "                  style='fps', hue='highquality', ax=ax,)"
   ]
  },
  {
   "cell_type": "code",
   "execution_count": 999,
   "metadata": {},
   "outputs": [],
   "source": [
    "cumulative_time = df.groupby(['fps', 'highquality', 'rep'])[\n",
    "    'duration_system'].cumsum()\n",
    "cumulative_time = cumulative_time.rename(\n",
    "    'cumulative_time').to_frame().droplevel('route_id')\n",
    "\n",
    "sols_df = sols_df.join(cumulative_time)"
   ]
  },
  {
   "cell_type": "code",
   "execution_count": 1000,
   "metadata": {},
   "outputs": [
    {
     "data": {
      "text/html": [
       "<div>\n",
       "<style scoped>\n",
       "    .dataframe tbody tr th:only-of-type {\n",
       "        vertical-align: middle;\n",
       "    }\n",
       "\n",
       "    .dataframe tbody tr th {\n",
       "        vertical-align: top;\n",
       "    }\n",
       "\n",
       "    .dataframe thead th {\n",
       "        text-align: right;\n",
       "    }\n",
       "</style>\n",
       "<table border=\"1\" class=\"dataframe\">\n",
       "  <thead>\n",
       "    <tr style=\"text-align: right;\">\n",
       "      <th></th>\n",
       "      <th></th>\n",
       "      <th></th>\n",
       "      <th></th>\n",
       "      <th>solution_score</th>\n",
       "      <th>solution_it</th>\n",
       "      <th>solution_route_id</th>\n",
       "      <th>oracle_dscore</th>\n",
       "      <th>cumulative_time</th>\n",
       "    </tr>\n",
       "    <tr>\n",
       "      <th>fps</th>\n",
       "      <th>highquality</th>\n",
       "      <th>rep</th>\n",
       "      <th>it</th>\n",
       "      <th></th>\n",
       "      <th></th>\n",
       "      <th></th>\n",
       "      <th></th>\n",
       "      <th></th>\n",
       "    </tr>\n",
       "  </thead>\n",
       "  <tbody>\n",
       "    <tr>\n",
       "      <th rowspan=\"5\" valign=\"top\">10</th>\n",
       "      <th rowspan=\"5\" valign=\"top\">False</th>\n",
       "      <th rowspan=\"5\" valign=\"top\">0</th>\n",
       "      <th>0</th>\n",
       "      <td>0.638565</td>\n",
       "      <td>0</td>\n",
       "      <td>RouteScenario_556</td>\n",
       "      <td>1.00000</td>\n",
       "      <td>514.576038</td>\n",
       "    </tr>\n",
       "    <tr>\n",
       "      <th>1</th>\n",
       "      <td>0.096086</td>\n",
       "      <td>1</td>\n",
       "      <td>RouteScenario_461</td>\n",
       "      <td>0.70000</td>\n",
       "      <td>1225.405219</td>\n",
       "    </tr>\n",
       "    <tr>\n",
       "      <th>2</th>\n",
       "      <td>0.055417</td>\n",
       "      <td>2</td>\n",
       "      <td>RouteScenario_4</td>\n",
       "      <td>1.00000</td>\n",
       "      <td>1737.925832</td>\n",
       "    </tr>\n",
       "    <tr>\n",
       "      <th>3</th>\n",
       "      <td>0.055417</td>\n",
       "      <td>2</td>\n",
       "      <td>RouteScenario_4</td>\n",
       "      <td>1.00000</td>\n",
       "      <td>2002.960191</td>\n",
       "    </tr>\n",
       "    <tr>\n",
       "      <th>4</th>\n",
       "      <td>0.055417</td>\n",
       "      <td>2</td>\n",
       "      <td>RouteScenario_4</td>\n",
       "      <td>1.00000</td>\n",
       "      <td>2627.114673</td>\n",
       "    </tr>\n",
       "    <tr>\n",
       "      <th>...</th>\n",
       "      <th>...</th>\n",
       "      <th>...</th>\n",
       "      <th>...</th>\n",
       "      <td>...</td>\n",
       "      <td>...</td>\n",
       "      <td>...</td>\n",
       "      <td>...</td>\n",
       "      <td>...</td>\n",
       "    </tr>\n",
       "    <tr>\n",
       "      <th rowspan=\"5\" valign=\"top\">20</th>\n",
       "      <th rowspan=\"5\" valign=\"top\">True</th>\n",
       "      <th rowspan=\"5\" valign=\"top\">24</th>\n",
       "      <th>20</th>\n",
       "      <td>0.116742</td>\n",
       "      <td>11</td>\n",
       "      <td>RouteScenario_509</td>\n",
       "      <td>0.11069</td>\n",
       "      <td>NaN</td>\n",
       "    </tr>\n",
       "    <tr>\n",
       "      <th>21</th>\n",
       "      <td>0.116742</td>\n",
       "      <td>11</td>\n",
       "      <td>RouteScenario_509</td>\n",
       "      <td>0.11069</td>\n",
       "      <td>NaN</td>\n",
       "    </tr>\n",
       "    <tr>\n",
       "      <th>22</th>\n",
       "      <td>0.116742</td>\n",
       "      <td>11</td>\n",
       "      <td>RouteScenario_509</td>\n",
       "      <td>0.11069</td>\n",
       "      <td>NaN</td>\n",
       "    </tr>\n",
       "    <tr>\n",
       "      <th>23</th>\n",
       "      <td>0.116742</td>\n",
       "      <td>11</td>\n",
       "      <td>RouteScenario_509</td>\n",
       "      <td>0.11069</td>\n",
       "      <td>NaN</td>\n",
       "    </tr>\n",
       "    <tr>\n",
       "      <th>24</th>\n",
       "      <td>0.116742</td>\n",
       "      <td>11</td>\n",
       "      <td>RouteScenario_509</td>\n",
       "      <td>0.11069</td>\n",
       "      <td>NaN</td>\n",
       "    </tr>\n",
       "  </tbody>\n",
       "</table>\n",
       "<p>3000 rows × 5 columns</p>\n",
       "</div>"
      ],
      "text/plain": [
       "                        solution_score  solution_it  solution_route_id  oracle_dscore  cumulative_time\n",
       "fps highquality rep it                                                                                \n",
       "10  False       0   0         0.638565            0  RouteScenario_556        1.00000       514.576038\n",
       "                    1         0.096086            1  RouteScenario_461        0.70000      1225.405219\n",
       "                    2         0.055417            2    RouteScenario_4        1.00000      1737.925832\n",
       "                    3         0.055417            2    RouteScenario_4        1.00000      2002.960191\n",
       "                    4         0.055417            2    RouteScenario_4        1.00000      2627.114673\n",
       "...                                ...          ...                ...            ...              ...\n",
       "20  True        24  20        0.116742           11  RouteScenario_509        0.11069              NaN\n",
       "                    21        0.116742           11  RouteScenario_509        0.11069              NaN\n",
       "                    22        0.116742           11  RouteScenario_509        0.11069              NaN\n",
       "                    23        0.116742           11  RouteScenario_509        0.11069              NaN\n",
       "                    24        0.116742           11  RouteScenario_509        0.11069              NaN\n",
       "\n",
       "[3000 rows x 5 columns]"
      ]
     },
     "execution_count": 1000,
     "metadata": {},
     "output_type": "execute_result"
    }
   ],
   "source": [
    "sols_df"
   ]
  },
  {
   "cell_type": "code",
   "execution_count": 1001,
   "metadata": {},
   "outputs": [],
   "source": [
    "data = sols_df[['oracle_dscore', 'cumulative_time']\n",
    "               ].groupby(['fps', 'highquality', 'it']).mean()\n",
    "\n",
    "# data"
   ]
  },
  {
   "cell_type": "code",
   "execution_count": 1002,
   "metadata": {},
   "outputs": [
    {
     "data": {
      "text/html": [
       "<div>\n",
       "<style scoped>\n",
       "    .dataframe tbody tr th:only-of-type {\n",
       "        vertical-align: middle;\n",
       "    }\n",
       "\n",
       "    .dataframe tbody tr th {\n",
       "        vertical-align: top;\n",
       "    }\n",
       "\n",
       "    .dataframe thead th {\n",
       "        text-align: right;\n",
       "    }\n",
       "</style>\n",
       "<table border=\"1\" class=\"dataframe\">\n",
       "  <thead>\n",
       "    <tr style=\"text-align: right;\">\n",
       "      <th></th>\n",
       "      <th></th>\n",
       "      <th></th>\n",
       "      <th>oracle_dscore</th>\n",
       "      <th>cumulative_time</th>\n",
       "    </tr>\n",
       "    <tr>\n",
       "      <th>fps</th>\n",
       "      <th>highquality</th>\n",
       "      <th>it</th>\n",
       "      <th></th>\n",
       "      <th></th>\n",
       "    </tr>\n",
       "  </thead>\n",
       "  <tbody>\n",
       "    <tr>\n",
       "      <th rowspan=\"5\" valign=\"top\">20</th>\n",
       "      <th rowspan=\"5\" valign=\"top\">True</th>\n",
       "      <th>24</th>\n",
       "      <td>0.144428</td>\n",
       "      <td>16934.831355</td>\n",
       "    </tr>\n",
       "    <tr>\n",
       "      <th>23</th>\n",
       "      <td>0.144428</td>\n",
       "      <td>16382.572402</td>\n",
       "    </tr>\n",
       "    <tr>\n",
       "      <th>22</th>\n",
       "      <td>0.144428</td>\n",
       "      <td>15754.019130</td>\n",
       "    </tr>\n",
       "    <tr>\n",
       "      <th>21</th>\n",
       "      <td>0.144428</td>\n",
       "      <td>15109.189877</td>\n",
       "    </tr>\n",
       "    <tr>\n",
       "      <th>20</th>\n",
       "      <td>0.153667</td>\n",
       "      <td>14363.857453</td>\n",
       "    </tr>\n",
       "  </tbody>\n",
       "</table>\n",
       "</div>"
      ],
      "text/plain": [
       "                    oracle_dscore  cumulative_time\n",
       "fps highquality it                                \n",
       "20  True        24       0.144428     16934.831355\n",
       "                23       0.144428     16382.572402\n",
       "                22       0.144428     15754.019130\n",
       "                21       0.144428     15109.189877\n",
       "                20       0.153667     14363.857453"
      ]
     },
     "execution_count": 1002,
     "metadata": {},
     "output_type": "execute_result"
    }
   ],
   "source": [
    "data.index = data.index.set_levels(data.index.levels[0].astype(str), level=0)\n",
    "data = data.sort_index(ascending=False)\n",
    "data.head()"
   ]
  },
  {
   "cell_type": "code",
   "execution_count": 1003,
   "metadata": {},
   "outputs": [
    {
     "name": "stdout",
     "output_type": "stream",
     "text": [
      "<class 'pandas.core.frame.DataFrame'>\n",
      "MultiIndex: 150 entries, ('20', 'True', 24) to ('10', 'False', 0)\n",
      "Data columns (total 2 columns):\n",
      " #   Column           Non-Null Count  Dtype  \n",
      "---  ------           --------------  -----  \n",
      " 0   oracle_dscore    150 non-null    float64\n",
      " 1   cumulative_time  150 non-null    float64\n",
      "dtypes: float64(2)\n",
      "memory usage: 3.3+ KB\n"
     ]
    }
   ],
   "source": [
    "\n",
    "data.info()"
   ]
  },
  {
   "cell_type": "code",
   "execution_count": 1004,
   "metadata": {},
   "outputs": [
    {
     "data": {
      "text/plain": [
       "<matplotlib.legend.Legend at 0x75fb0e3e9a80>"
      ]
     },
     "execution_count": 1004,
     "metadata": {},
     "output_type": "execute_result"
    },
    {
     "data": {
      "image/png": "[encoded data removed]",
      "text/plain": [
       "<Figure size 640x480 with 1 Axes>"
      ]
     },
     "metadata": {},
     "output_type": "display_data"
    }
   ],
   "source": [
    "sns.set_theme(style=\"ticks\", palette=\"deep\")\n",
    "\n",
    "f, ax = plt.subplots(nrows=1, sharex=True, sharey=True)\n",
    "\n",
    "sns.lineplot(data=data, x='cumulative_time', y='oracle_dscore',\n",
    "             style='fps', hue='highquality', ax=ax, errorbar=None)\n",
    "\n",
    "sns.lineplot(data=data.xs((\"20\", \"True\"), level=['fps', 'highquality'], drop_level=False),  x='cumulative_time',\n",
    "             y='oracle_dscore', hue='highquality', ax=ax,  errorbar=None, lw=5)\n",
    "\n",
    "\n",
    "ax.set_ylabel(\"Oracle DScore\")\n",
    "ax.set_xlabel(\"Total time [s]\")\n",
    "ax.set_ylim(0, 1)\n",
    "handles, labels = ax.get_legend_handles_labels()\n",
    "ax.legend(handles=handles, labels=[\n",
    "          'REN', 'Epic', 'Low', 'FPS', '20', '15', '10'])"
   ]
  },
  {
   "cell_type": "markdown",
   "metadata": {},
   "source": [
    "## Statistical tests"
   ]
  },
  {
   "cell_type": "code",
   "execution_count": 1005,
   "metadata": {},
   "outputs": [],
   "source": [
    "from scipy.stats import mannwhitneyu\n",
    "from itertools import permutations\n",
    "\n",
    "ITERATION = 0"
   ]
  },
  {
   "cell_type": "code",
   "execution_count": 1019,
   "metadata": {},
   "outputs": [],
   "source": [
    "\n",
    "\n",
    "def do_test(fid_a, fid_b, set_a, set_b, confidence_level=0.99):\n",
    "    U1, p = mannwhitneyu(set_a, set_b)\n",
    "\n",
    "    max_error = 1 - confidence_level\n",
    "\n",
    "    if p < max_error:\n",
    "        print(\n",
    "            f\"\\tAt {ITERATION = } the difference beetween {fid_a} and {fid_b} is statistically significant. {p = :.5f}\")\n",
    "        print(set_a)\n",
    "        print(set_b)\n",
    "    else:\n",
    "        return\n",
    "        print(\n",
    "            f\"\\tAt {ITERATION = } the difference beetween {fid_a} and {fid_b} is not statistically significant. {p = :.5f}\")"
   ]
  },
  {
   "cell_type": "code",
   "execution_count": 1020,
   "metadata": {},
   "outputs": [],
   "source": [
    "#\n",
    "oracle_dscores = sols_df.loc[idx[:, :, :, ITERATION]]['oracle_dscore'].groupby(\n",
    "    ['fps', 'highquality',]).agg(list)"
   ]
  },
  {
   "cell_type": "code",
   "execution_count": 1021,
   "metadata": {},
   "outputs": [
    {
     "name": "stdout",
     "output_type": "stream",
     "text": [
      "\tAt ITERATION = 0 the difference beetween (10, 'False') and (15, 'False') is statistically significant. p = 0.00445\n",
      "[1.0, 0.5147312360756197, 0.6, 0.65, 1.0, 0.8, 0.9399605080152691, 1.0, 1.0, 0.7, 1.0, 1.0, 0.8, 0.9418971882707559, 0.09316916577134964, 1.0, 0.11748559288326836, 0.8368075108371076, 1.0, 1.0]\n",
      "[1.0, 1.0, 0.8, 0.45701156006483984, 1.0, 1.0, 1.0, 1.0, 1.0, 1.0, 1.0, 1.0, 1.0, 1.0, 1.0, 1.0, 1.0, 1.0, 1.0, 1.0]\n",
      "\tAt ITERATION = 0 the difference beetween (15, 'False') and (10, 'False') is statistically significant. p = 0.00445\n",
      "[1.0, 1.0, 0.8, 0.45701156006483984, 1.0, 1.0, 1.0, 1.0, 1.0, 1.0, 1.0, 1.0, 1.0, 1.0, 1.0, 1.0, 1.0, 1.0, 1.0, 1.0]\n",
      "[1.0, 0.5147312360756197, 0.6, 0.65, 1.0, 0.8, 0.9399605080152691, 1.0, 1.0, 0.7, 1.0, 1.0, 0.8, 0.9418971882707559, 0.09316916577134964, 1.0, 0.11748559288326836, 0.8368075108371076, 1.0, 1.0]\n",
      "\tAt ITERATION = 0 the difference beetween (15, 'False') and (20, 'True') is statistically significant. p = 0.00533\n",
      "[1.0, 1.0, 0.8, 0.45701156006483984, 1.0, 1.0, 1.0, 1.0, 1.0, 1.0, 1.0, 1.0, 1.0, 1.0, 1.0, 1.0, 1.0, 1.0, 1.0, 1.0]\n",
      "[1.0, 0.37584918760366476, 0.36, 1.0, 0.6, 0.8870899244954888, 0.2538279005045758, 1.0, 1.0, 0.36, 0.2657572217226992, 1.0, 0.4433050541850136, 0.47754012342483143, 1.0, 1.0, 1.0, 1.0, 1.0, 0.955511832341881]\n",
      "\tAt ITERATION = 0 the difference beetween (20, 'True') and (15, 'False') is statistically significant. p = 0.00533\n",
      "[1.0, 0.37584918760366476, 0.36, 1.0, 0.6, 0.8870899244954888, 0.2538279005045758, 1.0, 1.0, 0.36, 0.2657572217226992, 1.0, 0.4433050541850136, 0.47754012342483143, 1.0, 1.0, 1.0, 1.0, 1.0, 0.955511832341881]\n",
      "[1.0, 1.0, 0.8, 0.45701156006483984, 1.0, 1.0, 1.0, 1.0, 1.0, 1.0, 1.0, 1.0, 1.0, 1.0, 1.0, 1.0, 1.0, 1.0, 1.0, 1.0]\n"
     ]
    }
   ],
   "source": [
    "# iterate over all possible fidelities\n",
    "for (a_fid, a_list), (b_fid, b_list) in permutations(oracle_dscores.items(), 2):\n",
    "    do_test(a_fid, b_fid, a_list, b_list)"
   ]
  },
  {
   "cell_type": "code",
   "execution_count": null,
   "metadata": {},
   "outputs": [],
   "source": []
  }
 ],
 "metadata": {
  "kernelspec": {
   "display_name": "data-science",
   "language": "python",
   "name": "python3"
  },
  "language_info": {
   "codemirror_mode": {
    "name": "ipython",
    "version": 3
   },
   "file_extension": ".py",
   "mimetype": "text/x-python",
   "name": "python",
   "nbconvert_exporter": "python",
   "pygments_lexer": "ipython3",
   "version": "3.10.14"
  }
 },
 "nbformat": 4,
 "nbformat_minor": 2
}
