{
 "cells": [
  {
   "cell_type": "code",
   "execution_count": 1,
   "metadata": {},
   "outputs": [],
   "source": [
    "import pickle\n",
    "import pandas as pd\n",
    "import matplotlib.pyplot as plt\n",
    "import seaborn as sns\n",
    "import matplotlib.lines as mlines\n",
    "from util.load_scenarios import load_scenario_df\n",
    "from util.load_evaluations import load_rs_df, load_ver_df"
   ]
  },
  {
   "cell_type": "markdown",
   "metadata": {},
   "source": [
    "# Load data\n"
   ]
  },
  {
   "cell_type": "code",
   "execution_count": 2,
   "metadata": {},
   "outputs": [],
   "source": [
    "RS_PATH = \"../data/evaluation/random_search\"\n",
    "\n",
    "rs_df = load_rs_df(RS_PATH)\n",
    "\n",
    "scenario_df = load_scenario_df(\"../data/definition/rs_routes.xml\")\n",
    "\n",
    "rs_df = rs_df.join(scenario_df, on='route_index', how='inner').sort_index()\n",
    "\n",
    "# verification set is becoming a\n",
    "ver_df = load_ver_df(RS_PATH + \"/rs_v3/verification\").set_index(\n",
    "    'route_id')"
   ]
  },
  {
   "cell_type": "markdown",
   "metadata": {},
   "source": [
    "## Load model\n"
   ]
  },
  {
   "cell_type": "code",
   "execution_count": 3,
   "metadata": {},
   "outputs": [
    {
     "name": "stderr",
     "output_type": "stream",
     "text": [
      "/home/olek/.miniconda3/envs/data-science/lib/python3.12/site-packages/sklearn/base.py:347: InconsistentVersionWarning: Trying to unpickle estimator SVC from version 1.4.2 when using version 1.3.0. This might lead to breaking code or invalid results. Use at your own risk. For more info please refer to:\n",
      "https://scikit-learn.org/stable/model_persistence.html#security-maintainability-limitations\n",
      "  warnings.warn(\n"
     ]
    }
   ],
   "source": [
    "\n",
    "with open(\"model.pkl\", \"rb\") as f:\n",
    "    model = pickle.load(f)"
   ]
  },
  {
   "cell_type": "markdown",
   "metadata": {},
   "source": [
    "# PROCESS DATA\n"
   ]
  },
  {
   "cell_type": "markdown",
   "metadata": {},
   "source": [
    "## Predict fidelity robustness\n"
   ]
  },
  {
   "cell_type": "code",
   "execution_count": 4,
   "metadata": {},
   "outputs": [],
   "source": [
    "def do_prediction(rs_trace: pd.DataFrame, model, features=['max_angles', 'dist_len_ratio', 'n_turns']) -> pd.DataFrame:\n",
    "    X = rs_trace[features].to_numpy()\n",
    "    rs_trace['prediciton'] = model.predict(X)\n",
    "    return rs_trace\n",
    "\n",
    "# rs_trace = do_prediction(rs_trace, model)\n",
    "# rs_trace['prediciton'].value_counts()"
   ]
  },
  {
   "cell_type": "markdown",
   "metadata": {},
   "source": [
    "**! very important here**\n",
    "Here in 10FPS epic we have deemed 64 safe runs so they will be using low fid.\n",
    "The rest of risky scenarios (686) will use high fidelity\n"
   ]
  },
  {
   "cell_type": "markdown",
   "metadata": {},
   "source": [
    "to substitute running for risky scenario swap with 20Fid executions which is in verification set\n"
   ]
  },
  {
   "cell_type": "markdown",
   "metadata": {},
   "source": [
    "## Fuse fidelities\n"
   ]
  },
  {
   "cell_type": "code",
   "execution_count": 5,
   "metadata": {},
   "outputs": [],
   "source": [
    "def do_fidelity_fusion(rs_trace):\n",
    "    # makes sense in case of classifier\n",
    "    processed_batches = []\n",
    "\n",
    "    # iterate over prediction classes\n",
    "    for prediciton, batch in rs_trace.groupby('prediciton'):\n",
    "        match prediciton:\n",
    "            case 'safe':\n",
    "                # do nothihg if scenario is safe to run\n",
    "                batch['swapped'] = 'no'\n",
    "                pass\n",
    "            case 'risky':\n",
    "\n",
    "                # use verification data set as high fidelity\n",
    "                high_fid = ver_df\n",
    "\n",
    "                # if scenario is risky swap with HF data from verification set\n",
    "                high_fid = high_fid[['driving_score', 'duration_system']]\n",
    "                batch = batch.drop(\n",
    "                    ['driving_score', 'duration_system'], axis=1)\n",
    "                batch = batch.join(high_fid, on='route_id')\n",
    "                batch['swapped'] = 'yes'\n",
    "\n",
    "        processed_batches.append(batch)\n",
    "\n",
    "    mff_trace = pd.concat(processed_batches).sort_index()\n",
    "    return mff_trace\n",
    "\n",
    "\n",
    "# mff_trace = do_fidelity_fusion(rs_trace)"
   ]
  },
  {
   "cell_type": "markdown",
   "metadata": {},
   "source": [
    "## Compute solutions of trace\n",
    "\n",
    "random search\n"
   ]
  },
  {
   "cell_type": "code",
   "execution_count": 6,
   "metadata": {},
   "outputs": [],
   "source": [
    "def get_solutions_of_iteration(rs_trace, curr_it):\n",
    "\n",
    "    idx = pd.IndexSlice\n",
    "    # get slice of data frame from iteration 0 to current iteration\n",
    "    slice = rs_trace.loc[idx[:, :, :, :curr_it], :]\n",
    "\n",
    "    # get index of minumum driving score -> solution (in iterations so far)\n",
    "    gb = slice.groupby(['fps', 'highquality', 'rep',])[\n",
    "        'driving_score']\n",
    "\n",
    "    solutions_idx = gb.idxmin().rename('solution_idx')\n",
    "\n",
    "    # get value of minimum driving score\n",
    "    solutions_score = gb.min().rename('solution_score')\n",
    "\n",
    "    solutions = pd.concat([solutions_idx, solutions_score], axis=1)\n",
    "    solutions['it'] = curr_it\n",
    "    solutions = solutions.reset_index().set_index(\n",
    "        ['fps', 'highquality', 'rep', 'it'])\n",
    "\n",
    "    return solutions\n",
    "\n",
    "# get_solutions_of_iteration(mff_trace, 0)"
   ]
  },
  {
   "cell_type": "code",
   "execution_count": 7,
   "metadata": {},
   "outputs": [],
   "source": [
    "def get_solutions_from_trace(rs_trace: pd.DataFrame) -> pd.DataFrame:\n",
    "\n",
    "    NUM_OF_ITERAITONS = 25\n",
    "\n",
    "    sols_df = pd.concat([get_solutions_of_iteration(rs_trace, it)\n",
    "                        for it in range(NUM_OF_ITERAITONS)], axis=0)\n",
    "\n",
    "    # at what iteration did we find the solution\n",
    "    sols_df['solution_it'] = sols_df['solution_idx'].apply(lambda x: x[-2])\n",
    "    # what is the route_id of the solution\n",
    "    sols_df['solution_route_id'] = sols_df['solution_idx'].apply(\n",
    "        lambda x: x[-1])\n",
    "\n",
    "    # we don't need that once unpacked\n",
    "    # sols_df = sols_df.drop('solution_idx', axis=1)\n",
    "\n",
    "    # add data from verification\n",
    "    oracle_df = ver_df['driving_score'].rename(\"oracle_dscore\")\n",
    "    sols_df = sols_df.join(oracle_df, on='solution_route_id')\n",
    "    sols_df = sols_df.sort_index()\n",
    "    return sols_df\n",
    "\n",
    "\n",
    "# mff_sols = get_solutions_from_trace(mff_trace)"
   ]
  },
  {
   "cell_type": "markdown",
   "metadata": {},
   "source": [
    "## Add cumulative time\n"
   ]
  },
  {
   "cell_type": "code",
   "execution_count": 8,
   "metadata": {},
   "outputs": [],
   "source": [
    "def get_cumulative_time_from_trace(rs_trace: pd.DataFrame) -> pd.Series:\n",
    "    cumulative_time = (rs_trace['duration_system']\n",
    "                       .groupby(['fps', 'highquality', 'rep'])\n",
    "                       .cumsum()\n",
    "                       .rename('cumulative_time'))\n",
    "\n",
    "    return cumulative_time\n",
    "\n",
    "\n",
    "# ct = get_cumulative_time_from_trace(mff_trace)\n",
    "# mff_sols = mff_sols.join(ct)\n",
    "# mff_sols"
   ]
  },
  {
   "cell_type": "markdown",
   "metadata": {},
   "source": [
    "## Average repetitions for a smooth curve\n"
   ]
  },
  {
   "cell_type": "code",
   "execution_count": 9,
   "metadata": {},
   "outputs": [],
   "source": [
    "def average_repetitions(sols_df: pd.DataFrame):\n",
    "\n",
    "    return (sols_df\n",
    "            .select_dtypes('number')\n",
    "            .groupby(['fps', 'highquality', 'it'])\n",
    "            .mean())\n",
    "\n",
    "# mff_sols = average_repetitions(mff_sols)"
   ]
  },
  {
   "cell_type": "markdown",
   "metadata": {},
   "source": [
    "# MULTIFIDELITY FUSION\n"
   ]
  },
  {
   "cell_type": "markdown",
   "metadata": {},
   "source": [
    "## Predict fidelity robustness\n"
   ]
  },
  {
   "cell_type": "code",
   "execution_count": null,
   "metadata": {},
   "outputs": [],
   "source": [
    "def do_prediction(rs_trace: pd.DataFrame, model, features=['max_angles', 'dist_len_ratio', 'n_turns']) -> pd.DataFrame:\n",
    "    X = rs_trace[features].to_numpy()\n",
    "    rs_trace['prediciton'] = model.predict(X)\n",
    "    return rs_trace\n",
    "\n",
    "# rs_trace = do_prediction(rs_trace, model)\n",
    "# rs_trace['prediciton'].value_counts()"
   ]
  },
  {
   "cell_type": "markdown",
   "metadata": {},
   "source": [
    "**! very important here**\n",
    "Here in 10FPS epic we have deemed 64 safe runs so they will be using low fid.\n",
    "The rest of risky scenarios (686) will use high fidelity\n"
   ]
  },
  {
   "cell_type": "markdown",
   "metadata": {},
   "source": [
    "to substitute running for risky scenario swap with 20Fid executions which is in verification set\n"
   ]
  },
  {
   "cell_type": "markdown",
   "metadata": {},
   "source": [
    "## Fuse fidelities\n"
   ]
  },
  {
   "cell_type": "code",
   "execution_count": null,
   "metadata": {},
   "outputs": [],
   "source": [
    "def do_fidelity_fusion(rs_trace):\n",
    "    # makes sense in case of classifier\n",
    "    processed_batches = []\n",
    "\n",
    "    # iterate over prediction classes\n",
    "    for prediciton, batch in rs_trace.groupby('prediciton'):\n",
    "        match prediciton:\n",
    "            case 'safe':\n",
    "                # do nothihg if scenario is safe to run\n",
    "                batch['swapped'] = 'no'\n",
    "                pass\n",
    "            case 'risky':\n",
    "\n",
    "                # use verification data set as high fidelity\n",
    "                high_fid = ver_df\n",
    "\n",
    "                # if scenario is risky swap with HF data from verification set\n",
    "                high_fid = high_fid[['driving_score', 'duration_system']]\n",
    "                batch = batch.drop(\n",
    "                    ['driving_score', 'duration_system'], axis=1)\n",
    "                batch = batch.join(high_fid, on='route_id')\n",
    "                batch['swapped'] = 'yes'\n",
    "\n",
    "        processed_batches.append(batch)\n",
    "\n",
    "    mff_trace = pd.concat(processed_batches).sort_index()\n",
    "    return mff_trace\n",
    "\n",
    "\n",
    "# mff_trace = do_fidelity_fusion(rs_trace)"
   ]
  },
  {
   "cell_type": "markdown",
   "metadata": {},
   "source": [
    "## Simulate MFF traces\n"
   ]
  },
  {
   "cell_type": "code",
   "execution_count": 10,
   "metadata": {},
   "outputs": [],
   "source": [
    "def simulate_mff_traces(traces):\n",
    "    lowfid_traces = traces.copy().xs((\"10\", \"True\"), drop_level=False).sort_index()\n",
    "    lowfid_traces = do_prediction(lowfid_traces, model)\n",
    "    mff_traces = do_fidelity_fusion(lowfid_traces)\n",
    "    return mff_traces"
   ]
  },
  {
   "cell_type": "markdown",
   "metadata": {},
   "source": [
    "## Process search traces\n"
   ]
  },
  {
   "cell_type": "code",
   "execution_count": 11,
   "metadata": {},
   "outputs": [],
   "source": [
    "def process_traces(traces, avg=True):\n",
    "\n",
    "    # get solutions at each iterations\n",
    "    sols_df = get_solutions_from_trace(traces)\n",
    "\n",
    "    # calculate cumulative time of iterations\n",
    "    cumulative_time = get_cumulative_time_from_trace(traces)\n",
    "    sols_df = sols_df.join(cumulative_time)\n",
    "\n",
    "    # average repetitions\n",
    "    if avg:\n",
    "        sols_df = average_repetitions(sols_df)\n",
    "\n",
    "    return sols_df"
   ]
  },
  {
   "cell_type": "markdown",
   "metadata": {},
   "source": [
    "# MAIN\n"
   ]
  },
  {
   "cell_type": "code",
   "execution_count": 12,
   "metadata": {},
   "outputs": [],
   "source": [
    "# MAIN\n",
    "rs_traces = rs_df.reset_index().set_index(\n",
    "    ['fps', 'highquality', 'rep', 'it', 'route_id'])\n",
    "\n",
    "old_sols = process_traces(rs_traces)\n",
    "# do the same for mff\n",
    "mff_traces = simulate_mff_traces(rs_traces)\n",
    "mff_sols = process_traces(mff_traces)"
   ]
  },
  {
   "cell_type": "markdown",
   "metadata": {},
   "source": [
    "# PLOT\n"
   ]
  },
  {
   "cell_type": "markdown",
   "metadata": {},
   "source": [
    "## Old solutions\n"
   ]
  },
  {
   "cell_type": "code",
   "execution_count": 13,
   "metadata": {},
   "outputs": [
    {
     "data": {
      "image/png": "[encoded data removed]",
      "text/plain": [
       "<Figure size 640x480 with 1 Axes>"
      ]
     },
     "metadata": {},
     "output_type": "display_data"
    }
   ],
   "source": [
    "def plot_solutions(sols_df):\n",
    "\n",
    "    # let 20FPS be first\n",
    "    sols_df = sols_df.sort_index(ascending=False)\n",
    "    f, ax = plt.subplots()\n",
    "\n",
    "    sns.lineplot(data=sols_df, x='cumulative_time', y='oracle_dscore',\n",
    "                 style='fps', hue='highquality', ax=ax, errorbar=None)\n",
    "\n",
    "    sns.lineplot(data=sols_df.xs((\"20\", \"True\"), level=['fps', 'highquality'], drop_level=False),  x='cumulative_time',\n",
    "                 y='oracle_dscore', hue='highquality', ax=ax,  errorbar=None, lw=5)\n",
    "\n",
    "    ax.set_ylabel(\"Recalculated DScore\")\n",
    "    ax.set_xlabel(\"System time [s]\")\n",
    "    ax.set_ylim(0, 1)\n",
    "\n",
    "    # BETTER LEGEND\n",
    "    handles, labels = ax.get_legend_handles_labels()\n",
    "\n",
    "    blue = handles[1].get_color()\n",
    "    orange = handles[2].get_color()\n",
    "    lines = [\n",
    "        mlines.Line2D([], [], color=blue, linestyle=None,\n",
    "                      label='20 FPS Epic', lw=5),\n",
    "        mlines.Line2D([], [], color=orange,\n",
    "                      linestyle=None, label='20 FPS Low'),\n",
    "\n",
    "        mlines.Line2D([], [], color=blue, linestyle='--', label='15 FPS Epic'),\n",
    "        mlines.Line2D([], [], color=orange,\n",
    "                      linestyle='--', label='15 FPS Low'),\n",
    "        mlines.Line2D([], [], color=blue, linestyle='dotted',\n",
    "                      label='10 FPS Epic'),\n",
    "        mlines.Line2D([], [], color=orange,\n",
    "                      linestyle='dotted', label='10 FPS Low'),\n",
    "\n",
    "    ]\n",
    "\n",
    "    ax.legend(handles=lines, prop={'size': 9})\n",
    "\n",
    "    # f.savefig('plot_rq3.pdf', bbox_inches='tight')\n",
    "\n",
    "\n",
    "plot_solutions(old_sols)"
   ]
  },
  {
   "cell_type": "markdown",
   "metadata": {},
   "source": [
    "## Plot mff\n"
   ]
  },
  {
   "cell_type": "code",
   "execution_count": 14,
   "metadata": {},
   "outputs": [
    {
     "name": "stdout",
     "output_type": "stream",
     "text": [
      "[]\n"
     ]
    },
    {
     "data": {
      "image/png": "[encoded data removed]",
      "text/plain": [
       "<Figure size 640x480 with 1 Axes>"
      ]
     },
     "metadata": {},
     "output_type": "display_data"
    }
   ],
   "source": [
    "def plot_mff(baseline, mff_sols):\n",
    "\n",
    "    f, ax = plt.subplots()\n",
    "    sns.lineplot(data=baseline,  x='cumulative_time',\n",
    "                 y='oracle_dscore', ax=ax,  errorbar=None, lw=4)\n",
    "\n",
    "    sns.lineplot(data=mff_sols,  x='cumulative_time',\n",
    "                 y='oracle_dscore', ax=ax,  errorbar=None, lw=2)\n",
    "\n",
    "    ax.set_ylabel(\"Recalculated DScore\")\n",
    "    ax.set_xlabel(\"System time [s]\")\n",
    "    ax.set_ylim(0, 1)\n",
    "    handles, labels = ax.get_legend_handles_labels()\n",
    "    print(handles)\n",
    "\n",
    "    # blue = handles[0].get_color()\n",
    "    # orange = handles[0].get_color()\n",
    "\n",
    "    lines = [\n",
    "        mlines.Line2D([], [], color=\"blue\", lw=4,\n",
    "                      label='20 FPS Epic'),\n",
    "        mlines.Line2D([], [], color=\"orange\", lw=4,\n",
    "\n",
    "                      label='Multifidelity fusion'),\n",
    "    ]\n",
    "    ax.legend(handles=lines, prop={'size': 12})\n",
    "    f.savefig('plot.pdf', bbox_inches='tight')\n",
    "\n",
    "\n",
    "plot_mff(baseline=old_sols.xs((\"20\", \"True\")), mff_sols=mff_sols)"
   ]
  },
  {
   "cell_type": "markdown",
   "metadata": {},
   "source": [
    "# Statistical tests\n"
   ]
  },
  {
   "cell_type": "code",
   "execution_count": 15,
   "metadata": {},
   "outputs": [],
   "source": [
    "from scipy.stats import mannwhitneyu\n",
    "from itertools import permutations"
   ]
  },
  {
   "cell_type": "code",
   "execution_count": 16,
   "metadata": {},
   "outputs": [],
   "source": [
    "\n",
    "col = 'cumulative_time'\n",
    "col = 'oracle_dscore'\n",
    "\n",
    "old_sols_raw = process_traces(rs_traces, avg=False)\n",
    "mff_sols_raw = process_traces(mff_traces, avg=False)\n",
    "\n",
    "hf_sols_raw = old_sols_raw.xs((\"20\", \"True\"))\n",
    "\n",
    "\n",
    "def to_list(sols_df: pd.DataFrame, column: str) -> pd.Series:\n",
    "    return sols_df[column].groupby('it').agg(list)"
   ]
  },
  {
   "cell_type": "code",
   "execution_count": 17,
   "metadata": {},
   "outputs": [],
   "source": [
    "def do_test(fid_a, fid_b, set_a, set_b, confidence_level=0.99):\n",
    "    U1, p = mannwhitneyu(set_a, set_b)\n",
    "\n",
    "    max_error = 1 - confidence_level\n",
    "\n",
    "    if p < max_error:\n",
    "        print(\n",
    "            f\"\\t The difference beetween {fid_a} and {fid_b} IS statistically significant. {p=:.5f}\")\n",
    "        # print(set_a)\n",
    "        # print(set_b)\n",
    "    else:\n",
    "        # return\n",
    "        print(\n",
    "            f\"\\t The difference beetween {fid_a} and {fid_b} is NOT statistically significant. {p=:.5f}\")"
   ]
  },
  {
   "cell_type": "code",
   "execution_count": 18,
   "metadata": {},
   "outputs": [
    {
     "name": "stdout",
     "output_type": "stream",
     "text": [
      "Doing statisical tests for oracle_dscore:\n",
      "At it=0 \t The difference beetween MFF and High fid is NOT statistically significant. p=0.22927\n",
      "At it=1 \t The difference beetween MFF and High fid is NOT statistically significant. p=0.94466\n",
      "At it=2 \t The difference beetween MFF and High fid is NOT statistically significant. p=0.88617\n",
      "At it=3 \t The difference beetween MFF and High fid is NOT statistically significant. p=0.39143\n",
      "At it=4 \t The difference beetween MFF and High fid is NOT statistically significant. p=0.67186\n",
      "At it=5 \t The difference beetween MFF and High fid is NOT statistically significant. p=0.34204\n",
      "At it=6 \t The difference beetween MFF and High fid is NOT statistically significant. p=0.52389\n",
      "At it=7 \t The difference beetween MFF and High fid is NOT statistically significant. p=0.26713\n",
      "At it=8 \t The difference beetween MFF and High fid is NOT statistically significant. p=0.45960\n",
      "At it=9 \t The difference beetween MFF and High fid is NOT statistically significant. p=0.25172\n",
      "At it=10 \t The difference beetween MFF and High fid is NOT statistically significant. p=0.12584\n",
      "At it=11 \t The difference beetween MFF and High fid is NOT statistically significant. p=0.26102\n",
      "At it=12 \t The difference beetween MFF and High fid is NOT statistically significant. p=0.32901\n",
      "At it=13 \t The difference beetween MFF and High fid is NOT statistically significant. p=0.33634\n",
      "At it=14 \t The difference beetween MFF and High fid is NOT statistically significant. p=0.33634\n",
      "At it=15 \t The difference beetween MFF and High fid is NOT statistically significant. p=0.46858\n",
      "At it=16 \t The difference beetween MFF and High fid is NOT statistically significant. p=0.55407\n",
      "At it=17 \t The difference beetween MFF and High fid is NOT statistically significant. p=0.42452\n",
      "At it=18 \t The difference beetween MFF and High fid is NOT statistically significant. p=0.64132\n",
      "At it=19 \t The difference beetween MFF and High fid is NOT statistically significant. p=0.72818\n",
      "At it=20 \t The difference beetween MFF and High fid is NOT statistically significant. p=0.60473\n",
      "At it=21 \t The difference beetween MFF and High fid is NOT statistically significant. p=0.59445\n",
      "At it=22 \t The difference beetween MFF and High fid is NOT statistically significant. p=0.58426\n",
      "At it=23 \t The difference beetween MFF and High fid is NOT statistically significant. p=0.58426\n",
      "At it=24 \t The difference beetween MFF and High fid is NOT statistically significant. p=0.58426\n"
     ]
    }
   ],
   "source": [
    "print(f'Doing statisical tests for {col}:')\n",
    "for it, (mf, hf) in enumerate(zip(to_list(mff_sols_raw, col), to_list(hf_sols_raw, col))):\n",
    "    print(f\"At {it=} \", end='')\n",
    "    do_test(\"MFF\", \"High fid\", mf, hf)"
   ]
  },
  {
   "cell_type": "code",
   "execution_count": null,
   "metadata": {},
   "outputs": [],
   "source": []
  }
 ],
 "metadata": {
  "kernelspec": {
   "display_name": "data-science",
   "language": "python",
   "name": "python3"
  },
  "language_info": {
   "codemirror_mode": {
    "name": "ipython",
    "version": 3
   },
   "file_extension": ".py",
   "mimetype": "text/x-python",
   "name": "python",
   "nbconvert_exporter": "python",
   "pygments_lexer": "ipython3",
   "version": "3.12.1"
  }
 },
 "nbformat": 4,
 "nbformat_minor": 2
}
