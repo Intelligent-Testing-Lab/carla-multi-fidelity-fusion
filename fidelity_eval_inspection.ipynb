{
 "cells": [
  {
   "cell_type": "markdown",
   "metadata": {},
   "source": [
    "## DATA PREPARATION"
   ]
  },
  {
   "cell_type": "code",
   "execution_count": 165,
   "metadata": {},
   "outputs": [],
   "source": [
    "import json\n",
    "import glob\n",
    "import pandas as pd\n",
    "import matplotlib.pyplot as plt\n",
    "import scipy\n",
    "\n",
    "pd.set_option('display.max_rows', 30)"
   ]
  },
  {
   "cell_type": "code",
   "execution_count": 166,
   "metadata": {},
   "outputs": [],
   "source": [
    "# e.g. results/fidelity_eval_20_fps_substepping_1.json\n",
    "path = \"results/fidelity*.json\"\n",
    "\n",
    "data = []\n",
    "\n",
    "for file_path in glob.glob(path):\n",
    "    with open(file_path, \"r\") as f:\n",
    "        file_path = file_path.replace(\".json\", \"\")\n",
    "\n",
    "        # first int is fps second is substepping bool\n",
    "        fps, substepping = [int(value)\n",
    "                            for value in file_path.split(\"_\") if value.isdigit()]\n",
    "\n",
    "        # print(f\"{fps = }, {bool(substepping) = }\")\n",
    "\n",
    "        content = json.load(f)\n",
    "        labels = content['labels']\n",
    "        values = map(float, content['values'])\n",
    "        data.append({\n",
    "\n",
    "            'fps': fps,\n",
    "            'substepping': bool(substepping),\n",
    "            # **dict(zip(labels, values)),\n",
    "            'records': content['_checkpoint']['records']\n",
    "        })\n",
    "\n",
    "\n",
    "df = pd.DataFrame(data)"
   ]
  },
  {
   "cell_type": "code",
   "execution_count": 167,
   "metadata": {},
   "outputs": [],
   "source": [
    "# df"
   ]
  },
  {
   "cell_type": "code",
   "execution_count": 168,
   "metadata": {},
   "outputs": [
    {
     "name": "stdout",
     "output_type": "stream",
     "text": [
      "<class 'pandas.core.frame.DataFrame'>\n",
      "RangeIndex: 8 entries, 0 to 7\n",
      "Data columns (total 3 columns):\n",
      " #   Column       Non-Null Count  Dtype \n",
      "---  ------       --------------  ----- \n",
      " 0   fps          8 non-null      int64 \n",
      " 1   substepping  8 non-null      bool  \n",
      " 2   records      8 non-null      object\n",
      "dtypes: bool(1), int64(1), object(1)\n",
      "memory usage: 268.0+ bytes\n"
     ]
    }
   ],
   "source": [
    "df.info()"
   ]
  },
  {
   "cell_type": "code",
   "execution_count": 169,
   "metadata": {},
   "outputs": [],
   "source": [
    "df = df.explode('records', ignore_index=True)\n",
    "# pd.json_normalize(df['records'])\n",
    "# df"
   ]
  },
  {
   "cell_type": "code",
   "execution_count": 170,
   "metadata": {},
   "outputs": [],
   "source": [
    "record_df = pd.json_normalize(df['records'])\n",
    "# record_df"
   ]
  },
  {
   "cell_type": "code",
   "execution_count": 171,
   "metadata": {},
   "outputs": [],
   "source": [
    "# concatonate records data\n",
    "df = pd.concat([df, record_df],  axis=1)\n",
    "\n",
    "# drop original column\n",
    "df = df.drop('records', axis=1)\n",
    "\n",
    "# drop infractions columns\n",
    "\n",
    "# remove prefices from column name\n",
    "df.columns = df.columns.str.removeprefix('meta.')\n",
    "df.columns = df.columns.str.removeprefix('scores.')\n",
    "df = df.rename(columns={\"index\": \"route_index\"})"
   ]
  },
  {
   "cell_type": "code",
   "execution_count": 172,
   "metadata": {},
   "outputs": [
    {
     "name": "stdout",
     "output_type": "stream",
     "text": [
      "<class 'pandas.core.frame.DataFrame'>\n",
      "RangeIndex: 80 entries, 0 to 79\n",
      "Data columns (total 20 columns):\n",
      " #   Column                             Non-Null Count  Dtype  \n",
      "---  ------                             --------------  -----  \n",
      " 0   fps                                80 non-null     int64  \n",
      " 1   substepping                        80 non-null     bool   \n",
      " 2   route_index                        80 non-null     int64  \n",
      " 3   route_id                           80 non-null     object \n",
      " 4   status                             80 non-null     object \n",
      " 5   infractions.collisions_layout      80 non-null     object \n",
      " 6   infractions.collisions_pedestrian  80 non-null     object \n",
      " 7   infractions.collisions_vehicle     80 non-null     object \n",
      " 8   infractions.outside_route_lanes    80 non-null     object \n",
      " 9   infractions.red_light              80 non-null     object \n",
      " 10  infractions.route_dev              80 non-null     object \n",
      " 11  infractions.route_timeout          80 non-null     object \n",
      " 12  infractions.stop_infraction        80 non-null     object \n",
      " 13  infractions.vehicle_blocked        80 non-null     object \n",
      " 14  duration_game                      80 non-null     float64\n",
      " 15  duration_system                    80 non-null     float64\n",
      " 16  route_length                       80 non-null     float64\n",
      " 17  score_composed                     80 non-null     float64\n",
      " 18  score_penalty                      80 non-null     float64\n",
      " 19  score_route                        80 non-null     float64\n",
      "dtypes: bool(1), float64(6), int64(2), object(11)\n",
      "memory usage: 12.1+ KB\n"
     ]
    }
   ],
   "source": [
    "df.info()"
   ]
  },
  {
   "cell_type": "code",
   "execution_count": null,
   "metadata": {},
   "outputs": [],
   "source": []
  },
  {
   "cell_type": "code",
   "execution_count": 173,
   "metadata": {},
   "outputs": [],
   "source": [
    "interesting_columns = ['fps', 'substepping',\n",
    "                       'route_index', 'route_id', 'status', 'duration_game', 'duration_system', 'route_length', 'score_composed', 'score_penalty', 'score_route']\n",
    "df = df[interesting_columns]\n",
    "\n",
    "# df"
   ]
  },
  {
   "cell_type": "code",
   "execution_count": 174,
   "metadata": {},
   "outputs": [
    {
     "data": {
      "text/html": [
       "<div>\n",
       "<style scoped>\n",
       "    .dataframe tbody tr th:only-of-type {\n",
       "        vertical-align: middle;\n",
       "    }\n",
       "\n",
       "    .dataframe tbody tr th {\n",
       "        vertical-align: top;\n",
       "    }\n",
       "\n",
       "    .dataframe thead th {\n",
       "        text-align: right;\n",
       "    }\n",
       "</style>\n",
       "<table border=\"1\" class=\"dataframe\">\n",
       "  <thead>\n",
       "    <tr style=\"text-align: right;\">\n",
       "      <th></th>\n",
       "      <th></th>\n",
       "      <th></th>\n",
       "      <th>route_id</th>\n",
       "      <th>status</th>\n",
       "      <th>duration_game</th>\n",
       "      <th>duration_system</th>\n",
       "      <th>route_length</th>\n",
       "      <th>score_composed</th>\n",
       "      <th>score_penalty</th>\n",
       "      <th>score_route</th>\n",
       "    </tr>\n",
       "    <tr>\n",
       "      <th>fps</th>\n",
       "      <th>substepping</th>\n",
       "      <th>route_index</th>\n",
       "      <th></th>\n",
       "      <th></th>\n",
       "      <th></th>\n",
       "      <th></th>\n",
       "      <th></th>\n",
       "      <th></th>\n",
       "      <th></th>\n",
       "      <th></th>\n",
       "    </tr>\n",
       "  </thead>\n",
       "  <tbody>\n",
       "    <tr>\n",
       "      <th rowspan=\"20\" valign=\"top\">5</th>\n",
       "      <th rowspan=\"10\" valign=\"top\">False</th>\n",
       "      <th>0</th>\n",
       "      <td>RouteScenario_16</td>\n",
       "      <td>Failed - Agent got blocked</td>\n",
       "      <td>282.000004</td>\n",
       "      <td>367.187565</td>\n",
       "      <td>1071.028134</td>\n",
       "      <td>2.339751</td>\n",
       "      <td>1.000000</td>\n",
       "      <td>2.339751</td>\n",
       "    </tr>\n",
       "    <tr>\n",
       "      <th>1</th>\n",
       "      <td>RouteScenario_17</td>\n",
       "      <td>Completed</td>\n",
       "      <td>598.600009</td>\n",
       "      <td>782.648368</td>\n",
       "      <td>862.430089</td>\n",
       "      <td>100.000000</td>\n",
       "      <td>1.000000</td>\n",
       "      <td>100.000000</td>\n",
       "    </tr>\n",
       "    <tr>\n",
       "      <th>2</th>\n",
       "      <td>RouteScenario_18</td>\n",
       "      <td>Failed - Agent got blocked</td>\n",
       "      <td>295.800004</td>\n",
       "      <td>402.822112</td>\n",
       "      <td>1018.154809</td>\n",
       "      <td>13.619493</td>\n",
       "      <td>1.000000</td>\n",
       "      <td>13.619493</td>\n",
       "    </tr>\n",
       "    <tr>\n",
       "      <th>3</th>\n",
       "      <td>RouteScenario_19</td>\n",
       "      <td>Failed - Agent timed out</td>\n",
       "      <td>1348.200020</td>\n",
       "      <td>1677.685935</td>\n",
       "      <td>1651.124043</td>\n",
       "      <td>88.420179</td>\n",
       "      <td>1.000000</td>\n",
       "      <td>88.420179</td>\n",
       "    </tr>\n",
       "    <tr>\n",
       "      <th>4</th>\n",
       "      <td>RouteScenario_20</td>\n",
       "      <td>Failed - Agent got blocked</td>\n",
       "      <td>407.400006</td>\n",
       "      <td>508.381444</td>\n",
       "      <td>1247.524779</td>\n",
       "      <td>38.593606</td>\n",
       "      <td>1.000000</td>\n",
       "      <td>38.593606</td>\n",
       "    </tr>\n",
       "    <tr>\n",
       "      <th>5</th>\n",
       "      <td>RouteScenario_21</td>\n",
       "      <td>Failed - Agent timed out</td>\n",
       "      <td>450.200007</td>\n",
       "      <td>594.192204</td>\n",
       "      <td>531.077514</td>\n",
       "      <td>32.324378</td>\n",
       "      <td>0.600000</td>\n",
       "      <td>53.873963</td>\n",
       "    </tr>\n",
       "    <tr>\n",
       "      <th>6</th>\n",
       "      <td>RouteScenario_22</td>\n",
       "      <td>Failed - Agent got blocked</td>\n",
       "      <td>266.800004</td>\n",
       "      <td>345.812819</td>\n",
       "      <td>991.758808</td>\n",
       "      <td>10.688263</td>\n",
       "      <td>0.751636</td>\n",
       "      <td>14.220008</td>\n",
       "    </tr>\n",
       "    <tr>\n",
       "      <th>7</th>\n",
       "      <td>RouteScenario_23</td>\n",
       "      <td>Failed - Agent timed out</td>\n",
       "      <td>1067.200016</td>\n",
       "      <td>1400.480276</td>\n",
       "      <td>1271.907966</td>\n",
       "      <td>13.066436</td>\n",
       "      <td>0.600000</td>\n",
       "      <td>21.777394</td>\n",
       "    </tr>\n",
       "    <tr>\n",
       "      <th>8</th>\n",
       "      <td>RouteScenario_24</td>\n",
       "      <td>Failed - Agent got blocked</td>\n",
       "      <td>278.200004</td>\n",
       "      <td>377.720847</td>\n",
       "      <td>2101.202735</td>\n",
       "      <td>3.688559</td>\n",
       "      <td>1.000000</td>\n",
       "      <td>3.688559</td>\n",
       "    </tr>\n",
       "    <tr>\n",
       "      <th>9</th>\n",
       "      <td>RouteScenario_25</td>\n",
       "      <td>Failed - Agent got blocked</td>\n",
       "      <td>480.600007</td>\n",
       "      <td>646.577203</td>\n",
       "      <td>1554.578340</td>\n",
       "      <td>15.254553</td>\n",
       "      <td>1.000000</td>\n",
       "      <td>15.254553</td>\n",
       "    </tr>\n",
       "    <tr>\n",
       "      <th rowspan=\"10\" valign=\"top\">True</th>\n",
       "      <th>0</th>\n",
       "      <td>RouteScenario_16</td>\n",
       "      <td>Failed - Agent got blocked</td>\n",
       "      <td>731.400011</td>\n",
       "      <td>931.267936</td>\n",
       "      <td>1071.028134</td>\n",
       "      <td>1.958101</td>\n",
       "      <td>1.000000</td>\n",
       "      <td>1.958101</td>\n",
       "    </tr>\n",
       "    <tr>\n",
       "      <th>1</th>\n",
       "      <td>RouteScenario_17</td>\n",
       "      <td>Failed - Agent timed out</td>\n",
       "      <td>714.200011</td>\n",
       "      <td>930.048077</td>\n",
       "      <td>862.430089</td>\n",
       "      <td>94.698278</td>\n",
       "      <td>1.000000</td>\n",
       "      <td>94.698278</td>\n",
       "    </tr>\n",
       "    <tr>\n",
       "      <th>2</th>\n",
       "      <td>RouteScenario_18</td>\n",
       "      <td>Failed - Agent got blocked</td>\n",
       "      <td>314.400005</td>\n",
       "      <td>425.473187</td>\n",
       "      <td>1018.154809</td>\n",
       "      <td>13.619493</td>\n",
       "      <td>1.000000</td>\n",
       "      <td>13.619493</td>\n",
       "    </tr>\n",
       "    <tr>\n",
       "      <th>3</th>\n",
       "      <td>RouteScenario_19</td>\n",
       "      <td>Failed - Agent got blocked</td>\n",
       "      <td>450.800007</td>\n",
       "      <td>575.238566</td>\n",
       "      <td>1651.124043</td>\n",
       "      <td>11.485065</td>\n",
       "      <td>1.000000</td>\n",
       "      <td>11.485065</td>\n",
       "    </tr>\n",
       "    <tr>\n",
       "      <th>4</th>\n",
       "      <td>RouteScenario_20</td>\n",
       "      <td>Failed - Agent got blocked</td>\n",
       "      <td>409.200006</td>\n",
       "      <td>510.281332</td>\n",
       "      <td>1247.524779</td>\n",
       "      <td>38.670500</td>\n",
       "      <td>1.000000</td>\n",
       "      <td>38.670500</td>\n",
       "    </tr>\n",
       "    <tr>\n",
       "      <th>5</th>\n",
       "      <td>RouteScenario_21</td>\n",
       "      <td>Failed - Agent timed out</td>\n",
       "      <td>450.200007</td>\n",
       "      <td>598.415203</td>\n",
       "      <td>531.077514</td>\n",
       "      <td>54.191947</td>\n",
       "      <td>1.000000</td>\n",
       "      <td>54.191947</td>\n",
       "    </tr>\n",
       "    <tr>\n",
       "      <th>6</th>\n",
       "      <td>RouteScenario_22</td>\n",
       "      <td>Failed - Agent got blocked</td>\n",
       "      <td>311.200005</td>\n",
       "      <td>421.257516</td>\n",
       "      <td>991.758808</td>\n",
       "      <td>18.617706</td>\n",
       "      <td>1.000000</td>\n",
       "      <td>18.617706</td>\n",
       "    </tr>\n",
       "    <tr>\n",
       "      <th>7</th>\n",
       "      <td>RouteScenario_23</td>\n",
       "      <td>Failed - Agent got blocked</td>\n",
       "      <td>1009.600015</td>\n",
       "      <td>1307.037600</td>\n",
       "      <td>1271.907966</td>\n",
       "      <td>23.708565</td>\n",
       "      <td>0.600000</td>\n",
       "      <td>39.514275</td>\n",
       "    </tr>\n",
       "    <tr>\n",
       "      <th>8</th>\n",
       "      <td>RouteScenario_24</td>\n",
       "      <td>Failed - Agent got blocked</td>\n",
       "      <td>527.400008</td>\n",
       "      <td>724.991271</td>\n",
       "      <td>2101.202735</td>\n",
       "      <td>7.502684</td>\n",
       "      <td>0.700000</td>\n",
       "      <td>10.718120</td>\n",
       "    </tr>\n",
       "    <tr>\n",
       "      <th>9</th>\n",
       "      <td>RouteScenario_25</td>\n",
       "      <td>Failed - Agent got blocked</td>\n",
       "      <td>422.000006</td>\n",
       "      <td>562.395376</td>\n",
       "      <td>1554.578340</td>\n",
       "      <td>15.254553</td>\n",
       "      <td>1.000000</td>\n",
       "      <td>15.254553</td>\n",
       "    </tr>\n",
       "    <tr>\n",
       "      <th rowspan=\"5\" valign=\"top\">10</th>\n",
       "      <th rowspan=\"5\" valign=\"top\">False</th>\n",
       "      <th>0</th>\n",
       "      <td>RouteScenario_16</td>\n",
       "      <td>Failed - Agent timed out</td>\n",
       "      <td>917.100014</td>\n",
       "      <td>2294.473993</td>\n",
       "      <td>1071.028134</td>\n",
       "      <td>31.764095</td>\n",
       "      <td>0.360000</td>\n",
       "      <td>88.233598</td>\n",
       "    </tr>\n",
       "    <tr>\n",
       "      <th>1</th>\n",
       "      <td>RouteScenario_17</td>\n",
       "      <td>Failed - Agent timed out</td>\n",
       "      <td>714.100011</td>\n",
       "      <td>1305.919094</td>\n",
       "      <td>862.430089</td>\n",
       "      <td>57.414420</td>\n",
       "      <td>0.600000</td>\n",
       "      <td>95.690699</td>\n",
       "    </tr>\n",
       "    <tr>\n",
       "      <th>2</th>\n",
       "      <td>RouteScenario_18</td>\n",
       "      <td>Failed - Agent got blocked</td>\n",
       "      <td>625.000009</td>\n",
       "      <td>1185.922587</td>\n",
       "      <td>1018.154809</td>\n",
       "      <td>18.281790</td>\n",
       "      <td>0.600000</td>\n",
       "      <td>30.469650</td>\n",
       "    </tr>\n",
       "    <tr>\n",
       "      <th>3</th>\n",
       "      <td>RouteScenario_19</td>\n",
       "      <td>Completed</td>\n",
       "      <td>670.400010</td>\n",
       "      <td>1444.364045</td>\n",
       "      <td>1651.124043</td>\n",
       "      <td>12.960000</td>\n",
       "      <td>0.129600</td>\n",
       "      <td>100.000000</td>\n",
       "    </tr>\n",
       "    <tr>\n",
       "      <th>4</th>\n",
       "      <td>RouteScenario_20</td>\n",
       "      <td>Failed - Agent timed out</td>\n",
       "      <td>1049.100016</td>\n",
       "      <td>2472.191146</td>\n",
       "      <td>1247.524779</td>\n",
       "      <td>55.443724</td>\n",
       "      <td>0.600000</td>\n",
       "      <td>92.406207</td>\n",
       "    </tr>\n",
       "  </tbody>\n",
       "</table>\n",
       "</div>"
      ],
      "text/plain": [
       "                                     route_id                      status  \\\n",
       "fps substepping route_index                                                 \n",
       "5   False       0            RouteScenario_16  Failed - Agent got blocked   \n",
       "                1            RouteScenario_17                   Completed   \n",
       "                2            RouteScenario_18  Failed - Agent got blocked   \n",
       "                3            RouteScenario_19    Failed - Agent timed out   \n",
       "                4            RouteScenario_20  Failed - Agent got blocked   \n",
       "                5            RouteScenario_21    Failed - Agent timed out   \n",
       "                6            RouteScenario_22  Failed - Agent got blocked   \n",
       "                7            RouteScenario_23    Failed - Agent timed out   \n",
       "                8            RouteScenario_24  Failed - Agent got blocked   \n",
       "                9            RouteScenario_25  Failed - Agent got blocked   \n",
       "    True        0            RouteScenario_16  Failed - Agent got blocked   \n",
       "                1            RouteScenario_17    Failed - Agent timed out   \n",
       "                2            RouteScenario_18  Failed - Agent got blocked   \n",
       "                3            RouteScenario_19  Failed - Agent got blocked   \n",
       "                4            RouteScenario_20  Failed - Agent got blocked   \n",
       "                5            RouteScenario_21    Failed - Agent timed out   \n",
       "                6            RouteScenario_22  Failed - Agent got blocked   \n",
       "                7            RouteScenario_23  Failed - Agent got blocked   \n",
       "                8            RouteScenario_24  Failed - Agent got blocked   \n",
       "                9            RouteScenario_25  Failed - Agent got blocked   \n",
       "10  False       0            RouteScenario_16    Failed - Agent timed out   \n",
       "                1            RouteScenario_17    Failed - Agent timed out   \n",
       "                2            RouteScenario_18  Failed - Agent got blocked   \n",
       "                3            RouteScenario_19                   Completed   \n",
       "                4            RouteScenario_20    Failed - Agent timed out   \n",
       "\n",
       "                             duration_game  duration_system  route_length  \\\n",
       "fps substepping route_index                                                 \n",
       "5   False       0               282.000004       367.187565   1071.028134   \n",
       "                1               598.600009       782.648368    862.430089   \n",
       "                2               295.800004       402.822112   1018.154809   \n",
       "                3              1348.200020      1677.685935   1651.124043   \n",
       "                4               407.400006       508.381444   1247.524779   \n",
       "                5               450.200007       594.192204    531.077514   \n",
       "                6               266.800004       345.812819    991.758808   \n",
       "                7              1067.200016      1400.480276   1271.907966   \n",
       "                8               278.200004       377.720847   2101.202735   \n",
       "                9               480.600007       646.577203   1554.578340   \n",
       "    True        0               731.400011       931.267936   1071.028134   \n",
       "                1               714.200011       930.048077    862.430089   \n",
       "                2               314.400005       425.473187   1018.154809   \n",
       "                3               450.800007       575.238566   1651.124043   \n",
       "                4               409.200006       510.281332   1247.524779   \n",
       "                5               450.200007       598.415203    531.077514   \n",
       "                6               311.200005       421.257516    991.758808   \n",
       "                7              1009.600015      1307.037600   1271.907966   \n",
       "                8               527.400008       724.991271   2101.202735   \n",
       "                9               422.000006       562.395376   1554.578340   \n",
       "10  False       0               917.100014      2294.473993   1071.028134   \n",
       "                1               714.100011      1305.919094    862.430089   \n",
       "                2               625.000009      1185.922587   1018.154809   \n",
       "                3               670.400010      1444.364045   1651.124043   \n",
       "                4              1049.100016      2472.191146   1247.524779   \n",
       "\n",
       "                             score_composed  score_penalty  score_route  \n",
       "fps substepping route_index                                              \n",
       "5   False       0                  2.339751       1.000000     2.339751  \n",
       "                1                100.000000       1.000000   100.000000  \n",
       "                2                 13.619493       1.000000    13.619493  \n",
       "                3                 88.420179       1.000000    88.420179  \n",
       "                4                 38.593606       1.000000    38.593606  \n",
       "                5                 32.324378       0.600000    53.873963  \n",
       "                6                 10.688263       0.751636    14.220008  \n",
       "                7                 13.066436       0.600000    21.777394  \n",
       "                8                  3.688559       1.000000     3.688559  \n",
       "                9                 15.254553       1.000000    15.254553  \n",
       "    True        0                  1.958101       1.000000     1.958101  \n",
       "                1                 94.698278       1.000000    94.698278  \n",
       "                2                 13.619493       1.000000    13.619493  \n",
       "                3                 11.485065       1.000000    11.485065  \n",
       "                4                 38.670500       1.000000    38.670500  \n",
       "                5                 54.191947       1.000000    54.191947  \n",
       "                6                 18.617706       1.000000    18.617706  \n",
       "                7                 23.708565       0.600000    39.514275  \n",
       "                8                  7.502684       0.700000    10.718120  \n",
       "                9                 15.254553       1.000000    15.254553  \n",
       "10  False       0                 31.764095       0.360000    88.233598  \n",
       "                1                 57.414420       0.600000    95.690699  \n",
       "                2                 18.281790       0.600000    30.469650  \n",
       "                3                 12.960000       0.129600   100.000000  \n",
       "                4                 55.443724       0.600000    92.406207  "
      ]
     },
     "execution_count": 174,
     "metadata": {},
     "output_type": "execute_result"
    }
   ],
   "source": [
    "df = df.set_index(['fps', 'substepping', 'route_index']).sort_index()\n",
    "df.head(25)"
   ]
  },
  {
   "cell_type": "markdown",
   "metadata": {},
   "source": [
    "## Q1: How does fidelity settings affect execution time"
   ]
  },
  {
   "cell_type": "code",
   "execution_count": 175,
   "metadata": {},
   "outputs": [
    {
     "name": "stderr",
     "output_type": "stream",
     "text": [
      "/tmp/ipykernel_8217/2456720245.py:3: UserWarning: To output multiple subplots, the figure containing the passed axes is being cleared.\n",
      "  df.boxplot(column=['duration_system', 'duration_game'],\n"
     ]
    },
    {
     "data": {
      "text/plain": [
       "array([<Axes: title={'center': 'duration_system'}, xlabel='[fps, substepping]'>,\n",
       "       <Axes: title={'center': 'duration_game'}, xlabel='[fps, substepping]'>],\n",
       "      dtype=object)"
      ]
     },
     "execution_count": 175,
     "metadata": {},
     "output_type": "execute_result"
    },
    {
     "data": {
      "image/png": "[encoded data removed]",
      "text/plain": [
       "<Figure size 1600x800 with 2 Axes>"
      ]
     },
     "metadata": {},
     "output_type": "display_data"
    }
   ],
   "source": [
    "fig, ax = plt.subplots(figsize=(16, 8))\n",
    "\n",
    "df.boxplot(column=['duration_system', 'duration_game'],\n",
    "           by=['fps', 'substepping'], ax=ax)\n",
    "\n",
    "# plt.tight_layout()"
   ]
  },
  {
   "cell_type": "markdown",
   "metadata": {},
   "source": [
    "### Conclusions: ?\n",
    "\n",
    "Experiments need to be repeated?\n",
    "\n",
    "Importance of isolated hardware?, HPC?, ronin?\n",
    "\n",
    "Hardware is unrealiable\n",
    "\n",
    "Other work might affect, working"
   ]
  },
  {
   "cell_type": "markdown",
   "metadata": {},
   "source": [
    "### Q1.2 Does substepping affect execution time?"
   ]
  },
  {
   "cell_type": "code",
   "execution_count": 176,
   "metadata": {},
   "outputs": [
    {
     "name": "stderr",
     "output_type": "stream",
     "text": [
      "/tmp/ipykernel_8217/1864627290.py:4: UserWarning: To output multiple subplots, the figure containing the passed axes is being cleared.\n",
      "  df.boxplot(column=['duration_system', 'duration_game'],\n"
     ]
    },
    {
     "data": {
      "text/plain": [
       "array([<Axes: title={'center': 'duration_system'}, xlabel='[substepping]'>,\n",
       "       <Axes: title={'center': 'duration_game'}, xlabel='[substepping]'>],\n",
       "      dtype=object)"
      ]
     },
     "execution_count": 176,
     "metadata": {},
     "output_type": "execute_result"
    },
    {
     "data": {
      "image/png": "[encoded data removed]",
      "text/plain": [
       "<Figure size 1200x600 with 2 Axes>"
      ]
     },
     "metadata": {},
     "output_type": "display_data"
    }
   ],
   "source": [
    "size = 6\n",
    "fig, ax = plt.subplots(figsize=(size*2, size))\n",
    "\n",
    "df.boxplot(column=['duration_system', 'duration_game'],\n",
    "           by=['substepping'], ax=ax)"
   ]
  },
  {
   "cell_type": "code",
   "execution_count": 177,
   "metadata": {},
   "outputs": [
    {
     "data": {
      "text/html": [
       "<div>\n",
       "<style scoped>\n",
       "    .dataframe tbody tr th:only-of-type {\n",
       "        vertical-align: middle;\n",
       "    }\n",
       "\n",
       "    .dataframe tbody tr th {\n",
       "        vertical-align: top;\n",
       "    }\n",
       "\n",
       "    .dataframe thead th {\n",
       "        text-align: right;\n",
       "    }\n",
       "</style>\n",
       "<table border=\"1\" class=\"dataframe\">\n",
       "  <thead>\n",
       "    <tr style=\"text-align: right;\">\n",
       "      <th></th>\n",
       "      <th>duration_system</th>\n",
       "    </tr>\n",
       "    <tr>\n",
       "      <th>substepping</th>\n",
       "      <th></th>\n",
       "    </tr>\n",
       "  </thead>\n",
       "  <tbody>\n",
       "    <tr>\n",
       "      <th>False</th>\n",
       "      <td>1787.726676</td>\n",
       "    </tr>\n",
       "    <tr>\n",
       "      <th>True</th>\n",
       "      <td>1839.460780</td>\n",
       "    </tr>\n",
       "  </tbody>\n",
       "</table>\n",
       "</div>"
      ],
      "text/plain": [
       "             duration_system\n",
       "substepping                 \n",
       "False            1787.726676\n",
       "True             1839.460780"
      ]
     },
     "execution_count": 177,
     "metadata": {},
     "output_type": "execute_result"
    }
   ],
   "source": [
    "df[['duration_system']].groupby('substepping').mean()"
   ]
  },
  {
   "cell_type": "markdown",
   "metadata": {},
   "source": [
    "$H_0$ the population of all executions with `substepping` is no different to that without `substepping`"
   ]
  },
  {
   "cell_type": "code",
   "execution_count": 203,
   "metadata": {},
   "outputs": [],
   "source": [
    "def substepping_ttest(column_name):\n",
    "\n",
    "    substepping_true = df[df.index.get_level_values(\n",
    "        'substepping') == True][column_name]\n",
    "\n",
    "    substepping_false = df[df.index.get_level_values(\n",
    "        'substepping') == False][column_name]\n",
    "\n",
    "    confidence_level = 0.95\n",
    "    max_error = 1 - confidence_level\n",
    "\n",
    "    t_statistic, p_value = scipy.stats.ttest_ind(\n",
    "        substepping_true, substepping_false)\n",
    "\n",
    "    print(f\"\\nFor {column_name = }\")\n",
    "    # print(f\"\\tT-statistic: {t_statistic}\")\n",
    "    print(f\"\\tP-value: {p_value}\")\n",
    "\n",
    "    if p_value < max_error:\n",
    "        print(\"\\tThe difference is statistically significant.\")\n",
    "    else:\n",
    "        print(\"\\tThe difference is not statistically significant.\")"
   ]
  },
  {
   "cell_type": "code",
   "execution_count": 204,
   "metadata": {},
   "outputs": [
    {
     "name": "stdout",
     "output_type": "stream",
     "text": [
      "\n",
      "For column_name = 'duration_system'\n",
      "\tP-value: 0.8266478798730381\n",
      "\tThe difference is not statistically significant.\n",
      "\n",
      "For column_name = 'duration_game'\n",
      "\tP-value: 0.9985278346651925\n",
      "\tThe difference is not statistically significant.\n"
     ]
    }
   ],
   "source": [
    "\n",
    "\n",
    "substepping_ttest('duration_system')\n",
    "substepping_ttest('duration_game')\n"
   ]
  },
  {
   "cell_type": "markdown",
   "metadata": {},
   "source": [
    "### Conclusions: \n",
    "\n",
    "substepping doesnt reduce execution time significantly"
   ]
  },
  {
   "cell_type": "markdown",
   "metadata": {},
   "source": [
    "## Q2: How does fidelity settings affect ADS performance (score_composed, score_penalty, score_route)"
   ]
  },
  {
   "cell_type": "code",
   "execution_count": 208,
   "metadata": {},
   "outputs": [
    {
     "name": "stderr",
     "output_type": "stream",
     "text": [
      "/tmp/ipykernel_8217/3498353464.py:4: UserWarning: To output multiple subplots, the figure containing the passed axes is being cleared.\n",
      "  axes = df.boxplot(column=['score_route', 'score_composed'],\n"
     ]
    },
    {
     "data": {
      "text/plain": [
       "<Axes: title={'center': 'score_penalty'}, xlabel='fps'>"
      ]
     },
     "execution_count": 208,
     "metadata": {},
     "output_type": "execute_result"
    },
    {
     "data": {
      "image/png": "[encoded data removed]",
      "text/plain": [
       "<Figure size 1200x600 with 2 Axes>"
      ]
     },
     "metadata": {},
     "output_type": "display_data"
    },
    {
     "data": {
      "image/png": "[encoded data removed]",
      "text/plain": [
       "<Figure size 640x480 with 1 Axes>"
      ]
     },
     "metadata": {},
     "output_type": "display_data"
    }
   ],
   "source": [
    "size = 6\n",
    "fig, ax = plt.subplots(figsize=(size*2, size))\n",
    "\n",
    "axes = df.boxplot(column=['score_route', 'score_composed'],\n",
    "                  by='fps', ax=ax)\n",
    "\n",
    "axes[0].set_title(\"Route completion %\")\n",
    "axes[1].set_title(\"Score composed %\")\n",
    "\n",
    "\n",
    "df.boxplot(column=['score_penalty'],\n",
    "           by='fps')"
   ]
  },
  {
   "cell_type": "markdown",
   "metadata": {},
   "source": [
    "### Conclusions\n",
    "\n",
    "Lowering FPS lowers ADS performance"
   ]
  },
  {
   "cell_type": "markdown",
   "metadata": {},
   "source": [
    "### Q2.2 Does substepping affect ADS performance?"
   ]
  },
  {
   "cell_type": "code",
   "execution_count": 209,
   "metadata": {},
   "outputs": [
    {
     "name": "stdout",
     "output_type": "stream",
     "text": [
      "\n",
      "For column_name = 'score_composed'\n",
      "\tP-value: 0.973368887425696\n",
      "\tThe difference is not statistically significant.\n",
      "\n",
      "For column_name = 'score_penalty'\n",
      "\tP-value: 0.9042610357716061\n",
      "\tThe difference is not statistically significant.\n",
      "\n",
      "For column_name = 'score_route'\n",
      "\tP-value: 0.9115053687876347\n",
      "\tThe difference is not statistically significant.\n"
     ]
    }
   ],
   "source": [
    "substepping_ttest('score_composed')\n",
    "substepping_ttest('score_penalty')\n",
    "substepping_ttest('score_route')"
   ]
  },
  {
   "cell_type": "markdown",
   "metadata": {},
   "source": [
    "### Conclusions\n",
    "\n",
    "Substepping is completely irrelevant"
   ]
  },
  {
   "cell_type": "markdown",
   "metadata": {},
   "source": [
    "### post analysis research"
   ]
  },
  {
   "cell_type": "markdown",
   "metadata": {},
   "source": [
    "![min10FPS.png](imgs/min10FPS.png)"
   ]
  },
  {
   "cell_type": "markdown",
   "metadata": {},
   "source": []
  }
 ],
 "metadata": {
  "kernelspec": {
   "display_name": "interfuser",
   "language": "python",
   "name": "python3"
  },
  "language_info": {
   "codemirror_mode": {
    "name": "ipython",
    "version": 3
   },
   "file_extension": ".py",
   "mimetype": "text/x-python",
   "name": "python",
   "nbconvert_exporter": "python",
   "pygments_lexer": "ipython3",
   "version": "3.12.1"
  }
 },
 "nbformat": 4,
 "nbformat_minor": 2
}
