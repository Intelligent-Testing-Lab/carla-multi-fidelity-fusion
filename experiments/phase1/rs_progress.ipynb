{
 "cells": [
  {
   "cell_type": "code",
   "execution_count": 25,
   "metadata": {},
   "outputs": [],
   "source": [
    "import glob\n",
    "import pandas as pd\n",
    "import numpy as np\n",
    "from pathlib import Path\n",
    "from itertools import product\n",
    "import json\n",
    "\n",
    "pd.set_option('display.max_rows', 500)\n",
    "pd.set_option('display.max_columns', 500)\n",
    "pd.set_option('display.width', 1000)"
   ]
  },
  {
   "cell_type": "code",
   "execution_count": 26,
   "metadata": {},
   "outputs": [],
   "source": [
    "N_REPETITIONS = 20\n",
    "N_ITERATIONS = 25"
   ]
  },
  {
   "cell_type": "code",
   "execution_count": 27,
   "metadata": {},
   "outputs": [
    {
     "name": "stdout",
     "output_type": "stream",
     "text": [
      "For 20 EPIC there are 411/500 ready 16\n",
      "For 15 EPIC there are 478/500 ready 19\n",
      "For 10 EPIC there are 500/500 ready 20\n",
      "For 20 LOW there are 476/500 ready 19\n",
      "For 15 LOW there are 500/500 ready 20\n",
      "For 10 LOW there are 500/500 ready 20\n"
     ]
    }
   ],
   "source": [
    "base_path = \"data/ronin/rs_v4\"\n",
    "paths = {\"20 EPIC\": f\"{base_path}/*/checkpoints/it*/*20*True.json\",\n",
    "         \"15 EPIC\": f\"{base_path}/*/checkpoints/it*/*15*True.json\",\n",
    "         \"10 EPIC\": f\"{base_path}/*/checkpoints/it*/*10*True.json\",\n",
    "         \"20 LOW\": f\"{base_path}/*/checkpoints/it*/*20*False.json\",\n",
    "         \"15 LOW\": f\"{base_path}/*/checkpoints/it*/*15*False.json\",\n",
    "         \"10 LOW\": f\"{base_path}/*/checkpoints/it*/*10*False.json\",\n",
    "\n",
    "         }\n",
    "\n",
    "for name, pattern in paths.items():\n",
    "    n = len(glob.glob(pattern))\n",
    "    print(\n",
    "        f\"For {name} there are {n}/{N_REPETITIONS*N_ITERATIONS} ready {n//N_ITERATIONS}\")"
   ]
  }
 ],
 "metadata": {
  "kernelspec": {
   "display_name": "data-science",
   "language": "python",
   "name": "python3"
  },
  "language_info": {
   "codemirror_mode": {
    "name": "ipython",
    "version": 3
   },
   "file_extension": ".py",
   "mimetype": "text/x-python",
   "name": "python",
   "nbconvert_exporter": "python",
   "pygments_lexer": "ipython3",
   "version": "3.10.14"
  }
 },
 "nbformat": 4,
 "nbformat_minor": 2
}
