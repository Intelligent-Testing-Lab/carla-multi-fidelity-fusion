{
 "cells": [
  {
   "cell_type": "markdown",
   "metadata": {},
   "source": [
    "# TBD\n"
   ]
  },
  {
   "cell_type": "code",
   "execution_count": 25,
   "metadata": {},
   "outputs": [],
   "source": [
    "import pandas as pd\n",
    "import itertools"
   ]
  },
  {
   "cell_type": "markdown",
   "metadata": {},
   "source": [
    "## LOAD DATA\n"
   ]
  },
  {
   "cell_type": "code",
   "execution_count": 26,
   "metadata": {},
   "outputs": [],
   "source": [
    "from util.load_scenarios import load_scenario_df\n",
    "from util.load_evaluations import load_benchmark_df\n",
    "\n",
    "eval_df = load_benchmark_df(\"../data/evaluation/benchmarking/default\")\n",
    "scenario_df = load_scenario_df(\"../data/definition/routes_devtest_sliced.xml\")\n",
    "\n",
    "# join scenario and evaluation data\n",
    "df = eval_df.join(scenario_df, on='route_index', how='inner').sort_index()"
   ]
  },
  {
   "cell_type": "code",
   "execution_count": 27,
   "metadata": {},
   "outputs": [],
   "source": [
    "allowed_fidelities = itertools.product([10, 15, 20], [\"True\", \"False\"])\n",
    "allowed_fidelities = itertools.product([10, 15, 20], [\"True\"])\n",
    "\n",
    "df = pd.concat([df.xs(fid, drop_level=False) for fid in allowed_fidelities])\n",
    "df = df.select_dtypes('number')"
   ]
  },
  {
   "cell_type": "code",
   "execution_count": 32,
   "metadata": {},
   "outputs": [
    {
     "data": {
      "text/plain": [
       "fps  highquality\n",
       "10   False          463.165279\n",
       "     True           471.486254\n",
       "15   False          440.107668\n",
       "     True           475.927708\n",
       "20   False          527.086333\n",
       "     True           581.216915\n",
       "Name: duration_system, dtype: float64"
      ]
     },
     "execution_count": 32,
     "metadata": {},
     "output_type": "execute_result"
    }
   ],
   "source": [
    "df['duration_system'].groupby(['fps', 'highquality']).mean()"
   ]
  },
  {
   "cell_type": "code",
   "execution_count": null,
   "metadata": {},
   "outputs": [],
   "source": []
  }
 ],
 "metadata": {
  "kernelspec": {
   "display_name": "data-science",
   "language": "python",
   "name": "python3"
  },
  "language_info": {
   "codemirror_mode": {
    "name": "ipython",
    "version": 3
   },
   "file_extension": ".py",
   "mimetype": "text/x-python",
   "name": "python",
   "nbconvert_exporter": "python",
   "pygments_lexer": "ipython3",
   "version": "3.12.1"
  }
 },
 "nbformat": 4,
 "nbformat_minor": 2
}
